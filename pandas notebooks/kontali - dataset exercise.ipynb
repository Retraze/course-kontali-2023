{
 "cells": [
  {
   "cell_type": "code",
   "execution_count": null,
   "id": "7878db20",
   "metadata": {},
   "outputs": [],
   "source": [
    "!ls datasets/kontali"
   ]
  },
  {
   "cell_type": "code",
   "execution_count": 13,
   "id": "f1b4c471",
   "metadata": {},
   "outputs": [],
   "source": [
    "import pandas as pd\n",
    "from pathlib import Path\n",
    "\n",
    "dirpath = Path(\"datasets/kontali\")"
   ]
  },
  {
   "cell_type": "markdown",
   "id": "bb4183ca",
   "metadata": {},
   "source": [
    "# Currency\n",
    "\n",
    "### Read the file `currency.csv` into a pandas DataFrame\n",
    "\n",
    "Hints:\n",
    "1. the function to use here is `pd.read_csv`\n",
    "1. we can specify the path to `currency.csv` with `os.path.join` or `pathlib.Path` from the builtin modules\n",
    "1. we must use the keyword argument `encoding=\"latin-1\"`\n",
    "1. we should also specify two other keywords"
   ]
  },
  {
   "cell_type": "code",
   "execution_count": null,
   "id": "758eb19d",
   "metadata": {},
   "outputs": [],
   "source": [
    "df_currency = pd.read_csv(dirpath / \"currency.csv\", encoding=\"latin-1\", delimiter=\";\", decimal=\",\")"
   ]
  },
  {
   "cell_type": "markdown",
   "id": "f3072805",
   "metadata": {},
   "source": [
    "### What is the most recent date for which we have foreign exchange rates?"
   ]
  },
  {
   "cell_type": "code",
   "execution_count": null,
   "id": "9f149f5b",
   "metadata": {},
   "outputs": [],
   "source": [
    "df_currency.tail()"
   ]
  },
  {
   "cell_type": "markdown",
   "id": "3552252a",
   "metadata": {},
   "source": [
    "### Change `Dato` dtype to Datetime, and move `Dato` to the index."
   ]
  },
  {
   "cell_type": "code",
   "execution_count": null,
   "id": "9470a3c6",
   "metadata": {},
   "outputs": [],
   "source": [
    "df_currency[\"Dato\"] = pd.to_datetime(df_currency[\"Dato\"])\n",
    "df_currency.set_index(\"Dato\", inplace=True)\n",
    "df_currency.head()"
   ]
  },
  {
   "cell_type": "markdown",
   "id": "f15141ff",
   "metadata": {},
   "source": [
    "### Reshape Currency dataframe\n",
    "\n",
    "Make a new dataframe with the following criteria:\n",
    "1. a column called `Ccy` (short for Currency)\n",
    "2. a column called `FX` (short for Foreign eXchange)"
   ]
  },
  {
   "cell_type": "code",
   "execution_count": null,
   "id": "30d918d6",
   "metadata": {},
   "outputs": [],
   "source": [
    "df_currency.dtypes"
   ]
  },
  {
   "cell_type": "code",
   "execution_count": null,
   "id": "db07e046",
   "metadata": {},
   "outputs": [],
   "source": [
    "df_currency.head()"
   ]
  },
  {
   "cell_type": "markdown",
   "id": "49e5eec8",
   "metadata": {},
   "source": [
    "### Extract the unit (1 or 100) and the currency name from the column labels\n",
    "\n",
    "Hint: You can use the `.str` accessor on `df_currency.columns`. Here is a useful [link](https://pandas.pydata.org/docs/user_guide/text.html#extracting-substrings) on extracting substrings from a string.\n",
    "\n",
    "This following regular expression pattern can be used to get the unit and currency:\n",
    "\n",
    "`pattern = r\"(\\d+) (\\w+)\"`\n",
    "\n",
    "\n",
    "#### Explanation of the regular expression pattern (can be skipped)\n",
    "\n",
    "The `r` prefix before the string indicates that it is a [raw string literal](https://stackoverflow.com/questions/2081640/what-exactly-do-u-and-r-string-prefixes-do-and-what-are-raw-string-literals), which in our case means that the backslash is just treated as a backslash.\n",
    "\n",
    "`\\d+` matches Unicode decimal digits (the plus means \"at least one\", so we match on \"at least one digit\".\n",
    "\n",
    "`\\w+` matches Unicode word characters.\n",
    "\n",
    "The parentheses indicate a \"capture group\". Each capture group will become a column in the returned dataframe.\n",
    "\n",
    "So to sum it all up, the regular expression first matches one or more digits, then a whitespace, then one or more word letters."
   ]
  },
  {
   "cell_type": "code",
   "execution_count": null,
   "id": "23e49746",
   "metadata": {},
   "outputs": [],
   "source": [
    "pattern = r\"(\\d+) (\\w+)\"\n",
    "\n",
    "df_ccy = df_currency.columns.str.extract(pattern)\n",
    "df_ccy"
   ]
  },
  {
   "cell_type": "markdown",
   "id": "c9c3e847",
   "metadata": {},
   "source": [
    "Did it work? Great!\n",
    "\n",
    "Let's add some names on the two captured groups. This will give us **correctly named columns** for our returned dataframe.\n",
    "\n",
    "Now the pattern is looking really complex, but we don't really have to concern ourselves with that. Having `?P<unit>` inside the capture group just means: *the captured group should be named `unit`*.\n",
    "\n",
    "`pattern = r\"(?P<unit>\\d+) (?P<Ccy>\\w+)\"`"
   ]
  },
  {
   "cell_type": "code",
   "execution_count": null,
   "id": "f4757dd0",
   "metadata": {},
   "outputs": [],
   "source": [
    "pattern = r\"(?P<unit>\\d+) (?P<Ccy>\\w+)\"\n",
    "df_ccy = df_currency.columns.str.extract(pattern, expand=True)\n",
    "df_ccy"
   ]
  },
  {
   "cell_type": "code",
   "execution_count": null,
   "id": "e14882b0",
   "metadata": {},
   "outputs": [],
   "source": [
    "df_ccy = df_ccy.astype({\"unit\": \"int64\"})\n",
    "df_ccy"
   ]
  },
  {
   "cell_type": "code",
   "execution_count": null,
   "id": "cd6d9845",
   "metadata": {},
   "outputs": [],
   "source": [
    "df_cur = df_currency.copy()\n",
    "\n",
    "df_cur.columns = df_ccy.Ccy\n",
    "df_cur"
   ]
  },
  {
   "cell_type": "code",
   "execution_count": null,
   "id": "d7d5e12b",
   "metadata": {},
   "outputs": [],
   "source": [
    "df_ccy.set_index('Ccy', inplace=True)"
   ]
  },
  {
   "cell_type": "code",
   "execution_count": null,
   "id": "d1f1329f",
   "metadata": {},
   "outputs": [],
   "source": [
    "df_ccy"
   ]
  },
  {
   "cell_type": "code",
   "execution_count": null,
   "id": "734e03f4",
   "metadata": {},
   "outputs": [],
   "source": [
    "df_cur / df_ccy[\"unit\"]"
   ]
  },
  {
   "cell_type": "code",
   "execution_count": null,
   "id": "3d871daf",
   "metadata": {},
   "outputs": [],
   "source": [
    "df_cur.div(df_ccy['unit'].T, axis=1)"
   ]
  },
  {
   "cell_type": "code",
   "execution_count": null,
   "id": "31d27f1a",
   "metadata": {},
   "outputs": [],
   "source": [
    "df_cur /= df_ccy[\"unit\"]"
   ]
  },
  {
   "cell_type": "code",
   "execution_count": null,
   "id": "42662275",
   "metadata": {},
   "outputs": [],
   "source": [
    "df_cur"
   ]
  },
  {
   "cell_type": "markdown",
   "id": "2ec563a0",
   "metadata": {},
   "source": [
    "# Country\n",
    "\n",
    "### Read the file `country.csv` into a pandas DataFrame\n",
    "\n",
    "Hints:\n",
    "1. the function to use here is `pd.read_csv`\n",
    "1. we can specify the path to `country.csv` with `os.path.join` or `pathlib.Path` from the builtin modules\n",
    "1. we must use the keyword argument `encoding=\"latin-1\"`\n",
    "1. we should also specify two other keywords"
   ]
  },
  {
   "cell_type": "code",
   "execution_count": 14,
   "id": "c90b5931",
   "metadata": {},
   "outputs": [
    {
     "data": {
      "text/html": [
       "<div>\n",
       "<style scoped>\n",
       "    .dataframe tbody tr th:only-of-type {\n",
       "        vertical-align: middle;\n",
       "    }\n",
       "\n",
       "    .dataframe tbody tr th {\n",
       "        vertical-align: top;\n",
       "    }\n",
       "\n",
       "    .dataframe thead th {\n",
       "        text-align: right;\n",
       "    }\n",
       "</style>\n",
       "<table border=\"1\" class=\"dataframe\">\n",
       "  <thead>\n",
       "    <tr style=\"text-align: right;\">\n",
       "      <th></th>\n",
       "      <th>Country</th>\n",
       "      <th>Land</th>\n",
       "      <th>Market</th>\n",
       "      <th>Market_SBSB</th>\n",
       "      <th>Market_SLX</th>\n",
       "    </tr>\n",
       "    <tr>\n",
       "      <th>country_code</th>\n",
       "      <th></th>\n",
       "      <th></th>\n",
       "      <th></th>\n",
       "      <th></th>\n",
       "      <th></th>\n",
       "    </tr>\n",
       "  </thead>\n",
       "  <tbody>\n",
       "    <tr>\n",
       "      <th>AD</th>\n",
       "      <td>Andorra</td>\n",
       "      <td>Andorra</td>\n",
       "      <td>Other Europe</td>\n",
       "      <td>All others</td>\n",
       "      <td>Other</td>\n",
       "    </tr>\n",
       "    <tr>\n",
       "      <th>AE</th>\n",
       "      <td>United Arab Emirates</td>\n",
       "      <td>De forente Arabiske Emirater</td>\n",
       "      <td>Asia</td>\n",
       "      <td>Asia</td>\n",
       "      <td>Other</td>\n",
       "    </tr>\n",
       "    <tr>\n",
       "      <th>AF</th>\n",
       "      <td>Afghanistan</td>\n",
       "      <td>Afghanistan</td>\n",
       "      <td>Asia</td>\n",
       "      <td>Asia</td>\n",
       "      <td>Other</td>\n",
       "    </tr>\n",
       "    <tr>\n",
       "      <th>AG</th>\n",
       "      <td>Antigua and Barbuda</td>\n",
       "      <td>Antigua og Barbuda</td>\n",
       "      <td>North-America</td>\n",
       "      <td>North America</td>\n",
       "      <td>Other</td>\n",
       "    </tr>\n",
       "    <tr>\n",
       "      <th>AI</th>\n",
       "      <td>Anguilla</td>\n",
       "      <td>Anguilla</td>\n",
       "      <td>North-America</td>\n",
       "      <td>North America</td>\n",
       "      <td>Other</td>\n",
       "    </tr>\n",
       "  </tbody>\n",
       "</table>\n",
       "</div>"
      ],
      "text/plain": [
       "                           Country                          Land  \\\n",
       "country_code                                                       \n",
       "AD                         Andorra                       Andorra   \n",
       "AE            United Arab Emirates  De forente Arabiske Emirater   \n",
       "AF                     Afghanistan                   Afghanistan   \n",
       "AG             Antigua and Barbuda            Antigua og Barbuda   \n",
       "AI                        Anguilla                      Anguilla   \n",
       "\n",
       "                     Market    Market_SBSB Market_SLX  \n",
       "country_code                                           \n",
       "AD             Other Europe     All others      Other  \n",
       "AE                     Asia           Asia      Other  \n",
       "AF                     Asia           Asia      Other  \n",
       "AG            North-America  North America      Other  \n",
       "AI            North-America  North America      Other  "
      ]
     },
     "execution_count": 14,
     "metadata": {},
     "output_type": "execute_result"
    }
   ],
   "source": [
    "df_country = pd.read_csv(dirpath / \"country.csv\",\n",
    "                         encoding=\"latin-1\",\n",
    "                         delimiter=\";\",\n",
    "                         index_col=\"country_code\"\n",
    "                        )\n",
    "\n",
    "df_country.head()"
   ]
  },
  {
   "cell_type": "code",
   "execution_count": null,
   "id": "3856b55c",
   "metadata": {},
   "outputs": [],
   "source": [
    "!pip3 install --isolated lxml"
   ]
  },
  {
   "cell_type": "markdown",
   "id": "e4bcf8c6",
   "metadata": {},
   "source": [
    "---\n",
    "# Web scraping"
   ]
  },
  {
   "cell_type": "code",
   "execution_count": 32,
   "id": "dd207bba",
   "metadata": {},
   "outputs": [
    {
     "data": {
      "text/html": [
       "<div>\n",
       "<style scoped>\n",
       "    .dataframe tbody tr th:only-of-type {\n",
       "        vertical-align: middle;\n",
       "    }\n",
       "\n",
       "    .dataframe tbody tr th {\n",
       "        vertical-align: top;\n",
       "    }\n",
       "\n",
       "    .dataframe thead th {\n",
       "        text-align: right;\n",
       "    }\n",
       "</style>\n",
       "<table border=\"1\" class=\"dataframe\">\n",
       "  <thead>\n",
       "    <tr style=\"text-align: right;\">\n",
       "      <th></th>\n",
       "      <th>Continent</th>\n",
       "    </tr>\n",
       "    <tr>\n",
       "      <th>Country or Area</th>\n",
       "      <th></th>\n",
       "    </tr>\n",
       "  </thead>\n",
       "  <tbody>\n",
       "    <tr>\n",
       "      <th>Afghanistan</th>\n",
       "      <td>Asia</td>\n",
       "    </tr>\n",
       "    <tr>\n",
       "      <th>Åland Islands</th>\n",
       "      <td>Europe</td>\n",
       "    </tr>\n",
       "    <tr>\n",
       "      <th>Albania</th>\n",
       "      <td>Europe</td>\n",
       "    </tr>\n",
       "    <tr>\n",
       "      <th>Algeria</th>\n",
       "      <td>Africa</td>\n",
       "    </tr>\n",
       "    <tr>\n",
       "      <th>American Samoa</th>\n",
       "      <td>Oceania</td>\n",
       "    </tr>\n",
       "  </tbody>\n",
       "</table>\n",
       "</div>"
      ],
      "text/plain": [
       "                Continent\n",
       "Country or Area          \n",
       "Afghanistan          Asia\n",
       "Åland Islands      Europe\n",
       "Albania            Europe\n",
       "Algeria            Africa\n",
       "American Samoa    Oceania"
      ]
     },
     "execution_count": 32,
     "metadata": {},
     "output_type": "execute_result"
    }
   ],
   "source": [
    "import pandas as pd\n",
    "\n",
    "table_continents = pd.read_html('https://statisticstimes.com/geography/countries-by-continents.php', match=\"Countries or Areas\")\n",
    "\n",
    "df_cont = table_continents[0]\n",
    "df_cont = df_cont.set_index(\"Country or Area\")[[\"Continent\"]]\n",
    "df_cont.head()"
   ]
  },
  {
   "cell_type": "code",
   "execution_count": 28,
   "id": "3dc7efe2",
   "metadata": {},
   "outputs": [
    {
     "data": {
      "text/plain": [
       "country_code\n",
       "AD                 Andorra\n",
       "AE    United Arab Emirates\n",
       "AF             Afghanistan\n",
       "AG     Antigua and Barbuda\n",
       "AI                Anguilla\n",
       "Name: Country, dtype: object"
      ]
     },
     "execution_count": 28,
     "metadata": {},
     "output_type": "execute_result"
    }
   ],
   "source": [
    "df_country[\"Country\"].head()"
   ]
  },
  {
   "cell_type": "markdown",
   "id": "516eee26",
   "metadata": {},
   "source": [
    "### Using `DataFrame.join()`, add `Continent` column to `df_country`\n",
    "\n",
    "https://pandas.pydata.org/docs/reference/api/pandas.DataFrame.join.html"
   ]
  },
  {
   "cell_type": "code",
   "execution_count": 34,
   "id": "1c83647c",
   "metadata": {},
   "outputs": [
    {
     "data": {
      "text/html": [
       "<div>\n",
       "<style scoped>\n",
       "    .dataframe tbody tr th:only-of-type {\n",
       "        vertical-align: middle;\n",
       "    }\n",
       "\n",
       "    .dataframe tbody tr th {\n",
       "        vertical-align: top;\n",
       "    }\n",
       "\n",
       "    .dataframe thead th {\n",
       "        text-align: right;\n",
       "    }\n",
       "</style>\n",
       "<table border=\"1\" class=\"dataframe\">\n",
       "  <thead>\n",
       "    <tr style=\"text-align: right;\">\n",
       "      <th></th>\n",
       "      <th>Country</th>\n",
       "      <th>Land</th>\n",
       "      <th>Market</th>\n",
       "      <th>Market_SBSB</th>\n",
       "      <th>Market_SLX</th>\n",
       "      <th>Continent</th>\n",
       "    </tr>\n",
       "    <tr>\n",
       "      <th>country_code</th>\n",
       "      <th></th>\n",
       "      <th></th>\n",
       "      <th></th>\n",
       "      <th></th>\n",
       "      <th></th>\n",
       "      <th></th>\n",
       "    </tr>\n",
       "  </thead>\n",
       "  <tbody>\n",
       "    <tr>\n",
       "      <th>AD</th>\n",
       "      <td>Andorra</td>\n",
       "      <td>Andorra</td>\n",
       "      <td>Other Europe</td>\n",
       "      <td>All others</td>\n",
       "      <td>Other</td>\n",
       "      <td>Europe</td>\n",
       "    </tr>\n",
       "    <tr>\n",
       "      <th>AE</th>\n",
       "      <td>United Arab Emirates</td>\n",
       "      <td>De forente Arabiske Emirater</td>\n",
       "      <td>Asia</td>\n",
       "      <td>Asia</td>\n",
       "      <td>Other</td>\n",
       "      <td>Asia</td>\n",
       "    </tr>\n",
       "    <tr>\n",
       "      <th>AF</th>\n",
       "      <td>Afghanistan</td>\n",
       "      <td>Afghanistan</td>\n",
       "      <td>Asia</td>\n",
       "      <td>Asia</td>\n",
       "      <td>Other</td>\n",
       "      <td>Asia</td>\n",
       "    </tr>\n",
       "    <tr>\n",
       "      <th>AG</th>\n",
       "      <td>Antigua and Barbuda</td>\n",
       "      <td>Antigua og Barbuda</td>\n",
       "      <td>North-America</td>\n",
       "      <td>North America</td>\n",
       "      <td>Other</td>\n",
       "      <td>North America</td>\n",
       "    </tr>\n",
       "    <tr>\n",
       "      <th>AI</th>\n",
       "      <td>Anguilla</td>\n",
       "      <td>Anguilla</td>\n",
       "      <td>North-America</td>\n",
       "      <td>North America</td>\n",
       "      <td>Other</td>\n",
       "      <td>North America</td>\n",
       "    </tr>\n",
       "  </tbody>\n",
       "</table>\n",
       "</div>"
      ],
      "text/plain": [
       "                           Country                          Land  \\\n",
       "country_code                                                       \n",
       "AD                         Andorra                       Andorra   \n",
       "AE            United Arab Emirates  De forente Arabiske Emirater   \n",
       "AF                     Afghanistan                   Afghanistan   \n",
       "AG             Antigua and Barbuda            Antigua og Barbuda   \n",
       "AI                        Anguilla                      Anguilla   \n",
       "\n",
       "                     Market    Market_SBSB Market_SLX      Continent  \n",
       "country_code                                                          \n",
       "AD             Other Europe     All others      Other         Europe  \n",
       "AE                     Asia           Asia      Other           Asia  \n",
       "AF                     Asia           Asia      Other           Asia  \n",
       "AG            North-America  North America      Other  North America  \n",
       "AI            North-America  North America      Other  North America  "
      ]
     },
     "execution_count": 34,
     "metadata": {},
     "output_type": "execute_result"
    }
   ],
   "source": [
    "df_country = df_country.join(df_cont, on=\"Country\", how=\"left\")\n",
    "df_country.head()"
   ]
  },
  {
   "cell_type": "code",
   "execution_count": 35,
   "id": "5ccddcc2",
   "metadata": {},
   "outputs": [
    {
     "data": {
      "text/plain": [
       "(282, 6)"
      ]
     },
     "execution_count": 35,
     "metadata": {},
     "output_type": "execute_result"
    }
   ],
   "source": [
    "df_country.shape"
   ]
  },
  {
   "cell_type": "markdown",
   "id": "c047a916",
   "metadata": {},
   "source": [
    "# Product\n",
    "\n",
    "### Read the file `product.csv` into a pandas DataFrame\n",
    "\n",
    "Hints:\n",
    "1. the function to use here is `pd.read_csv`\n",
    "1. we can specify the path to `product.csv` with `os.path.join` or `pathlib.Path` from the builtin modules\n",
    "1. we must use the keyword argument `encoding=\"latin-1\"`\n",
    "1. we want to set the index to be the `Product_Code` column\n",
    "1. we also want to set the `delimiter` keyword argument"
   ]
  },
  {
   "cell_type": "code",
   "execution_count": null,
   "id": "6a555503",
   "metadata": {},
   "outputs": [],
   "source": [
    "df_product = pd.read_csv(dirpath / \"product.csv\",\n",
    "                         encoding=\"latin-1\", \n",
    "                         delimiter=\";\", \n",
    "                         index_col=\"Product_Code\",\n",
    "                        )\n",
    "df_product.head(100)"
   ]
  },
  {
   "cell_type": "markdown",
   "id": "99e2c934",
   "metadata": {},
   "source": [
    "### How many product categories are there?"
   ]
  },
  {
   "cell_type": "code",
   "execution_count": null,
   "id": "a40f5998",
   "metadata": {},
   "outputs": [],
   "source": [
    "len(df_product), df_product.shape"
   ]
  },
  {
   "cell_type": "markdown",
   "id": "5972e74f",
   "metadata": {},
   "source": [
    "### Make a selection dataframe that only contains trout products"
   ]
  },
  {
   "cell_type": "code",
   "execution_count": null,
   "id": "bf5e7957",
   "metadata": {},
   "outputs": [],
   "source": [
    "df_product.loc[df_product[\"Species_Code\"] == \"TRR\"]"
   ]
  },
  {
   "cell_type": "markdown",
   "id": "db885c2f",
   "metadata": {},
   "source": [
    "### Sort dataframe by product code"
   ]
  },
  {
   "cell_type": "code",
   "execution_count": null,
   "id": "0f50f0de",
   "metadata": {},
   "outputs": [],
   "source": [
    "df_product.sort_index()"
   ]
  },
  {
   "cell_type": "markdown",
   "id": "1c4b79f5",
   "metadata": {},
   "source": [
    "### Sort dataframe by species code (lexicographically)"
   ]
  },
  {
   "cell_type": "code",
   "execution_count": null,
   "id": "4b9aa231",
   "metadata": {},
   "outputs": [],
   "source": [
    "df_product.sort_values(\"Species_Code\")"
   ]
  },
  {
   "cell_type": "markdown",
   "id": "77faca82",
   "metadata": {},
   "source": [
    "### Sort dataframe by species code, then presentation, then preservation (lexicographically)"
   ]
  },
  {
   "cell_type": "code",
   "execution_count": null,
   "id": "1544f6d5",
   "metadata": {},
   "outputs": [],
   "source": [
    "df_product.sort_values([\"Species_Code\", \"Presentation\", \"Preservation\"])"
   ]
  },
  {
   "cell_type": "markdown",
   "id": "851b303a",
   "metadata": {},
   "source": [
    "### List all the trout product categories by only using the \"Product_Description_KA\" column?\n",
    "\n",
    "Do not use the `Species_Code` column for this task.\n",
    "\n",
    "Hint: it should be sufficient to check if \"trout\" is mentioned in the description field."
   ]
  },
  {
   "cell_type": "code",
   "execution_count": null,
   "id": "566130e6",
   "metadata": {},
   "outputs": [],
   "source": [
    "trout_idx = df_product[\"Product_Description_KA\"].str.contains(\"trout\")\n",
    "\n",
    "df_product[trout_idx]"
   ]
  },
  {
   "cell_type": "markdown",
   "id": "21339158",
   "metadata": {},
   "source": [
    "### Make a new column named \"Head\" with a category dtype. Possible values should be YES, NO and UNKNOWN."
   ]
  },
  {
   "cell_type": "code",
   "execution_count": null,
   "id": "1373ca7f",
   "metadata": {},
   "outputs": [],
   "source": [
    "df = df_product.copy()\n",
    "head_on = df.Product_Description_KA.str.contains(\"head on\")\n",
    "head_off = df.Product_Description_KA.str.contains(\"head off\")\n",
    "\n",
    "df[\"Head\"] = pd.Categorical([\"unknown\"]*len(df), categories=[\"yes\", \"no\", \"unknown\"])\n",
    "df.loc[head_on, \"Head\"] = \"yes\"\n",
    "df.loc[head_off, \"Head\"] = \"no\"\n",
    "df"
   ]
  },
  {
   "cell_type": "markdown",
   "id": "8efc5e12",
   "metadata": {},
   "source": [
    "\n",
    "### [Challenging] Can you recreate the \"Preservation\" column by using the \"Product_Description_KA\" column and the below dict named `keywords`? \n",
    "\n",
    "```python\n",
    "keywords = {\n",
    "    \"PRS\": [\"brine\", \"canned\", \"smoked\", \"airtight\"],\n",
    "    \"FRO\": [\"frozen\"],\n",
    "    \"FRE\": [\"fresh\"],\n",
    "    \"ALI\": [\"live\"],\n",
    "}\n",
    "```\n"
   ]
  },
  {
   "cell_type": "code",
   "execution_count": null,
   "id": "e1ecc2e4",
   "metadata": {},
   "outputs": [],
   "source": [
    "keywords = {\n",
    "    \"PRS\": [\"brine\", \"canned\", \"smoked\", \"airtight\"],\n",
    "    \"FRO\": [\"frozen\"],\n",
    "    \"FRE\": [\"fresh\"],\n",
    "    \"ALI\": [\"live\"],\n",
    "}"
   ]
  },
  {
   "cell_type": "markdown",
   "id": "738b8fc5",
   "metadata": {},
   "source": [
    "# SSB"
   ]
  },
  {
   "cell_type": "markdown",
   "id": "5bcef1ea",
   "metadata": {},
   "source": [
    "### Read the file `ssb_export.csv` into a pandas DataFrame\n",
    "\n",
    "Hints:\n",
    "1. the function to use here is `pd.read_csv`\n",
    "1. we can specify the path to `ssb_export.csv` with `os.path.join` or `pathlib.Path` from the builtin modules\n",
    "1. we must use the keyword argument `encoding=\"latin-1\"`\n",
    "1. we want to set the index to be the `ID` column\n",
    "1. we also want to set the `delimiter` keyword argument"
   ]
  },
  {
   "cell_type": "code",
   "execution_count": null,
   "id": "1872b419",
   "metadata": {},
   "outputs": [],
   "source": [
    "df_ssb = pd.read_csv(dirpath / \"ssb_export.csv\",\n",
    "                     encoding=\"latin-1\",\n",
    "                     delimiter=\";\",\n",
    "                     index_col=\"ID\"\n",
    "                    )\n",
    "df_ssb.tail()"
   ]
  },
  {
   "cell_type": "code",
   "execution_count": null,
   "id": "0757b8c2",
   "metadata": {},
   "outputs": [],
   "source": [
    "df_ssb.describe()"
   ]
  },
  {
   "cell_type": "markdown",
   "id": "3b6593bc",
   "metadata": {},
   "source": [
    "### How many transactions are there in total?"
   ]
  },
  {
   "cell_type": "code",
   "execution_count": null,
   "id": "28932336",
   "metadata": {},
   "outputs": [],
   "source": [
    "len(df_ssb), df_ssb.shape[0] # use either of the two"
   ]
  },
  {
   "cell_type": "markdown",
   "id": "21193fe0",
   "metadata": {},
   "source": [
    "### How many columns are there?"
   ]
  },
  {
   "cell_type": "code",
   "execution_count": null,
   "id": "4c10bb35",
   "metadata": {},
   "outputs": [],
   "source": [
    "len(df_ssb.columns), df_ssb.shape[1] # use either of the two"
   ]
  },
  {
   "cell_type": "markdown",
   "id": "04fde1eb",
   "metadata": {},
   "source": [
    "### What years do the transactions cover"
   ]
  },
  {
   "cell_type": "code",
   "execution_count": null,
   "id": "bc52e352",
   "metadata": {},
   "outputs": [],
   "source": [
    "df_ssb.År.unique().tolist()"
   ]
  },
  {
   "cell_type": "markdown",
   "id": "f2d9bdfc",
   "metadata": {},
   "source": [
    "### How many transactions were there in 2020?"
   ]
  },
  {
   "cell_type": "code",
   "execution_count": null,
   "id": "fe678e22",
   "metadata": {},
   "outputs": [],
   "source": [
    "len(df_ssb[df_ssb[\"År\"] == 2020])"
   ]
  },
  {
   "cell_type": "markdown",
   "id": "23ff91d7",
   "metadata": {},
   "source": [
    "### What was the largest single transaction in terms of value?"
   ]
  },
  {
   "cell_type": "code",
   "execution_count": null,
   "id": "f51cfad9",
   "metadata": {},
   "outputs": [],
   "source": [
    "df_ssb.Verdi.max()"
   ]
  },
  {
   "cell_type": "markdown",
   "id": "e4db25ff",
   "metadata": {},
   "source": [
    "### What is the ID of this transaction?"
   ]
  },
  {
   "cell_type": "code",
   "execution_count": null,
   "id": "6c9250d4",
   "metadata": {},
   "outputs": [],
   "source": [
    "df_ssb.Verdi.idxmax()"
   ]
  },
  {
   "cell_type": "markdown",
   "id": "55543e69",
   "metadata": {},
   "source": [
    "### What year was this transaction?\n",
    "\n",
    "Try to not directly use the ID from previous answer."
   ]
  },
  {
   "cell_type": "code",
   "execution_count": null,
   "id": "35b231b7",
   "metadata": {},
   "outputs": [],
   "source": [
    "df_ssb.loc[df_ssb.Verdi.idxmax()].År"
   ]
  },
  {
   "cell_type": "markdown",
   "id": "01956c8e",
   "metadata": {},
   "source": [
    "### Does the dataframe contain both import and export transactions?"
   ]
  },
  {
   "cell_type": "code",
   "execution_count": null,
   "id": "96af7e54",
   "metadata": {},
   "outputs": [],
   "source": [
    "df_ssb.Vareflyt.unique()"
   ]
  },
  {
   "cell_type": "markdown",
   "id": "596f9941",
   "metadata": {},
   "source": [
    "### Make a selection of Canadian transactions only"
   ]
  },
  {
   "cell_type": "code",
   "execution_count": null,
   "id": "75ad4254",
   "metadata": {},
   "outputs": [],
   "source": [
    "df_ssb_ca = df_ssb[df_ssb[\"Landkode\"] == \"CA\"]"
   ]
  },
  {
   "cell_type": "markdown",
   "id": "b0dbcc0a",
   "metadata": {},
   "source": [
    "### Make a selection of Canadian transactions only, for year 2022"
   ]
  },
  {
   "cell_type": "code",
   "execution_count": null,
   "id": "b08f194f",
   "metadata": {},
   "outputs": [],
   "source": [
    "df_ssb_ca = df_ssb[(df_ssb[\"År\"] == 2022) & (df_ssb[\"Landkode\"] == \"CA\")]"
   ]
  },
  {
   "cell_type": "markdown",
   "id": "af751038",
   "metadata": {},
   "source": [
    "### Calculate the total weight and value of the above selection for each product number (\"Varenr\")\n",
    "\n",
    "Hint: group the above selection by product number (\"Varenr\"). You can use the `sum()` aggregator on the `Grouper` object."
   ]
  },
  {
   "cell_type": "code",
   "execution_count": null,
   "id": "b770b328",
   "metadata": {},
   "outputs": [],
   "source": [
    "df = df_ssb_ca.groupby(\"Varenr\").sum()[[\"Mengde\", \"Verdi\"]]\n",
    "df"
   ]
  },
  {
   "cell_type": "code",
   "execution_count": null,
   "id": "b3823581",
   "metadata": {},
   "outputs": [],
   "source": [
    "df[\"Varebeskrivelse\"] = df_product.loc[df.index, \"Product_Description_KA\"]"
   ]
  },
  {
   "cell_type": "code",
   "execution_count": null,
   "id": "cf7d8d9d",
   "metadata": {},
   "outputs": [],
   "source": [
    "df.set_index(\"Varebeskrivelse\").plot(kind=\"pie\", y=\"Verdi\");"
   ]
  },
  {
   "cell_type": "code",
   "execution_count": null,
   "id": "ab06a6c0",
   "metadata": {},
   "outputs": [],
   "source": [
    "df.set_index(\"Varebeskrivelse\").plot(kind=\"bar\", y=\"Verdi\");"
   ]
  },
  {
   "cell_type": "markdown",
   "id": "529cbb79",
   "metadata": {},
   "source": [
    "### What was the total export in kg for Smoked salmon in 2020? (Are you able to find it with a single line of code?)"
   ]
  },
  {
   "cell_type": "code",
   "execution_count": null,
   "id": "060f1354",
   "metadata": {},
   "outputs": [],
   "source": [
    "df_ssb[(df_ssb[\"Varenr\"] == 3054100) & (df_ssb[\"År\"] == 2020)].Mengde.sum()"
   ]
  },
  {
   "cell_type": "markdown",
   "id": "bfd7de9f",
   "metadata": {},
   "source": [
    "### Calculate the average price (NOK/kg) for Fresh Pacific Salmon in 2019 "
   ]
  },
  {
   "cell_type": "code",
   "execution_count": null,
   "id": "2abd590b",
   "metadata": {},
   "outputs": [],
   "source": [
    "df = df_ssb[(df_ssb[\"Varenr\"] == 3044100) & (df_ssb[\"År\"] == 2019)]\n",
    "(df[\"Verdi\"] / df[\"Mengde\"]).mean()"
   ]
  },
  {
   "cell_type": "markdown",
   "id": "ddeb670d",
   "metadata": {},
   "source": [
    "### Bonus: Make a bar chart of the average price for Fresh Pacific Salmon by year"
   ]
  },
  {
   "cell_type": "code",
   "execution_count": null,
   "id": "2b433bbf",
   "metadata": {},
   "outputs": [],
   "source": [
    "df = df_ssb[df_ssb[\"Varenr\"] == 3044100].copy()\n",
    "df[\"price/kg\"] = df[\"Verdi\"] / df[\"Mengde\"]\n",
    "df.groupby(\"År\").mean()[\"price/kg\"].plot(kind=\"bar\");"
   ]
  },
  {
   "cell_type": "markdown",
   "id": "a5096349",
   "metadata": {},
   "source": [
    "---\n",
    "# Memory usage\n",
    "\n",
    "https://pandas.pydata.org/docs/user_guide/gotchas.html#dataframe-memory-usage\n",
    "\n",
    "### How much memory does this dataframe use?\n",
    "\n",
    "For this question, you can use `DataFrame.info()` and read the memory usage from there. Alternatively you can use `DataFrame.memory_usage(deep=True).sum()`.\n",
    "\n",
    "Try `DataFrame.memory_usage().sum()` (without `deep=True`). Why is the reported memory usage lower now?\n",
    "\n",
    "Hint: look at the official pandas documentation for `DataFrame.memory_usage()`"
   ]
  },
  {
   "cell_type": "code",
   "execution_count": null,
   "id": "3e6f7845",
   "metadata": {},
   "outputs": [],
   "source": [
    "df_ssb.memory_usage(deep=True).sum()"
   ]
  },
  {
   "cell_type": "markdown",
   "id": "56b5fbec",
   "metadata": {},
   "source": [
    "### The `Landkode` column has the `object` dtype. How much is the memory usage reduced (in percent) if `Landkode` dtype is changed to `Categorical`? "
   ]
  },
  {
   "cell_type": "code",
   "execution_count": null,
   "id": "0aa1857a",
   "metadata": {},
   "outputs": [],
   "source": [
    "mem_obj = df_ssb[\"Landkode\"].memory_usage(deep=True)\n",
    "mem_cat = df_ssb[\"Landkode\"].astype('category').memory_usage(deep=True)\n",
    "\n",
    "# reduction in percent for \"Landkode\" column\n",
    "100*(1-mem_cat/mem_obj)"
   ]
  },
  {
   "cell_type": "markdown",
   "id": "2d891713",
   "metadata": {},
   "source": [
    "### The `Vareflyt` column has the `object` dtype. How much is the memory usage reduced (in percent) if `Vareflyt` dtype is changed to `StringDtype`? "
   ]
  },
  {
   "cell_type": "code",
   "execution_count": null,
   "id": "4a5d50d0",
   "metadata": {},
   "outputs": [],
   "source": [
    "mem_obj = df_ssb[\"Vareflyt\"].memory_usage(deep=True)\n",
    "mem_str = df_ssb[\"Vareflyt\"].astype(\"string\").memory_usage(deep=True)\n",
    "\n",
    "# reduction in percent for \"Vareflyt\" column\n",
    "100*(1-mem_cat/mem_obj)"
   ]
  },
  {
   "cell_type": "markdown",
   "id": "9f45c512",
   "metadata": {},
   "source": [
    "---"
   ]
  },
  {
   "cell_type": "markdown",
   "id": "567781fb",
   "metadata": {},
   "source": [
    "### CHALLENGING: Assuming that the df_product[\"Verdi\"] is in nok and all exports were traded in local recipient currency,  what was the total export value, in the various local currencies, for Smoked salmon in 2020? "
   ]
  },
  {
   "cell_type": "code",
   "execution_count": null,
   "id": "5ce35e7d",
   "metadata": {},
   "outputs": [],
   "source": [
    "df = df_ssb[(df_ssb[\"Varenr\"] == 3054100) & (df_ssb[\"År\"] == 2022)]"
   ]
  }
 ],
 "metadata": {
  "kernelspec": {
   "display_name": "Python 3 (ipykernel)",
   "language": "python",
   "name": "python3"
  },
  "language_info": {
   "codemirror_mode": {
    "name": "ipython",
    "version": 3
   },
   "file_extension": ".py",
   "mimetype": "text/x-python",
   "name": "python",
   "nbconvert_exporter": "python",
   "pygments_lexer": "ipython3",
   "version": "3.10.6"
  }
 },
 "nbformat": 4,
 "nbformat_minor": 5
}
