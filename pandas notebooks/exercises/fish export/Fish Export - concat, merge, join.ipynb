{
 "cells": [
  {
   "cell_type": "code",
   "execution_count": null,
   "metadata": {},
   "outputs": [],
   "source": [
    "import pandas as pd"
   ]
  },
  {
   "cell_type": "markdown",
   "metadata": {},
   "source": [
    "## Concatenation\n",
    "\n",
    "https://pandas.pydata.org/docs/user_guide/merging.html#concatenating-objects"
   ]
  },
  {
   "cell_type": "code",
   "execution_count": null,
   "metadata": {},
   "outputs": [],
   "source": [
    "# Creating an Excel file with multiple worksheets\n",
    "# This code is commented out and only serves to showcase how a multi-worksheet can be created from a csv file.\n",
    "\n",
    "# df = pd.read_csv(\"../datasets/kontali/product.csv\", encoding=\"latin-1\", delimiter=\";\", index_col=\"ProductID\")\n",
    "# df.Species_Code.value_counts()\n",
    "\n",
    "# with pd.ExcelWriter('../datasets/concat_join_merge/fish_products.xlsx') as writer:  \n",
    "#     for species_code, group in df.groupby(\"Species_Code\"):\n",
    "#         group.to_excel(writer, sheet_name=species_code)"
   ]
  },
  {
   "cell_type": "markdown",
   "metadata": {},
   "source": [
    "## Task\n",
    "\n",
    "You are given an Excel file with fish product information. The file can be found here:\n",
    "\n",
    "`../../datasets/concat_join_merge/fish_products.xlsx`\n",
    "\n",
    "You notice that the Excel file has multiple worksheets, one worksheet for each species code.\n",
    "\n",
    "Your task is to:\n",
    "1. read the excel file into pandas with `pd.read_excel`\n",
    "    - hint: look in the official [docs](https://pandas.pydata.org/docs/reference/api/pandas.read_excel.html) on how to read multiple worksheeets in one go.\n",
    "2. concatenate all the dataframes into one single dataframe `df` using `pd.concat`"
   ]
  },
  {
   "cell_type": "code",
   "execution_count": null,
   "metadata": {},
   "outputs": [],
   "source": [
    "# Your code goes here\n"
   ]
  },
  {
   "cell_type": "markdown",
   "metadata": {},
   "source": [
    "### Contatenating along column axis"
   ]
  },
  {
   "cell_type": "code",
   "execution_count": null,
   "metadata": {},
   "outputs": [],
   "source": [
    "# In this cell we split df into two dataframes\n",
    "# Go ahead and run this cell\n",
    "df1 = df.iloc[:, 0:3]\n",
    "df2 = df.iloc[:, 3:]"
   ]
  },
  {
   "cell_type": "code",
   "execution_count": null,
   "metadata": {},
   "outputs": [],
   "source": [
    "# Use this cell to have a look at the two dataframes, then go to the next cell\n",
    "df1.head()"
   ]
  },
  {
   "cell_type": "code",
   "execution_count": null,
   "metadata": {},
   "outputs": [],
   "source": [
    "# Task: Join df1 and df2 back together using pd.concat\n"
   ]
  },
  {
   "cell_type": "markdown",
   "metadata": {},
   "source": [
    "## Joining/Merging\n",
    "\n",
    "We will start by creating two dataframes: `df_people` and `df_ip`."
   ]
  },
  {
   "cell_type": "code",
   "execution_count": null,
   "metadata": {},
   "outputs": [],
   "source": [
    "# run this cell\n",
    "df_people = pd.DataFrame(\n",
    "    {\"name\": [\"John Doe\", \"Alice Chains\", \"Peter Pan\"], \"ipaddr\": ['107.35.212.137', '58.120.162.127', '151.156.135.31']}, index=[\"K0\", \"K1\", \"K2\"]\n",
    ")\n",
    "df_people"
   ]
  },
  {
   "cell_type": "code",
   "execution_count": null,
   "metadata": {},
   "outputs": [],
   "source": [
    "# run this cell\n",
    "df_ip = pd.DataFrame(dict(\n",
    "    ipaddr=['73.43.54.42', '151.156.165.31', '10.8.202.216', '156.102.233.182', '29.195.45.137', '107.35.212.137', '119.59.26.146', '107.180.125.184', '58.120.162.127', '180.12.85.114'],\n",
    "    location=['Tajikistan', 'Macao', 'Spain', 'Macao', 'Israel', 'Haiti', 'Estonia', 'Guinea-Bissau', 'Togo', 'Bulgaria']\n",
    "))\n",
    "df_ip"
   ]
  },
  {
   "cell_type": "code",
   "execution_count": null,
   "metadata": {},
   "outputs": [],
   "source": [
    "# Task: merge df_people into df_ip\n"
   ]
  },
  {
   "cell_type": "markdown",
   "metadata": {},
   "source": [
    "\n",
    "Try the following merge strategies by using the `how` parameter:\n",
    "    - inner (default)\n",
    "    - left\n",
    "    - right\n",
    "    - outer\n",
    "    \n",
    "__Docs:__ https://pandas.pydata.org/docs/reference/api/pandas.DataFrame.merge.html"
   ]
  },
  {
   "cell_type": "code",
   "execution_count": null,
   "metadata": {},
   "outputs": [],
   "source": [
    "# Try df_people.merge(df_ip, ...) after the following change\n",
    "df_ip = df_ip.rename(columns={\"ipaddr\": \"IP Address\"})\n",
    "df_ip\n",
    "# Your code goes in the next cell"
   ]
  },
  {
   "cell_type": "code",
   "execution_count": null,
   "metadata": {},
   "outputs": [],
   "source": [
    "# Your code goes here\n"
   ]
  },
  {
   "cell_type": "code",
   "execution_count": null,
   "metadata": {},
   "outputs": [],
   "source": [
    "# Try df_people.merge(df_ip, ...) after the following change\n",
    "df_ip = df_ip.set_index(\"IP Address\")\n",
    "df_ip\n",
    "# Your code goes in the next cell"
   ]
  },
  {
   "cell_type": "code",
   "execution_count": null,
   "metadata": {},
   "outputs": [],
   "source": [
    "# Your code goes here\n"
   ]
  }
 ],
 "metadata": {
  "kernelspec": {
   "display_name": "Python 3",
   "language": "python",
   "name": "python3"
  },
  "language_info": {
   "codemirror_mode": {
    "name": "ipython",
    "version": 3
   },
   "file_extension": ".py",
   "mimetype": "text/x-python",
   "name": "python",
   "nbconvert_exporter": "python",
   "pygments_lexer": "ipython3",
   "version": "3.8.3"
  }
 },
 "nbformat": 4,
 "nbformat_minor": 4
}
