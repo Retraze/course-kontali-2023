{
 "cells": [
  {
   "cell_type": "markdown",
   "id": "5b259c95-e2d2-4d88-a033-4a6a7514d7e0",
   "metadata": {},
   "source": [
    "Dette heftet inneholder støttematriell til **Introduksjon til Python**-kurset som ble holdt hos Kontali i januar 2023.\n",
    "\n",
    "Ta gjerne kontakt med kursholder **Geir Arne Hjelle** på epost `geirarne@gmail.com` dersom du har spørsmål om innholdet."
   ]
  }
 ],
 "metadata": {
  "kernelspec": {
   "display_name": "Python 3 (ipykernel)",
   "language": "python",
   "name": "python3"
  },
  "language_info": {
   "codemirror_mode": {
    "name": "ipython",
    "version": 3
   },
   "file_extension": ".py",
   "mimetype": "text/x-python",
   "name": "python",
   "nbconvert_exporter": "python",
   "pygments_lexer": "ipython3",
   "version": "3.10.7"
  }
 },
 "nbformat": 4,
 "nbformat_minor": 5
}
