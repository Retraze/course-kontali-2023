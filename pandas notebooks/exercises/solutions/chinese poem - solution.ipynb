{
 "cells": [
  {
   "cell_type": "markdown",
   "metadata": {},
   "source": [
    "### Chinese translation of ancient poem\n",
    "\n",
    "The following is a solution proposal for `chinese translation.ipynb`"
   ]
  },
  {
   "cell_type": "code",
   "execution_count": 1,
   "metadata": {},
   "outputs": [],
   "source": [
    "import pandas as pd"
   ]
  },
  {
   "cell_type": "code",
   "execution_count": 78,
   "metadata": {},
   "outputs": [
    {
     "data": {
      "text/html": [
       "<div>\n",
       "<style scoped>\n",
       "    .dataframe tbody tr th:only-of-type {\n",
       "        vertical-align: middle;\n",
       "    }\n",
       "\n",
       "    .dataframe tbody tr th {\n",
       "        vertical-align: top;\n",
       "    }\n",
       "\n",
       "    .dataframe thead th {\n",
       "        text-align: right;\n",
       "    }\n",
       "</style>\n",
       "<table border=\"1\" class=\"dataframe\">\n",
       "  <thead>\n",
       "    <tr style=\"text-align: right;\">\n",
       "      <th></th>\n",
       "      <th>pinyin</th>\n",
       "      <th>english</th>\n",
       "    </tr>\n",
       "    <tr>\n",
       "      <th>chinese</th>\n",
       "      <th></th>\n",
       "      <th></th>\n",
       "    </tr>\n",
       "  </thead>\n",
       "  <tbody>\n",
       "    <tr>\n",
       "      <th>哭</th>\n",
       "      <td>ku1</td>\n",
       "      <td>[cry]</td>\n",
       "    </tr>\n",
       "    <tr>\n",
       "      <th>生气</th>\n",
       "      <td>sheng1qi4</td>\n",
       "      <td>[get angry, take offence]</td>\n",
       "    </tr>\n",
       "    <tr>\n",
       "      <th>选择</th>\n",
       "      <td>xuan3ze2</td>\n",
       "      <td>[select, to pick, choose]</td>\n",
       "    </tr>\n",
       "    <tr>\n",
       "      <th>年轻</th>\n",
       "      <td>nian2qin1</td>\n",
       "      <td>[young]</td>\n",
       "    </tr>\n",
       "    <tr>\n",
       "      <th>终于</th>\n",
       "      <td>zhong1yu2</td>\n",
       "      <td>[finally]</td>\n",
       "    </tr>\n",
       "    <tr>\n",
       "      <th>...</th>\n",
       "      <td>...</td>\n",
       "      <td>...</td>\n",
       "    </tr>\n",
       "    <tr>\n",
       "      <th>难</th>\n",
       "      <td>nan2</td>\n",
       "      <td>[difficult, hard, troublesome]</td>\n",
       "    </tr>\n",
       "    <tr>\n",
       "      <th>吧</th>\n",
       "      <td>ba</td>\n",
       "      <td>[(indicating a suggestion, request or mild com...</td>\n",
       "    </tr>\n",
       "    <tr>\n",
       "      <th>现在</th>\n",
       "      <td>xian4zai4</td>\n",
       "      <td>[now, at present, today]</td>\n",
       "    </tr>\n",
       "    <tr>\n",
       "      <th>记得</th>\n",
       "      <td>ji4de2</td>\n",
       "      <td>[remember]</td>\n",
       "    </tr>\n",
       "    <tr>\n",
       "      <th>请</th>\n",
       "      <td>qing3</td>\n",
       "      <td>[please, request, ask, invite]</td>\n",
       "    </tr>\n",
       "  </tbody>\n",
       "</table>\n",
       "<p>73 rows × 2 columns</p>\n",
       "</div>"
      ],
      "text/plain": [
       "            pinyin                                            english\n",
       "chinese                                                              \n",
       "哭              ku1                                              [cry]\n",
       "生气       sheng1qi4                          [get angry, take offence]\n",
       "选择        xuan3ze2                          [select, to pick, choose]\n",
       "年轻       nian2qin1                                            [young]\n",
       "终于       zhong1yu2                                          [finally]\n",
       "...            ...                                                ...\n",
       "难             nan2                     [difficult, hard, troublesome]\n",
       "吧               ba  [(indicating a suggestion, request or mild com...\n",
       "现在       xian4zai4                           [now, at present, today]\n",
       "记得          ji4de2                                         [remember]\n",
       "请            qing3                     [please, request, ask, invite]\n",
       "\n",
       "[73 rows x 2 columns]"
      ]
     },
     "execution_count": 78,
     "metadata": {},
     "output_type": "execute_result"
    }
   ],
   "source": [
    "words = []\n",
    "with open(\"../datasets/chinese/word_list.txt\") as f:\n",
    "    for line in f:\n",
    "        chinese, pinyin, english = line.split(maxsplit=2)\n",
    "        english = english.strip(\"\\n\")\n",
    "        words.append([chinese, pinyin, english])\n",
    "\n",
    "df = pd.DataFrame(words, columns=[\"chinese\", \"pinyin\", \"english\"])\n",
    "df.set_index(\"chinese\", inplace=True)\n",
    "df.english = df.english.str.split(', ')\n",
    "df"
   ]
  },
  {
   "cell_type": "code",
   "execution_count": 92,
   "metadata": {},
   "outputs": [
    {
     "data": {
      "text/plain": [
       "[['我们', '应该', '愿意', '努力', '学习', '。'],\n",
       " ['不要', '生气', '！'],\n",
       " ['不要', '害怕', '！'],\n",
       " ['越', '学习', '越', '懂', '。'],\n",
       " ['所以', ',', '请', '记得', ':'],\n",
       " ['现在', '难', '。'],\n",
       " ['终于', '简单', '。'],\n",
       " ['终于', '甜', '。'],\n",
       " ['学习', '关于', '熊猫', '们', '是', '礼物', '自己', '。']]"
      ]
     },
     "execution_count": 92,
     "metadata": {},
     "output_type": "execute_result"
    }
   ],
   "source": [
    "poem = []\n",
    "with open(\"../datasets/chinese/ancient_poem.txt\") as f:\n",
    "    for line in f:\n",
    "        words = line.split()\n",
    "        poem.append(words)\n",
    "poem"
   ]
  },
  {
   "cell_type": "code",
   "execution_count": 93,
   "metadata": {},
   "outputs": [
    {
     "name": "stdout",
     "output_type": "stream",
     "text": [
      "we should be willing make great effort study 。 \n",
      "don't get angry ！ \n",
      "don't be afraid  ！ \n",
      "the more study the more understand 。 \n",
      "so , please remember : \n",
      "now difficult 。 \n",
      "finally simple 。 \n",
      "finally sweet 。 \n",
      "study about panda (plural) is gift oneself 。 \n",
      "\n"
     ]
    }
   ],
   "source": [
    "translated = \"\"\n",
    "for line in poem:\n",
    "    for word in line:\n",
    "        try:\n",
    "            translated += df.loc[word, \"english\"][0]\n",
    "        except KeyError:\n",
    "            translated += word\n",
    "        translated += \" \"\n",
    "    translated += \"\\n\"\n",
    "print(translated)"
   ]
  }
 ],
 "metadata": {
  "kernelspec": {
   "display_name": "Python 3",
   "language": "python",
   "name": "python3"
  },
  "language_info": {
   "codemirror_mode": {
    "name": "ipython",
    "version": 3
   },
   "file_extension": ".py",
   "mimetype": "text/x-python",
   "name": "python",
   "nbconvert_exporter": "python",
   "pygments_lexer": "ipython3",
   "version": "3.8.3"
  }
 },
 "nbformat": 4,
 "nbformat_minor": 5
}
