{
 "cells": [
  {
   "cell_type": "markdown",
   "metadata": {},
   "source": [
    "# Introduksjon til Python"
   ]
  },
  {
   "cell_type": "markdown",
   "metadata": {},
   "source": [
    "Python er et effektivt programmeringsspråk, hvor man raskt (lite tid) og konsist (få kodelinjer) kan utvikle skript og programmer. Python er allsidig og kan brukes til mange forskjellige oppgaver:\n",
    "\n",
    "- Webutvikling: Python har flere rammeverk (for eksempel **Django**, **Flask** og **FastAPI**) for å sette opp nettsider og nettsteder.\n",
    "- Dataanalyse og databehandling: Python er veldig populært innen dataanalyse, med støtte fra pakker som **Numpy** og **Pandas**.\n",
    "- Devops og skripting: Python kan effektivt binde sammen og automatisere andre prosesser.\n",
    "\n",
    "Python er veldig tilpasningsdyktig, og avhengig av oppgaven kan språket se ut som et rett fram skriptespråk, et kraftig programmeringsspråk, Python kan fremheve objekt-orienteringen eller være et tilsynelatende funksjonelt programmeringsspråk. Alt dette er pakket inn i en relativt enkel ramme hvor det er mye fokus lesbarhet og at Pythonkode skal være forståelig og lett å endre.\n",
    "\n",
    "Python er et dynamisk programmeringsspråk. Kort sagt betyr det at variabler kan endre type mens programmet kjører. Variabeltyper trenger heller ikke spesifiseres i koden. I stedet benyttes noe som kalles **Duck Typing**: _If it walks like a duck, and it quacks like a duck, it is a duck_. Det vil si at fokus er på egenskapene og metodene til objektene i stedet for typen. Samtidig har Python avansert støtte for eksplisitt typing ved behov.\n",
    "\n",
    "Relatert til dette er Python tolket og ikke kompilert. Med andre ord leses koden først idet den kjøres, og det er faktisk mulig (men stort sett en dårlig ide) å endre Python-kode mens programmet kjøres.\n",
    "\n",
    "Python beskrives ofte som **Batteries included**. Med dette menes at (nesten) alt man trenger for å skrive Pythonprogrammer er inkludert i grunninstallasjonen. En av styrkene til Python er at mange datastrukturer som `list` og `dict` er en del av kjernespråket. I tillegg er veldig mye funksjonalitet tilgjengelig i standardbiblioteket som alltid er installert. For eksempel inneholder dette biblioteket kode for behandling av filer (`pathlib` og `os`), og prosesser (`subprocess`), en fullverdig (men enkel) database (`sqlite3`) og avanserte tid og kalender-rutiner (`datetime` og `calendar`). Dokumentasjon for standardbiblioteket er tilgjengelig på [docs.python.org](https://docs.python.org/3/library/)."
   ]
  },
  {
   "cell_type": "markdown",
   "metadata": {},
   "source": [
    "## Installer Python"
   ]
  },
  {
   "cell_type": "markdown",
   "metadata": {},
   "source": [
    "På [python.org](https://www.python.org/downloads/) vil du alltid finne siste versjon av Python. Det er likevel enklere å installere en Python-distribusjon kalt [Anaconda](https://www.anaconda.com/distribution/). Anaconda inneholder flere nyttige tilleggspakker og programmer:\n",
    "\n",
    "- Python\n",
    "- De mest brukte Pythonpakkene\n",
    "- Conda - Pakkebehandler\n",
    "- Jupyter - Miljø for interaktiv programmering og utforskning\n",
    "- Flere editorer tilpasset Python\n",
    "\n",
    "Anaconda er tilgjengelig for både Windows, Mac og Linux.\n",
    "\n",
    "> - Last ned og installer **[Anaconda](https://www.anaconda.com/distribution/)**\n",
    "\n",
    "> _Python er allerede installert på Mac og Linux. Du bør **ikke** bruke disse preinstallerte versjonene av Python, fordi de brukes av systemet. Det gjør det vanskelig å oppdatere til nyere versjoner, og om noe skulle gå galt er det fare for at du ødelegger for hele operativsystemet. Bruk Anaconda også på Mac og Linux._\n",
    "\n",
    "Etter at du har installert Anaconda er programmet **Anaconda Navigator** tilgjengelig. Du kan bruke dette programmet til å starte forskjellige programmeringsverktøy, inkludert Pythonterminaler, Jupyter og editorer.\n",
    "\n",
    "> _Anaconda er en ganske tung installasjon. Om du ønsker en lettere installasjon, hvor du bare installerer pakker og verktøy ved behov, kan du installere [Miniconda](https://docs.conda.io/en/latest/miniconda.html) i stedet._"
   ]
  },
  {
   "cell_type": "markdown",
   "metadata": {},
   "source": [
    "## Hei Python"
   ]
  },
  {
   "cell_type": "markdown",
   "metadata": {},
   "source": [
    "Med Python installert er det på tide å se hvordan man bruker det. La oss skrive vårt første program:\n",
    "\n",
    "> - Start **Anaconda Navigator**\n",
    "> - Klikk på **Environments**\n",
    "> - Klikk på $\\triangleright$ til høyre for **Base**\n",
    "> - Velg **Open Terminal**\n",
    "\n",
    "Dette åpner en terminal hvor Anaconda Python er tilgjengelig.\n",
    "\n",
    "> - Skriv **`python`** og trykk **Enter**\n",
    "\n",
    "Du kommer nå inn i et miljø kalt **Python REPL**. Her kan du skrive Pythonkommandoer og de vil bli utført umiddelbart.\n",
    "\n",
    "> - Skriv inn følgende kode:"
   ]
  },
  {
   "cell_type": "code",
   "execution_count": 1,
   "metadata": {},
   "outputs": [
    {
     "name": "stdout",
     "output_type": "stream",
     "text": [
      "Hei Python!\n"
     ]
    }
   ],
   "source": [
    "print(\"Hei Python!\")"
   ]
  },
  {
   "cell_type": "markdown",
   "metadata": {},
   "source": [
    "## Interaktiv Programmering i REPL"
   ]
  },
  {
   "cell_type": "markdown",
   "metadata": {},
   "source": [
    "REPL står for **Read-Eval-Print-Loop**. Denne er veldig nyttig for å teste ut små kodesnutter interaktivt, men kan ikke brukes til å skrive fullstendige programmer som skal brukes flere ganger.\n",
    "\n",
    "> - Skriv inn følgende kode i REPL. Du må svare på spørsmålet etter at du skriver inn `input()`-linjen:"
   ]
  },
  {
   "cell_type": "code",
   "execution_count": 2,
   "metadata": {},
   "outputs": [
    {
     "name": "stdin",
     "output_type": "stream",
     "text": [
      "Hva heter du?  Geir Arne\n"
     ]
    },
    {
     "name": "stdout",
     "output_type": "stream",
     "text": [
      "Hei Geir Arne\n"
     ]
    }
   ],
   "source": [
    "navn = input(\"Hva heter du? \")\n",
    "print(f\"Hei {navn}\")"
   ]
  },
  {
   "cell_type": "markdown",
   "metadata": {},
   "source": [
    "En forskjell mellom REPL og vanlige Pythonskript (som du vil se senere) er at verdien av uttrykk automatisk skrives til skjermen:"
   ]
  },
  {
   "cell_type": "code",
   "execution_count": 3,
   "metadata": {},
   "outputs": [
    {
     "data": {
      "text/plain": [
       "'Geir Arne'"
      ]
     },
     "execution_count": 3,
     "metadata": {},
     "output_type": "execute_result"
    }
   ],
   "source": [
    "navn"
   ]
  },
  {
   "cell_type": "code",
   "execution_count": 4,
   "metadata": {},
   "outputs": [
    {
     "data": {
      "text/plain": [
       "60481729"
      ]
     },
     "execution_count": 4,
     "metadata": {},
     "output_type": "execute_result"
    }
   ],
   "source": [
    "(6048 + 1729) ** 2"
   ]
  },
  {
   "cell_type": "markdown",
   "metadata": {},
   "source": [
    "Dersom du skriver noe `python` ikke forstår vil du få en feilmelding. Disse kan bli ganske voldsomme. En grei angrepsmåte er å starte fra bunnen, og lese oppover til du ser noe du kjenner igjen"
   ]
  },
  {
   "cell_type": "code",
   "execution_count": 5,
   "metadata": {},
   "outputs": [
    {
     "ename": "SyntaxError",
     "evalue": "unterminated string literal (detected at line 1) (1205521248.py, line 1)",
     "output_type": "error",
     "traceback": [
      "\u001b[0;36m  Cell \u001b[0;32mIn [5], line 1\u001b[0;36m\u001b[0m\n\u001b[0;31m    print(f\"Hei {navn})\u001b[0m\n\u001b[0m          ^\u001b[0m\n\u001b[0;31mSyntaxError\u001b[0m\u001b[0;31m:\u001b[0m unterminated string literal (detected at line 1)\n"
     ]
    }
   ],
   "source": [
    "print(f\"Hei {navn})"
   ]
  },
  {
   "cell_type": "markdown",
   "metadata": {},
   "source": [
    "## En Forbedret REPL: `ipython`"
   ]
  },
  {
   "cell_type": "markdown",
   "metadata": {},
   "source": [
    "`ipython` gir deg tilgang på en kraftigere REPL. **`i`** står for **interactive**. `ipython` har flere forbedringer:\n",
    "\n",
    "- Kraftigere historikk\n",
    "- Bedre **Tab**-komplettering\n",
    "- Enklere tilgang til **hjelp**\n",
    "- Spesielle (_magic_) kommandoer for enklere testing og utprøving av kode\n",
    "\n",
    "Du kjører `ipython` på samme måte som `python`:\n",
    "\n",
    "> - Avslutt den kjørende REPL-sessjonen ved å skrive **`exit()`** (Du kan også bruke enten _Ctrl-Z_ eller _Ctrl-D_ avhengig av systemet ditt)\n",
    "> - Skriv **`ipython`** og trykk **Enter**\n",
    "> - Skriv inn samme kode som tidligere:"
   ]
  },
  {
   "cell_type": "code",
   "execution_count": 6,
   "metadata": {},
   "outputs": [
    {
     "name": "stdin",
     "output_type": "stream",
     "text": [
      "Hva heter du?  Geir Arne\n"
     ]
    },
    {
     "name": "stdout",
     "output_type": "stream",
     "text": [
      "Hei Geir Arne\n"
     ]
    }
   ],
   "source": [
    "navn = input(\"Hva heter du? \")\n",
    "print(f\"Hei {navn}\")"
   ]
  },
  {
   "cell_type": "markdown",
   "metadata": {},
   "source": [
    "Dette er noen av triksene i `ipython`:\n",
    "\n",
    "- Kommandoen `whos` gir deg en oversikt over definerte variabler\n",
    "- Du kan bruke `_<tall>` for å referere til tidligere resultater. For eksempel refererer `_3` til resultatet av kommando nummer 3\n",
    "- Avslutt en kommando med `?` for å se hjelpetekst. For eksempel `print?` viser informasjon om `print()`. `??` vil vise enda mer informasjon\n",
    "- Bruk **Tab** for å se forslag på kommandoer. For eksempel `pr<Tab>` viser alle kommandoer som starter med `pr`"
   ]
  },
  {
   "cell_type": "markdown",
   "metadata": {},
   "source": [
    "## Programmer og Skript\n",
    "\n",
    "Kode som skal gjenbrukes lagres vanligvis i en fil som kan kjøres av Python. Disse filene skal være rene tekstfiler med endelsen `.py`.\n",
    "\n",
    "> - Åpne **PyCharm** (eller en annen teksteditor). Du kan enten starte PyCharm gjennom **Anaconda Navigator** eller som et vanlig program.\n",
    "> - Åpne en **New File** (_Ctrl-N_) og **Save as ...** (_Ctrl-Shift-S_) `heisann.py`\n",
    "> - Skriv inn følgende kode. Avslutt med **Save** (_Ctrl-S_)"
   ]
  },
  {
   "cell_type": "code",
   "execution_count": 7,
   "metadata": {},
   "outputs": [
    {
     "name": "stdin",
     "output_type": "stream",
     "text": [
      "Hva heter du?  Geir Arne\n"
     ]
    },
    {
     "name": "stdout",
     "output_type": "stream",
     "text": [
      "Hei Geir Arne\n"
     ]
    }
   ],
   "source": [
    "navn = input(\"Hva heter du? \")\n",
    "print(f\"Hei {navn}\")"
   ]
  },
  {
   "cell_type": "markdown",
   "metadata": {},
   "source": [
    "Den mest grunnleggende måten å kjøre et Pythonskript på er å bruke `python`-kommandoen fra terminalen\n",
    "\n",
    "> - Åpne en terminal fra **Anaconda Navigator** som tidligere. I Windows kan du også åpne **Anaconda Terminal** fra startmenyen. I Mac og Linux kan du bruke den innebygde terminalen\n",
    "> - Gå til samme katalog som der du lagret `heisann.py`. Bruk `cd <katalognavn>` for å flytte deg rundt. `cd ..` flytter deg en katalog høyere. I Windows kan du bruke `dir` for å se hvilke filer som ligger i gjeldende katalog. I Mac og Linux bruker du `ls`\n",
    "> - Skriv **`python heisann.py`** og trykk **Enter** for å kjøre programmet ditt"
   ]
  },
  {
   "cell_type": "markdown",
   "metadata": {},
   "source": [
    "## Jupyter\n",
    "\n",
    "[Jupyter](https://jupyter.org/) er et miljø for programmering som kombinerer interaktiv utforskning, programmer og skript, og dokumentasjon i ett miljø. Jupyter har sin opprinnelse i `ipython`, men har vokst til å bli et eget miljø uavhengig av Python.\n",
    "\n",
    "> _Navnet **Jupyter** henspeiler på de tre programmeringsspråkene **Julia**, **Python** og **R**_\n",
    "\n",
    "Tradisjonelt har Jupyter vært tilgjengelig gjennom **Jupyter Notebooks**. Dette er arbeidsbøker som kombinerer kode med tekst og bilder i samme dokument. Nå er **JupyterLab** å foretrekke. JupyterLab kombinerer Notebooks sammen med et fullstendig utviklermiljø hvor du også har tilgang til en editor og en terminal. Du kan starte JupyterLab på to forskjellige måter:\n",
    "\n",
    "> - Åpne **Anaconda Navigator**. Fra **Home**-menyen: Klikk **Launch**-knappen under **JupyterLab**\n",
    "\n",
    "eller\n",
    "\n",
    "> - Åpne en terminal som tidligere. Skriv **`jupyter lab`** og trykk **Enter**\n",
    "\n",
    "JupyterLab vil åpne som en nettside i nettleseren din. Når JupyterLab starter viser den en **Launcher**. Fra denne kan du starte flere forskjellige dokumenter:\n",
    "\n",
    "- **Notebook**: Dette er arbeidsboken som kalles **Jupyter Notebooks**, vi vil snart se nærmere på dem\n",
    "- **Console**: Dette tilsvarer REPL som du har sett tidligere\n",
    "- **Terminal**: Dette tilsvarer terminalen du allerede har jobbet med\n",
    "- **Text File**: Editor for tekstfiler, inkludert Pythonkode\n",
    "- **Markdown File**: Markdown gjør enkel formattering av tekst\n",
    "- **Contextual Help**: Lett tilgjengelig hjelp for Pythonkommandoer\n",
    "\n",
    "Du kan prøve å gjenskape noe av det du har gjort tidligere i Console eller Terminal. Deretter kan du starte en Jupyter Notebook:\n",
    "\n",
    "> - Klikk **Python 3** under **Notebook**\n",
    "\n",
    "En Jupyter Notebook er en fil med endelse `.ipynb` (opprinnelig IPYthon NoteBook). Slike arbeidsbøker består av **celler**. Hver celle er enten en **code**-celle eller en **markdown**-celle. Du endrer typen på en celle i nedtrekksmenyen øverst på siden.\n",
    "\n",
    "Både code- og markdown-celler **editeres** og **kjøres**. Trykk **Enter** for å begynne å editere en celle. Du kjører en celle ved å trykke **Shift-Enter** eller **Ctrl-Enter**. Førstnevnte hopper videre til neste celle. Du kan navigere mellom celler med piltastene.\n",
    "\n",
    "> - Skriv følgende kode i en **code**-celle. Du kan skrive begge linjene i samme celle.\n",
    "> - Trykk **Shift-Enter** for å kjøre cellen"
   ]
  },
  {
   "cell_type": "code",
   "execution_count": 8,
   "metadata": {},
   "outputs": [
    {
     "name": "stdin",
     "output_type": "stream",
     "text": [
      "Hva heter du?  Geir Arne\n"
     ]
    },
    {
     "name": "stdout",
     "output_type": "stream",
     "text": [
      "Hei Geir Arne\n"
     ]
    }
   ],
   "source": [
    "navn = input(\"Hva heter du? \")\n",
    "print(f\"Hei {navn}\")"
   ]
  },
  {
   "cell_type": "markdown",
   "metadata": {},
   "source": [
    "Markdown-celler er nyttige for å dokumentere resultater og innsikt sammen med koden din. Markdown er et eget språk for enkel formattering av tekst. Her er noen enkle eksempler:\n",
    "\n",
    "    # Overskrift\n",
    "    \n",
    "    ## Underoverskrift\n",
    "    \n",
    "    ###### Veldig liten overskrift\n",
    "    \n",
    "    **fet skrift**\n",
    "    \n",
    "    _uthevet skrift_\n",
    "    \n",
    "    `kodeskrift`\n",
    "    \n",
    "    - liste\n",
    "    - med flere\n",
    "    - elementer\n",
    "        - underelementer\n",
    "        - underelementer\n",
    "        \n",
    "Du kan også inkludere matematiske uttrykk som $\\sqrt{x^2 + y^2}$ ved å skrive $\\LaTeX$-uttrykk omgitt av \\$-tegn. For eksempel `$\\sqrt{x^2 + y^2}$`.\n",
    "\n",
    "Jupyter Notebooks bruker `ipython` i bakgrunnen. Du kan derfor bruke de samme funksjonene for historikk, tab-komplettering, hjelp osv.\n",
    "\n",
    "> - Skriv en markdown-celle hvor du tester ut forskjellige formatteringskommandoer.\n",
    "\n",
    "Du kan også lage tabeller, inkludere bilder, lenke til nettsider, osv i Markdown. Det finnes mange nettsider som viser hvordan Markdown fungerer, for eksempel på [guides.github.com](https://guides.github.com/features/mastering-markdown/).\n",
    "\n",
    "JupyterLab har mange **hurtigtaster** for å jobbe effektivt. Klikk **Commands** (Ctrl-Shift-C) helt til venstre på skjermen for å se en oversikt."
   ]
  }
 ],
 "metadata": {
  "kernelspec": {
   "display_name": "Python 3 (ipykernel)",
   "language": "python",
   "name": "python3"
  },
  "language_info": {
   "codemirror_mode": {
    "name": "ipython",
    "version": 3
   },
   "file_extension": ".py",
   "mimetype": "text/x-python",
   "name": "python",
   "nbconvert_exporter": "python",
   "pygments_lexer": "ipython3",
   "version": "3.10.7"
  },
  "latex_metadata": {
   "author": "Geir Arne Hjelle",
   "date": "22. september 2022",
   "title": "Introduksjon til Python"
  }
 },
 "nbformat": 4,
 "nbformat_minor": 4
}
