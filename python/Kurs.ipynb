{
 "cells": [
  {
   "cell_type": "markdown",
   "id": "de08081c-8e49-4b56-bb56-9deb2f9c02f4",
   "metadata": {},
   "source": [
    "# Pythonkurs"
   ]
  },
  {
   "cell_type": "code",
   "execution_count": 4,
   "id": "44c78ad4-d1b9-4470-afb5-4554858581c4",
   "metadata": {},
   "outputs": [
    {
     "data": {
      "text/plain": [
       "8"
      ]
     },
     "execution_count": 4,
     "metadata": {},
     "output_type": "execute_result"
    }
   ],
   "source": [
    "5 + 3"
   ]
  },
  {
   "cell_type": "code",
   "execution_count": 3,
   "id": "40687be7-d352-4bb8-9b81-1336afb830ab",
   "metadata": {},
   "outputs": [
    {
     "data": {
      "text/plain": [
       "12"
      ]
     },
     "execution_count": 3,
     "metadata": {},
     "output_type": "execute_result"
    }
   ],
   "source": [
    "3 * 4"
   ]
  },
  {
   "cell_type": "code",
   "execution_count": 6,
   "id": "731cf48e-0752-402a-bb40-cdb21599c44a",
   "metadata": {},
   "outputs": [
    {
     "data": {
      "text/plain": [
       "'Geir Arne'"
      ]
     },
     "execution_count": 6,
     "metadata": {},
     "output_type": "execute_result"
    }
   ],
   "source": [
    "\"Geir Arne\""
   ]
  },
  {
   "cell_type": "code",
   "execution_count": 8,
   "id": "026536d2-37ec-4b26-9c51-ca5bd10cd0f3",
   "metadata": {},
   "outputs": [
    {
     "data": {
      "text/plain": [
       "'GeirArne'"
      ]
     },
     "execution_count": 8,
     "metadata": {},
     "output_type": "execute_result"
    }
   ],
   "source": [
    "\"Geir\" + \"Arne\""
   ]
  },
  {
   "cell_type": "code",
   "execution_count": 9,
   "id": "7778449d-13b5-4a9b-af0b-ea9451a05949",
   "metadata": {},
   "outputs": [
    {
     "data": {
      "text/plain": [
       "'PennyPennyPenny'"
      ]
     },
     "execution_count": 9,
     "metadata": {},
     "output_type": "execute_result"
    }
   ],
   "source": [
    "\"Penny\" * 3"
   ]
  },
  {
   "cell_type": "code",
   "execution_count": 10,
   "id": "34a84838-1782-4b38-8c2d-429633cedc06",
   "metadata": {},
   "outputs": [],
   "source": [
    "name = \"Geir Arne\""
   ]
  },
  {
   "cell_type": "code",
   "execution_count": 11,
   "id": "716d62e0-4eb1-4403-a7df-ef35baf3b468",
   "metadata": {},
   "outputs": [
    {
     "data": {
      "text/plain": [
       "'Geir Arne'"
      ]
     },
     "execution_count": 11,
     "metadata": {},
     "output_type": "execute_result"
    }
   ],
   "source": [
    "name"
   ]
  },
  {
   "cell_type": "code",
   "execution_count": 12,
   "id": "cceafb26-2ed6-485f-a1da-379a61c23dfb",
   "metadata": {},
   "outputs": [
    {
     "data": {
      "text/plain": [
       "'Hello, Geir Arne'"
      ]
     },
     "execution_count": 12,
     "metadata": {},
     "output_type": "execute_result"
    }
   ],
   "source": [
    "\"Hello, \" + name"
   ]
  },
  {
   "cell_type": "code",
   "execution_count": 13,
   "id": "5d15b02d-8a34-4fe3-bb04-0299793544e8",
   "metadata": {},
   "outputs": [
    {
     "data": {
      "text/plain": [
       "'Hello, Geir Arne'"
      ]
     },
     "execution_count": 13,
     "metadata": {},
     "output_type": "execute_result"
    }
   ],
   "source": [
    "f\"Hello, {name}\""
   ]
  },
  {
   "cell_type": "code",
   "execution_count": 14,
   "id": "72477be9-7754-4d75-9656-5966581c7307",
   "metadata": {},
   "outputs": [
    {
     "data": {
      "text/plain": [
       "'Hello, {name}'"
      ]
     },
     "execution_count": 14,
     "metadata": {},
     "output_type": "execute_result"
    }
   ],
   "source": [
    "\"Hello, {name}\""
   ]
  },
  {
   "cell_type": "code",
   "execution_count": 15,
   "id": "8c69b20b-3f37-4bb9-9afd-83be7ccff268",
   "metadata": {},
   "outputs": [
    {
     "data": {
      "text/plain": [
       "'Hello, name'"
      ]
     },
     "execution_count": 15,
     "metadata": {},
     "output_type": "execute_result"
    }
   ],
   "source": [
    "f\"Hello, name\""
   ]
  },
  {
   "cell_type": "code",
   "execution_count": 16,
   "id": "b73bf874-f1e4-4dfa-86da-9a823ca9d352",
   "metadata": {},
   "outputs": [
    {
     "data": {
      "text/plain": [
       "'2 plus 2 is 4'"
      ]
     },
     "execution_count": 16,
     "metadata": {},
     "output_type": "execute_result"
    }
   ],
   "source": [
    "f\"2 plus 2 is {2 + 2}\""
   ]
  },
  {
   "cell_type": "code",
   "execution_count": 17,
   "id": "e8900f09-ced7-469c-b09f-1953e11917d1",
   "metadata": {},
   "outputs": [
    {
     "data": {
      "text/plain": [
       "'Guido invented Python in 1989'"
      ]
     },
     "execution_count": 17,
     "metadata": {},
     "output_type": "execute_result"
    }
   ],
   "source": [
    "name = \"Guido\"\n",
    "language = \"Python\"\n",
    "year = 1989\n",
    "\n",
    "f\"{name} invented {language} in {year}\""
   ]
  },
  {
   "cell_type": "code",
   "execution_count": 18,
   "id": "cfbffc8f-53a4-43f4-8fe7-bde245d1bce8",
   "metadata": {},
   "outputs": [
    {
     "data": {
      "text/plain": [
       "'Guido invented PYTHON 34 years ago'"
      ]
     },
     "execution_count": 18,
     "metadata": {},
     "output_type": "execute_result"
    }
   ],
   "source": [
    "f\"{name} invented {language.upper()} {2023 - year} years ago\""
   ]
  },
  {
   "cell_type": "code",
   "execution_count": 19,
   "id": "e3bd172a-a7cd-4dd7-ae90-c81d56003bc4",
   "metadata": {},
   "outputs": [
    {
     "data": {
      "text/plain": [
       "'Guido               '"
      ]
     },
     "execution_count": 19,
     "metadata": {},
     "output_type": "execute_result"
    }
   ],
   "source": [
    "f\"{name:20}\""
   ]
  },
  {
   "cell_type": "code",
   "execution_count": 20,
   "id": "fe9d19a2-e2e5-468c-91b3-83d0d43614c0",
   "metadata": {},
   "outputs": [
    {
     "data": {
      "text/plain": [
       "'Guido               Python    1989'"
      ]
     },
     "execution_count": 20,
     "metadata": {},
     "output_type": "execute_result"
    }
   ],
   "source": [
    "f\"{name:20}{language:10}{year:4}\""
   ]
  },
  {
   "cell_type": "code",
   "execution_count": 22,
   "id": "cc95abb3-2ffb-43cc-bcbe-5ee2430ea9e2",
   "metadata": {},
   "outputs": [
    {
     "data": {
      "text/plain": [
       "'GuidoPython'"
      ]
     },
     "execution_count": 22,
     "metadata": {},
     "output_type": "execute_result"
    }
   ],
   "source": [
    "f\"{name:3}{language:4}\""
   ]
  },
  {
   "cell_type": "code",
   "execution_count": 25,
   "id": "141f28e9-75c0-4e15-969a-590692a8b816",
   "metadata": {},
   "outputs": [],
   "source": [
    "name = \"Guido\""
   ]
  },
  {
   "cell_type": "code",
   "execution_count": 24,
   "id": "02d9428d-46b3-4bfa-9490-e67740f9dad4",
   "metadata": {},
   "outputs": [
    {
     "data": {
      "text/plain": [
       "'Geir Arne           Python    1989'"
      ]
     },
     "execution_count": 24,
     "metadata": {},
     "output_type": "execute_result"
    }
   ],
   "source": [
    "f\"{name:20}{language:10}{year:4}\""
   ]
  },
  {
   "cell_type": "code",
   "execution_count": 27,
   "id": "0ba12350-8f74-4583-b732-c4a014b56b76",
   "metadata": {},
   "outputs": [
    {
     "data": {
      "text/plain": [
       "'               Guido'"
      ]
     },
     "execution_count": 27,
     "metadata": {},
     "output_type": "execute_result"
    }
   ],
   "source": [
    "f\"{name:>20}\""
   ]
  },
  {
   "cell_type": "code",
   "execution_count": 28,
   "id": "6330c78a-4e5b-4315-9096-03150100ae97",
   "metadata": {},
   "outputs": [
    {
     "data": {
      "text/plain": [
       "'Guido               '"
      ]
     },
     "execution_count": 28,
     "metadata": {},
     "output_type": "execute_result"
    }
   ],
   "source": [
    "f\"{name:<20}\""
   ]
  },
  {
   "cell_type": "code",
   "execution_count": 29,
   "id": "aa3df1ac-d073-405f-b91c-5418dd20cfc9",
   "metadata": {},
   "outputs": [
    {
     "data": {
      "text/plain": [
       "'       Guido        '"
      ]
     },
     "execution_count": 29,
     "metadata": {},
     "output_type": "execute_result"
    }
   ],
   "source": [
    "f\"{name:^20}\""
   ]
  },
  {
   "cell_type": "code",
   "execution_count": 30,
   "id": "6519d3af-ec95-41d8-9941-0f83a9508922",
   "metadata": {},
   "outputs": [],
   "source": [
    "pi = 3.1415926"
   ]
  },
  {
   "cell_type": "code",
   "execution_count": 31,
   "id": "1e620a6d-4568-4eeb-ad48-f48ae1307e85",
   "metadata": {},
   "outputs": [
    {
     "data": {
      "text/plain": [
       "'3.1415926'"
      ]
     },
     "execution_count": 31,
     "metadata": {},
     "output_type": "execute_result"
    }
   ],
   "source": [
    "f\"{pi}\""
   ]
  },
  {
   "cell_type": "code",
   "execution_count": 32,
   "id": "412dfb87-54f1-4255-b075-5a5288537516",
   "metadata": {},
   "outputs": [
    {
     "data": {
      "text/plain": [
       "' 3.1415926'"
      ]
     },
     "execution_count": 32,
     "metadata": {},
     "output_type": "execute_result"
    }
   ],
   "source": [
    "f\"{pi:10}\""
   ]
  },
  {
   "cell_type": "code",
   "execution_count": 34,
   "id": "619c4c9d-aa78-40fb-9f5f-5c55b0b2cdf4",
   "metadata": {},
   "outputs": [
    {
     "data": {
      "text/plain": [
       "'     3.142'"
      ]
     },
     "execution_count": 34,
     "metadata": {},
     "output_type": "execute_result"
    }
   ],
   "source": [
    "f\"{pi:10.3f}\""
   ]
  },
  {
   "cell_type": "code",
   "execution_count": 35,
   "id": "cd3d7bae-f1e7-40ef-be76-6b5398f438ce",
   "metadata": {},
   "outputs": [
    {
     "name": "stdout",
     "output_type": "stream",
     "text": [
      "Guido\n"
     ]
    }
   ],
   "source": [
    "print(name)"
   ]
  },
  {
   "cell_type": "code",
   "execution_count": 36,
   "id": "8807ee2e-e167-44a8-8abc-de120e654ff0",
   "metadata": {},
   "outputs": [
    {
     "data": {
      "text/plain": [
       "'Guido'"
      ]
     },
     "execution_count": 36,
     "metadata": {},
     "output_type": "execute_result"
    }
   ],
   "source": [
    "name"
   ]
  },
  {
   "cell_type": "code",
   "execution_count": 37,
   "id": "9a4f5cde-d5e1-43d9-8927-ae87776f815c",
   "metadata": {},
   "outputs": [
    {
     "data": {
      "text/plain": [
       "<function print(*args, sep=' ', end='\\n', file=None, flush=False)>"
      ]
     },
     "execution_count": 37,
     "metadata": {},
     "output_type": "execute_result"
    }
   ],
   "source": [
    "print"
   ]
  },
  {
   "cell_type": "code",
   "execution_count": 38,
   "id": "f6b9a4f3-8157-443b-a628-018f4437ed73",
   "metadata": {},
   "outputs": [
    {
     "name": "stdout",
     "output_type": "stream",
     "text": [
      "\n"
     ]
    }
   ],
   "source": [
    "print()"
   ]
  },
  {
   "cell_type": "code",
   "execution_count": 39,
   "id": "16c829d8-b33f-4f02-ae8f-4c458c648a76",
   "metadata": {},
   "outputs": [
    {
     "name": "stdout",
     "output_type": "stream",
     "text": [
      "Guido 3.1415926 blåbærsyltetøy\n"
     ]
    }
   ],
   "source": [
    "print(name, pi, \"blåbærsyltetøy\")"
   ]
  },
  {
   "cell_type": "code",
   "execution_count": 40,
   "id": "1b365f6b-40f6-4579-8e2d-65343f9b3fb1",
   "metadata": {},
   "outputs": [
    {
     "name": "stdout",
     "output_type": "stream",
     "text": [
      "Guido\n",
      "3.1415926\n",
      "blåbærsyltetøy\n"
     ]
    }
   ],
   "source": [
    "print(name, pi, \"blåbærsyltetøy\", sep=\"\\n\")"
   ]
  },
  {
   "cell_type": "code",
   "execution_count": 41,
   "id": "ca7f182c-6f80-4616-88c6-b48ff31590d4",
   "metadata": {},
   "outputs": [
    {
     "data": {
      "text/plain": [
       "5"
      ]
     },
     "execution_count": 41,
     "metadata": {},
     "output_type": "execute_result"
    }
   ],
   "source": [
    "len(name)"
   ]
  },
  {
   "cell_type": "code",
   "execution_count": 42,
   "id": "016c721b-26dd-465b-8f0c-84c0ff792cf2",
   "metadata": {},
   "outputs": [
    {
     "ename": "TypeError",
     "evalue": "object of type 'float' has no len()",
     "output_type": "error",
     "traceback": [
      "\u001b[0;31m---------------------------------------------------------------------------\u001b[0m",
      "\u001b[0;31mTypeError\u001b[0m                                 Traceback (most recent call last)",
      "Cell \u001b[0;32mIn[42], line 1\u001b[0m\n\u001b[0;32m----> 1\u001b[0m \u001b[38;5;28;43mlen\u001b[39;49m\u001b[43m(\u001b[49m\u001b[43mpi\u001b[49m\u001b[43m)\u001b[49m\n",
      "\u001b[0;31mTypeError\u001b[0m: object of type 'float' has no len()"
     ]
    }
   ],
   "source": [
    "len(pi)"
   ]
  },
  {
   "cell_type": "code",
   "execution_count": 43,
   "id": "44368291-0fcb-4a1b-956c-a9a49faf9665",
   "metadata": {},
   "outputs": [
    {
     "ename": "TypeError",
     "evalue": "object of type 'int' has no len()",
     "output_type": "error",
     "traceback": [
      "\u001b[0;31m---------------------------------------------------------------------------\u001b[0m",
      "\u001b[0;31mTypeError\u001b[0m                                 Traceback (most recent call last)",
      "Cell \u001b[0;32mIn[43], line 1\u001b[0m\n\u001b[0;32m----> 1\u001b[0m \u001b[38;5;28;43mlen\u001b[39;49m\u001b[43m(\u001b[49m\u001b[43myear\u001b[49m\u001b[43m)\u001b[49m\n",
      "\u001b[0;31mTypeError\u001b[0m: object of type 'int' has no len()"
     ]
    }
   ],
   "source": [
    "len(year)"
   ]
  },
  {
   "cell_type": "code",
   "execution_count": 44,
   "id": "d3387cb3-2f62-4f6b-af06-d40e9e903f06",
   "metadata": {},
   "outputs": [
    {
     "data": {
      "text/plain": [
       "29512665430652752148753480226197736314359272517043832886063884637676943433478020332709411004889"
      ]
     },
     "execution_count": 44,
     "metadata": {},
     "output_type": "execute_result"
    }
   ],
   "source": [
    "9**99"
   ]
  },
  {
   "cell_type": "code",
   "execution_count": 45,
   "id": "acd2e360-5821-4734-adf6-dd0d87eec6d3",
   "metadata": {},
   "outputs": [],
   "source": [
    "def say_hello():\n",
    "    return \"Hello\""
   ]
  },
  {
   "cell_type": "code",
   "execution_count": 46,
   "id": "8dacecd9-03e0-4853-9aeb-2e7c618d5625",
   "metadata": {},
   "outputs": [
    {
     "data": {
      "text/plain": [
       "<function __main__.say_hello()>"
      ]
     },
     "execution_count": 46,
     "metadata": {},
     "output_type": "execute_result"
    }
   ],
   "source": [
    "say_hello"
   ]
  },
  {
   "cell_type": "code",
   "execution_count": 47,
   "id": "24d497e1-b6cd-4994-8b82-eebf41ce58ed",
   "metadata": {},
   "outputs": [
    {
     "data": {
      "text/plain": [
       "'Hello'"
      ]
     },
     "execution_count": 47,
     "metadata": {},
     "output_type": "execute_result"
    }
   ],
   "source": [
    "say_hello()"
   ]
  },
  {
   "cell_type": "code",
   "execution_count": 48,
   "id": "fcc01468-9db6-4031-918f-a87705b40ff6",
   "metadata": {},
   "outputs": [],
   "source": [
    "def say_hello(name):\n",
    "    return f\"Hello, {name}\""
   ]
  },
  {
   "cell_type": "code",
   "execution_count": 49,
   "id": "1f744dbd-18db-4d69-afbe-a8de8f7ee886",
   "metadata": {},
   "outputs": [
    {
     "ename": "TypeError",
     "evalue": "say_hello() missing 1 required positional argument: 'name'",
     "output_type": "error",
     "traceback": [
      "\u001b[0;31m---------------------------------------------------------------------------\u001b[0m",
      "\u001b[0;31mTypeError\u001b[0m                                 Traceback (most recent call last)",
      "Cell \u001b[0;32mIn[49], line 1\u001b[0m\n\u001b[0;32m----> 1\u001b[0m \u001b[43msay_hello\u001b[49m\u001b[43m(\u001b[49m\u001b[43m)\u001b[49m\n",
      "\u001b[0;31mTypeError\u001b[0m: say_hello() missing 1 required positional argument: 'name'"
     ]
    }
   ],
   "source": [
    "say_hello()"
   ]
  },
  {
   "cell_type": "code",
   "execution_count": 50,
   "id": "745f6c12-b297-4731-9d9d-85e1168fd044",
   "metadata": {},
   "outputs": [
    {
     "data": {
      "text/plain": [
       "'Hello, Geir Arne'"
      ]
     },
     "execution_count": 50,
     "metadata": {},
     "output_type": "execute_result"
    }
   ],
   "source": [
    "say_hello(\"Geir Arne\")"
   ]
  },
  {
   "cell_type": "code",
   "execution_count": 51,
   "id": "96c35044-d1a1-48d4-9fad-d483eb70eb19",
   "metadata": {},
   "outputs": [
    {
     "data": {
      "text/plain": [
       "'Guido'"
      ]
     },
     "execution_count": 51,
     "metadata": {},
     "output_type": "execute_result"
    }
   ],
   "source": [
    "name"
   ]
  },
  {
   "cell_type": "code",
   "execution_count": 52,
   "id": "b68ce5dd-8511-4a0e-bd40-346c41f21357",
   "metadata": {},
   "outputs": [
    {
     "data": {
      "text/plain": [
       "'Hello, Geir Arne'"
      ]
     },
     "execution_count": 52,
     "metadata": {},
     "output_type": "execute_result"
    }
   ],
   "source": [
    "say_hello(name=\"Geir Arne\")"
   ]
  },
  {
   "cell_type": "code",
   "execution_count": 53,
   "id": "926891c4-2928-4821-84b5-19083ec48426",
   "metadata": {},
   "outputs": [
    {
     "data": {
      "text/plain": [
       "'Guido'"
      ]
     },
     "execution_count": 53,
     "metadata": {},
     "output_type": "execute_result"
    }
   ],
   "source": [
    "name"
   ]
  },
  {
   "cell_type": "code",
   "execution_count": 55,
   "id": "135b16d3-fd49-4f08-a843-8a240e906883",
   "metadata": {},
   "outputs": [],
   "source": [
    "def say_hello_global():\n",
    "    return f\"Hello, {name}\""
   ]
  },
  {
   "cell_type": "code",
   "execution_count": 58,
   "id": "7c0ae3a8-9bd8-4631-aa5f-952ae15b836b",
   "metadata": {},
   "outputs": [
    {
     "data": {
      "text/plain": [
       "'Hello, Geir Arne'"
      ]
     },
     "execution_count": 58,
     "metadata": {},
     "output_type": "execute_result"
    }
   ],
   "source": [
    "say_hello_global()"
   ]
  },
  {
   "cell_type": "code",
   "execution_count": 57,
   "id": "8474f3ed-3427-445a-ab0d-66e28d077e64",
   "metadata": {},
   "outputs": [],
   "source": [
    "name = \"Geir Arne\""
   ]
  },
  {
   "cell_type": "code",
   "execution_count": 59,
   "id": "75acc32a-3c3b-4835-a25e-1a73308a43df",
   "metadata": {},
   "outputs": [],
   "source": [
    "def greet(name, greeting):\n",
    "    return f\"{greeting}, {name}\""
   ]
  },
  {
   "cell_type": "code",
   "execution_count": 60,
   "id": "e9673574-0957-41b2-bb03-d445607a7c80",
   "metadata": {},
   "outputs": [
    {
     "data": {
      "text/plain": [
       "'Hello, Geir Arne'"
      ]
     },
     "execution_count": 60,
     "metadata": {},
     "output_type": "execute_result"
    }
   ],
   "source": [
    "greet(\"Geir Arne\", \"Hello\")"
   ]
  },
  {
   "cell_type": "code",
   "execution_count": 61,
   "id": "62cfd699-68c8-446e-814a-4cd3201cc1d7",
   "metadata": {},
   "outputs": [
    {
     "data": {
      "text/plain": [
       "'Geir Arne, Hello'"
      ]
     },
     "execution_count": 61,
     "metadata": {},
     "output_type": "execute_result"
    }
   ],
   "source": [
    "greet(\"Hello\", \"Geir Arne\")"
   ]
  },
  {
   "cell_type": "code",
   "execution_count": 62,
   "id": "f8bf05e4-e6fa-419f-9fc2-1880ba0b8516",
   "metadata": {},
   "outputs": [
    {
     "data": {
      "text/plain": [
       "'Hello, Geir Arne'"
      ]
     },
     "execution_count": 62,
     "metadata": {},
     "output_type": "execute_result"
    }
   ],
   "source": [
    "greet(greeting=\"Hello\", name=\"Geir Arne\")"
   ]
  },
  {
   "cell_type": "code",
   "execution_count": 63,
   "id": "64b17aed-4c75-4be1-ac63-b18d9c9f4d88",
   "metadata": {},
   "outputs": [
    {
     "ename": "SyntaxError",
     "evalue": "positional argument follows keyword argument (3287221983.py, line 1)",
     "output_type": "error",
     "traceback": [
      "\u001b[0;36m  Cell \u001b[0;32mIn[63], line 1\u001b[0;36m\u001b[0m\n\u001b[0;31m    greet(greeting=\"Hello\", \"Geir Arne\")\u001b[0m\n\u001b[0m                                       ^\u001b[0m\n\u001b[0;31mSyntaxError\u001b[0m\u001b[0;31m:\u001b[0m positional argument follows keyword argument\n"
     ]
    }
   ],
   "source": [
    "greet(greeting=\"Hello\", \"Geir Arne\")"
   ]
  },
  {
   "cell_type": "code",
   "execution_count": 64,
   "id": "8908063e-01b1-4d00-8518-7f41151bda6e",
   "metadata": {},
   "outputs": [
    {
     "data": {
      "text/plain": [
       "'Hello, Geir Arne'"
      ]
     },
     "execution_count": 64,
     "metadata": {},
     "output_type": "execute_result"
    }
   ],
   "source": [
    "greet(\"Geir Arne\", greeting=\"Hello\")"
   ]
  },
  {
   "cell_type": "code",
   "execution_count": 65,
   "id": "7bd1d0ca-8d38-47c8-b936-b4a2cfe098bb",
   "metadata": {},
   "outputs": [],
   "source": [
    "def greet(name, greeting=\"Hello\"):\n",
    "    return f\"{greeting}, {name}\""
   ]
  },
  {
   "cell_type": "code",
   "execution_count": 66,
   "id": "74c68894-eb0e-4185-91eb-e880754e5309",
   "metadata": {},
   "outputs": [
    {
     "data": {
      "text/plain": [
       "'Hello, Geir Arne'"
      ]
     },
     "execution_count": 66,
     "metadata": {},
     "output_type": "execute_result"
    }
   ],
   "source": [
    "greet(\"Geir Arne\")"
   ]
  },
  {
   "cell_type": "code",
   "execution_count": 67,
   "id": "a53ed5f4-ccf9-4a32-b578-051d422b79c0",
   "metadata": {},
   "outputs": [
    {
     "data": {
      "text/plain": [
       "'Hello, Geir Arne'"
      ]
     },
     "execution_count": 67,
     "metadata": {},
     "output_type": "execute_result"
    }
   ],
   "source": [
    "greet(\"Geir Arne\", \"Hello\")"
   ]
  },
  {
   "cell_type": "code",
   "execution_count": 68,
   "id": "5a638573-5f18-4a88-a930-a6689d5a59d4",
   "metadata": {},
   "outputs": [
    {
     "data": {
      "text/plain": [
       "'Howdy, Geir Arne'"
      ]
     },
     "execution_count": 68,
     "metadata": {},
     "output_type": "execute_result"
    }
   ],
   "source": [
    "greet(\"Geir Arne\", \"Howdy\")"
   ]
  },
  {
   "cell_type": "markdown",
   "id": "efc9809a-141f-4648-8d1d-9b3199c6a564",
   "metadata": {},
   "source": [
    "# Break until 10:00"
   ]
  },
  {
   "cell_type": "markdown",
   "id": "40fcc4a1-879e-48f8-9614-ef34e476416d",
   "metadata": {},
   "source": [
    "This is some Markdown text. We can include $\\LaTeX$ to write formulas:\n",
    "\n",
    "$f(x) = \\int_0^x x^2 dx$"
   ]
  },
  {
   "cell_type": "code",
   "execution_count": 71,
   "id": "a952c541-2343-40df-8f42-91eb9e9759e6",
   "metadata": {},
   "outputs": [
    {
     "data": {
      "text/plain": [
       "2"
      ]
     },
     "execution_count": 71,
     "metadata": {},
     "output_type": "execute_result"
    }
   ],
   "source": [
    "# This is a comment\n",
    "1 + 1  # This is a line comment"
   ]
  },
  {
   "cell_type": "code",
   "execution_count": 72,
   "id": "7ed83e18-3ef1-44bd-b87c-c9de1ebde5bf",
   "metadata": {},
   "outputs": [
    {
     "data": {
      "text/plain": [
       "\u001b[0;31mSignature:\u001b[0m \u001b[0mprint\u001b[0m\u001b[0;34m(\u001b[0m\u001b[0;34m*\u001b[0m\u001b[0margs\u001b[0m\u001b[0;34m,\u001b[0m \u001b[0msep\u001b[0m\u001b[0;34m=\u001b[0m\u001b[0;34m' '\u001b[0m\u001b[0;34m,\u001b[0m \u001b[0mend\u001b[0m\u001b[0;34m=\u001b[0m\u001b[0;34m'\\n'\u001b[0m\u001b[0;34m,\u001b[0m \u001b[0mfile\u001b[0m\u001b[0;34m=\u001b[0m\u001b[0;32mNone\u001b[0m\u001b[0;34m,\u001b[0m \u001b[0mflush\u001b[0m\u001b[0;34m=\u001b[0m\u001b[0;32mFalse\u001b[0m\u001b[0;34m)\u001b[0m\u001b[0;34m\u001b[0m\u001b[0;34m\u001b[0m\u001b[0m\n",
       "\u001b[0;31mDocstring:\u001b[0m\n",
       "Prints the values to a stream, or to sys.stdout by default.\n",
       "\n",
       "sep\n",
       "  string inserted between values, default a space.\n",
       "end\n",
       "  string appended after the last value, default a newline.\n",
       "file\n",
       "  a file-like object (stream); defaults to the current sys.stdout.\n",
       "flush\n",
       "  whether to forcibly flush the stream.\n",
       "\u001b[0;31mType:\u001b[0m      builtin_function_or_method"
      ]
     },
     "metadata": {},
     "output_type": "display_data"
    }
   ],
   "source": [
    "print?"
   ]
  },
  {
   "cell_type": "code",
   "execution_count": 73,
   "id": "f6b78eb2-67e8-41f9-be06-a049b0b79683",
   "metadata": {},
   "outputs": [
    {
     "name": "stdout",
     "output_type": "stream",
     "text": [
      "Help on built-in function print in module builtins:\n",
      "\n",
      "print(*args, sep=' ', end='\\n', file=None, flush=False)\n",
      "    Prints the values to a stream, or to sys.stdout by default.\n",
      "    \n",
      "    sep\n",
      "      string inserted between values, default a space.\n",
      "    end\n",
      "      string appended after the last value, default a newline.\n",
      "    file\n",
      "      a file-like object (stream); defaults to the current sys.stdout.\n",
      "    flush\n",
      "      whether to forcibly flush the stream.\n",
      "\n"
     ]
    }
   ],
   "source": [
    "help(print)"
   ]
  },
  {
   "cell_type": "code",
   "execution_count": 74,
   "id": "0dafc4ee-f7e8-48e1-8336-8bb88a38b6fb",
   "metadata": {},
   "outputs": [
    {
     "name": "stdout",
     "output_type": "stream",
     "text": [
      "shift-<tab>\n"
     ]
    }
   ],
   "source": [
    "print(\"shift-<tab>\")"
   ]
  },
  {
   "cell_type": "code",
   "execution_count": 76,
   "id": "19a78c28-c51d-4e54-90e1-dfbfed5175a0",
   "metadata": {},
   "outputs": [
    {
     "name": "stdout",
     "output_type": "stream",
     "text": [
      "Overwriting hello.py\n"
     ]
    }
   ],
   "source": [
    "%%writefile hello.py\n",
    "def greet(name, greeting=\"Hello\"):\n",
    "    return f\"{greeting}, {name}\"\n",
    "\n",
    "print(greet(\"Geir Arne\"))"
   ]
  },
  {
   "cell_type": "code",
   "execution_count": 77,
   "id": "0447402b-1bc4-44a8-bc51-343ba57bb903",
   "metadata": {},
   "outputs": [
    {
     "name": "stdout",
     "output_type": "stream",
     "text": [
      "Hello, Geir Arne\n"
     ]
    }
   ],
   "source": [
    "import hello"
   ]
  },
  {
   "cell_type": "code",
   "execution_count": 78,
   "id": "68f6ccd6-b11b-4786-8c1d-726d83983938",
   "metadata": {},
   "outputs": [
    {
     "data": {
      "text/plain": [
       "<module 'hello' from '/home/gahjelle/Dropbox/jobb/goto_hjelle/kurs/kontali/course-kontali-2023/python/hello.py'>"
      ]
     },
     "execution_count": 78,
     "metadata": {},
     "output_type": "execute_result"
    }
   ],
   "source": [
    "hello"
   ]
  },
  {
   "cell_type": "code",
   "execution_count": 79,
   "id": "8b4a48ef-6f7f-43e7-b627-7f931d389267",
   "metadata": {},
   "outputs": [
    {
     "data": {
      "text/plain": [
       "<function hello.greet(name, greeting='Hello')>"
      ]
     },
     "execution_count": 79,
     "metadata": {},
     "output_type": "execute_result"
    }
   ],
   "source": [
    "hello.greet"
   ]
  },
  {
   "cell_type": "code",
   "execution_count": 80,
   "id": "ffcaf8e4-5c35-495a-899a-a1941a3d0787",
   "metadata": {},
   "outputs": [
    {
     "data": {
      "text/plain": [
       "'Yo, Geir Arne'"
      ]
     },
     "execution_count": 80,
     "metadata": {},
     "output_type": "execute_result"
    }
   ],
   "source": [
    "hello.greet(\"Geir Arne\", \"Yo\")"
   ]
  },
  {
   "cell_type": "code",
   "execution_count": 81,
   "id": "b13860a7-8d51-4029-b15d-bb0a043356af",
   "metadata": {},
   "outputs": [
    {
     "data": {
      "text/plain": [
       "<function __main__.greet(name, greeting='Hello')>"
      ]
     },
     "execution_count": 81,
     "metadata": {},
     "output_type": "execute_result"
    }
   ],
   "source": [
    "greet"
   ]
  },
  {
   "cell_type": "code",
   "execution_count": 1,
   "id": "460188e9-00a3-483c-8801-55287fd16236",
   "metadata": {},
   "outputs": [
    {
     "ename": "NameError",
     "evalue": "name 'greet' is not defined",
     "output_type": "error",
     "traceback": [
      "\u001b[0;31m---------------------------------------------------------------------------\u001b[0m",
      "\u001b[0;31mNameError\u001b[0m                                 Traceback (most recent call last)",
      "Cell \u001b[0;32mIn[1], line 1\u001b[0m\n\u001b[0;32m----> 1\u001b[0m \u001b[43mgreet\u001b[49m\n",
      "\u001b[0;31mNameError\u001b[0m: name 'greet' is not defined"
     ]
    }
   ],
   "source": [
    "greet"
   ]
  },
  {
   "cell_type": "code",
   "execution_count": 2,
   "id": "fb58d175-4397-4d34-a8bb-67f1bd8c9bb6",
   "metadata": {},
   "outputs": [
    {
     "name": "stdout",
     "output_type": "stream",
     "text": [
      "Hello, Geir Arne\n"
     ]
    }
   ],
   "source": [
    "import hello"
   ]
  },
  {
   "cell_type": "code",
   "execution_count": 3,
   "id": "b25151ab-12df-48f2-8301-4c615fd4e2df",
   "metadata": {},
   "outputs": [
    {
     "data": {
      "text/plain": [
       "'Hello, Sebastian'"
      ]
     },
     "execution_count": 3,
     "metadata": {},
     "output_type": "execute_result"
    }
   ],
   "source": [
    "hello.greet(\"Sebastian\")"
   ]
  },
  {
   "cell_type": "code",
   "execution_count": 4,
   "id": "0adfff9f-000d-49e0-93fd-384f6de6cd8a",
   "metadata": {},
   "outputs": [
    {
     "ename": "NameError",
     "evalue": "name 'greet' is not defined",
     "output_type": "error",
     "traceback": [
      "\u001b[0;31m---------------------------------------------------------------------------\u001b[0m",
      "\u001b[0;31mNameError\u001b[0m                                 Traceback (most recent call last)",
      "Cell \u001b[0;32mIn[4], line 1\u001b[0m\n\u001b[0;32m----> 1\u001b[0m \u001b[43mgreet\u001b[49m\n",
      "\u001b[0;31mNameError\u001b[0m: name 'greet' is not defined"
     ]
    }
   ],
   "source": [
    "greet"
   ]
  },
  {
   "cell_type": "code",
   "execution_count": 1,
   "id": "911b9434-eaaf-4310-9c04-8c96fb853571",
   "metadata": {},
   "outputs": [
    {
     "name": "stdout",
     "output_type": "stream",
     "text": [
      "Hello, Geir Arne\n"
     ]
    }
   ],
   "source": [
    "from hello import greet"
   ]
  },
  {
   "cell_type": "code",
   "execution_count": 2,
   "id": "6467ac66-a08e-4617-9f24-c3087b336038",
   "metadata": {},
   "outputs": [
    {
     "ename": "NameError",
     "evalue": "name 'hello' is not defined",
     "output_type": "error",
     "traceback": [
      "\u001b[0;31m---------------------------------------------------------------------------\u001b[0m",
      "\u001b[0;31mNameError\u001b[0m                                 Traceback (most recent call last)",
      "Cell \u001b[0;32mIn[2], line 1\u001b[0m\n\u001b[0;32m----> 1\u001b[0m \u001b[43mhello\u001b[49m\n",
      "\u001b[0;31mNameError\u001b[0m: name 'hello' is not defined"
     ]
    }
   ],
   "source": [
    "hello"
   ]
  },
  {
   "cell_type": "code",
   "execution_count": 3,
   "id": "640e36df-b958-4d05-8eeb-1f703fdd0580",
   "metadata": {},
   "outputs": [
    {
     "data": {
      "text/plain": [
       "'Hello, Sebastian'"
      ]
     },
     "execution_count": 3,
     "metadata": {},
     "output_type": "execute_result"
    }
   ],
   "source": [
    "greet(\"Sebastian\")"
   ]
  },
  {
   "cell_type": "code",
   "execution_count": 4,
   "id": "94380705-185e-42a9-958b-6b6b7e79943e",
   "metadata": {},
   "outputs": [],
   "source": [
    "import math"
   ]
  },
  {
   "cell_type": "code",
   "execution_count": 5,
   "id": "a046277a-ea61-4892-9bdb-c62aa2415a4f",
   "metadata": {},
   "outputs": [
    {
     "data": {
      "text/plain": [
       "<module 'math' from '/home/gahjelle/.pyenv/versions/3.11.1/lib/python3.11/lib-dynload/math.cpython-311-x86_64-linux-gnu.so'>"
      ]
     },
     "execution_count": 5,
     "metadata": {},
     "output_type": "execute_result"
    }
   ],
   "source": [
    "math"
   ]
  },
  {
   "cell_type": "code",
   "execution_count": 6,
   "id": "ff8ac264-22bd-46e2-9843-48129d14c093",
   "metadata": {},
   "outputs": [
    {
     "data": {
      "text/plain": [
       "['__doc__',\n",
       " '__file__',\n",
       " '__loader__',\n",
       " '__name__',\n",
       " '__package__',\n",
       " '__spec__',\n",
       " 'acos',\n",
       " 'acosh',\n",
       " 'asin',\n",
       " 'asinh',\n",
       " 'atan',\n",
       " 'atan2',\n",
       " 'atanh',\n",
       " 'cbrt',\n",
       " 'ceil',\n",
       " 'comb',\n",
       " 'copysign',\n",
       " 'cos',\n",
       " 'cosh',\n",
       " 'degrees',\n",
       " 'dist',\n",
       " 'e',\n",
       " 'erf',\n",
       " 'erfc',\n",
       " 'exp',\n",
       " 'exp2',\n",
       " 'expm1',\n",
       " 'fabs',\n",
       " 'factorial',\n",
       " 'floor',\n",
       " 'fmod',\n",
       " 'frexp',\n",
       " 'fsum',\n",
       " 'gamma',\n",
       " 'gcd',\n",
       " 'hypot',\n",
       " 'inf',\n",
       " 'isclose',\n",
       " 'isfinite',\n",
       " 'isinf',\n",
       " 'isnan',\n",
       " 'isqrt',\n",
       " 'lcm',\n",
       " 'ldexp',\n",
       " 'lgamma',\n",
       " 'log',\n",
       " 'log10',\n",
       " 'log1p',\n",
       " 'log2',\n",
       " 'modf',\n",
       " 'nan',\n",
       " 'nextafter',\n",
       " 'perm',\n",
       " 'pi',\n",
       " 'pow',\n",
       " 'prod',\n",
       " 'radians',\n",
       " 'remainder',\n",
       " 'sin',\n",
       " 'sinh',\n",
       " 'sqrt',\n",
       " 'tan',\n",
       " 'tanh',\n",
       " 'tau',\n",
       " 'trunc',\n",
       " 'ulp']"
      ]
     },
     "execution_count": 6,
     "metadata": {},
     "output_type": "execute_result"
    }
   ],
   "source": [
    "dir(math)"
   ]
  },
  {
   "cell_type": "code",
   "execution_count": 7,
   "id": "33a4cd82-b8dd-4e43-9cc5-7e5589d386fd",
   "metadata": {},
   "outputs": [
    {
     "data": {
      "text/plain": [
       "1.0"
      ]
     },
     "execution_count": 7,
     "metadata": {},
     "output_type": "execute_result"
    }
   ],
   "source": [
    "math.cos(0)"
   ]
  },
  {
   "cell_type": "code",
   "execution_count": 8,
   "id": "f75d40a0-dcd3-4dfb-98ec-d46006e90edd",
   "metadata": {},
   "outputs": [
    {
     "data": {
      "text/plain": [
       "3.141592653589793"
      ]
     },
     "execution_count": 8,
     "metadata": {},
     "output_type": "execute_result"
    }
   ],
   "source": [
    "math.pi"
   ]
  },
  {
   "cell_type": "code",
   "execution_count": 9,
   "id": "6461881a-c09c-4131-840d-4b20f1c66e24",
   "metadata": {},
   "outputs": [
    {
     "data": {
      "text/plain": [
       "True"
      ]
     },
     "execution_count": 9,
     "metadata": {},
     "output_type": "execute_result"
    }
   ],
   "source": [
    "True"
   ]
  },
  {
   "cell_type": "code",
   "execution_count": 10,
   "id": "02f30ef3-7f5f-4be1-8fa1-b7353d63ce3c",
   "metadata": {},
   "outputs": [
    {
     "data": {
      "text/plain": [
       "False"
      ]
     },
     "execution_count": 10,
     "metadata": {},
     "output_type": "execute_result"
    }
   ],
   "source": [
    "False"
   ]
  },
  {
   "cell_type": "code",
   "execution_count": 11,
   "id": "73e154c0-1436-4497-be88-158bdac9b95f",
   "metadata": {},
   "outputs": [
    {
     "data": {
      "text/plain": [
       "True"
      ]
     },
     "execution_count": 11,
     "metadata": {},
     "output_type": "execute_result"
    }
   ],
   "source": [
    "3 > 1"
   ]
  },
  {
   "cell_type": "code",
   "execution_count": 12,
   "id": "87599e48-192a-4fc9-a936-7c868a3dfa73",
   "metadata": {},
   "outputs": [
    {
     "data": {
      "text/plain": [
       "False"
      ]
     },
     "execution_count": 12,
     "metadata": {},
     "output_type": "execute_result"
    }
   ],
   "source": [
    "3 < 1"
   ]
  },
  {
   "cell_type": "code",
   "execution_count": 13,
   "id": "246001cd-b162-48c5-b06d-301a11dc4f65",
   "metadata": {},
   "outputs": [
    {
     "ename": "SyntaxError",
     "evalue": "cannot assign to literal here. Maybe you meant '==' instead of '='? (1559837634.py, line 1)",
     "output_type": "error",
     "traceback": [
      "\u001b[0;36m  Cell \u001b[0;32mIn[13], line 1\u001b[0;36m\u001b[0m\n\u001b[0;31m    3 = 1\u001b[0m\n\u001b[0m    ^\u001b[0m\n\u001b[0;31mSyntaxError\u001b[0m\u001b[0;31m:\u001b[0m cannot assign to literal here. Maybe you meant '==' instead of '='?\n"
     ]
    }
   ],
   "source": [
    "3 = 1"
   ]
  },
  {
   "cell_type": "code",
   "execution_count": 14,
   "id": "c2ea011b-88d3-4cbb-99b4-f571410e2d58",
   "metadata": {},
   "outputs": [
    {
     "data": {
      "text/plain": [
       "False"
      ]
     },
     "execution_count": 14,
     "metadata": {},
     "output_type": "execute_result"
    }
   ],
   "source": [
    "3 == 1"
   ]
  },
  {
   "cell_type": "code",
   "execution_count": 15,
   "id": "9e437c64-0844-4439-8ff3-606a665119fb",
   "metadata": {},
   "outputs": [
    {
     "data": {
      "text/plain": [
       "True"
      ]
     },
     "execution_count": 15,
     "metadata": {},
     "output_type": "execute_result"
    }
   ],
   "source": [
    "3 != 1"
   ]
  },
  {
   "cell_type": "code",
   "execution_count": 16,
   "id": "61b3d80e-1512-4dfc-8952-0f80bcd196ec",
   "metadata": {},
   "outputs": [
    {
     "ename": "NameError",
     "evalue": "name 'name' is not defined",
     "output_type": "error",
     "traceback": [
      "\u001b[0;31m---------------------------------------------------------------------------\u001b[0m",
      "\u001b[0;31mNameError\u001b[0m                                 Traceback (most recent call last)",
      "Cell \u001b[0;32mIn[16], line 1\u001b[0m\n\u001b[0;32m----> 1\u001b[0m \u001b[43mname\u001b[49m\n",
      "\u001b[0;31mNameError\u001b[0m: name 'name' is not defined"
     ]
    }
   ],
   "source": [
    "name"
   ]
  },
  {
   "cell_type": "code",
   "execution_count": 17,
   "id": "27d250b2-a117-4b0a-9fc7-78a4cecde200",
   "metadata": {},
   "outputs": [],
   "source": [
    "name = \"Guido\""
   ]
  },
  {
   "cell_type": "code",
   "execution_count": 18,
   "id": "da5807fb-2256-4f00-b4a5-eea895b7430d",
   "metadata": {},
   "outputs": [
    {
     "data": {
      "text/plain": [
       "True"
      ]
     },
     "execution_count": 18,
     "metadata": {},
     "output_type": "execute_result"
    }
   ],
   "source": [
    "name == \"Guido\""
   ]
  },
  {
   "cell_type": "code",
   "execution_count": 19,
   "id": "44babc8c-77df-4235-b317-eab0df5c68d6",
   "metadata": {},
   "outputs": [
    {
     "data": {
      "text/plain": [
       "False"
      ]
     },
     "execution_count": 19,
     "metadata": {},
     "output_type": "execute_result"
    }
   ],
   "source": [
    "name == \"Geir Arne\""
   ]
  },
  {
   "cell_type": "code",
   "execution_count": 20,
   "id": "7e4dff8d-36c3-4689-88fa-93b633b946dc",
   "metadata": {},
   "outputs": [
    {
     "data": {
      "text/plain": [
       "False"
      ]
     },
     "execution_count": 20,
     "metadata": {},
     "output_type": "execute_result"
    }
   ],
   "source": [
    "name < \"Geir Arne\""
   ]
  },
  {
   "cell_type": "code",
   "execution_count": 21,
   "id": "c8d089f6-6c8c-4750-abcb-66c2f3f89999",
   "metadata": {},
   "outputs": [
    {
     "data": {
      "text/plain": [
       "False"
      ]
     },
     "execution_count": 21,
     "metadata": {},
     "output_type": "execute_result"
    }
   ],
   "source": [
    "\"geir arne\" < \"Guido\""
   ]
  },
  {
   "cell_type": "code",
   "execution_count": 22,
   "id": "2e2ccf44-6c11-49d9-8b9e-299d786c77cb",
   "metadata": {},
   "outputs": [
    {
     "data": {
      "text/plain": [
       "True"
      ]
     },
     "execution_count": 22,
     "metadata": {},
     "output_type": "execute_result"
    }
   ],
   "source": [
    "\"Geir Arne\" < \"Guido\""
   ]
  },
  {
   "cell_type": "code",
   "execution_count": 24,
   "id": "79f30645-5e15-4e66-ada8-58022ad58e5b",
   "metadata": {},
   "outputs": [
    {
     "data": {
      "text/plain": [
       "True"
      ]
     },
     "execution_count": 24,
     "metadata": {},
     "output_type": "execute_result"
    }
   ],
   "source": [
    "3 > 1 and 5 < 7 or 3 > 4"
   ]
  },
  {
   "cell_type": "code",
   "execution_count": 25,
   "id": "dc75abc2-8261-42c5-880f-a0f75077d866",
   "metadata": {},
   "outputs": [],
   "source": [
    "year = 2023"
   ]
  },
  {
   "cell_type": "code",
   "execution_count": 26,
   "id": "50c6706e-bbf4-482e-909d-c0b130630a8c",
   "metadata": {},
   "outputs": [
    {
     "data": {
      "text/plain": [
       "True"
      ]
     },
     "execution_count": 26,
     "metadata": {},
     "output_type": "execute_result"
    }
   ],
   "source": [
    "2000 < year < 2050"
   ]
  },
  {
   "cell_type": "code",
   "execution_count": 27,
   "id": "86c40377-025b-4ba8-af37-d4d9527ac11b",
   "metadata": {},
   "outputs": [
    {
     "data": {
      "text/plain": [
       "True"
      ]
     },
     "execution_count": 27,
     "metadata": {},
     "output_type": "execute_result"
    }
   ],
   "source": [
    "2000 < year and year < 2050"
   ]
  },
  {
   "cell_type": "code",
   "execution_count": 28,
   "id": "964ae8f5-e8a9-4a07-a8c2-ba99cfbfe8e6",
   "metadata": {},
   "outputs": [
    {
     "data": {
      "text/plain": [
       "True"
      ]
     },
     "execution_count": 28,
     "metadata": {},
     "output_type": "execute_result"
    }
   ],
   "source": [
    "2000 <= year < 2050"
   ]
  },
  {
   "cell_type": "code",
   "execution_count": 29,
   "id": "1a962366-b5f5-461a-928b-3a136fee3948",
   "metadata": {},
   "outputs": [
    {
     "data": {
      "text/plain": [
       "True"
      ]
     },
     "execution_count": 29,
     "metadata": {},
     "output_type": "execute_result"
    }
   ],
   "source": [
    "year <= 2023"
   ]
  },
  {
   "cell_type": "code",
   "execution_count": 30,
   "id": "8d1d992e-b98b-471e-9017-00230f1a44d6",
   "metadata": {},
   "outputs": [
    {
     "data": {
      "text/plain": [
       "False"
      ]
     },
     "execution_count": 30,
     "metadata": {},
     "output_type": "execute_result"
    }
   ],
   "source": [
    "year != 2023"
   ]
  },
  {
   "cell_type": "code",
   "execution_count": 31,
   "id": "fdeeeba1-bbd6-43fc-9f3c-9690f5fc9912",
   "metadata": {},
   "outputs": [
    {
     "ename": "SyntaxError",
     "evalue": "not a chance (3905450354.py, line 1)",
     "output_type": "error",
     "traceback": [
      "\u001b[0;36m  Cell \u001b[0;32mIn[31], line 1\u001b[0;36m\u001b[0m\n\u001b[0;31m    from __future__ import braces\u001b[0m\n\u001b[0m    ^\u001b[0m\n\u001b[0;31mSyntaxError\u001b[0m\u001b[0;31m:\u001b[0m not a chance\n"
     ]
    }
   ],
   "source": [
    "from __future__ import braces"
   ]
  },
  {
   "cell_type": "code",
   "execution_count": 32,
   "id": "937794d8-6e69-4b0a-8074-bed3acbd0e64",
   "metadata": {},
   "outputs": [
    {
     "data": {
      "text/plain": [
       "2023"
      ]
     },
     "execution_count": 32,
     "metadata": {},
     "output_type": "execute_result"
    }
   ],
   "source": [
    "year"
   ]
  },
  {
   "cell_type": "code",
   "execution_count": 35,
   "id": "1fc07516-7c92-42dc-93c4-aeb42a4c0d21",
   "metadata": {},
   "outputs": [
    {
     "name": "stdout",
     "output_type": "stream",
     "text": [
      "It's this year\n",
      "Next year is 2024\n"
     ]
    }
   ],
   "source": [
    "if year == 2023:\n",
    "    print(\"It's this year\")\n",
    "    print(f\"Next year is {year + 1}\")"
   ]
  },
  {
   "cell_type": "code",
   "execution_count": 36,
   "id": "611d4492-ac56-4966-97f0-f5bd79c3ea02",
   "metadata": {},
   "outputs": [],
   "source": [
    "year = 2022"
   ]
  },
  {
   "cell_type": "code",
   "execution_count": 38,
   "id": "3bba9571-ecb2-4766-878b-c187ca951726",
   "metadata": {},
   "outputs": [
    {
     "name": "stdout",
     "output_type": "stream",
     "text": [
      "Next year is 2023\n"
     ]
    }
   ],
   "source": [
    "if year == 2023:\n",
    "    print(\"It's this year\")\n",
    "print(f\"Next year is {year + 1}\")"
   ]
  },
  {
   "cell_type": "code",
   "execution_count": 53,
   "id": "76b425db-08f6-4169-9acd-e5b2d9702e88",
   "metadata": {},
   "outputs": [],
   "source": [
    "year = 2023\n",
    "name = \"Guido\""
   ]
  },
  {
   "cell_type": "code",
   "execution_count": 54,
   "id": "f06ea58e-b35a-4a64-96f2-554acde3a774",
   "metadata": {},
   "outputs": [
    {
     "name": "stdout",
     "output_type": "stream",
     "text": [
      "name='Guido' and year=2023\n",
      "It's this year\n"
     ]
    }
   ],
   "source": [
    "if year == 2023:\n",
    "    if name == \"Guido\":\n",
    "        print(f\"{name=} and {year=}\")\n",
    "    print(\"It's this year\")"
   ]
  },
  {
   "cell_type": "code",
   "execution_count": 43,
   "id": "4c437aef-597b-45cf-8523-107b28af9073",
   "metadata": {},
   "outputs": [
    {
     "name": "stdout",
     "output_type": "stream",
     "text": [
      "name='Guido' and year=2023\n"
     ]
    }
   ],
   "source": [
    "if year == 2023 and name == \"Guido\":\n",
    "    print(f\"{name=} and {year=}\")"
   ]
  },
  {
   "cell_type": "code",
   "execution_count": 55,
   "id": "91e25417-d5fd-4922-969c-21f103a31767",
   "metadata": {},
   "outputs": [
    {
     "name": "stdout",
     "output_type": "stream",
     "text": [
      "It's this year\n"
     ]
    }
   ],
   "source": [
    "if year == 2023:\n",
    "    print(\"It's this year\")\n",
    "else:\n",
    "    print(\"It's not this year\")"
   ]
  },
  {
   "cell_type": "code",
   "execution_count": 56,
   "id": "101582cb-5228-409b-91d4-df777c0a19b5",
   "metadata": {},
   "outputs": [
    {
     "name": "stdout",
     "output_type": "stream",
     "text": [
      "It's this year\n"
     ]
    }
   ],
   "source": [
    "if year == 2023:\n",
    "    print(\"It's this year\")\n",
    "elif year == 2022:\n",
    "    print(\"It's last year\")\n",
    "else:\n",
    "    print(\"It's some other year\")"
   ]
  },
  {
   "cell_type": "code",
   "execution_count": 57,
   "id": "e693a55a-b67e-44c0-91cd-3149447f3dbc",
   "metadata": {},
   "outputs": [
    {
     "name": "stdout",
     "output_type": "stream",
     "text": [
      "It's a year\n"
     ]
    }
   ],
   "source": [
    "if year:\n",
    "    print(\"It's a year\")"
   ]
  },
  {
   "cell_type": "code",
   "execution_count": 66,
   "id": "a7fd6bfd-ee70-45c8-8e3e-96dbacd93870",
   "metadata": {},
   "outputs": [],
   "source": [
    "name = \"\"\n",
    "\n",
    "if name:\n",
    "    print(f\"Hello, {name}\")"
   ]
  },
  {
   "cell_type": "code",
   "execution_count": 67,
   "id": "028fc921-0586-4ecc-826a-b61b0c04b8a6",
   "metadata": {},
   "outputs": [
    {
     "data": {
      "text/plain": [
       "False"
      ]
     },
     "execution_count": 67,
     "metadata": {},
     "output_type": "execute_result"
    }
   ],
   "source": [
    "name == None"
   ]
  },
  {
   "cell_type": "code",
   "execution_count": 68,
   "id": "9a8dfd9d-207d-4486-b3c9-e65824f407f7",
   "metadata": {},
   "outputs": [
    {
     "data": {
      "text/plain": [
       "False"
      ]
     },
     "execution_count": 68,
     "metadata": {},
     "output_type": "execute_result"
    }
   ],
   "source": [
    "name is None"
   ]
  },
  {
   "cell_type": "code",
   "execution_count": 71,
   "id": "6d425895-4fd1-4b14-a301-57f5459ed91c",
   "metadata": {},
   "outputs": [],
   "source": [
    "new_name: str = 3"
   ]
  },
  {
   "cell_type": "code",
   "execution_count": 72,
   "id": "7a3db322-ef82-4f07-bbe3-a82127174097",
   "metadata": {},
   "outputs": [
    {
     "data": {
      "text/plain": [
       "3"
      ]
     },
     "execution_count": 72,
     "metadata": {},
     "output_type": "execute_result"
    }
   ],
   "source": [
    "new_name"
   ]
  },
  {
   "cell_type": "code",
   "execution_count": 73,
   "id": "0d472422-a15d-4973-abfd-3ed40a49f373",
   "metadata": {},
   "outputs": [
    {
     "name": "stdout",
     "output_type": "stream",
     "text": [
      "1\n",
      "2\n",
      "3\n",
      "4\n",
      "5\n",
      "6\n",
      "7\n",
      "8\n",
      "9\n",
      "10\n"
     ]
    }
   ],
   "source": [
    "counter = 0\n",
    "while counter < 10:\n",
    "    counter += 1\n",
    "    print(counter)"
   ]
  },
  {
   "cell_type": "code",
   "execution_count": 74,
   "id": "bc84af4a-4982-4710-88f9-74d7f5ab3da9",
   "metadata": {},
   "outputs": [
    {
     "name": "stdout",
     "output_type": "stream",
     "text": [
      "10\n"
     ]
    }
   ],
   "source": [
    "counter = 0\n",
    "while counter < 10:\n",
    "    counter += 1\n",
    "print(counter)"
   ]
  },
  {
   "cell_type": "code",
   "execution_count": 76,
   "id": "56476b44-7995-433d-917a-8713e1957d06",
   "metadata": {},
   "outputs": [
    {
     "name": "stdout",
     "output_type": "stream",
     "text": [
      "1\n",
      "2\n",
      "3\n",
      "4\n",
      "5\n",
      "6\n",
      "7\n",
      "8\n",
      "9\n",
      "10\n"
     ]
    }
   ],
   "source": [
    "counter = 0\n",
    "while counter < 10:\n",
    "    counter += 1\n",
    "    print(counter)"
   ]
  },
  {
   "cell_type": "code",
   "execution_count": 77,
   "id": "47c0cabb-d9bb-4f5b-98b1-e99340b35931",
   "metadata": {},
   "outputs": [
    {
     "name": "stdout",
     "output_type": "stream",
     "text": [
      "1\n",
      "2\n",
      "3\n",
      "4\n",
      "5\n",
      "6\n",
      "7\n",
      "8\n",
      "9\n",
      "10\n"
     ]
    }
   ],
   "source": [
    "counter = 0\n",
    "while True:\n",
    "    counter += 1\n",
    "    print(counter)\n",
    "    if counter == 10:\n",
    "        break"
   ]
  },
  {
   "cell_type": "code",
   "execution_count": 78,
   "id": "52d33408-304a-4545-b7b8-b5fb864905a5",
   "metadata": {},
   "outputs": [
    {
     "name": "stdin",
     "output_type": "stream",
     "text": [
      "What's your name?  Sebastian\n"
     ]
    }
   ],
   "source": [
    "name = input(\"What's your name? \")"
   ]
  },
  {
   "cell_type": "code",
   "execution_count": 79,
   "id": "9065f461-a9a0-47a9-8988-d5d4668fb07c",
   "metadata": {},
   "outputs": [
    {
     "data": {
      "text/plain": [
       "'Sebastian'"
      ]
     },
     "execution_count": 79,
     "metadata": {},
     "output_type": "execute_result"
    }
   ],
   "source": [
    "name"
   ]
  },
  {
   "cell_type": "code",
   "execution_count": 81,
   "id": "ae8bd7f9-e605-423d-af3f-91a51efd0954",
   "metadata": {},
   "outputs": [
    {
     "name": "stdin",
     "output_type": "stream",
     "text": [
      "Type a command:  quit\n"
     ]
    }
   ],
   "source": [
    "while True:\n",
    "    command = input(\"Type a command: \")\n",
    "    if command == \"quit\":\n",
    "        break\n",
    "    print(f\"I'm doing {command}\")"
   ]
  },
  {
   "cell_type": "markdown",
   "id": "fc4b7517-f469-456d-97ba-5d4a08020e56",
   "metadata": {},
   "source": [
    "# Exercise: Guessing game (If finished: FIZZBUZZ)\n",
    "\n",
    "```\n",
    "import random\n",
    "\n",
    "secret = random.randint(1, 100)\n",
    "\n",
    "while True:\n",
    "    guess = int(input(\"Guess the secret number: \"))\n",
    "```\n",
    "\n",
    "Create a `while` loop asking you to guess the secret number:\n",
    "\n",
    "```\n",
    "Guess the secret number: 50\n",
    "The secret number is bigger than 50\n",
    "Guess the secret number: 75\n",
    "The secret number is less than 75\n",
    "Guess the secret number: 63\n",
    "Correct\n",
    "```"
   ]
  },
  {
   "cell_type": "code",
   "execution_count": 88,
   "id": "68c6ab67-d68f-4e4f-8673-b4279a4e91c2",
   "metadata": {},
   "outputs": [
    {
     "name": "stdout",
     "output_type": "stream",
     "text": [
      "30\n"
     ]
    },
    {
     "name": "stdin",
     "output_type": "stream",
     "text": [
      "Guess the secret number:  20\n"
     ]
    },
    {
     "name": "stdout",
     "output_type": "stream",
     "text": [
      "The secret number is bigger than 20\n"
     ]
    },
    {
     "name": "stdin",
     "output_type": "stream",
     "text": [
      "Guess the secret number:  40\n"
     ]
    },
    {
     "name": "stdout",
     "output_type": "stream",
     "text": [
      "The secret number is less than 40\n"
     ]
    },
    {
     "name": "stdin",
     "output_type": "stream",
     "text": [
      "Guess the secret number:  30\n"
     ]
    },
    {
     "name": "stdout",
     "output_type": "stream",
     "text": [
      "Correct\n"
     ]
    }
   ],
   "source": [
    "import random\n",
    "\n",
    "secret = random.randint(1, 100)\n",
    "print(secret)\n",
    "\n",
    "while True:\n",
    "    guess = int(input(\"Guess the secret number: \"))\n",
    "    if guess == secret:\n",
    "        print(\"Correct\")\n",
    "        break\n",
    "    elif secret > guess:\n",
    "        print(f\"The secret number is bigger than {guess}\")\n",
    "    elif secret < guess:\n",
    "        print(f\"The secret number is less than {guess}\")"
   ]
  },
  {
   "cell_type": "code",
   "execution_count": 2,
   "id": "14abfc43-d7f7-45f6-b589-f1ed5cfd5082",
   "metadata": {},
   "outputs": [
    {
     "name": "stdout",
     "output_type": "stream",
     "text": [
      "60\n"
     ]
    },
    {
     "name": "stdin",
     "output_type": "stream",
     "text": [
      "Guess the secret number:  60\n"
     ]
    },
    {
     "name": "stdout",
     "output_type": "stream",
     "text": [
      "Correct\n"
     ]
    }
   ],
   "source": [
    "import random\n",
    "\n",
    "secret = random.randint(1, 100)\n",
    "print(secret)\n",
    "\n",
    "guess = None\n",
    "while guess != secret:\n",
    "    guess = int(input(\"Guess the secret number: \"))\n",
    "    if secret > guess:\n",
    "        print(f\"The secret number is bigger than {guess}\")\n",
    "    elif secret < guess:\n",
    "        print(f\"The secret number is less than {guess}\")\n",
    "\n",
    "print(\"Correct\")\n"
   ]
  },
  {
   "cell_type": "code",
   "execution_count": 3,
   "id": "221bef6f-0de1-438f-8976-9c2031c9cf04",
   "metadata": {},
   "outputs": [
    {
     "name": "stdout",
     "output_type": "stream",
     "text": [
      "1\n"
     ]
    },
    {
     "name": "stdin",
     "output_type": "stream",
     "text": [
      "Guess the secret number:  1\n"
     ]
    },
    {
     "name": "stdout",
     "output_type": "stream",
     "text": [
      "Correct\n"
     ]
    }
   ],
   "source": [
    "import random\n",
    "\n",
    "secret = random.randint(1, 100)\n",
    "print(secret)\n",
    "\n",
    "while (guess := int(input(\"Guess the secret number: \"))) != secret:\n",
    "    if secret > guess:\n",
    "        print(f\"The secret number is bigger than {guess}\")\n",
    "    elif secret < guess:\n",
    "        print(f\"The secret number is less than {guess}\")\n",
    "\n",
    "print(\"Correct\")\n"
   ]
  },
  {
   "cell_type": "code",
   "execution_count": 85,
   "id": "10d4c0f7-c669-4112-b595-28fa6d0c9723",
   "metadata": {},
   "outputs": [
    {
     "ename": "ValueError",
     "evalue": "invalid literal for int() with base 10: 'one'",
     "output_type": "error",
     "traceback": [
      "\u001b[0;31m---------------------------------------------------------------------------\u001b[0m",
      "\u001b[0;31mValueError\u001b[0m                                Traceback (most recent call last)",
      "Cell \u001b[0;32mIn[85], line 1\u001b[0m\n\u001b[0;32m----> 1\u001b[0m \u001b[38;5;28;43mint\u001b[39;49m\u001b[43m(\u001b[49m\u001b[38;5;124;43m\"\u001b[39;49m\u001b[38;5;124;43mone\u001b[39;49m\u001b[38;5;124;43m\"\u001b[39;49m\u001b[43m)\u001b[49m\n",
      "\u001b[0;31mValueError\u001b[0m: invalid literal for int() with base 10: 'one'"
     ]
    }
   ],
   "source": [
    "int(\"one\")"
   ]
  },
  {
   "cell_type": "markdown",
   "id": "fe3c337a-7fda-4674-84f9-0547a95455f2",
   "metadata": {},
   "source": [
    "# List: ordered sequence of objects"
   ]
  },
  {
   "cell_type": "code",
   "execution_count": 4,
   "id": "720b0223-022e-49a5-b6a5-7a7ea26576ca",
   "metadata": {},
   "outputs": [],
   "source": [
    "numbers = [1, 2, 3]"
   ]
  },
  {
   "cell_type": "code",
   "execution_count": 5,
   "id": "bb0d82f0-2b37-4cba-a996-8d631851f795",
   "metadata": {},
   "outputs": [
    {
     "data": {
      "text/plain": [
       "[1, 2, 3]"
      ]
     },
     "execution_count": 5,
     "metadata": {},
     "output_type": "execute_result"
    }
   ],
   "source": [
    "numbers"
   ]
  },
  {
   "cell_type": "code",
   "execution_count": 6,
   "id": "3ecd6e30-f2c1-4ba7-9846-d0b190a8d558",
   "metadata": {},
   "outputs": [
    {
     "data": {
      "text/plain": [
       "1"
      ]
     },
     "execution_count": 6,
     "metadata": {},
     "output_type": "execute_result"
    }
   ],
   "source": [
    "numbers[0]"
   ]
  },
  {
   "cell_type": "code",
   "execution_count": 7,
   "id": "958b6cbd-7082-41f8-8a9a-edc66a05a601",
   "metadata": {},
   "outputs": [
    {
     "data": {
      "text/plain": [
       "2"
      ]
     },
     "execution_count": 7,
     "metadata": {},
     "output_type": "execute_result"
    }
   ],
   "source": [
    "numbers[1]"
   ]
  },
  {
   "cell_type": "code",
   "execution_count": 8,
   "id": "c753f718-cb96-44b1-9c7c-eb73bdd03774",
   "metadata": {},
   "outputs": [
    {
     "ename": "IndexError",
     "evalue": "list index out of range",
     "output_type": "error",
     "traceback": [
      "\u001b[0;31m---------------------------------------------------------------------------\u001b[0m",
      "\u001b[0;31mIndexError\u001b[0m                                Traceback (most recent call last)",
      "Cell \u001b[0;32mIn[8], line 1\u001b[0m\n\u001b[0;32m----> 1\u001b[0m \u001b[43mnumbers\u001b[49m\u001b[43m[\u001b[49m\u001b[38;5;241;43m3\u001b[39;49m\u001b[43m]\u001b[49m\n",
      "\u001b[0;31mIndexError\u001b[0m: list index out of range"
     ]
    }
   ],
   "source": [
    "numbers[3]"
   ]
  },
  {
   "cell_type": "code",
   "execution_count": 9,
   "id": "892dd681-359c-42b7-bde1-751bc12f2659",
   "metadata": {},
   "outputs": [
    {
     "data": {
      "text/plain": [
       "3"
      ]
     },
     "execution_count": 9,
     "metadata": {},
     "output_type": "execute_result"
    }
   ],
   "source": [
    "numbers[-1]"
   ]
  },
  {
   "cell_type": "code",
   "execution_count": 10,
   "id": "25e64550-b2dc-4c92-b62e-80ff2e19fa3d",
   "metadata": {},
   "outputs": [],
   "source": [
    "stuff = [42, \"Geir Arne\", 3.14, False, None, [1, 2, 3], numbers]"
   ]
  },
  {
   "cell_type": "code",
   "execution_count": 11,
   "id": "438643af-2a7b-44de-95b9-f10023d64b43",
   "metadata": {},
   "outputs": [
    {
     "data": {
      "text/plain": [
       "[42, 'Geir Arne', 3.14, False, None, [1, 2, 3], [1, 2, 3]]"
      ]
     },
     "execution_count": 11,
     "metadata": {},
     "output_type": "execute_result"
    }
   ],
   "source": [
    "stuff"
   ]
  },
  {
   "cell_type": "code",
   "execution_count": 12,
   "id": "ae671315-668d-4700-bde9-9a4f6637a06f",
   "metadata": {},
   "outputs": [],
   "source": [
    "numbers = [\"one\", \"two\", \"three\", \"four\", \"five\"]"
   ]
  },
  {
   "cell_type": "code",
   "execution_count": 13,
   "id": "3e74f92c-4b84-49aa-b4df-ba139d5c48d2",
   "metadata": {},
   "outputs": [
    {
     "data": {
      "text/plain": [
       "'four'"
      ]
     },
     "execution_count": 13,
     "metadata": {},
     "output_type": "execute_result"
    }
   ],
   "source": [
    "numbers[3]"
   ]
  },
  {
   "cell_type": "code",
   "execution_count": 15,
   "id": "291298bf-d4ad-4bc6-9424-bfd37d543d32",
   "metadata": {},
   "outputs": [
    {
     "data": {
      "text/plain": [
       "['two', 'three', 'four']"
      ]
     },
     "execution_count": 15,
     "metadata": {},
     "output_type": "execute_result"
    }
   ],
   "source": [
    "numbers[1:4]"
   ]
  },
  {
   "cell_type": "code",
   "execution_count": 16,
   "id": "7cec6fa3-620f-45bd-8639-b30a05ff79a6",
   "metadata": {},
   "outputs": [
    {
     "data": {
      "text/plain": [
       "(['one', 'two', 'three'], ['four', 'five'])"
      ]
     },
     "execution_count": 16,
     "metadata": {},
     "output_type": "execute_result"
    }
   ],
   "source": [
    "numbers[0:3], numbers[3:]"
   ]
  },
  {
   "cell_type": "code",
   "execution_count": 17,
   "id": "841a7810-ab7e-4136-aa5c-09189562ad98",
   "metadata": {},
   "outputs": [
    {
     "data": {
      "text/plain": [
       "['one', 'two', 'three', 'four', 'five']"
      ]
     },
     "execution_count": 17,
     "metadata": {},
     "output_type": "execute_result"
    }
   ],
   "source": [
    "numbers[:]"
   ]
  },
  {
   "cell_type": "code",
   "execution_count": 18,
   "id": "e05ebcfa-ac04-4895-9d1a-20a248c43652",
   "metadata": {},
   "outputs": [
    {
     "data": {
      "text/plain": [
       "['two', 'four']"
      ]
     },
     "execution_count": 18,
     "metadata": {},
     "output_type": "execute_result"
    }
   ],
   "source": [
    "numbers[1:4:2]"
   ]
  },
  {
   "cell_type": "code",
   "execution_count": 19,
   "id": "6a13e7da-3079-49a5-81f2-d43f794d6c51",
   "metadata": {},
   "outputs": [
    {
     "data": {
      "text/plain": [
       "['one', 'three', 'five']"
      ]
     },
     "execution_count": 19,
     "metadata": {},
     "output_type": "execute_result"
    }
   ],
   "source": [
    "numbers[::2]"
   ]
  },
  {
   "cell_type": "code",
   "execution_count": 20,
   "id": "88098295-2a39-4884-8c8f-7b36bb4cf689",
   "metadata": {},
   "outputs": [
    {
     "data": {
      "text/plain": [
       "['five', 'four', 'three', 'two', 'one']"
      ]
     },
     "execution_count": 20,
     "metadata": {},
     "output_type": "execute_result"
    }
   ],
   "source": [
    "numbers[::-1]"
   ]
  },
  {
   "cell_type": "code",
   "execution_count": 21,
   "id": "8c2d3d90-3342-42cd-82d4-af3cc6d1b15c",
   "metadata": {},
   "outputs": [
    {
     "ename": "TypeError",
     "evalue": "list indices must be integers or slices, not tuple",
     "output_type": "error",
     "traceback": [
      "\u001b[0;31m---------------------------------------------------------------------------\u001b[0m",
      "\u001b[0;31mTypeError\u001b[0m                                 Traceback (most recent call last)",
      "Cell \u001b[0;32mIn[21], line 1\u001b[0m\n\u001b[0;32m----> 1\u001b[0m \u001b[43mnumbers\u001b[49m\u001b[43m[\u001b[49m\u001b[38;5;241;43m1\u001b[39;49m\u001b[43m,\u001b[49m\u001b[43m \u001b[49m\u001b[38;5;241;43m3\u001b[39;49m\u001b[43m,\u001b[49m\u001b[43m \u001b[49m\u001b[38;5;241;43m5\u001b[39;49m\u001b[43m]\u001b[49m\n",
      "\u001b[0;31mTypeError\u001b[0m: list indices must be integers or slices, not tuple"
     ]
    }
   ],
   "source": [
    "numbers[1, 3, 5]"
   ]
  },
  {
   "cell_type": "code",
   "execution_count": 23,
   "id": "10da4a5a-d70c-44cb-ac64-d20202e66404",
   "metadata": {},
   "outputs": [
    {
     "data": {
      "text/plain": [
       "['one', 'three', 'five']"
      ]
     },
     "execution_count": 23,
     "metadata": {},
     "output_type": "execute_result"
    }
   ],
   "source": [
    "[number for index, number in enumerate(numbers) if index in (0, 2, 4)]"
   ]
  },
  {
   "cell_type": "code",
   "execution_count": 24,
   "id": "4acc6d8c-951e-44b6-ad48-552e95d70f11",
   "metadata": {},
   "outputs": [],
   "source": [
    "number = 4"
   ]
  },
  {
   "cell_type": "code",
   "execution_count": 25,
   "id": "f3dfd740-b8f2-4557-8ab5-d414585ce389",
   "metadata": {},
   "outputs": [],
   "source": [
    "number = 5"
   ]
  },
  {
   "cell_type": "code",
   "execution_count": 26,
   "id": "a49f60b1-d237-472e-a8e3-20da25bff96a",
   "metadata": {},
   "outputs": [
    {
     "data": {
      "text/plain": [
       "94364153039304"
      ]
     },
     "execution_count": 26,
     "metadata": {},
     "output_type": "execute_result"
    }
   ],
   "source": [
    "id(number)"
   ]
  },
  {
   "cell_type": "code",
   "execution_count": 27,
   "id": "0e94a490-4c23-40aa-b8ee-81d0a08eb7e3",
   "metadata": {},
   "outputs": [],
   "source": [
    "number = 4"
   ]
  },
  {
   "cell_type": "code",
   "execution_count": 28,
   "id": "127e8221-0db1-4596-9ce2-02e735417335",
   "metadata": {},
   "outputs": [
    {
     "data": {
      "text/plain": [
       "94364153039272"
      ]
     },
     "execution_count": 28,
     "metadata": {},
     "output_type": "execute_result"
    }
   ],
   "source": [
    "id(number)"
   ]
  },
  {
   "cell_type": "code",
   "execution_count": 29,
   "id": "8928db82-adf8-4d59-b729-2dc5937e2447",
   "metadata": {},
   "outputs": [],
   "source": [
    "numbers = [\"one\"]"
   ]
  },
  {
   "cell_type": "code",
   "execution_count": 30,
   "id": "8b9646d3-7d5d-4923-ae8f-de2a4a837248",
   "metadata": {},
   "outputs": [
    {
     "data": {
      "text/plain": [
       "139895856706432"
      ]
     },
     "execution_count": 30,
     "metadata": {},
     "output_type": "execute_result"
    }
   ],
   "source": [
    "id(numbers)"
   ]
  },
  {
   "cell_type": "code",
   "execution_count": 34,
   "id": "07498b1b-e02d-4901-b253-48297eeb9fc4",
   "metadata": {},
   "outputs": [
    {
     "data": {
      "text/plain": [
       "['one', 'two', 'two', 'two']"
      ]
     },
     "execution_count": 34,
     "metadata": {},
     "output_type": "execute_result"
    }
   ],
   "source": [
    "numbers.append(\"two\")\n",
    "numbers"
   ]
  },
  {
   "cell_type": "code",
   "execution_count": 32,
   "id": "0fc620e2-f0c8-4437-bb6c-7c14cec79897",
   "metadata": {},
   "outputs": [
    {
     "data": {
      "text/plain": [
       "139895856706432"
      ]
     },
     "execution_count": 32,
     "metadata": {},
     "output_type": "execute_result"
    }
   ],
   "source": [
    "id(numbers)"
   ]
  },
  {
   "cell_type": "code",
   "execution_count": 45,
   "id": "dba6ec2b-0c2e-4626-9a7b-b0509c8b61c4",
   "metadata": {},
   "outputs": [],
   "source": [
    "numbers = [\"one\"]"
   ]
  },
  {
   "cell_type": "code",
   "execution_count": 46,
   "id": "db5b043a-6642-4b61-882e-e5f1dcfeef89",
   "metadata": {},
   "outputs": [
    {
     "data": {
      "text/plain": [
       "139895856850560"
      ]
     },
     "execution_count": 46,
     "metadata": {},
     "output_type": "execute_result"
    }
   ],
   "source": [
    "id(numbers)"
   ]
  },
  {
   "cell_type": "code",
   "execution_count": 50,
   "id": "1a6c67c0-ddbf-45c9-b92d-9d411af3125f",
   "metadata": {},
   "outputs": [
    {
     "data": {
      "text/plain": [
       "['one', 'two', 'two']"
      ]
     },
     "execution_count": 50,
     "metadata": {},
     "output_type": "execute_result"
    }
   ],
   "source": [
    "numbers = numbers + [\"two\"]\n",
    "numbers"
   ]
  },
  {
   "cell_type": "code",
   "execution_count": 51,
   "id": "339807c8-81ae-4dd7-8549-78c5936ce4ef",
   "metadata": {},
   "outputs": [
    {
     "data": {
      "text/plain": [
       "139895856389184"
      ]
     },
     "execution_count": 51,
     "metadata": {},
     "output_type": "execute_result"
    }
   ],
   "source": [
    "id(numbers)"
   ]
  },
  {
   "cell_type": "code",
   "execution_count": 52,
   "id": "e707ba24-01fe-4d22-9997-a5780efed557",
   "metadata": {},
   "outputs": [
    {
     "data": {
      "text/plain": [
       "['one', 'two', 'two']"
      ]
     },
     "execution_count": 52,
     "metadata": {},
     "output_type": "execute_result"
    }
   ],
   "source": [
    "numbers"
   ]
  },
  {
   "cell_type": "code",
   "execution_count": 53,
   "id": "b28ccae1-f348-4263-9f4a-63986b8f882f",
   "metadata": {},
   "outputs": [
    {
     "data": {
      "text/plain": [
       "'two'"
      ]
     },
     "execution_count": 53,
     "metadata": {},
     "output_type": "execute_result"
    }
   ],
   "source": [
    "numbers[2]"
   ]
  },
  {
   "cell_type": "code",
   "execution_count": 54,
   "id": "d29643fc-8e77-4abf-ba55-9e70bf4f7d49",
   "metadata": {},
   "outputs": [],
   "source": [
    "numbers[2] = \"three\""
   ]
  },
  {
   "cell_type": "code",
   "execution_count": 55,
   "id": "a8d94e79-a025-4d13-af02-f7e79165be91",
   "metadata": {},
   "outputs": [
    {
     "data": {
      "text/plain": [
       "['one', 'two', 'three']"
      ]
     },
     "execution_count": 55,
     "metadata": {},
     "output_type": "execute_result"
    }
   ],
   "source": [
    "numbers"
   ]
  },
  {
   "cell_type": "code",
   "execution_count": 56,
   "id": "39a9214d-f503-4552-9531-00bf3671b6af",
   "metadata": {},
   "outputs": [
    {
     "data": {
      "text/plain": [
       "139895856389184"
      ]
     },
     "execution_count": 56,
     "metadata": {},
     "output_type": "execute_result"
    }
   ],
   "source": [
    "id(numbers)"
   ]
  },
  {
   "cell_type": "code",
   "execution_count": 57,
   "id": "f2d04dde-91fe-4330-b60b-0338c0e86aa8",
   "metadata": {},
   "outputs": [
    {
     "data": {
      "text/plain": [
       "['one', 'two', 'three']"
      ]
     },
     "execution_count": 57,
     "metadata": {},
     "output_type": "execute_result"
    }
   ],
   "source": [
    "numbers"
   ]
  },
  {
   "cell_type": "code",
   "execution_count": 65,
   "id": "eb5888c9-eeeb-4ede-9b11-2d2e36510ce6",
   "metadata": {},
   "outputs": [],
   "source": [
    "def evil_method(pannekake):\n",
    "    pannekake.append(\"infinity\")\n",
    "    return pannekake"
   ]
  },
  {
   "cell_type": "code",
   "execution_count": 59,
   "id": "63c6c23e-88ce-4bb7-b540-7172f4de4a74",
   "metadata": {},
   "outputs": [
    {
     "data": {
      "text/plain": [
       "['one', 'two', 'three', 'infinity']"
      ]
     },
     "execution_count": 59,
     "metadata": {},
     "output_type": "execute_result"
    }
   ],
   "source": [
    "all_numbers = evil_method(numbers)\n",
    "all_numbers"
   ]
  },
  {
   "cell_type": "code",
   "execution_count": 60,
   "id": "518b9a80-6c02-48f7-80cb-a7c94d4358d6",
   "metadata": {},
   "outputs": [
    {
     "data": {
      "text/plain": [
       "['one', 'two', 'three', 'infinity']"
      ]
     },
     "execution_count": 60,
     "metadata": {},
     "output_type": "execute_result"
    }
   ],
   "source": [
    "numbers"
   ]
  },
  {
   "cell_type": "code",
   "execution_count": 61,
   "id": "1767d77f-7827-426e-82e5-81640871d405",
   "metadata": {},
   "outputs": [],
   "source": [
    "def nice_method(numbers):\n",
    "    return numbers + [\"infinity\"]"
   ]
  },
  {
   "cell_type": "code",
   "execution_count": 74,
   "id": "75759a27-fa89-481d-a25b-7aa06820d688",
   "metadata": {},
   "outputs": [],
   "source": [
    "numbers = [\"one\", \"two\", \"three\"]"
   ]
  },
  {
   "cell_type": "code",
   "execution_count": 67,
   "id": "f7268514-1426-4a7b-83f7-2bb7ce92d20a",
   "metadata": {},
   "outputs": [
    {
     "data": {
      "text/plain": [
       "['one', 'two', 'three', 'infinity']"
      ]
     },
     "execution_count": 67,
     "metadata": {},
     "output_type": "execute_result"
    }
   ],
   "source": [
    "all_numbers = nice_method(numbers)\n",
    "all_numbers"
   ]
  },
  {
   "cell_type": "code",
   "execution_count": 68,
   "id": "6cd1a2b2-203b-4499-b7ff-03762e367301",
   "metadata": {},
   "outputs": [
    {
     "data": {
      "text/plain": [
       "['one', 'two', 'three']"
      ]
     },
     "execution_count": 68,
     "metadata": {},
     "output_type": "execute_result"
    }
   ],
   "source": [
    "numbers"
   ]
  },
  {
   "cell_type": "code",
   "execution_count": 73,
   "id": "16336fa6-9750-452e-9f48-1b1076b00180",
   "metadata": {},
   "outputs": [],
   "source": [
    "def not_evil_method(pannekake):\n",
    "    pannekake = pannekake.copy()\n",
    "    pannekake.append(\"infinity\")\n",
    "    return pannekake"
   ]
  },
  {
   "cell_type": "code",
   "execution_count": 75,
   "id": "f73cf4ab-6965-447c-82c6-5b3ad77d3c68",
   "metadata": {},
   "outputs": [
    {
     "data": {
      "text/plain": [
       "['one', 'two', 'three', 'infinity']"
      ]
     },
     "execution_count": 75,
     "metadata": {},
     "output_type": "execute_result"
    }
   ],
   "source": [
    "all_numbers = not_evil_method(numbers)\n",
    "all_numbers"
   ]
  },
  {
   "cell_type": "code",
   "execution_count": 76,
   "id": "3ac3858d-c5f9-4ce1-851d-cc1619916868",
   "metadata": {},
   "outputs": [
    {
     "data": {
      "text/plain": [
       "['one', 'two', 'three']"
      ]
     },
     "execution_count": 76,
     "metadata": {},
     "output_type": "execute_result"
    }
   ],
   "source": [
    "numbers"
   ]
  },
  {
   "cell_type": "code",
   "execution_count": 77,
   "id": "dca5822b-69c9-4c5e-9961-d4645446557d",
   "metadata": {},
   "outputs": [],
   "source": [
    "def not_evil_any_longer(pannekake):\n",
    "    pannekake.append(\"infinity\")"
   ]
  },
  {
   "cell_type": "code",
   "execution_count": 78,
   "id": "4491842d-e929-4f67-b2bc-52202c4b0ca6",
   "metadata": {},
   "outputs": [],
   "source": [
    "all_numbers = not_evil_any_longer(numbers)\n",
    "all_numbers"
   ]
  },
  {
   "cell_type": "code",
   "execution_count": 79,
   "id": "be4cfcaa-b384-4561-96bf-5657fb315beb",
   "metadata": {},
   "outputs": [
    {
     "data": {
      "text/plain": [
       "['one', 'two', 'three', 'infinity']"
      ]
     },
     "execution_count": 79,
     "metadata": {},
     "output_type": "execute_result"
    }
   ],
   "source": [
    "numbers"
   ]
  },
  {
   "cell_type": "code",
   "execution_count": 80,
   "id": "78242b78-0f7b-41a7-819b-ffaf5d9cbd4f",
   "metadata": {},
   "outputs": [
    {
     "data": {
      "text/plain": [
       "['one', 'two', 'three', 'infinity']"
      ]
     },
     "execution_count": 80,
     "metadata": {},
     "output_type": "execute_result"
    }
   ],
   "source": [
    "numbers"
   ]
  },
  {
   "cell_type": "code",
   "execution_count": 81,
   "id": "1e1a7d3f-a028-41bd-ac96-f56a6d7c6705",
   "metadata": {},
   "outputs": [
    {
     "data": {
      "text/plain": [
       "['infinity', 'one', 'three', 'two']"
      ]
     },
     "execution_count": 81,
     "metadata": {},
     "output_type": "execute_result"
    }
   ],
   "source": [
    "sorted(numbers)"
   ]
  },
  {
   "cell_type": "code",
   "execution_count": 82,
   "id": "b1de5da1-aff7-4443-9a9c-3f1fdbd4b19b",
   "metadata": {},
   "outputs": [
    {
     "data": {
      "text/plain": [
       "['one', 'two', 'three', 'infinity']"
      ]
     },
     "execution_count": 82,
     "metadata": {},
     "output_type": "execute_result"
    }
   ],
   "source": [
    "numbers"
   ]
  },
  {
   "cell_type": "code",
   "execution_count": 83,
   "id": "08e25ef3-dcd1-4a3c-90dd-1330216fc6af",
   "metadata": {},
   "outputs": [],
   "source": [
    "numbers.sort()"
   ]
  },
  {
   "cell_type": "code",
   "execution_count": 84,
   "id": "eef70125-02e7-4dc1-a1fc-621055356c8d",
   "metadata": {},
   "outputs": [
    {
     "data": {
      "text/plain": [
       "['infinity', 'one', 'three', 'two']"
      ]
     },
     "execution_count": 84,
     "metadata": {},
     "output_type": "execute_result"
    }
   ],
   "source": [
    "numbers"
   ]
  },
  {
   "cell_type": "code",
   "execution_count": 89,
   "id": "33c0a397-3ab4-4206-9bad-8be88d09c621",
   "metadata": {},
   "outputs": [
    {
     "data": {
      "text/plain": [
       "['one', 'three', 'two']"
      ]
     },
     "execution_count": 89,
     "metadata": {},
     "output_type": "execute_result"
    }
   ],
   "source": [
    "sorted(\"one two three\".split())"
   ]
  },
  {
   "cell_type": "code",
   "execution_count": 90,
   "id": "821c5954-3546-404a-a00b-45e70d8a0c25",
   "metadata": {},
   "outputs": [
    {
     "data": {
      "text/plain": [
       "['infinity', 'one', 'three', 'two']"
      ]
     },
     "execution_count": 90,
     "metadata": {},
     "output_type": "execute_result"
    }
   ],
   "source": [
    "numbers"
   ]
  },
  {
   "cell_type": "code",
   "execution_count": 91,
   "id": "2b0e9e02-f860-4be3-a146-40da9ca8f44a",
   "metadata": {},
   "outputs": [
    {
     "data": {
      "text/plain": [
       "['__add__',\n",
       " '__class__',\n",
       " '__class_getitem__',\n",
       " '__contains__',\n",
       " '__delattr__',\n",
       " '__delitem__',\n",
       " '__dir__',\n",
       " '__doc__',\n",
       " '__eq__',\n",
       " '__format__',\n",
       " '__ge__',\n",
       " '__getattribute__',\n",
       " '__getitem__',\n",
       " '__getstate__',\n",
       " '__gt__',\n",
       " '__hash__',\n",
       " '__iadd__',\n",
       " '__imul__',\n",
       " '__init__',\n",
       " '__init_subclass__',\n",
       " '__iter__',\n",
       " '__le__',\n",
       " '__len__',\n",
       " '__lt__',\n",
       " '__mul__',\n",
       " '__ne__',\n",
       " '__new__',\n",
       " '__reduce__',\n",
       " '__reduce_ex__',\n",
       " '__repr__',\n",
       " '__reversed__',\n",
       " '__rmul__',\n",
       " '__setattr__',\n",
       " '__setitem__',\n",
       " '__sizeof__',\n",
       " '__str__',\n",
       " '__subclasshook__',\n",
       " 'append',\n",
       " 'clear',\n",
       " 'copy',\n",
       " 'count',\n",
       " 'extend',\n",
       " 'index',\n",
       " 'insert',\n",
       " 'pop',\n",
       " 'remove',\n",
       " 'reverse',\n",
       " 'sort']"
      ]
     },
     "execution_count": 91,
     "metadata": {},
     "output_type": "execute_result"
    }
   ],
   "source": [
    "dir(numbers)"
   ]
  },
  {
   "cell_type": "code",
   "execution_count": 92,
   "id": "041ad630-954c-45dc-a6a2-f2c9512c6d7a",
   "metadata": {},
   "outputs": [
    {
     "data": {
      "text/plain": [
       "['infinity', 'one', 'three', 'two']"
      ]
     },
     "execution_count": 92,
     "metadata": {},
     "output_type": "execute_result"
    }
   ],
   "source": [
    "sorted(numbers)"
   ]
  },
  {
   "cell_type": "code",
   "execution_count": 93,
   "id": "7ae04903-5849-4715-9dce-99f0a385f0b5",
   "metadata": {},
   "outputs": [
    {
     "data": {
      "text/plain": [
       "['a', 'e', 'e', 'g', 'i', 'n', 'r', 'r']"
      ]
     },
     "execution_count": 93,
     "metadata": {},
     "output_type": "execute_result"
    }
   ],
   "source": [
    "sorted(\"geirarne\")"
   ]
  },
  {
   "cell_type": "code",
   "execution_count": 94,
   "id": "fcff2307-af05-483e-b85f-2e853158af2b",
   "metadata": {},
   "outputs": [
    {
     "data": {
      "text/plain": [
       "3.14"
      ]
     },
     "execution_count": 94,
     "metadata": {},
     "output_type": "execute_result"
    }
   ],
   "source": [
    "float(\"3.14\")"
   ]
  },
  {
   "cell_type": "code",
   "execution_count": 97,
   "id": "eb952733-576b-40e6-a059-480bfb1f9328",
   "metadata": {},
   "outputs": [
    {
     "data": {
      "text/plain": [
       "['__add__',\n",
       " '__class__',\n",
       " '__contains__',\n",
       " '__delattr__',\n",
       " '__dir__',\n",
       " '__doc__',\n",
       " '__eq__',\n",
       " '__format__',\n",
       " '__ge__',\n",
       " '__getattribute__',\n",
       " '__getitem__',\n",
       " '__getnewargs__',\n",
       " '__getstate__',\n",
       " '__gt__',\n",
       " '__hash__',\n",
       " '__init__',\n",
       " '__init_subclass__',\n",
       " '__iter__',\n",
       " '__le__',\n",
       " '__len__',\n",
       " '__lt__',\n",
       " '__mod__',\n",
       " '__mul__',\n",
       " '__ne__',\n",
       " '__new__',\n",
       " '__reduce__',\n",
       " '__reduce_ex__',\n",
       " '__repr__',\n",
       " '__rmod__',\n",
       " '__rmul__',\n",
       " '__setattr__',\n",
       " '__sizeof__',\n",
       " '__str__',\n",
       " '__subclasshook__',\n",
       " 'capitalize',\n",
       " 'casefold',\n",
       " 'center',\n",
       " 'count',\n",
       " 'encode',\n",
       " 'endswith',\n",
       " 'expandtabs',\n",
       " 'find',\n",
       " 'format',\n",
       " 'format_map',\n",
       " 'index',\n",
       " 'isalnum',\n",
       " 'isalpha',\n",
       " 'isascii',\n",
       " 'isdecimal',\n",
       " 'isdigit',\n",
       " 'isidentifier',\n",
       " 'islower',\n",
       " 'isnumeric',\n",
       " 'isprintable',\n",
       " 'isspace',\n",
       " 'istitle',\n",
       " 'isupper',\n",
       " 'join',\n",
       " 'ljust',\n",
       " 'lower',\n",
       " 'lstrip',\n",
       " 'maketrans',\n",
       " 'partition',\n",
       " 'removeprefix',\n",
       " 'removesuffix',\n",
       " 'replace',\n",
       " 'rfind',\n",
       " 'rindex',\n",
       " 'rjust',\n",
       " 'rpartition',\n",
       " 'rsplit',\n",
       " 'rstrip',\n",
       " 'split',\n",
       " 'splitlines',\n",
       " 'startswith',\n",
       " 'strip',\n",
       " 'swapcase',\n",
       " 'title',\n",
       " 'translate',\n",
       " 'upper',\n",
       " 'zfill']"
      ]
     },
     "execution_count": 97,
     "metadata": {},
     "output_type": "execute_result"
    }
   ],
   "source": [
    "dir(\"3.14\")"
   ]
  },
  {
   "cell_type": "code",
   "execution_count": 98,
   "id": "86208a8e-b316-4e14-a76f-817f39ce6266",
   "metadata": {},
   "outputs": [
    {
     "data": {
      "text/plain": [
       "5"
      ]
     },
     "execution_count": 98,
     "metadata": {},
     "output_type": "execute_result"
    }
   ],
   "source": [
    "len(\"Guido\")"
   ]
  },
  {
   "cell_type": "code",
   "execution_count": 99,
   "id": "0308484a-498b-463b-b2fe-d2a2fa4dbdd8",
   "metadata": {},
   "outputs": [
    {
     "data": {
      "text/plain": [
       "4"
      ]
     },
     "execution_count": 99,
     "metadata": {},
     "output_type": "execute_result"
    }
   ],
   "source": [
    "len(numbers)"
   ]
  },
  {
   "cell_type": "code",
   "execution_count": 100,
   "id": "5ea6386f-26aa-45bd-9eb3-146b463341b9",
   "metadata": {},
   "outputs": [
    {
     "data": {
      "text/plain": [
       "['infinity', 'one', 'three', 'two']"
      ]
     },
     "execution_count": 100,
     "metadata": {},
     "output_type": "execute_result"
    }
   ],
   "source": [
    "numbers"
   ]
  },
  {
   "cell_type": "code",
   "execution_count": 101,
   "id": "52da67eb-a15c-4d1a-a6b0-7c62da159a01",
   "metadata": {},
   "outputs": [],
   "source": [
    "numbers = [\"one\", \"two\", \"three\", \"infinity\"]"
   ]
  },
  {
   "cell_type": "code",
   "execution_count": 107,
   "id": "d5fa07ca-d973-4c68-b03e-e13da4eb00d9",
   "metadata": {},
   "outputs": [],
   "source": [
    "from operator import itemgetter\n",
    "\n",
    "def rank(sequence):\n",
    "    return sorted(enumerate(sequence), key=itemgetter(1))"
   ]
  },
  {
   "cell_type": "code",
   "execution_count": 108,
   "id": "ac6ba51b-f2c0-48fb-9540-73d4bd9cc97e",
   "metadata": {},
   "outputs": [
    {
     "data": {
      "text/plain": [
       "[(3, 'infinity'), (0, 'one'), (2, 'three'), (1, 'two')]"
      ]
     },
     "execution_count": 108,
     "metadata": {},
     "output_type": "execute_result"
    }
   ],
   "source": [
    "rank(numbers)\n",
    "\n",
    "# [1, 3, 2, 0]"
   ]
  },
  {
   "cell_type": "code",
   "execution_count": 109,
   "id": "380c557a-2f63-4a66-beb9-42d12727dc48",
   "metadata": {},
   "outputs": [
    {
     "name": "stdout",
     "output_type": "stream",
     "text": [
      "one\n",
      "two\n",
      "three\n",
      "infinity\n"
     ]
    }
   ],
   "source": [
    "for number in numbers:\n",
    "    print(number)"
   ]
  },
  {
   "cell_type": "code",
   "execution_count": 110,
   "id": "b278a78a-5abf-4d52-b51a-87e9926dd558",
   "metadata": {},
   "outputs": [
    {
     "data": {
      "text/plain": [
       "['one', 'two', 'three', 'infinity']"
      ]
     },
     "execution_count": 110,
     "metadata": {},
     "output_type": "execute_result"
    }
   ],
   "source": [
    "numbers"
   ]
  },
  {
   "cell_type": "code",
   "execution_count": 111,
   "id": "eff9ff22-3f68-45c5-b5fc-89cc4e351a5e",
   "metadata": {},
   "outputs": [
    {
     "name": "stdout",
     "output_type": "stream",
     "text": [
      "one has 3 letters\n",
      "two has 3 letters\n",
      "three has 5 letters\n",
      "infinity has 8 letters\n"
     ]
    }
   ],
   "source": [
    "for number in numbers:\n",
    "    print(f\"{number} has {len(number)} letters\")"
   ]
  },
  {
   "cell_type": "code",
   "execution_count": 114,
   "id": "fbe4b780-4c73-450f-910c-4622e4a493e9",
   "metadata": {},
   "outputs": [
    {
     "name": "stdout",
     "output_type": "stream",
     "text": [
      "one has 3 letters\n",
      "two has 3 letters\n",
      "three has 5 letters\n",
      "infinity has 8 letters\n",
      "We saw 19 letters\n"
     ]
    }
   ],
   "source": [
    "total_letters = 0\n",
    "\n",
    "for number in numbers:\n",
    "    total_letters += len(number)\n",
    "    print(f\"{number} has {len(number)} letters\")\n",
    "\n",
    "print(f\"We saw {total_letters} letters\")"
   ]
  },
  {
   "cell_type": "code",
   "execution_count": 115,
   "id": "ffe66955-3128-4ff9-a59f-841a88853646",
   "metadata": {},
   "outputs": [
    {
     "name": "stdout",
     "output_type": "stream",
     "text": [
      "one has 3 letters\n",
      "three has 5 letters\n",
      "infinity has 8 letters\n",
      "We saw 16 letters\n"
     ]
    }
   ],
   "source": [
    "total_letters = 0\n",
    "\n",
    "for number in numbers:\n",
    "    if number == \"two\":\n",
    "        continue\n",
    "    total_letters += len(number)\n",
    "    print(f\"{number} has {len(number)} letters\")\n",
    "\n",
    "print(f\"We saw {total_letters} letters\")"
   ]
  },
  {
   "cell_type": "code",
   "execution_count": 116,
   "id": "ae7228af-889e-4d02-927f-f478d9ffe79b",
   "metadata": {},
   "outputs": [
    {
     "data": {
      "text/plain": [
       "['one', 'two', 'three', 'infinity']"
      ]
     },
     "execution_count": 116,
     "metadata": {},
     "output_type": "execute_result"
    }
   ],
   "source": [
    "numbers"
   ]
  },
  {
   "cell_type": "code",
   "execution_count": 119,
   "id": "12327fe3-e720-4481-b6d9-6ba4ac359c8a",
   "metadata": {},
   "outputs": [],
   "source": [
    "for idx, _number in enumerate(numbers):\n",
    "    numbers[idx] = 5"
   ]
  },
  {
   "cell_type": "code",
   "execution_count": 121,
   "id": "f5daf363-afdd-4c52-bae1-f1d152736093",
   "metadata": {},
   "outputs": [
    {
     "ename": "KeyboardInterrupt",
     "evalue": "",
     "output_type": "error",
     "traceback": [
      "\u001b[0;31m---------------------------------------------------------------------------\u001b[0m",
      "\u001b[0;31mKeyboardInterrupt\u001b[0m                         Traceback (most recent call last)",
      "Cell \u001b[0;32mIn[121], line 2\u001b[0m\n\u001b[1;32m      1\u001b[0m \u001b[38;5;28;01mfor\u001b[39;00m number \u001b[38;5;129;01min\u001b[39;00m numbers:\n\u001b[0;32m----> 2\u001b[0m     numbers\u001b[38;5;241m.\u001b[39mappend(number)\n",
      "\u001b[0;31mKeyboardInterrupt\u001b[0m: "
     ]
    }
   ],
   "source": [
    "for number in numbers:\n",
    "    numbers.append(number)"
   ]
  },
  {
   "cell_type": "code",
   "execution_count": 122,
   "id": "b7f53ad3-27d4-4054-96fe-ec8744c08c17",
   "metadata": {},
   "outputs": [
    {
     "data": {
      "text/plain": [
       "1134459895"
      ]
     },
     "execution_count": 122,
     "metadata": {},
     "output_type": "execute_result"
    }
   ],
   "source": [
    "len(numbers)"
   ]
  },
  {
   "cell_type": "code",
   "execution_count": 130,
   "id": "c676791b-03df-4b1f-965e-02272fb6766e",
   "metadata": {},
   "outputs": [],
   "source": [
    "numbers = [\"one\", \"two\", \"three\", \"infinity\"]"
   ]
  },
  {
   "cell_type": "code",
   "execution_count": 124,
   "id": "af9b0ad3-ea88-407c-89af-088527dc2918",
   "metadata": {},
   "outputs": [],
   "source": [
    "for idx in range(len(numbers)):\n",
    "    numbers.append(numbers[idx])"
   ]
  },
  {
   "cell_type": "code",
   "execution_count": 125,
   "id": "aab0d11f-72c6-4956-892d-a08e67029307",
   "metadata": {},
   "outputs": [
    {
     "data": {
      "text/plain": [
       "['one', 'two', 'three', 'infinity', 'one', 'two', 'three', 'infinity']"
      ]
     },
     "execution_count": 125,
     "metadata": {},
     "output_type": "execute_result"
    }
   ],
   "source": [
    "numbers"
   ]
  },
  {
   "cell_type": "code",
   "execution_count": 126,
   "id": "7051a2a6-edfd-4ea8-bb04-510e145a2035",
   "metadata": {},
   "outputs": [
    {
     "data": {
      "text/plain": [
       "[0, 1, 2, 3]"
      ]
     },
     "execution_count": 126,
     "metadata": {},
     "output_type": "execute_result"
    }
   ],
   "source": [
    "list(range(4))"
   ]
  },
  {
   "cell_type": "code",
   "execution_count": 128,
   "id": "c583d50a-42f4-460f-a1d0-c4349c923444",
   "metadata": {},
   "outputs": [
    {
     "data": {
      "text/plain": [
       "[0, 1, 2, 3, 4, 5, 6, 7, 8, 9]"
      ]
     },
     "execution_count": 128,
     "metadata": {},
     "output_type": "execute_result"
    }
   ],
   "source": [
    "numbers = list(range(10))\n",
    "numbers"
   ]
  },
  {
   "cell_type": "code",
   "execution_count": 129,
   "id": "6720f7a3-dd7f-424b-b4ab-0c4c8ea21310",
   "metadata": {},
   "outputs": [
    {
     "ename": "IndexError",
     "evalue": "list assignment index out of range",
     "output_type": "error",
     "traceback": [
      "\u001b[0;31m---------------------------------------------------------------------------\u001b[0m",
      "\u001b[0;31mIndexError\u001b[0m                                Traceback (most recent call last)",
      "Cell \u001b[0;32mIn[129], line 3\u001b[0m\n\u001b[1;32m      1\u001b[0m \u001b[38;5;28;01mfor\u001b[39;00m number \u001b[38;5;129;01min\u001b[39;00m numbers:\n\u001b[1;32m      2\u001b[0m     \u001b[38;5;28;01mif\u001b[39;00m number \u001b[38;5;241m%\u001b[39m \u001b[38;5;241m2\u001b[39m \u001b[38;5;241m==\u001b[39m \u001b[38;5;241m1\u001b[39m:\n\u001b[0;32m----> 3\u001b[0m         \u001b[38;5;28;01mdel\u001b[39;00m \u001b[43mnumbers\u001b[49m\u001b[43m[\u001b[49m\u001b[43mnumber\u001b[49m\u001b[43m]\u001b[49m\n",
      "\u001b[0;31mIndexError\u001b[0m: list assignment index out of range"
     ]
    }
   ],
   "source": [
    "for number in numbers:\n",
    "    if number % 2 == 1:\n",
    "        del numbers[number]"
   ]
  },
  {
   "cell_type": "code",
   "execution_count": 131,
   "id": "e05901b8-0c4f-402e-809d-b27650db360b",
   "metadata": {},
   "outputs": [
    {
     "data": {
      "text/plain": [
       "['one', 'two', 'three', 'infinity']"
      ]
     },
     "execution_count": 131,
     "metadata": {},
     "output_type": "execute_result"
    }
   ],
   "source": [
    "numbers"
   ]
  },
  {
   "cell_type": "code",
   "execution_count": 132,
   "id": "ea3dc4f6-76bc-4710-902f-eea0f4107490",
   "metadata": {},
   "outputs": [],
   "source": [
    "for number in numbers.copy():\n",
    "    numbers.append(number)"
   ]
  },
  {
   "cell_type": "code",
   "execution_count": 133,
   "id": "f49477b4-2179-4ded-9666-e6f568b17dff",
   "metadata": {},
   "outputs": [
    {
     "data": {
      "text/plain": [
       "['one', 'two', 'three', 'infinity', 'one', 'two', 'three', 'infinity']"
      ]
     },
     "execution_count": 133,
     "metadata": {},
     "output_type": "execute_result"
    }
   ],
   "source": [
    "numbers"
   ]
  },
  {
   "cell_type": "code",
   "execution_count": 135,
   "id": "1440895b-ca85-4293-be41-9c1948e65371",
   "metadata": {},
   "outputs": [
    {
     "data": {
      "text/plain": [
       "[0, 1, 2, 3, 4, 5, 6, 7, 8, 9]"
      ]
     },
     "execution_count": 135,
     "metadata": {},
     "output_type": "execute_result"
    }
   ],
   "source": [
    "numbers = list(range(10))\n",
    "numbers"
   ]
  },
  {
   "cell_type": "code",
   "execution_count": 136,
   "id": "e93efe06-525b-4efa-b99b-4f80d139e8da",
   "metadata": {},
   "outputs": [
    {
     "data": {
      "text/plain": [
       "[0, 1, 4, 9, 16, 25, 36, 49, 64, 81]"
      ]
     },
     "execution_count": 136,
     "metadata": {},
     "output_type": "execute_result"
    }
   ],
   "source": [
    "[number**2 for number in numbers]"
   ]
  },
  {
   "cell_type": "code",
   "execution_count": 137,
   "id": "163472f1-0c07-4ffa-aac7-02046147dd53",
   "metadata": {},
   "outputs": [
    {
     "data": {
      "text/plain": [
       "[25, 36, 49, 64, 81]"
      ]
     },
     "execution_count": 137,
     "metadata": {},
     "output_type": "execute_result"
    }
   ],
   "source": [
    "[number**2 for number in numbers if number > 4]"
   ]
  },
  {
   "cell_type": "code",
   "execution_count": 138,
   "id": "d0b0797f-e31f-48fb-9e60-57264f841ed7",
   "metadata": {},
   "outputs": [
    {
     "data": {
      "text/plain": [
       "[0, 1, 2, 3, 4, 5, 6, 7, 8, 9]"
      ]
     },
     "execution_count": 138,
     "metadata": {},
     "output_type": "execute_result"
    }
   ],
   "source": [
    "numbers"
   ]
  },
  {
   "cell_type": "code",
   "execution_count": 144,
   "id": "48fb1b7e-2d69-419d-8200-7d8e19d6b7b3",
   "metadata": {},
   "outputs": [],
   "source": [
    "squares = {number**2 for number in numbers}"
   ]
  },
  {
   "cell_type": "code",
   "execution_count": 145,
   "id": "cf296c6f-7379-4593-8ddb-aa811584afc2",
   "metadata": {},
   "outputs": [
    {
     "data": {
      "text/plain": [
       "{0, 1, 4, 9, 16, 25, 36, 49, 64, 81}"
      ]
     },
     "execution_count": 145,
     "metadata": {},
     "output_type": "execute_result"
    }
   ],
   "source": [
    "squares"
   ]
  },
  {
   "cell_type": "code",
   "execution_count": 142,
   "id": "95925943-ae91-4802-94c3-07ee69dc653b",
   "metadata": {},
   "outputs": [
    {
     "data": {
      "text/plain": [
       "[0, 1, 4, 9, 16, 25, 36, 49, 64, 81]"
      ]
     },
     "execution_count": 142,
     "metadata": {},
     "output_type": "execute_result"
    }
   ],
   "source": [
    "list(squares)"
   ]
  },
  {
   "cell_type": "code",
   "execution_count": 147,
   "id": "de014f9e-e36c-4479-aeb1-71d3299566e1",
   "metadata": {},
   "outputs": [],
   "source": [
    "numbers = {\"one\": 1, \"two\": 2, \"three\": 3}"
   ]
  },
  {
   "cell_type": "code",
   "execution_count": 149,
   "id": "49b5171c-befd-4ba3-9913-8c3a60f81376",
   "metadata": {},
   "outputs": [
    {
     "data": {
      "text/plain": [
       "2"
      ]
     },
     "execution_count": 149,
     "metadata": {},
     "output_type": "execute_result"
    }
   ],
   "source": [
    "numbers[\"two\"]"
   ]
  },
  {
   "cell_type": "code",
   "execution_count": 150,
   "id": "d659d5c0-872a-4efd-9f66-1ae0f71c3de9",
   "metadata": {},
   "outputs": [
    {
     "data": {
      "text/plain": [
       "{'one': 1, 'two': 4, 'three': 3}"
      ]
     },
     "execution_count": 150,
     "metadata": {},
     "output_type": "execute_result"
    }
   ],
   "source": [
    "numbers[\"two\"] = 4\n",
    "numbers"
   ]
  },
  {
   "cell_type": "code",
   "execution_count": 151,
   "id": "5c58a019-0065-45c1-b1a4-924a9461b110",
   "metadata": {},
   "outputs": [],
   "source": [
    "numbers[\"four\"] = 2"
   ]
  },
  {
   "cell_type": "code",
   "execution_count": 152,
   "id": "06da57b9-17b4-4e71-88ac-21b1efa81aee",
   "metadata": {},
   "outputs": [
    {
     "data": {
      "text/plain": [
       "{'one': 1, 'two': 4, 'three': 3, 'four': 2}"
      ]
     },
     "execution_count": 152,
     "metadata": {},
     "output_type": "execute_result"
    }
   ],
   "source": [
    "numbers"
   ]
  },
  {
   "cell_type": "code",
   "execution_count": 153,
   "id": "6136c77b-e54a-43fd-a5d2-4ad74983db04",
   "metadata": {},
   "outputs": [],
   "source": [
    "numbers[\"five\"] = 1"
   ]
  },
  {
   "cell_type": "code",
   "execution_count": 154,
   "id": "971858b3-3548-4b2b-98d8-c3b98b0ad50e",
   "metadata": {},
   "outputs": [
    {
     "data": {
      "text/plain": [
       "{'one': 1, 'two': 4, 'three': 3, 'four': 2, 'five': 1}"
      ]
     },
     "execution_count": 154,
     "metadata": {},
     "output_type": "execute_result"
    }
   ],
   "source": [
    "numbers"
   ]
  },
  {
   "cell_type": "code",
   "execution_count": 155,
   "id": "98318d7f-bfb8-492a-b955-1556c2d9adc4",
   "metadata": {},
   "outputs": [
    {
     "name": "stdout",
     "output_type": "stream",
     "text": [
      "one 1\n",
      "two 4\n",
      "three 3\n",
      "four 2\n",
      "five 1\n"
     ]
    }
   ],
   "source": [
    "for key, value in numbers.items():\n",
    "    print(key, value)"
   ]
  },
  {
   "cell_type": "code",
   "execution_count": 156,
   "id": "930df4f9-fcfb-45bb-9ee8-752234fdfa6e",
   "metadata": {},
   "outputs": [
    {
     "data": {
      "text/plain": [
       "{1: 'five', 4: 'two', 3: 'three', 2: 'four'}"
      ]
     },
     "execution_count": 156,
     "metadata": {},
     "output_type": "execute_result"
    }
   ],
   "source": [
    "{value: key for key, value in numbers.items()}"
   ]
  },
  {
   "cell_type": "code",
   "execution_count": 157,
   "id": "2564a934-f0fb-432b-8a2e-f25d6890f3ac",
   "metadata": {},
   "outputs": [],
   "source": [
    "# list\n",
    "# dictionary\n",
    "# tuple\n",
    "# set"
   ]
  },
  {
   "cell_type": "code",
   "execution_count": 158,
   "id": "f43305c8-23ea-420f-bfe3-8315bff399d6",
   "metadata": {},
   "outputs": [
    {
     "data": {
      "text/plain": [
       "[1, 2, 4]"
      ]
     },
     "execution_count": 158,
     "metadata": {},
     "output_type": "execute_result"
    }
   ],
   "source": [
    "alist = [1, 2, 3]\n",
    "\n",
    "alist[2] = 4\n",
    "\n",
    "alist"
   ]
  },
  {
   "cell_type": "code",
   "execution_count": 159,
   "id": "108c72c2-ba38-45bb-b6cc-891bc47a8671",
   "metadata": {},
   "outputs": [
    {
     "data": {
      "text/plain": [
       "[1, 2, 4, 2]"
      ]
     },
     "execution_count": 159,
     "metadata": {},
     "output_type": "execute_result"
    }
   ],
   "source": [
    "alist.append(2)\n",
    "alist"
   ]
  },
  {
   "cell_type": "code",
   "execution_count": 160,
   "id": "c7995088-3df0-43a8-a5de-4fa6a405a8c8",
   "metadata": {},
   "outputs": [
    {
     "data": {
      "text/plain": [
       "[1, 2, 4, 2, 1, 2]"
      ]
     },
     "execution_count": 160,
     "metadata": {},
     "output_type": "execute_result"
    }
   ],
   "source": [
    "alist + [1, 2]"
   ]
  },
  {
   "cell_type": "code",
   "execution_count": 161,
   "id": "f8102802-7b7a-435b-a531-9f8195fc9a4d",
   "metadata": {},
   "outputs": [
    {
     "data": {
      "text/plain": [
       "(1, 2, 4, 2)"
      ]
     },
     "execution_count": 161,
     "metadata": {},
     "output_type": "execute_result"
    }
   ],
   "source": [
    "atuple = tuple(alist)\n",
    "atuple"
   ]
  },
  {
   "cell_type": "code",
   "execution_count": 163,
   "id": "cd79855a-b938-4f85-b0bf-d3ff4a4ee0bc",
   "metadata": {},
   "outputs": [
    {
     "ename": "TypeError",
     "evalue": "'tuple' object does not support item assignment",
     "output_type": "error",
     "traceback": [
      "\u001b[0;31m---------------------------------------------------------------------------\u001b[0m",
      "\u001b[0;31mTypeError\u001b[0m                                 Traceback (most recent call last)",
      "Cell \u001b[0;32mIn[163], line 1\u001b[0m\n\u001b[0;32m----> 1\u001b[0m \u001b[43matuple\u001b[49m\u001b[43m[\u001b[49m\u001b[38;5;241;43m2\u001b[39;49m\u001b[43m]\u001b[49m \u001b[38;5;241m=\u001b[39m \u001b[38;5;241m3\u001b[39m\n",
      "\u001b[0;31mTypeError\u001b[0m: 'tuple' object does not support item assignment"
     ]
    }
   ],
   "source": [
    "atuple[2] = 3"
   ]
  },
  {
   "cell_type": "code",
   "execution_count": 164,
   "id": "257db92a-36e7-48a6-b4f3-5a9bcde1b391",
   "metadata": {},
   "outputs": [
    {
     "data": {
      "text/plain": [
       "{1, 2, 4}"
      ]
     },
     "execution_count": 164,
     "metadata": {},
     "output_type": "execute_result"
    }
   ],
   "source": [
    "set(alist)"
   ]
  },
  {
   "cell_type": "code",
   "execution_count": 165,
   "id": "502e9947-96e8-4af0-92d6-770ff546311a",
   "metadata": {},
   "outputs": [],
   "source": [
    "geirarne = (\"Geir Arne\", \"Hjelle\", \"0365\")\n",
    "sebastian = (\"Sebastian\", \"Roll\", \"7012\")"
   ]
  },
  {
   "cell_type": "code",
   "execution_count": 166,
   "id": "59927a00-bee1-48b4-9962-884317e47ad3",
   "metadata": {},
   "outputs": [
    {
     "data": {
      "text/plain": [
       "[('Geir Arne', 'Hjelle', '0365'), ('Sebastian', 'Roll', '7012')]"
      ]
     },
     "execution_count": 166,
     "metadata": {},
     "output_type": "execute_result"
    }
   ],
   "source": [
    "people = [geirarne, sebastian]\n",
    "people"
   ]
  },
  {
   "cell_type": "code",
   "execution_count": 167,
   "id": "c203fb50-f7b7-419e-a8d2-e6b2f3990689",
   "metadata": {},
   "outputs": [
    {
     "data": {
      "text/plain": [
       "['Geir Arne', 'Hjelle', '0365']"
      ]
     },
     "execution_count": 167,
     "metadata": {},
     "output_type": "execute_result"
    }
   ],
   "source": [
    "list(geirarne)"
   ]
  },
  {
   "cell_type": "code",
   "execution_count": 168,
   "id": "1f0252c7-c0ac-401d-9b98-55b4fbbc0766",
   "metadata": {},
   "outputs": [
    {
     "data": {
      "text/plain": [
       "([1, 2], [3, 4])"
      ]
     },
     "execution_count": 168,
     "metadata": {},
     "output_type": "execute_result"
    }
   ],
   "source": [
    "t = (2, 3)\n",
    "t"
   ]
  },
  {
   "cell_type": "code",
   "execution_count": 171,
   "id": "7c7faabc-6482-4493-be25-cbaedf4daabc",
   "metadata": {},
   "outputs": [],
   "source": [
    "t[0][0] = 10"
   ]
  },
  {
   "cell_type": "code",
   "execution_count": 172,
   "id": "b4eb0301-9680-4208-b10c-b8bca592c5ea",
   "metadata": {},
   "outputs": [
    {
     "data": {
      "text/plain": [
       "([10, 2], [3, 4])"
      ]
     },
     "execution_count": 172,
     "metadata": {},
     "output_type": "execute_result"
    }
   ],
   "source": [
    "t"
   ]
  },
  {
   "cell_type": "code",
   "execution_count": 173,
   "id": "4e4864eb-9c31-432d-8a61-5f452ac23600",
   "metadata": {},
   "outputs": [
    {
     "name": "stdout",
     "output_type": "stream",
     "text": [
      "Writing people.csv\n"
     ]
    }
   ],
   "source": [
    "%%writefile people.csv\n",
    "fornavn,etternavn,favorittnummer\n",
    "Geir Arne,Hjelle,14\n",
    "Sebastian,Roll,27"
   ]
  },
  {
   "cell_type": "code",
   "execution_count": 174,
   "id": "d079e4be-f592-4e97-8645-840340a92822",
   "metadata": {},
   "outputs": [
    {
     "data": {
      "text/plain": [
       "<function io.open(file, mode='r', buffering=-1, encoding=None, errors=None, newline=None, closefd=True, opener=None)>"
      ]
     },
     "execution_count": 174,
     "metadata": {},
     "output_type": "execute_result"
    }
   ],
   "source": [
    "open"
   ]
  },
  {
   "cell_type": "code",
   "execution_count": 177,
   "id": "514e9cd2-6a66-4586-9220-5f8642905a7e",
   "metadata": {},
   "outputs": [
    {
     "name": "stdout",
     "output_type": "stream",
     "text": [
      "fornavn,etternavn,favorittnummer\n",
      "\n",
      "Geir Arne,Hjelle,14\n",
      "\n",
      "Sebastian,Roll,27\n",
      "\n"
     ]
    }
   ],
   "source": [
    "with open(\"people.csv\") as file:\n",
    "    for line in file:\n",
    "        print(line)\n"
   ]
  },
  {
   "cell_type": "code",
   "execution_count": 176,
   "id": "5fa52d5c-d4eb-4335-9de5-236e60fb40aa",
   "metadata": {},
   "outputs": [],
   "source": [
    "# file = open(\"people.csv\")"
   ]
  },
  {
   "cell_type": "code",
   "execution_count": 178,
   "id": "945ffbc9-bfff-4fa2-b85e-c423f4a98a44",
   "metadata": {},
   "outputs": [
    {
     "name": "stdout",
     "output_type": "stream",
     "text": [
      "fornavn,etternavn,favorittnummer\n",
      "Geir Arne,Hjelle,14\n",
      "Sebastian,Roll,27\n"
     ]
    }
   ],
   "source": [
    "with open(\"people.csv\") as file:\n",
    "    for line in file:\n",
    "        print(line.strip())\n"
   ]
  },
  {
   "cell_type": "code",
   "execution_count": 180,
   "id": "244c6fda-1a05-4431-8d49-12d75743db8a",
   "metadata": {},
   "outputs": [
    {
     "name": "stdout",
     "output_type": "stream",
     "text": [
      "['fornavn', 'etternavn', 'favorittnummer']\n",
      "['Geir Arne', 'Hjelle', '14']\n",
      "['Sebastian', 'Roll', '27']\n"
     ]
    }
   ],
   "source": [
    "with open(\"people.csv\") as file:\n",
    "    for line in file:\n",
    "        print(line.strip().split(\",\"))\n"
   ]
  },
  {
   "cell_type": "code",
   "execution_count": 184,
   "id": "3005ce4c-a6cf-4ada-bc60-bac38f8bfcb4",
   "metadata": {},
   "outputs": [
    {
     "data": {
      "text/plain": [
       "[{'fornavn': 'fornavn',\n",
       "  'etternavn': 'etternavn',\n",
       "  'favorittnummer': 'favorittnummer'},\n",
       " {'fornavn': 'Geir Arne', 'etternavn': 'Hjelle', 'favorittnummer': '14'},\n",
       " {'fornavn': 'Sebastian', 'etternavn': 'Roll', 'favorittnummer': '27'}]"
      ]
     },
     "execution_count": 184,
     "metadata": {},
     "output_type": "execute_result"
    }
   ],
   "source": [
    "people = []\n",
    "with open(\"people.csv\") as file:\n",
    "    for line in file:\n",
    "        first_name, last_name, number = line.strip().split(\",\")\n",
    "        person = {\n",
    "            \"fornavn\": first_name, \"etternavn\": last_name, \"favorittnummer\": number\n",
    "        }\n",
    "        people.append(person)\n",
    "\n",
    "people"
   ]
  },
  {
   "cell_type": "code",
   "execution_count": 186,
   "id": "08fe1be5-57e4-44c0-89de-5b4477b61f48",
   "metadata": {},
   "outputs": [
    {
     "data": {
      "text/plain": [
       "[{'fornavn': 'Geir Arne', 'etternavn': 'Hjelle', 'favorittnummer': '14'},\n",
       " {'fornavn': 'Sebastian', 'etternavn': 'Roll', 'favorittnummer': '27'}]"
      ]
     },
     "execution_count": 186,
     "metadata": {},
     "output_type": "execute_result"
    }
   ],
   "source": [
    "people = []\n",
    "with open(\"people.csv\") as file:\n",
    "    next(file)\n",
    "    for line in file:\n",
    "        first_name, last_name, number = line.strip().split(\",\")\n",
    "        person = {\n",
    "            \"fornavn\": first_name, \"etternavn\": last_name, \"favorittnummer\": number\n",
    "        }\n",
    "        people.append(person)\n",
    "\n",
    "people"
   ]
  },
  {
   "cell_type": "code",
   "execution_count": 187,
   "id": "4201aca3-3fc0-4138-860f-9fc599c9f6e7",
   "metadata": {},
   "outputs": [
    {
     "name": "stdout",
     "output_type": "stream",
     "text": [
      "fornavn,etternavn,favorittnummer\n",
      "\n"
     ]
    },
    {
     "data": {
      "text/plain": [
       "[{'fornavn': 'Geir Arne', 'etternavn': 'Hjelle', 'favorittnummer': '14'},\n",
       " {'fornavn': 'Sebastian', 'etternavn': 'Roll', 'favorittnummer': '27'}]"
      ]
     },
     "execution_count": 187,
     "metadata": {},
     "output_type": "execute_result"
    }
   ],
   "source": [
    "people = []\n",
    "with open(\"people.csv\") as file:\n",
    "    header = next(file)\n",
    "    print(header)\n",
    "    for line in file:\n",
    "        first_name, last_name, number = line.strip().split(\",\")\n",
    "        person = {\n",
    "            \"fornavn\": first_name, \"etternavn\": last_name, \"favorittnummer\": number\n",
    "        }\n",
    "        people.append(person)\n",
    "\n",
    "people"
   ]
  },
  {
   "cell_type": "code",
   "execution_count": 189,
   "id": "91b8a87f-acbb-4702-9fa6-a80b40eb32bc",
   "metadata": {},
   "outputs": [
    {
     "name": "stdout",
     "output_type": "stream",
     "text": [
      "['fornavn', 'etternavn', 'favorittnummer']\n"
     ]
    },
    {
     "data": {
      "text/plain": [
       "[{'fornavn': 'Geir Arne', 'etternavn': 'Hjelle', 'favorittnummer': '14'},\n",
       " {'fornavn': 'Sebastian', 'etternavn': 'Roll', 'favorittnummer': '27'}]"
      ]
     },
     "execution_count": 189,
     "metadata": {},
     "output_type": "execute_result"
    }
   ],
   "source": [
    "people = []\n",
    "with open(\"people.csv\") as file:\n",
    "    header = next(file).strip().split(\",\")\n",
    "    print(header)\n",
    "    for line in file:\n",
    "        first_name, last_name, number = line.strip().split(\",\")\n",
    "        person = {\n",
    "            \"fornavn\": first_name, \"etternavn\": last_name, \"favorittnummer\": number\n",
    "        }\n",
    "        people.append(person)\n",
    "\n",
    "people"
   ]
  },
  {
   "cell_type": "code",
   "execution_count": 190,
   "id": "ec565f07-3fd7-4847-93ab-51a5b3498678",
   "metadata": {},
   "outputs": [
    {
     "name": "stdout",
     "output_type": "stream",
     "text": [
      "['fornavn', 'etternavn', 'favorittnummer']\n"
     ]
    },
    {
     "data": {
      "text/plain": [
       "[{'fornavn': 'Geir Arne', 'etternavn': 'Hjelle', 'favorittnummer': '14'},\n",
       " {'fornavn': 'Sebastian', 'etternavn': 'Roll', 'favorittnummer': '27'}]"
      ]
     },
     "execution_count": 190,
     "metadata": {},
     "output_type": "execute_result"
    }
   ],
   "source": [
    "people = []\n",
    "with open(\"people.csv\") as file:\n",
    "    header = next(file).strip().split(\",\")\n",
    "    print(header)\n",
    "    for line in file:\n",
    "        first_name, last_name, number = line.strip().split(\",\")\n",
    "        person = {\n",
    "            header[0]: first_name, header[1]: last_name, header[2]: number\n",
    "        }\n",
    "        people.append(person)\n",
    "\n",
    "people"
   ]
  },
  {
   "cell_type": "code",
   "execution_count": 191,
   "id": "98d7fdeb-e987-4b42-bc5f-bc5819b04113",
   "metadata": {},
   "outputs": [
    {
     "data": {
      "text/plain": [
       "(['fornavn', 'etternavn'], ['Geir Arne', 'Hjelle'])"
      ]
     },
     "execution_count": 191,
     "metadata": {},
     "output_type": "execute_result"
    }
   ],
   "source": [
    "[\"fornavn\", \"etternavn\"], [\"Geir Arne\", \"Hjelle\"]"
   ]
  },
  {
   "cell_type": "code",
   "execution_count": 194,
   "id": "d5afc3c9-3e01-4d67-902b-c98adcb306d6",
   "metadata": {},
   "outputs": [
    {
     "data": {
      "text/plain": [
       "{'fornavn': 'Geir Arne', 'etternavn': 'Hjelle'}"
      ]
     },
     "execution_count": 194,
     "metadata": {},
     "output_type": "execute_result"
    }
   ],
   "source": [
    "dict(zip([\"fornavn\", \"etternavn\"], [\"Geir Arne\", \"Hjelle\"]))"
   ]
  },
  {
   "cell_type": "code",
   "execution_count": 196,
   "id": "5d5c252c-984f-4a89-98b2-2814f6231a5d",
   "metadata": {},
   "outputs": [
    {
     "data": {
      "text/plain": [
       "[{'fornavn': 'Geir Arne', 'etternavn': 'Hjelle', 'favorittnummer': '14'},\n",
       " {'fornavn': 'Sebastian', 'etternavn': 'Roll', 'favorittnummer': '27'}]"
      ]
     },
     "execution_count": 196,
     "metadata": {},
     "output_type": "execute_result"
    }
   ],
   "source": [
    "people = []\n",
    "with open(\"people.csv\", mode=\"rt\") as file:\n",
    "    header = next(file).strip().split(\",\")\n",
    "\n",
    "    for line in file:\n",
    "        data = line.strip().split(\",\")\n",
    "        person = dict(zip(header, data))\n",
    "        people.append(person)\n",
    "\n",
    "people"
   ]
  },
  {
   "cell_type": "code",
   "execution_count": 197,
   "id": "282fe2b6-818e-4827-b03d-ce49091fd600",
   "metadata": {},
   "outputs": [],
   "source": [
    "# open(\"filename\", mode=\"wt\")  <- write text\n",
    "# open(\"filename\", mode=\"wb\")  <- write binary\n",
    "# open(\"filename\", mode=\"at\")  <- append text\n"
   ]
  },
  {
   "cell_type": "code",
   "execution_count": 198,
   "id": "f9f154f0-2e2f-4644-93d7-0d6f07ada76b",
   "metadata": {},
   "outputs": [
    {
     "data": {
      "text/plain": [
       "PosixPath('people.csv')"
      ]
     },
     "execution_count": 198,
     "metadata": {},
     "output_type": "execute_result"
    }
   ],
   "source": [
    "import pathlib\n",
    "\n",
    "pathlib.Path(\"people.csv\")"
   ]
  },
  {
   "cell_type": "code",
   "execution_count": 199,
   "id": "677f10b0-6916-42fb-b690-e06ef752e8ce",
   "metadata": {},
   "outputs": [
    {
     "data": {
      "text/plain": [
       "'fornavn,etternavn,favorittnummer\\nGeir Arne,Hjelle,14\\nSebastian,Roll,27\\n'"
      ]
     },
     "execution_count": 199,
     "metadata": {},
     "output_type": "execute_result"
    }
   ],
   "source": [
    "pathlib.Path(\"people.csv\").read_text()"
   ]
  }
 ],
 "metadata": {
  "kernelspec": {
   "display_name": "Python 3 (ipykernel)",
   "language": "python",
   "name": "python3"
  },
  "language_info": {
   "codemirror_mode": {
    "name": "ipython",
    "version": 3
   },
   "file_extension": ".py",
   "mimetype": "text/x-python",
   "name": "python",
   "nbconvert_exporter": "python",
   "pygments_lexer": "ipython3",
   "version": "3.11.1"
  }
 },
 "nbformat": 4,
 "nbformat_minor": 5
}
