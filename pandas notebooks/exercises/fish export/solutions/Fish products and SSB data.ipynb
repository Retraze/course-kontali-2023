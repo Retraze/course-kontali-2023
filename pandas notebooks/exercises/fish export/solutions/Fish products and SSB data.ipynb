{
 "cells": [
  {
   "cell_type": "code",
   "execution_count": null,
   "metadata": {},
   "outputs": [],
   "source": [
    "# We start by importing pandas and creating a Path object that points to our files.\n",
    "import pandas as pd\n",
    "from pathlib import Path\n",
    "\n",
    "dirpath = Path(\"../../datasets/kontali\")"
   ]
  },
  {
   "cell_type": "markdown",
   "metadata": {},
   "source": [
    "# Product\n",
    "\n",
    "### Read the file `product.csv` into a pandas DataFrame\n",
    "\n",
    "Hints:\n",
    "1. the function to use here is `pd.read_csv`\n",
    "1. we can specify the path to `product.csv` with `os.path.join` or `pathlib.Path` from the builtin modules\n",
    "1. we must use the keyword argument `encoding=\"latin-1\"`\n",
    "1. we want to set the index to be the `Product_Code` column\n",
    "1. we also want to set the `delimiter` keyword argument"
   ]
  },
  {
   "cell_type": "code",
   "execution_count": null,
   "metadata": {},
   "outputs": [],
   "source": [
    "df_product = pd.read_csv(dirpath / \"product.csv\",\n",
    "                         encoding=\"latin-1\", \n",
    "                         delimiter=\";\", \n",
    "                         index_col=\"Product_Code\",\n",
    "                        )\n",
    "df_product.head()"
   ]
  },
  {
   "cell_type": "markdown",
   "metadata": {},
   "source": [
    "### How many product categories are there?"
   ]
  },
  {
   "cell_type": "code",
   "execution_count": null,
   "metadata": {},
   "outputs": [],
   "source": [
    "len(df_product), df_product.shape"
   ]
  },
  {
   "cell_type": "markdown",
   "metadata": {},
   "source": [
    "### Make a selection dataframe that only contains trout products"
   ]
  },
  {
   "cell_type": "code",
   "execution_count": null,
   "metadata": {},
   "outputs": [],
   "source": [
    "df_product.loc[df_product[\"Species_Code\"] == \"TRR\"]"
   ]
  },
  {
   "cell_type": "markdown",
   "metadata": {},
   "source": [
    "### Sort dataframe by product code"
   ]
  },
  {
   "cell_type": "code",
   "execution_count": null,
   "metadata": {},
   "outputs": [],
   "source": [
    "df_product.sort_index()"
   ]
  },
  {
   "cell_type": "markdown",
   "metadata": {},
   "source": [
    "### Sort dataframe by species code (lexicographically)"
   ]
  },
  {
   "cell_type": "code",
   "execution_count": null,
   "metadata": {},
   "outputs": [],
   "source": [
    "df_product.sort_values(\"Species_Code\")"
   ]
  },
  {
   "cell_type": "markdown",
   "metadata": {},
   "source": [
    "### Sort dataframe by species code, then presentation, then preservation (lexicographically)"
   ]
  },
  {
   "cell_type": "code",
   "execution_count": null,
   "metadata": {},
   "outputs": [],
   "source": [
    "df_product.sort_values([\"Species_Code\", \"Presentation\", \"Preservation\"])"
   ]
  },
  {
   "cell_type": "markdown",
   "metadata": {},
   "source": [
    "### List all the trout product categories by only using the \"Product_Description_KA\" column?\n",
    "\n",
    "Do not use the `Species_Code` column for this task.\n",
    "\n",
    "Hint: it should be sufficient to check if \"trout\" is mentioned in the `Product_Description_KA` column."
   ]
  },
  {
   "cell_type": "code",
   "execution_count": null,
   "metadata": {},
   "outputs": [],
   "source": [
    "trout_idx = df_product[\"Product_Description_KA\"].str.contains(\"trout\")\n",
    "\n",
    "df_product[trout_idx]"
   ]
  },
  {
   "cell_type": "markdown",
   "metadata": {},
   "source": [
    "### Make a new column named \"Head\" with a category dtype. Possible values should be YES, NO and UNKNOWN."
   ]
  },
  {
   "cell_type": "code",
   "execution_count": null,
   "metadata": {},
   "outputs": [],
   "source": [
    "df = df_product.copy()\n",
    "head_on = df.Product_Description_KA.str.contains(\"head on\")\n",
    "head_off = df.Product_Description_KA.str.contains(\"head off\")\n",
    "\n",
    "df[\"Head\"] = pd.Categorical([\"unknown\"]*len(df), categories=[\"yes\", \"no\", \"unknown\"])\n",
    "df.loc[head_on, \"Head\"] = \"yes\"\n",
    "df.loc[head_off, \"Head\"] = \"no\"\n",
    "df"
   ]
  },
  {
   "cell_type": "markdown",
   "metadata": {},
   "source": [
    "\n",
    "### [Challenging] Can you recreate the \"Preservation\" column by using the \"Product_Description_KA\" column and the below dict named `keywords`? \n",
    "\n",
    "```python\n",
    "keywords = {\n",
    "    \"PRS\": [\"brine\", \"canned\", \"smoked\", \"airtight\"],\n",
    "    \"FRO\": [\"frozen\"],\n",
    "    \"FRE\": [\"fresh\"],\n",
    "    \"ALI\": [\"live\"],\n",
    "}\n",
    "```\n",
    "\n",
    "We don't have a solution suggestion for this one, you are on your own! \n",
    "__Our recommendation is to skip it for now.__"
   ]
  },
  {
   "cell_type": "code",
   "execution_count": null,
   "metadata": {},
   "outputs": [],
   "source": [
    "# Suggestion:\n",
    "# iterate over keywords keys\n",
    "# iterate over keyword value list\n",
    "# look for keyword value element (\"brine\") with str.contains()\n",
    "\n",
    "keywords = {\n",
    "    \"PRS\": [\"brine\", \"canned\", \"smoked\", \"airtight\"],\n",
    "    \"FRO\": [\"frozen\"],\n",
    "    \"FRE\": [\"fresh\"],\n",
    "    \"ALI\": [\"live\"],\n",
    "}"
   ]
  },
  {
   "cell_type": "markdown",
   "metadata": {},
   "source": [
    "# SSB"
   ]
  },
  {
   "cell_type": "markdown",
   "metadata": {},
   "source": [
    "### Read the file `ssb_export.csv` into a pandas DataFrame\n",
    "\n",
    "Hints:\n",
    "1. the function to use here is `pd.read_csv`\n",
    "1. we can specify the path to `ssb_export.csv` with `os.path.join` or `pathlib.Path` from the builtin modules\n",
    "1. we must use the keyword argument `encoding=\"latin-1\"`\n",
    "1. we want to set the index to be the `ID` column\n",
    "1. we also want to set the `delimiter` keyword argument"
   ]
  },
  {
   "cell_type": "code",
   "execution_count": null,
   "metadata": {},
   "outputs": [],
   "source": [
    "df_ssb = pd.read_csv(dirpath / \"ssb_export.csv\",\n",
    "                     encoding=\"latin-1\",\n",
    "                     delimiter=\";\",\n",
    "                     index_col=\"ID\"\n",
    "                    )\n",
    "df_ssb.tail()"
   ]
  },
  {
   "cell_type": "markdown",
   "metadata": {},
   "source": [
    "### Use DataFrame.describe() to find the maximum `Mengde` value from all of the records (rows)"
   ]
  },
  {
   "cell_type": "code",
   "execution_count": null,
   "metadata": {},
   "outputs": [],
   "source": [
    "df_ssb.describe()"
   ]
  },
  {
   "cell_type": "markdown",
   "metadata": {},
   "source": [
    "### How many transactions are there in total?"
   ]
  },
  {
   "cell_type": "code",
   "execution_count": null,
   "metadata": {},
   "outputs": [],
   "source": [
    "len(df_ssb), df_ssb.shape[0] # use either of the two"
   ]
  },
  {
   "cell_type": "markdown",
   "metadata": {},
   "source": [
    "### How many columns are there?"
   ]
  },
  {
   "cell_type": "code",
   "execution_count": null,
   "metadata": {},
   "outputs": [],
   "source": [
    "len(df_ssb.columns), df_ssb.shape[1] # use either of the two"
   ]
  },
  {
   "cell_type": "markdown",
   "metadata": {},
   "source": [
    "### Which years do the transactions cover"
   ]
  },
  {
   "cell_type": "code",
   "execution_count": null,
   "metadata": {},
   "outputs": [],
   "source": [
    "df_ssb.År.unique().tolist()"
   ]
  },
  {
   "cell_type": "markdown",
   "metadata": {},
   "source": [
    "### How many transactions were there in 2020?"
   ]
  },
  {
   "cell_type": "code",
   "execution_count": null,
   "metadata": {},
   "outputs": [],
   "source": [
    "len(df_ssb[df_ssb[\"År\"] == 2020])"
   ]
  },
  {
   "cell_type": "markdown",
   "metadata": {},
   "source": [
    "### What was the largest single transaction in terms of value?"
   ]
  },
  {
   "cell_type": "code",
   "execution_count": null,
   "metadata": {},
   "outputs": [],
   "source": [
    "df_ssb.Verdi.max()"
   ]
  },
  {
   "cell_type": "markdown",
   "metadata": {},
   "source": [
    "### What is the ID of this transaction?"
   ]
  },
  {
   "cell_type": "code",
   "execution_count": null,
   "metadata": {},
   "outputs": [],
   "source": [
    "df_ssb.Verdi.idxmax()"
   ]
  },
  {
   "cell_type": "markdown",
   "metadata": {},
   "source": [
    "### What year was this transaction?\n",
    "\n",
    "Try to not directly use the ID from previous answer."
   ]
  },
  {
   "cell_type": "code",
   "execution_count": null,
   "metadata": {},
   "outputs": [],
   "source": [
    "df_ssb.loc[df_ssb.Verdi.idxmax()].År"
   ]
  },
  {
   "cell_type": "markdown",
   "metadata": {},
   "source": [
    "### Does the dataframe contain both import and export transactions?"
   ]
  },
  {
   "cell_type": "code",
   "execution_count": null,
   "metadata": {},
   "outputs": [],
   "source": [
    "df_ssb.Vareflyt.unique()"
   ]
  },
  {
   "cell_type": "markdown",
   "metadata": {},
   "source": [
    "### Make a selection of Canadian transactions only"
   ]
  },
  {
   "cell_type": "code",
   "execution_count": null,
   "metadata": {},
   "outputs": [],
   "source": [
    "df_ssb_ca = df_ssb[df_ssb[\"Landkode\"] == \"CA\"]"
   ]
  },
  {
   "cell_type": "markdown",
   "metadata": {},
   "source": [
    "### Make a selection of Canadian transactions only, for year 2022\n",
    "\n",
    "And bind the returned dataframe to this variable name: `df_ssb_ca`. It will be used in the succeding cell."
   ]
  },
  {
   "cell_type": "code",
   "execution_count": null,
   "metadata": {},
   "outputs": [],
   "source": [
    "df_ssb_ca = df_ssb[(df_ssb[\"År\"] == 2022) & (df_ssb[\"Landkode\"] == \"CA\")]"
   ]
  },
  {
   "cell_type": "markdown",
   "metadata": {},
   "source": [
    "### Calculate the total weight and value of the above selection for each product number (\"Varenr\")\n",
    "\n",
    "Hint: You can use `df_ssb_ca.groupby()` to  group the above selection by product number (\"Varenr\"). You can use the `sum()` aggregator on the `Grouper` object.\n",
    "\n",
    "__If DataFrame.groupby is not yet been covered, you can skip this task__."
   ]
  },
  {
   "cell_type": "code",
   "execution_count": null,
   "metadata": {},
   "outputs": [],
   "source": [
    "df_ssb_ca.groupby(\"Varenr\").sum()[[\"Mengde\", \"Verdi\"]]"
   ]
  },
  {
   "cell_type": "markdown",
   "metadata": {},
   "source": [
    "### What was the total export in kg for Smoked salmon in 2020? (Are you able to find it with a single line of code?)"
   ]
  },
  {
   "cell_type": "code",
   "execution_count": null,
   "metadata": {},
   "outputs": [],
   "source": [
    "df_ssb[(df_ssb[\"Varenr\"] == 3054100) & (df_ssb[\"År\"] == 2020)].Mengde.sum()"
   ]
  },
  {
   "cell_type": "markdown",
   "metadata": {},
   "source": [
    "### Calculate the average price (NOK/kg) for Fresh Pacific Salmon in 2019 \n",
    "\n",
    "Hint: make a `price/kg` column using `df[\"Verdi\"]` and `df[\"Mengde\"]`"
   ]
  },
  {
   "cell_type": "code",
   "execution_count": null,
   "metadata": {},
   "outputs": [],
   "source": [
    "df = df_ssb[(df_ssb[\"Varenr\"] == 3044100) & (df_ssb[\"År\"] == 2019)]\n",
    "(df[\"Verdi\"] / df[\"Mengde\"]).mean()"
   ]
  },
  {
   "cell_type": "markdown",
   "metadata": {},
   "source": [
    "### Bonus: Make a bar chart of the average price for Fresh Pacific Salmon by year\n",
    "\n",
    "Assuming that \"Verdi\" is all in the same currency.\n",
    "\n",
    "Hint: make a `price/kg` column using `df[\"Verdi\"]` and `df[\"Mengde\"]`"
   ]
  },
  {
   "cell_type": "code",
   "execution_count": null,
   "metadata": {},
   "outputs": [],
   "source": [
    "df = df_ssb[df_ssb[\"Varenr\"] == 3044100].copy()\n",
    "df[\"price/kg\"] = df[\"Verdi\"] / df[\"Mengde\"]\n",
    "df.groupby(\"År\").mean()[\"price/kg\"].plot(kind=\"bar\");"
   ]
  },
  {
   "cell_type": "markdown",
   "metadata": {},
   "source": [
    "---\n",
    "# Memory usage\n",
    "\n",
    "https://pandas.pydata.org/docs/user_guide/gotchas.html#dataframe-memory-usage\n",
    "\n",
    "### How much memory does this dataframe use?\n",
    "\n",
    "For this question, you can use `DataFrame.info()` and read the memory usage from there. Alternatively you can use `DataFrame.memory_usage(deep=True).sum()`.\n",
    "\n",
    "Try `DataFrame.memory_usage().sum()` (without `deep=True`). Why is the reported memory usage lower now?\n",
    "\n",
    "Hint: look at the official pandas documentation for `DataFrame.memory_usage()`"
   ]
  },
  {
   "cell_type": "code",
   "execution_count": null,
   "metadata": {},
   "outputs": [],
   "source": [
    "df_ssb.memory_usage(deep=True).sum()"
   ]
  },
  {
   "cell_type": "markdown",
   "metadata": {},
   "source": [
    "### The `Landkode` column has the `object` dtype. How much is the memory usage reduced (in percent) if `Landkode` dtype is changed to `Categorical`? "
   ]
  },
  {
   "cell_type": "code",
   "execution_count": null,
   "metadata": {},
   "outputs": [],
   "source": [
    "mem_obj = df_ssb[\"Landkode\"].memory_usage(deep=True)\n",
    "mem_cat = df_ssb[\"Landkode\"].astype('category').memory_usage(deep=True)\n",
    "\n",
    "# reduction in percent for \"Landkode\" column\n",
    "100*(1-mem_cat/mem_obj)"
   ]
  },
  {
   "cell_type": "markdown",
   "metadata": {},
   "source": [
    "### The `Vareflyt` column has the `object` dtype. How much is the memory usage reduced (in percent) if `Vareflyt` dtype is changed to `StringDtype`? "
   ]
  },
  {
   "cell_type": "code",
   "execution_count": null,
   "metadata": {},
   "outputs": [],
   "source": [
    "mem_obj = df_ssb[\"Vareflyt\"].memory_usage(deep=True)\n",
    "mem_str = df_ssb[\"Vareflyt\"].astype(\"string\").memory_usage(deep=True)\n",
    "\n",
    "# reduction in percent for \"Vareflyt\" column\n",
    "100*(1-mem_cat/mem_obj)"
   ]
  },
  {
   "cell_type": "markdown",
   "metadata": {},
   "source": [
    "---"
   ]
  },
  {
   "cell_type": "markdown",
   "metadata": {},
   "source": [
    "### CHALLENGING: \n",
    "\n",
    "Assuming that the df_product[\"Verdi\"] is in nok and all exports were traded in local recipient currency,  what was the total export value, in the various local currencies, for Smoked salmon in 2020? \n",
    "\n",
    "We don't have a solution suggestion for this one, you are on your own!\n",
    "\n",
    "You probably will need to use the currency dataframe found in:\n",
    "`course-kontali-2023/pandas notebooks/datasets/kontali/product.csv`."
   ]
  },
  {
   "cell_type": "code",
   "execution_count": null,
   "metadata": {},
   "outputs": [],
   "source": [
    "# I would start with something like this\n",
    "df_ssb[(df_ssb[\"Varenr\"] == 3054100) & (df_ssb[\"År\"] == 2022)]"
   ]
  }
 ],
 "metadata": {
  "kernelspec": {
   "display_name": "Python 3",
   "language": "python",
   "name": "python3"
  },
  "language_info": {
   "codemirror_mode": {
    "name": "ipython",
    "version": 3
   },
   "file_extension": ".py",
   "mimetype": "text/x-python",
   "name": "python",
   "nbconvert_exporter": "python",
   "pygments_lexer": "ipython3",
   "version": "3.8.3"
  }
 },
 "nbformat": 4,
 "nbformat_minor": 5
}
