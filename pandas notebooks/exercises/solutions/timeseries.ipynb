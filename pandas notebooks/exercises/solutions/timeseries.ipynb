{
 "cells": [
  {
   "cell_type": "code",
   "execution_count": null,
   "metadata": {},
   "outputs": [],
   "source": [
    "import pandas as pd"
   ]
  },
  {
   "cell_type": "markdown",
   "metadata": {},
   "source": [
    "### Make a pandas pd.Timestamp object\n",
    "- from string \"2022-10-02\""
   ]
  },
  {
   "cell_type": "code",
   "execution_count": null,
   "metadata": {},
   "outputs": [],
   "source": [
    "pd.Timestamp(\"2022-10-02\")"
   ]
  },
  {
   "cell_type": "markdown",
   "metadata": {},
   "source": [
    "### Make a pandas Timestamp object\n",
    "- year 2023\n",
    "- month 1\n",
    "- day 19\n",
    "- hour 10\n",
    "- minute 4\n",
    "- second 3"
   ]
  },
  {
   "cell_type": "code",
   "execution_count": null,
   "metadata": {},
   "outputs": [],
   "source": [
    "pd.Timestamp(2023, 1, 19, 10, 4, 3)"
   ]
  },
  {
   "cell_type": "markdown",
   "metadata": {},
   "source": [
    "### Make a pd.Timedelta object \n",
    "- 1 day\n",
    "- 2 minutes"
   ]
  },
  {
   "cell_type": "code",
   "execution_count": null,
   "metadata": {},
   "outputs": [],
   "source": [
    "pd.Timedelta(\"1 day 2 minutes\")"
   ]
  },
  {
   "cell_type": "markdown",
   "metadata": {},
   "source": [
    "### Make a Timestamp object and subtract it from the previous Timedelta object"
   ]
  },
  {
   "cell_type": "markdown",
   "metadata": {},
   "source": [
    "### make a datetime range \n",
    "- daily frequency\n",
    "- from 2021-01-03\n",
    "- to 2021-01-06"
   ]
  },
  {
   "cell_type": "code",
   "execution_count": null,
   "metadata": {},
   "outputs": [],
   "source": [
    "pd.date_range(\"2021-01-03\", end=\"2021-01-06\", freq=\"D\")"
   ]
  },
  {
   "cell_type": "markdown",
   "metadata": {},
   "source": [
    "### make a datetime range \n",
    "- weekly frequency\n",
    "- from 2020-06-03\n",
    "- to 2020-06-27"
   ]
  },
  {
   "cell_type": "code",
   "execution_count": null,
   "metadata": {},
   "outputs": [],
   "source": [
    "pd.date_range(\"2020-06-03\", end=\"2020-06-27\", freq=\"W\")"
   ]
  },
  {
   "cell_type": "markdown",
   "metadata": {},
   "source": [
    "### make a datetime range \n",
    "- weekly frequency\n",
    "- from 2020-06-03\n",
    "- six periods\n",
    "- bind it to variable dtrange"
   ]
  },
  {
   "cell_type": "code",
   "execution_count": null,
   "metadata": {},
   "outputs": [],
   "source": [
    "dtrange = pd.date_range(start=\"2020-06-03\", freq=\"W\", periods=6)\n",
    "dtrange"
   ]
  },
  {
   "cell_type": "markdown",
   "metadata": {},
   "source": [
    "### localize `dtrange` to the Norwegian timezone (GMT+1)"
   ]
  },
  {
   "cell_type": "code",
   "execution_count": null,
   "metadata": {},
   "outputs": [],
   "source": [
    "dtrange = dtrange.tz_localize(\"Europe/Oslo\")\n",
    "dtrange"
   ]
  },
  {
   "cell_type": "markdown",
   "metadata": {},
   "source": [
    "### At the time of `dtrange`, what is the time in Japan?\n",
    "\n",
    "convert `dtrange` from Norwegian timezone to Japanese timezone"
   ]
  },
  {
   "cell_type": "code",
   "execution_count": null,
   "metadata": {},
   "outputs": [],
   "source": [
    "dtrange = dtrange.tz_convert(\"Asia/Tokyo\")\n",
    "dtrange"
   ]
  },
  {
   "cell_type": "markdown",
   "metadata": {},
   "source": [
    "### make a timedelta range \n",
    "- daily frequency\n",
    "- starts with 2 days\n",
    "- six periods"
   ]
  },
  {
   "cell_type": "code",
   "execution_count": null,
   "metadata": {},
   "outputs": [],
   "source": [
    "pd.timedelta_range(start='2 day', periods=6)"
   ]
  },
  {
   "cell_type": "markdown",
   "metadata": {},
   "source": [
    "### make a timedelta range \n",
    "- hourly frequency\n",
    "- starts with 2 days\n",
    "- end with 2 days and 5 hours\n",
    "- bind it to variable tdrange"
   ]
  },
  {
   "cell_type": "code",
   "execution_count": null,
   "metadata": {},
   "outputs": [],
   "source": [
    "tdrange = pd.timedelta_range(start=\"2 days\", end=\"2 days 5 hours\", freq=\"H\")\n",
    "tdrange"
   ]
  },
  {
   "cell_type": "markdown",
   "metadata": {},
   "source": [
    "### Add the timedelta range `tdrange` to the datetime range `dtrange`"
   ]
  },
  {
   "cell_type": "code",
   "execution_count": null,
   "metadata": {},
   "outputs": [],
   "source": [
    "dtrange + tdrange"
   ]
  }
 ],
 "metadata": {
  "kernelspec": {
   "display_name": "Python 3",
   "language": "python",
   "name": "python3"
  },
  "language_info": {
   "codemirror_mode": {
    "name": "ipython",
    "version": 3
   },
   "file_extension": ".py",
   "mimetype": "text/x-python",
   "name": "python",
   "nbconvert_exporter": "python",
   "pygments_lexer": "ipython3",
   "version": "3.8.3"
  }
 },
 "nbformat": 4,
 "nbformat_minor": 4
}
