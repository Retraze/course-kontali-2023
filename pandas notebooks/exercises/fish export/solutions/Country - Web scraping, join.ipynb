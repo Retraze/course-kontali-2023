{
 "cells": [
  {
   "cell_type": "code",
   "execution_count": 2,
   "metadata": {},
   "outputs": [],
   "source": [
    "# We start by importing pandas and creating a Path object that points to our files.\n",
    "import pandas as pd\n",
    "from pathlib import Path\n",
    "\n",
    "dirpath = Path(\"../../datasets/kontali\")"
   ]
  },
  {
   "cell_type": "markdown",
   "metadata": {},
   "source": [
    "# Country\n",
    "\n",
    "### Read the file `country.csv` into a pandas DataFrame\n",
    "\n",
    "Hints:\n",
    "1. the function to use here is `pd.read_csv`\n",
    "1. we can specify the path to `country.csv` with `os.path.join` or `pathlib.Path` from the builtin modules\n",
    "1. we must use the keyword argument `encoding=\"latin-1\"`\n",
    "1. we should also specify two other keywords"
   ]
  },
  {
   "cell_type": "code",
   "execution_count": 3,
   "metadata": {},
   "outputs": [
    {
     "data": {
      "text/html": [
       "<div>\n",
       "<style scoped>\n",
       "    .dataframe tbody tr th:only-of-type {\n",
       "        vertical-align: middle;\n",
       "    }\n",
       "\n",
       "    .dataframe tbody tr th {\n",
       "        vertical-align: top;\n",
       "    }\n",
       "\n",
       "    .dataframe thead th {\n",
       "        text-align: right;\n",
       "    }\n",
       "</style>\n",
       "<table border=\"1\" class=\"dataframe\">\n",
       "  <thead>\n",
       "    <tr style=\"text-align: right;\">\n",
       "      <th></th>\n",
       "      <th>Country</th>\n",
       "      <th>Land</th>\n",
       "      <th>Market</th>\n",
       "      <th>Market_SBSB</th>\n",
       "      <th>Market_SLX</th>\n",
       "    </tr>\n",
       "    <tr>\n",
       "      <th>country_code</th>\n",
       "      <th></th>\n",
       "      <th></th>\n",
       "      <th></th>\n",
       "      <th></th>\n",
       "      <th></th>\n",
       "    </tr>\n",
       "  </thead>\n",
       "  <tbody>\n",
       "    <tr>\n",
       "      <th>AD</th>\n",
       "      <td>Andorra</td>\n",
       "      <td>Andorra</td>\n",
       "      <td>Other Europe</td>\n",
       "      <td>All others</td>\n",
       "      <td>Other</td>\n",
       "    </tr>\n",
       "    <tr>\n",
       "      <th>AE</th>\n",
       "      <td>United Arab Emirates</td>\n",
       "      <td>De forente Arabiske Emirater</td>\n",
       "      <td>Asia</td>\n",
       "      <td>Asia</td>\n",
       "      <td>Other</td>\n",
       "    </tr>\n",
       "    <tr>\n",
       "      <th>AF</th>\n",
       "      <td>Afghanistan</td>\n",
       "      <td>Afghanistan</td>\n",
       "      <td>Asia</td>\n",
       "      <td>Asia</td>\n",
       "      <td>Other</td>\n",
       "    </tr>\n",
       "    <tr>\n",
       "      <th>AG</th>\n",
       "      <td>Antigua and Barbuda</td>\n",
       "      <td>Antigua og Barbuda</td>\n",
       "      <td>North-America</td>\n",
       "      <td>North America</td>\n",
       "      <td>Other</td>\n",
       "    </tr>\n",
       "    <tr>\n",
       "      <th>AI</th>\n",
       "      <td>Anguilla</td>\n",
       "      <td>Anguilla</td>\n",
       "      <td>North-America</td>\n",
       "      <td>North America</td>\n",
       "      <td>Other</td>\n",
       "    </tr>\n",
       "  </tbody>\n",
       "</table>\n",
       "</div>"
      ],
      "text/plain": [
       "                           Country                          Land  \\\n",
       "country_code                                                       \n",
       "AD                         Andorra                       Andorra   \n",
       "AE            United Arab Emirates  De forente Arabiske Emirater   \n",
       "AF                     Afghanistan                   Afghanistan   \n",
       "AG             Antigua and Barbuda            Antigua og Barbuda   \n",
       "AI                        Anguilla                      Anguilla   \n",
       "\n",
       "                     Market    Market_SBSB Market_SLX  \n",
       "country_code                                           \n",
       "AD             Other Europe     All others      Other  \n",
       "AE                     Asia           Asia      Other  \n",
       "AF                     Asia           Asia      Other  \n",
       "AG            North-America  North America      Other  \n",
       "AI            North-America  North America      Other  "
      ]
     },
     "execution_count": 3,
     "metadata": {},
     "output_type": "execute_result"
    }
   ],
   "source": [
    "df_country = pd.read_csv(dirpath / \"country.csv\",\n",
    "                         encoding=\"latin-1\",\n",
    "                         delimiter=\";\",\n",
    "                         index_col=\"country_code\"\n",
    "                        )\n",
    "\n",
    "df_country.head()"
   ]
  },
  {
   "cell_type": "markdown",
   "metadata": {},
   "source": [
    "---\n",
    "# Web scraping"
   ]
  },
  {
   "cell_type": "markdown",
   "metadata": {},
   "source": [
    "For this part of the exercise, you may have to install an extra python package called `lxml` (for processing XML and HTML).\n",
    "\n",
    "You can remove the comment below to install the package using this notebook, but __only if you are comfortable doing so__!"
   ]
  },
  {
   "cell_type": "code",
   "execution_count": 4,
   "metadata": {},
   "outputs": [],
   "source": [
    "#!pip3 install --isolated lxml"
   ]
  },
  {
   "cell_type": "markdown",
   "metadata": {},
   "source": [
    "The task is to scrape a table from the internet into a DataFrame. Specifically, we want to add `Continent` to our country dataframe. So we need a mapping from country to continent.\n",
    "\n",
    "https://pandas.pydata.org/docs/reference/api/pandas.read_html.html\n",
    "\n",
    "- Table is found here: 'https://statisticstimes.com/geography/countries-by-continents.php'\n",
    "- use `pd.read_html`\n",
    "- to help pandas know which table you want, you can use the `match` argument\n",
    "- try to make the final dataframe look like the screenshot below."
   ]
  },
  {
   "attachments": {
    "image.png": {
     "image/png": "[encoded data removed]"
    }
   },
   "cell_type": "markdown",
   "metadata": {},
   "source": [
    "![image.png](attachment:image.png)"
   ]
  },
  {
   "cell_type": "code",
   "execution_count": 5,
   "metadata": {},
   "outputs": [
    {
     "data": {
      "text/html": [
       "<div>\n",
       "<style scoped>\n",
       "    .dataframe tbody tr th:only-of-type {\n",
       "        vertical-align: middle;\n",
       "    }\n",
       "\n",
       "    .dataframe tbody tr th {\n",
       "        vertical-align: top;\n",
       "    }\n",
       "\n",
       "    .dataframe thead th {\n",
       "        text-align: right;\n",
       "    }\n",
       "</style>\n",
       "<table border=\"1\" class=\"dataframe\">\n",
       "  <thead>\n",
       "    <tr style=\"text-align: right;\">\n",
       "      <th></th>\n",
       "      <th>Continent</th>\n",
       "    </tr>\n",
       "    <tr>\n",
       "      <th>Country or Area</th>\n",
       "      <th></th>\n",
       "    </tr>\n",
       "  </thead>\n",
       "  <tbody>\n",
       "    <tr>\n",
       "      <th>Afghanistan</th>\n",
       "      <td>Asia</td>\n",
       "    </tr>\n",
       "    <tr>\n",
       "      <th>Åland Islands</th>\n",
       "      <td>Europe</td>\n",
       "    </tr>\n",
       "    <tr>\n",
       "      <th>Albania</th>\n",
       "      <td>Europe</td>\n",
       "    </tr>\n",
       "    <tr>\n",
       "      <th>Algeria</th>\n",
       "      <td>Africa</td>\n",
       "    </tr>\n",
       "    <tr>\n",
       "      <th>American Samoa</th>\n",
       "      <td>Oceania</td>\n",
       "    </tr>\n",
       "  </tbody>\n",
       "</table>\n",
       "</div>"
      ],
      "text/plain": [
       "                Continent\n",
       "Country or Area          \n",
       "Afghanistan          Asia\n",
       "Åland Islands      Europe\n",
       "Albania            Europe\n",
       "Algeria            Africa\n",
       "American Samoa    Oceania"
      ]
     },
     "execution_count": 5,
     "metadata": {},
     "output_type": "execute_result"
    }
   ],
   "source": [
    "table_continents = pd.read_html('https://statisticstimes.com/geography/countries-by-continents.php', match=\"Countries or Areas\")\n",
    "\n",
    "df_cont = table_continents[0]\n",
    "df_cont = df_cont.set_index(\"Country or Area\")[[\"Continent\"]]\n",
    "df_cont.head()"
   ]
  },
  {
   "cell_type": "markdown",
   "metadata": {},
   "source": [
    "### Using `DataFrame.join()`, add `Continent` column to `df_country`\n",
    "\n",
    "https://pandas.pydata.org/docs/reference/api/pandas.DataFrame.join.html"
   ]
  },
  {
   "cell_type": "code",
   "execution_count": 7,
   "metadata": {
    "scrolled": true
   },
   "outputs": [
    {
     "data": {
      "text/html": [
       "<div>\n",
       "<style scoped>\n",
       "    .dataframe tbody tr th:only-of-type {\n",
       "        vertical-align: middle;\n",
       "    }\n",
       "\n",
       "    .dataframe tbody tr th {\n",
       "        vertical-align: top;\n",
       "    }\n",
       "\n",
       "    .dataframe thead th {\n",
       "        text-align: right;\n",
       "    }\n",
       "</style>\n",
       "<table border=\"1\" class=\"dataframe\">\n",
       "  <thead>\n",
       "    <tr style=\"text-align: right;\">\n",
       "      <th></th>\n",
       "      <th>Country</th>\n",
       "      <th>Land</th>\n",
       "      <th>Market</th>\n",
       "      <th>Market_SBSB</th>\n",
       "      <th>Market_SLX</th>\n",
       "      <th>Continent</th>\n",
       "    </tr>\n",
       "    <tr>\n",
       "      <th>country_code</th>\n",
       "      <th></th>\n",
       "      <th></th>\n",
       "      <th></th>\n",
       "      <th></th>\n",
       "      <th></th>\n",
       "      <th></th>\n",
       "    </tr>\n",
       "  </thead>\n",
       "  <tbody>\n",
       "    <tr>\n",
       "      <th>AD</th>\n",
       "      <td>Andorra</td>\n",
       "      <td>Andorra</td>\n",
       "      <td>Other Europe</td>\n",
       "      <td>All others</td>\n",
       "      <td>Other</td>\n",
       "      <td>Europe</td>\n",
       "    </tr>\n",
       "    <tr>\n",
       "      <th>AE</th>\n",
       "      <td>United Arab Emirates</td>\n",
       "      <td>De forente Arabiske Emirater</td>\n",
       "      <td>Asia</td>\n",
       "      <td>Asia</td>\n",
       "      <td>Other</td>\n",
       "      <td>Asia</td>\n",
       "    </tr>\n",
       "    <tr>\n",
       "      <th>AF</th>\n",
       "      <td>Afghanistan</td>\n",
       "      <td>Afghanistan</td>\n",
       "      <td>Asia</td>\n",
       "      <td>Asia</td>\n",
       "      <td>Other</td>\n",
       "      <td>Asia</td>\n",
       "    </tr>\n",
       "    <tr>\n",
       "      <th>AG</th>\n",
       "      <td>Antigua and Barbuda</td>\n",
       "      <td>Antigua og Barbuda</td>\n",
       "      <td>North-America</td>\n",
       "      <td>North America</td>\n",
       "      <td>Other</td>\n",
       "      <td>North America</td>\n",
       "    </tr>\n",
       "    <tr>\n",
       "      <th>AI</th>\n",
       "      <td>Anguilla</td>\n",
       "      <td>Anguilla</td>\n",
       "      <td>North-America</td>\n",
       "      <td>North America</td>\n",
       "      <td>Other</td>\n",
       "      <td>North America</td>\n",
       "    </tr>\n",
       "  </tbody>\n",
       "</table>\n",
       "</div>"
      ],
      "text/plain": [
       "                           Country                          Land  \\\n",
       "country_code                                                       \n",
       "AD                         Andorra                       Andorra   \n",
       "AE            United Arab Emirates  De forente Arabiske Emirater   \n",
       "AF                     Afghanistan                   Afghanistan   \n",
       "AG             Antigua and Barbuda            Antigua og Barbuda   \n",
       "AI                        Anguilla                      Anguilla   \n",
       "\n",
       "                     Market    Market_SBSB Market_SLX      Continent  \n",
       "country_code                                                          \n",
       "AD             Other Europe     All others      Other         Europe  \n",
       "AE                     Asia           Asia      Other           Asia  \n",
       "AF                     Asia           Asia      Other           Asia  \n",
       "AG            North-America  North America      Other  North America  \n",
       "AI            North-America  North America      Other  North America  "
      ]
     },
     "execution_count": 7,
     "metadata": {},
     "output_type": "execute_result"
    }
   ],
   "source": [
    "df_country = df_country.join(df_cont, on=\"Country\", how=\"left\")\n",
    "df_country.head()"
   ]
  }
 ],
 "metadata": {
  "kernelspec": {
   "display_name": "Python 3",
   "language": "python",
   "name": "python3"
  },
  "language_info": {
   "codemirror_mode": {
    "name": "ipython",
    "version": 3
   },
   "file_extension": ".py",
   "mimetype": "text/x-python",
   "name": "python",
   "nbconvert_exporter": "python",
   "pygments_lexer": "ipython3",
   "version": "3.8.3"
  }
 },
 "nbformat": 4,
 "nbformat_minor": 4
}
