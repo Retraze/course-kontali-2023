{
 "cells": [
  {
   "cell_type": "markdown",
   "metadata": {},
   "source": [
    "# Variabler, funksjoner og moduler\n",
    "\n",
    "Vi vil i denne seksjonen se på de grunnleggende byggeklossene vi har i Python.\n",
    "\n",
    "## Variabler og typer\n",
    "\n",
    "Variabler defineres på vanlig måte med `variabel = uttrykk`. Variabelnavn følger samme regler som de fleste andre språk:\n",
    "\n",
    "- Variabelnavn kan bestå av bokstaver, tall og understrek, `_`. De kan ikke begynne med et tall.\n",
    "- Det er forskjell på små og store bokstaver. Det vil si `variabel`, `Variabel` og `vaRIaBeL` er alle forskjellige.\n",
    "- Pythonkode følger vanligvis konvensjonen om å bruke små bokstaver og understrek i variabelnavn, som for eksempel `counter` og `num_letters`.\n",
    "\n",
    "Som nevnt er Python et dynamisk typet språk. I praksis betyr det at vi slipper å spesifisere typen til en variabel. Python finner typen automatisk."
   ]
  },
  {
   "cell_type": "code",
   "execution_count": 1,
   "metadata": {},
   "outputs": [
    {
     "data": {
      "text/plain": [
       "7"
      ]
     },
     "execution_count": 1,
     "metadata": {},
     "output_type": "execute_result"
    }
   ],
   "source": [
    "a = 3 + 4\n",
    "a"
   ]
  },
  {
   "cell_type": "code",
   "execution_count": 2,
   "metadata": {},
   "outputs": [
    {
     "data": {
      "text/plain": [
       "int"
      ]
     },
     "execution_count": 2,
     "metadata": {},
     "output_type": "execute_result"
    }
   ],
   "source": [
    "type(a)"
   ]
  },
  {
   "cell_type": "code",
   "execution_count": 3,
   "metadata": {},
   "outputs": [
    {
     "data": {
      "text/plain": [
       "21"
      ]
     },
     "execution_count": 3,
     "metadata": {},
     "output_type": "execute_result"
    }
   ],
   "source": [
    "a * 3"
   ]
  },
  {
   "cell_type": "markdown",
   "metadata": {},
   "source": [
    "Videre medfører den dynamiske typingen at variabler kan endre type underveis i et program."
   ]
  },
  {
   "cell_type": "code",
   "execution_count": 4,
   "metadata": {},
   "outputs": [
    {
     "data": {
      "text/plain": [
       "str"
      ]
     },
     "execution_count": 4,
     "metadata": {},
     "output_type": "execute_result"
    }
   ],
   "source": [
    "a = \"hei\"\n",
    "type(a)"
   ]
  },
  {
   "cell_type": "code",
   "execution_count": 5,
   "metadata": {},
   "outputs": [
    {
     "data": {
      "text/plain": [
       "'heiheihei'"
      ]
     },
     "execution_count": 5,
     "metadata": {},
     "output_type": "execute_result"
    }
   ],
   "source": [
    "a * 3"
   ]
  },
  {
   "cell_type": "code",
   "execution_count": 6,
   "metadata": {},
   "outputs": [
    {
     "data": {
      "text/plain": [
       "bool"
      ]
     },
     "execution_count": 6,
     "metadata": {},
     "output_type": "execute_result"
    }
   ],
   "source": [
    "a = True\n",
    "type(a)"
   ]
  },
  {
   "cell_type": "code",
   "execution_count": 7,
   "metadata": {},
   "outputs": [
    {
     "data": {
      "text/plain": [
       "3"
      ]
     },
     "execution_count": 7,
     "metadata": {},
     "output_type": "execute_result"
    }
   ],
   "source": [
    "a * 3"
   ]
  },
  {
   "cell_type": "code",
   "execution_count": 8,
   "metadata": {},
   "outputs": [
    {
     "ename": "TypeError",
     "evalue": "unsupported operand type(s) for +: 'bool' and 'str'",
     "output_type": "error",
     "traceback": [
      "\u001b[0;31m---------------------------------------------------------------------------\u001b[0m",
      "\u001b[0;31mTypeError\u001b[0m                                 Traceback (most recent call last)",
      "Cell \u001b[0;32mIn [8], line 1\u001b[0m\n\u001b[0;32m----> 1\u001b[0m \u001b[43ma\u001b[49m\u001b[43m \u001b[49m\u001b[38;5;241;43m+\u001b[39;49m\u001b[43m \u001b[49m\u001b[38;5;124;43m\"\u001b[39;49m\u001b[38;5;124;43mNeida\u001b[39;49m\u001b[38;5;124;43m\"\u001b[39;49m\n",
      "\u001b[0;31mTypeError\u001b[0m: unsupported operand type(s) for +: 'bool' and 'str'"
     ]
    }
   ],
   "source": [
    "a + \"Neida\""
   ]
  },
  {
   "cell_type": "markdown",
   "metadata": {},
   "source": [
    "Legg også merke til hvordan betydningen av operatorer som for eksempel `*` er avhengig av typen til variabelen.\n",
    "\n",
    "De grunnleggende datatypene i Python er disse:\n",
    "\n",
    "- **`bool`:** Enten `False` eller `True`.\n",
    "- **`int`:** Heltall. Det er ingen øvre begrensning på størrelsen på disse.\n",
    "- **`float`:** Flyttall. Disse er typisk implementert som 64-bits flyttall. Identifiseres av desimalskilletegnet, for eksempel er `3.0` en `float`, mens `3` er en `int`.\n",
    "- **`complex`:** Komplekse tall håndteres direkte av Python, hvor den imaginære enheten skrives `j`. For eksempel er `1 + 2j` et komplekst tall.\n",
    "- **`str`:** Tekststrenger, skrives med enkle eller doble fnutter. For eksempel er `'Hurra'` og `\"I'm happy!\"` tekststrenger.\n",
    "\n",
    "Senere vil vi også møte mer avanserte datatyper som følger med Python (for eksempel `tuple`, `list` og `dict`). Det er også lett å lage egne datatyper ved å definere dem som klasser. Dette blir ikke dekt i denne introduksjonen.\n",
    "\n",
    "Så langt det gir mening kan man konvertere mellom datatypene ved å bruke `bool`, `int`, `float`, `complex` og\n",
    "`str` som funksjoner:"
   ]
  },
  {
   "cell_type": "code",
   "execution_count": 9,
   "metadata": {},
   "outputs": [
    {
     "data": {
      "text/plain": [
       "'3'"
      ]
     },
     "execution_count": 9,
     "metadata": {},
     "output_type": "execute_result"
    }
   ],
   "source": [
    "str(3)"
   ]
  },
  {
   "cell_type": "code",
   "execution_count": 10,
   "metadata": {},
   "outputs": [
    {
     "data": {
      "text/plain": [
       "10.0"
      ]
     },
     "execution_count": 10,
     "metadata": {},
     "output_type": "execute_result"
    }
   ],
   "source": [
    "float(10)"
   ]
  },
  {
   "cell_type": "code",
   "execution_count": 11,
   "metadata": {},
   "outputs": [
    {
     "data": {
      "text/plain": [
       "True"
      ]
     },
     "execution_count": 11,
     "metadata": {},
     "output_type": "execute_result"
    }
   ],
   "source": [
    "bool(\"Hei\")"
   ]
  },
  {
   "cell_type": "code",
   "execution_count": 12,
   "metadata": {},
   "outputs": [
    {
     "data": {
      "text/plain": [
       "False"
      ]
     },
     "execution_count": 12,
     "metadata": {},
     "output_type": "execute_result"
    }
   ],
   "source": [
    "bool(\"\")"
   ]
  },
  {
   "cell_type": "code",
   "execution_count": 13,
   "metadata": {},
   "outputs": [
    {
     "data": {
      "text/plain": [
       "3"
      ]
     },
     "execution_count": 13,
     "metadata": {},
     "output_type": "execute_result"
    }
   ],
   "source": [
    "int(3.88)"
   ]
  },
  {
   "cell_type": "code",
   "execution_count": 14,
   "metadata": {},
   "outputs": [
    {
     "data": {
      "text/plain": [
       "3.14"
      ]
     },
     "execution_count": 14,
     "metadata": {},
     "output_type": "execute_result"
    }
   ],
   "source": [
    "float(\"3.14\")"
   ]
  },
  {
   "cell_type": "code",
   "execution_count": 15,
   "metadata": {},
   "outputs": [
    {
     "ename": "ValueError",
     "evalue": "invalid literal for int() with base 10: 'Neida'",
     "output_type": "error",
     "traceback": [
      "\u001b[0;31m---------------------------------------------------------------------------\u001b[0m",
      "\u001b[0;31mValueError\u001b[0m                                Traceback (most recent call last)",
      "Cell \u001b[0;32mIn [15], line 1\u001b[0m\n\u001b[0;32m----> 1\u001b[0m \u001b[38;5;28;43mint\u001b[39;49m\u001b[43m(\u001b[49m\u001b[38;5;124;43m\"\u001b[39;49m\u001b[38;5;124;43mNeida\u001b[39;49m\u001b[38;5;124;43m\"\u001b[39;49m\u001b[43m)\u001b[49m\n",
      "\u001b[0;31mValueError\u001b[0m: invalid literal for int() with base 10: 'Neida'"
     ]
    }
   ],
   "source": [
    "int(\"Neida\")"
   ]
  },
  {
   "cell_type": "markdown",
   "metadata": {},
   "source": [
    "## Formattering av tekst\n",
    "\n",
    "Som nevnt skrives tekst med enten enkle eller doble fnutter. I tillegg finnes det spesielle **formatterte** tekststrenger, som du kan kjenne igjen ved at de starter med `f` foran åpningsfnutten. Disse kalles også f-strenger. Formatterte strenger kan inkluderte variabler og andre uttrykk direkte i tekststrengen, så lenge de er markert med krøllparanteser:"
   ]
  },
  {
   "cell_type": "code",
   "execution_count": 16,
   "metadata": {},
   "outputs": [
    {
     "data": {
      "text/plain": [
       "'Guido invented PYTHON 33 years ago'"
      ]
     },
     "execution_count": 16,
     "metadata": {},
     "output_type": "execute_result"
    }
   ],
   "source": [
    "name = \"Guido\"\n",
    "language = \"Python\"\n",
    "year = 1989\n",
    "\n",
    "f\"{name} invented {language.upper()} {2022 - year} years ago\""
   ]
  },
  {
   "cell_type": "markdown",
   "metadata": {},
   "source": [
    "Tradisjonelt har Python hatt flere måter å formattere tekst på. Du vil muligens se alle disse, men f-strenger blir mer og mer populært.\n",
    "\n",
    "- Manuell sammensetting med `+`\n",
    "    - `name + \" invented \" + language.upper() + \" \" + str(2019 - year) + \" years ago\"`\n",
    "- `printf`-inspirert med `%`\n",
    "    - `\"%s invented %s %d years ago\" % (name, language.upper(), 2019 - year)`\n",
    "- Kraftigere formattering med `.format()`\n",
    "    - `\"{} invented {} {} years ago\".format(name, language.upper(), 2019 - year)`\n",
    "- f-strenger\n",
    "    - `f\"{name} invented {language.upper()} {2019 - year} years ago\"`\n",
    "\n",
    "Både `.format()` og f-strenger støtter [et eget minispråk for mer kontroll over formatteringen](https://docs.python.org/3/library/string.html#format-specification-mini-language). Dette består av spesielle koder du skriver etter `:` inne i krøllparantesene."
   ]
  },
  {
   "cell_type": "code",
   "execution_count": 17,
   "metadata": {},
   "outputs": [
    {
     "name": "stdout",
     "output_type": "stream",
     "text": [
      "Navn       Språk      År         Pi\n",
      "-----------------------------------\n",
      "Guido      Python     1989    3.142\n"
     ]
    }
   ],
   "source": [
    "pi = 3.14159\n",
    "\n",
    "print(\"Navn       Språk      År         Pi\\n\" + \"-\" * 35)\n",
    "print(f\"{name:<10s} {language:10} {year:>4} {pi:8.3f}\")"
   ]
  },
  {
   "cell_type": "markdown",
   "metadata": {},
   "source": [
    "## Funksjoner\n",
    "\n",
    "Funksjoner defineres med nøkkelordet `def`. Her er et enkelt eksempel:"
   ]
  },
  {
   "cell_type": "code",
   "execution_count": 18,
   "metadata": {},
   "outputs": [
    {
     "name": "stdout",
     "output_type": "stream",
     "text": [
      "Hei alle sammen\n",
      "Yo! Geir Arne!\n"
     ]
    }
   ],
   "source": [
    "def say_hello(greeting, name):\n",
    "    print(f\"{greeting} {name}\")\n",
    "\n",
    "\n",
    "say_hello(\"Hei\", \"alle sammen\")\n",
    "say_hello(\"Yo!\", \"Geir Arne!\")"
   ]
  },
  {
   "cell_type": "markdown",
   "metadata": {},
   "source": [
    "Ofte vil du returnere en verdi fra funksjonene. Dette gjøres med `return` på denne måten:"
   ]
  },
  {
   "cell_type": "code",
   "execution_count": 19,
   "metadata": {},
   "outputs": [
    {
     "data": {
      "text/plain": [
       "'Howdy Boss'"
      ]
     },
     "execution_count": 19,
     "metadata": {},
     "output_type": "execute_result"
    }
   ],
   "source": [
    "def create_greeting(greeting, name):\n",
    "    return f\"{greeting} {name}\"\n",
    "\n",
    "\n",
    "create_greeting(\"Howdy\", \"Boss\")"
   ]
  },
  {
   "cell_type": "markdown",
   "metadata": {},
   "source": [
    "Alle funksjoner i Python returnerer en verdi. Om du ikke spesifiserer verdien med `return` returneres verdien `None`.\n",
    "\n",
    "## Bruk av indentering\n",
    "\n",
    "En ting du raskt legger merke til er at Python bruker veldig få spesialtegn for å markere for eksempel hva som er en funksjondefinisjon (og tilsvarende utstrekningen av en løkke eller test og lignende). I stedet markerer indenteringen av koden dette.\n",
    "\n",
    "I eksempelet over består funksjonen `say_hello` kun av den ene linjen `print(hilsen + ' ' + navn)` siden dette er den eneste linjen som er rykket inn under funksjonsdefinisjonen. Legg også merke til `:`'et som avslutter `def`-linjen. Et slikt kolon brukes overalt før en indentering starter.\n",
    "\n",
    "Indenteringer i Python skal være 4 mellomrom. Ikke bruk tab (de fleste teksteditorer vil automatisk gjøre om en tab til 4 mellomrom i Pythonkode).\n",
    "\n",
    "## Import av moduler\n",
    "\n",
    "Mye av funksjonaliteten til Python ligger i standardbiblioteket. Dette er funksjonalitet som alltid er tilgjengelig, men som ikke lastes inn i programmet ditt uten at du ber om det. For å ta dette i bruk bruker du `import`."
   ]
  },
  {
   "cell_type": "code",
   "execution_count": 20,
   "metadata": {},
   "outputs": [
    {
     "data": {
      "text/plain": [
       "3.141592653589793"
      ]
     },
     "execution_count": 20,
     "metadata": {},
     "output_type": "execute_result"
    }
   ],
   "source": [
    "import math\n",
    "\n",
    "math.pi"
   ]
  },
  {
   "cell_type": "code",
   "execution_count": 21,
   "metadata": {},
   "outputs": [
    {
     "data": {
      "text/plain": [
       "-1.0"
      ]
     },
     "execution_count": 21,
     "metadata": {},
     "output_type": "execute_result"
    }
   ],
   "source": [
    "math.cos(math.pi)"
   ]
  },
  {
   "cell_type": "markdown",
   "metadata": {},
   "source": [
    "En programpakke slik som `math` kalles en **modul**. Dersom du bare er interessert i et par elementer fra en modul kan disse lastes eksplisitt."
   ]
  },
  {
   "cell_type": "code",
   "execution_count": 22,
   "metadata": {},
   "outputs": [
    {
     "data": {
      "text/plain": [
       "3.141592653589793"
      ]
     },
     "execution_count": 22,
     "metadata": {},
     "output_type": "execute_result"
    }
   ],
   "source": [
    "from math import pi, cos\n",
    "\n",
    "pi"
   ]
  },
  {
   "cell_type": "code",
   "execution_count": 23,
   "metadata": {},
   "outputs": [
    {
     "data": {
      "text/plain": [
       "-1.0"
      ]
     },
     "execution_count": 23,
     "metadata": {},
     "output_type": "execute_result"
    }
   ],
   "source": [
    "cos(pi)"
   ]
  },
  {
   "cell_type": "markdown",
   "metadata": {},
   "source": [
    "Moduler brukes aktivt for å strukturere **navnerommene** (_namespaces_) i Python, siden hver modul definerer sitt eget navnerom hvor det ikke er fare for kollisjoner med annen kode.\n",
    "\n",
    "Det er mulig å endre navnet på et element idet det importeres. For noen pakker er dette vanlig fordi det gjør koden mer konsis."
   ]
  },
  {
   "cell_type": "code",
   "execution_count": 24,
   "metadata": {},
   "outputs": [
    {
     "data": {
      "text/plain": [
       "array([ 1. ,  0.5, -0.5, -1. ])"
      ]
     },
     "execution_count": 24,
     "metadata": {},
     "output_type": "execute_result"
    }
   ],
   "source": [
    "import numpy as np\n",
    "\n",
    "np.cos(np.linspace(0, np.pi, 4))"
   ]
  },
  {
   "cell_type": "markdown",
   "metadata": {},
   "source": [
    "Det er også mulig å bruke `import as` for å unngå navnekollisjoner."
   ]
  },
  {
   "cell_type": "code",
   "execution_count": 25,
   "metadata": {},
   "outputs": [
    {
     "data": {
      "text/plain": [
       "41.58124577258358"
      ]
     },
     "execution_count": 25,
     "metadata": {},
     "output_type": "execute_result"
    }
   ],
   "source": [
    "from numpy import sqrt as sqrt1\n",
    "from math import sqrt as sqrt2\n",
    "\n",
    "sqrt1(1729)"
   ]
  },
  {
   "cell_type": "code",
   "execution_count": 26,
   "metadata": {},
   "outputs": [
    {
     "data": {
      "text/plain": [
       "41.58124577258358"
      ]
     },
     "execution_count": 26,
     "metadata": {},
     "output_type": "execute_result"
    }
   ],
   "source": [
    "sqrt2(1729)"
   ]
  },
  {
   "cell_type": "markdown",
   "metadata": {},
   "source": [
    "Pakken `numpy` brukes til matematikk og numeriske beregninger. Den er ikke tilgjengelig i standard-biblioteket og må derfor installeres eksplisitt.\n",
    "\n",
    "Både `math.sqrt` og `numpy.sqrt` jobber med 64-bits flyttall. Det er noen begrensninger i nøyaktigheten i slike flyttallsoperasjoner. En bedre approksimasjon til kvadratroten av 1729 vil være 41.58124577258358189028020919. Pakken `decimal` kan hjelpe mot problemer med flyttall.\n",
    "\n",
    "## En fil er en modul\n",
    "\n",
    "Det er enkelt å lage sine egne moduler i Python, dersom man for eksempel vil gjenbruke kode i forskjellige programmer. Alle `.py`-filer er automatisk moduler som kan importeres. Lagre `say_hello`-funksjonen fra tidligere i filen `hello.py`:"
   ]
  },
  {
   "cell_type": "code",
   "execution_count": 27,
   "metadata": {},
   "outputs": [
    {
     "name": "stdout",
     "output_type": "stream",
     "text": [
      "Writing hello.py\n"
     ]
    }
   ],
   "source": [
    "%%writefile hello.py\n",
    "def say_hello(greeting, name):\n",
    "    print(f\"{greeting} {name}\")\n",
    "\n",
    "say_hello('Hei', 'alle sammen')\n",
    "say_hello('Yo!', 'Geir Arne!')"
   ]
  },
  {
   "cell_type": "markdown",
   "metadata": {},
   "source": [
    "Du kan nå importere `hello` på samme måte som alle andre Pythonmoduler:"
   ]
  },
  {
   "cell_type": "code",
   "execution_count": 28,
   "metadata": {},
   "outputs": [
    {
     "name": "stdout",
     "output_type": "stream",
     "text": [
      "Hei alle sammen\n",
      "Yo! Geir Arne!\n"
     ]
    }
   ],
   "source": [
    "import hello"
   ]
  },
  {
   "cell_type": "code",
   "execution_count": 29,
   "metadata": {},
   "outputs": [
    {
     "name": "stdout",
     "output_type": "stream",
     "text": [
      "Bond James Bond\n"
     ]
    }
   ],
   "source": [
    "hello.say_hello(\"Bond\", \"James Bond\")"
   ]
  },
  {
   "cell_type": "markdown",
   "metadata": {},
   "source": [
    "Legg merke til at filen kjøres som et skript under importen. I eksempelet over blir de to kallene til `say_hello` utført idet modulen `hello` importeres.\n",
    "\n",
    "## Spesielle navn\n",
    "\n",
    "Python benytter seg av en del **spesielle navn** internt. Disse har alle navn omkranset av to understreker, for eksempel `__name__`. Siden **double underscore** er litt slitsomt å si eller skrive i lengden omtales slike navn også som **dunder**s.\n",
    "\n",
    "En nyttig (og veldig vanlig) bruk av disse spesielle navnene i kode er for å skille mellom når en Python-fil importeres og når den kjører som et eget skript. Dette gjøres ved å sjekke `__name__` som settes til modulnavnet om filen importeres, men bare til `__main__` om filen kjøres som et skript."
   ]
  },
  {
   "cell_type": "code",
   "execution_count": 30,
   "metadata": {},
   "outputs": [
    {
     "name": "stdout",
     "output_type": "stream",
     "text": [
      "Overwriting hello.py\n"
     ]
    }
   ],
   "source": [
    "%%writefile hello.py\n",
    "def say_hello(greeting, name):\n",
    "    print(f\"{greeting} {name}\")\n",
    "\n",
    "if __name__ == '__main__':\n",
    "    say_hello('Hei', 'alle sammen')\n",
    "    say_hello('Yo!', 'Geir Arne!')"
   ]
  },
  {
   "cell_type": "markdown",
   "metadata": {},
   "source": [
    "Andre nyttige spesielle navn inkluderer `__doc__` som inneholder dokumentasjon for en modul, klasse eller funksjon. Det finnes også mange spesielle metodenavn som brukes ved implementering av egne typer og objekter. For eksempel defineres et objekts konstruktor i `__init__()`, mens `__repr__()` bestemmer hvordan et objekt representeres som en streng."
   ]
  },
  {
   "cell_type": "markdown",
   "metadata": {},
   "source": [
    "# Tester og enkle løkker\n",
    "\n",
    "Python støtter de vanligste konstruksjonene for tester og løkker. \n",
    "\n",
    "## `if`-tester\n",
    "\n",
    "Vi så såvidt en `if`-test i koden ovenfor. Slike tester er ganske rett fram i Python. Til forskjell fra mange andre språk brukes vanligvis ikke parantes rundt uttrykket det testes på."
   ]
  },
  {
   "cell_type": "code",
   "execution_count": 31,
   "metadata": {},
   "outputs": [
    {
     "name": "stdout",
     "output_type": "stream",
     "text": [
      "Tallet er mindre enn 20\n"
     ]
    }
   ],
   "source": [
    "number = 14\n",
    "\n",
    "if number < 20:\n",
    "    print(\"Tallet er mindre enn 20\")"
   ]
  },
  {
   "cell_type": "markdown",
   "metadata": {},
   "source": [
    "For å kombinere tester brukes `not`, `and` og `or`. Disse operatorene er kortsluttende (_short-circuiting_) slik at det ikke gjøres mer arbeid enn nødvendig for å vite resultatet av testen. For eksempel, om man har en variabel som kan være `None` eller et tall er det vanskelig å direkte teste på tallet."
   ]
  },
  {
   "cell_type": "code",
   "execution_count": 32,
   "metadata": {},
   "outputs": [
    {
     "ename": "TypeError",
     "evalue": "'<' not supported between instances of 'NoneType' and 'int'",
     "output_type": "error",
     "traceback": [
      "\u001b[0;31m---------------------------------------------------------------------------\u001b[0m",
      "\u001b[0;31mTypeError\u001b[0m                                 Traceback (most recent call last)",
      "Cell \u001b[0;32mIn [32], line 2\u001b[0m\n\u001b[1;32m      1\u001b[0m x \u001b[38;5;241m=\u001b[39m \u001b[38;5;28;01mNone\u001b[39;00m\n\u001b[0;32m----> 2\u001b[0m \u001b[43mx\u001b[49m\u001b[43m \u001b[49m\u001b[38;5;241;43m<\u001b[39;49m\u001b[43m \u001b[49m\u001b[38;5;241;43m3\u001b[39;49m\n",
      "\u001b[0;31mTypeError\u001b[0m: '<' not supported between instances of 'NoneType' and 'int'"
     ]
    }
   ],
   "source": [
    "x = None\n",
    "x < 3"
   ]
  },
  {
   "cell_type": "code",
   "execution_count": 33,
   "metadata": {},
   "outputs": [
    {
     "data": {
      "text/plain": [
       "False"
      ]
     },
     "execution_count": 33,
     "metadata": {},
     "output_type": "execute_result"
    }
   ],
   "source": [
    "x is not None and x < 3"
   ]
  },
  {
   "cell_type": "markdown",
   "metadata": {},
   "source": [
    "For å teste om et tall faller i et spesielt intervall kan man kombinere to tester helt uten `and`."
   ]
  },
  {
   "cell_type": "code",
   "execution_count": 34,
   "metadata": {},
   "outputs": [
    {
     "data": {
      "text/plain": [
       "True"
      ]
     },
     "execution_count": 34,
     "metadata": {},
     "output_type": "execute_result"
    }
   ],
   "source": [
    "y = 1992\n",
    "1970 <= y < 2000"
   ]
  },
  {
   "cell_type": "markdown",
   "metadata": {},
   "source": [
    "## Flere valg\n",
    "\n",
    "For mer kompliserte tester brukes også `else` og `elif` (som en konsis måte å skrive _else if_ på)."
   ]
  },
  {
   "cell_type": "code",
   "execution_count": 35,
   "metadata": {},
   "outputs": [
    {
     "data": {
      "text/plain": [
       "'23rd'"
      ]
     },
     "execution_count": 35,
     "metadata": {},
     "output_type": "execute_result"
    }
   ],
   "source": [
    "def ordinal(num):\n",
    "    if 10 <= num % 100 <= 20:\n",
    "        suffix = \"th\"\n",
    "    elif num % 10 == 1:\n",
    "        suffix = \"st\"\n",
    "    elif num % 10 == 2:\n",
    "        suffix = \"nd\"\n",
    "    elif num % 10 == 3:\n",
    "        suffix = \"rd\"\n",
    "    else:\n",
    "        suffix = \"th\"\n",
    "\n",
    "    return str(num) + suffix\n",
    "\n",
    "\n",
    "ordinal(23)"
   ]
  },
  {
   "cell_type": "markdown",
   "metadata": {},
   "source": [
    "Det finnes ingen `switch` i Python. I stedet kan man bruke `if elif else` som i eksempelet ovenfor. Senere skal vi se en annen versjon av `switch`.\n",
    "\n",
    "## `while`-løkker\n",
    "\n",
    "Det finnes to typer løkker i Python, `while`-løkker og `for`-løkker. Som vanlig brukes `while`-løkker når man vil fortsette løkken til en gitt betingelse ikke lenger gjelder uten at man på forhånd nødvendigvis vet hvor mange runder gjennom løkken man behøver. Syntaksen er omtrent som for `if`-løkker."
   ]
  },
  {
   "cell_type": "code",
   "execution_count": 36,
   "metadata": {},
   "outputs": [
    {
     "name": "stdout",
     "output_type": "stream",
     "text": [
      "Mitt hemmelige number er mellom 1 og 1000\n"
     ]
    },
    {
     "name": "stdin",
     "output_type": "stream",
     "text": [
      "Gjett mitt hemmelige tall:  500\n"
     ]
    },
    {
     "name": "stdout",
     "output_type": "stream",
     "text": [
      "Mitt tall er over 500\n"
     ]
    },
    {
     "name": "stdin",
     "output_type": "stream",
     "text": [
      "Gjett mitt hemmelige tall:  777\n"
     ]
    },
    {
     "name": "stdout",
     "output_type": "stream",
     "text": [
      "Mitt tall er lavere\n"
     ]
    },
    {
     "name": "stdin",
     "output_type": "stream",
     "text": [
      "Gjett mitt hemmelige tall:  600\n"
     ]
    },
    {
     "name": "stdout",
     "output_type": "stream",
     "text": [
      "Mitt tall er lavere\n"
     ]
    },
    {
     "name": "stdin",
     "output_type": "stream",
     "text": [
      "Gjett mitt hemmelige tall:  555\n"
     ]
    },
    {
     "name": "stdout",
     "output_type": "stream",
     "text": [
      "Mitt tall er lavere\n"
     ]
    },
    {
     "name": "stdin",
     "output_type": "stream",
     "text": [
      "Gjett mitt hemmelige tall:  532\n"
     ]
    },
    {
     "name": "stdout",
     "output_type": "stream",
     "text": [
      "Mitt tall er over 532\n"
     ]
    },
    {
     "name": "stdin",
     "output_type": "stream",
     "text": [
      "Gjett mitt hemmelige tall:  543\n"
     ]
    },
    {
     "name": "stdout",
     "output_type": "stream",
     "text": [
      "Mitt tall er over 543\n"
     ]
    },
    {
     "name": "stdin",
     "output_type": "stream",
     "text": [
      "Gjett mitt hemmelige tall:  550\n"
     ]
    },
    {
     "name": "stdout",
     "output_type": "stream",
     "text": [
      "Mitt tall er lavere\n"
     ]
    },
    {
     "name": "stdin",
     "output_type": "stream",
     "text": [
      "Gjett mitt hemmelige tall:  547\n"
     ]
    },
    {
     "name": "stdout",
     "output_type": "stream",
     "text": [
      "Mitt tall er over 547\n"
     ]
    },
    {
     "name": "stdin",
     "output_type": "stream",
     "text": [
      "Gjett mitt hemmelige tall:  548\n"
     ]
    },
    {
     "name": "stdout",
     "output_type": "stream",
     "text": [
      "Mitt tall er over 548\n"
     ]
    },
    {
     "name": "stdin",
     "output_type": "stream",
     "text": [
      "Gjett mitt hemmelige tall:  549\n"
     ]
    },
    {
     "name": "stdout",
     "output_type": "stream",
     "text": [
      "Riktig! Mitt tall var 549\n"
     ]
    }
   ],
   "source": [
    "import random\n",
    "\n",
    "number = random.randint(1, 1000)\n",
    "guess = None\n",
    "print(\"Mitt hemmelige number er mellom 1 og 1000\")\n",
    "\n",
    "while guess != number:\n",
    "    guess = int(input(\"Gjett mitt hemmelige tall: \"))\n",
    "    if number < guess:\n",
    "        print(\"Mitt tall er lavere\")\n",
    "    elif number > guess:\n",
    "        print(f\"Mitt tall er over {guess}\")\n",
    "    else:\n",
    "        print(f\"Riktig! Mitt tall var {number}\")"
   ]
  },
  {
   "cell_type": "markdown",
   "metadata": {},
   "source": [
    "## Mer kontroll på løkkene\n",
    "\n",
    "For å ha enda bedre kontroll på hvordan en `while`-løkke oppfører seg kan du bruke `break` og `continue`. Førstnevnte avslutter hele løkka, mens `continue` hopper til begynnelsen av løkka igjen. For eksempel vil det følgende eksempelet skrive ut alle oddetallene mellom 1 og 20 (det finnes mye enklere og bedre måter å gjøre akkurat dette på)."
   ]
  },
  {
   "cell_type": "code",
   "execution_count": 37,
   "metadata": {},
   "outputs": [
    {
     "name": "stdout",
     "output_type": "stream",
     "text": [
      "1\n",
      "3\n",
      "5\n",
      "7\n",
      "9\n",
      "11\n",
      "13\n",
      "15\n",
      "17\n",
      "19\n"
     ]
    }
   ],
   "source": [
    "number = 0\n",
    "\n",
    "while True:\n",
    "    number += 1\n",
    "    if number % 2 == 0:\n",
    "        continue\n",
    "    if number > 20:\n",
    "        break\n",
    "    print(number)"
   ]
  },
  {
   "cell_type": "markdown",
   "metadata": {},
   "source": [
    "Legg merke til at `while True:` starter en evig løkke. For at programmet skal komme ut av en slik løkke trenger vi `break` eller `return`."
   ]
  },
  {
   "cell_type": "markdown",
   "metadata": {},
   "source": [
    "# Datastrukturer, iteratorer og flere løkker\n",
    "\n",
    "Et viktig konsept i Python som gjør språket morsomt å bruke er iteratorer. Vi kommer tilbake til disse etter å sett litt på lister og tekststrenger.\n",
    "\n",
    "## Lister\n",
    "\n",
    "Datastrukturen **`list`** er innebygd i Python, og står for stort sett den samme funksjonaliteten som en **array** i mange andre språk. En liste defineres vanligvis ved hjelp av hakeparanteser, `[ ... ]`, kan inneholde vilkårlige datatyper og er 0-indeksert."
   ]
  },
  {
   "cell_type": "code",
   "execution_count": 38,
   "metadata": {},
   "outputs": [
    {
     "data": {
      "text/plain": [
       "'Heisann'"
      ]
     },
     "execution_count": 38,
     "metadata": {},
     "output_type": "execute_result"
    }
   ],
   "source": [
    "ting = [True, 3.14, \"Heisann\", 10, 12]\n",
    "ting[2]"
   ]
  },
  {
   "cell_type": "code",
   "execution_count": 39,
   "metadata": {},
   "outputs": [
    {
     "data": {
      "text/plain": [
       "5"
      ]
     },
     "execution_count": 39,
     "metadata": {},
     "output_type": "execute_result"
    }
   ],
   "source": [
    "len(ting)"
   ]
  },
  {
   "cell_type": "code",
   "execution_count": 40,
   "metadata": {},
   "outputs": [
    {
     "data": {
      "text/plain": [
       "[True, 3.14, 'Heisann', 10, 12, 'En ny ting']"
      ]
     },
     "execution_count": 40,
     "metadata": {},
     "output_type": "execute_result"
    }
   ],
   "source": [
    "ting.append(\"En ny ting\")\n",
    "ting"
   ]
  },
  {
   "cell_type": "code",
   "execution_count": 41,
   "metadata": {},
   "outputs": [
    {
     "data": {
      "text/plain": [
       "[3.14, 'Heisann', 10]"
      ]
     },
     "execution_count": 41,
     "metadata": {},
     "output_type": "execute_result"
    }
   ],
   "source": [
    "ting[1:4]"
   ]
  },
  {
   "cell_type": "code",
   "execution_count": 42,
   "metadata": {},
   "outputs": [
    {
     "data": {
      "text/plain": [
       "['Heisann']"
      ]
     },
     "execution_count": 42,
     "metadata": {},
     "output_type": "execute_result"
    }
   ],
   "source": [
    "ting[2:3]"
   ]
  },
  {
   "cell_type": "markdown",
   "metadata": {},
   "source": [
    "Som eksemplene viser kan man hente ting fra listen ved å sette indekser i hakeparenteser. Man kan også bruke en **slice** for å hente ut en delliste. En slice lager et intervall av indekser ved å putte kolon mellom dem. Man kan la indeksene være blanke, de vil i så fall bli tolket som henholdsvis første og siste element. Legg spesielt merke til at i det siste eksempelet bruker vi `ting[2:3]` for å hente ut en delliste med bare ett element. Dette er forskjellig fra å hente ut elementet selv med `ting[2]`.\n",
    "\n",
    "## En tekststreng ligner en liste\n",
    "\n",
    "På mange måter oppfører en **tekststreng** seg veldig likt en liste. Vi kan bruke de samme operasjonene for å hente ut enkeltbokstaver eller delstrenger."
   ]
  },
  {
   "cell_type": "code",
   "execution_count": 43,
   "metadata": {},
   "outputs": [
    {
     "data": {
      "text/plain": [
       "'k'"
      ]
     },
     "execution_count": 43,
     "metadata": {},
     "output_type": "execute_result"
    }
   ],
   "source": [
    "tekst = \"Tekststreng\"\n",
    "tekst[2]"
   ]
  },
  {
   "cell_type": "code",
   "execution_count": 44,
   "metadata": {},
   "outputs": [
    {
     "data": {
      "text/plain": [
       "11"
      ]
     },
     "execution_count": 44,
     "metadata": {},
     "output_type": "execute_result"
    }
   ],
   "source": [
    "len(tekst)"
   ]
  },
  {
   "cell_type": "code",
   "execution_count": 45,
   "metadata": {},
   "outputs": [
    {
     "data": {
      "text/plain": [
       "'eks'"
      ]
     },
     "execution_count": 45,
     "metadata": {},
     "output_type": "execute_result"
    }
   ],
   "source": [
    "tekst[1:4]"
   ]
  },
  {
   "cell_type": "code",
   "execution_count": 46,
   "metadata": {},
   "outputs": [
    {
     "data": {
      "text/plain": [
       "'Tekstst'"
      ]
     },
     "execution_count": 46,
     "metadata": {},
     "output_type": "execute_result"
    }
   ],
   "source": [
    "tekst[:7]"
   ]
  },
  {
   "cell_type": "code",
   "execution_count": 47,
   "metadata": {},
   "outputs": [
    {
     "data": {
      "text/plain": [
       "'Tktteg'"
      ]
     },
     "execution_count": 47,
     "metadata": {},
     "output_type": "execute_result"
    }
   ],
   "source": [
    "tekst[::2]"
   ]
  },
  {
   "cell_type": "markdown",
   "metadata": {},
   "source": [
    "I det siste eksempelet har vi også spesifisert steglengde i slicen. Ved å skrive et andre kolon kan man spesifisere `start:slutt:steg`. Det siste eksempelet skriver ut annenhver bokstav fra tekststrengen. En Pythonsk måte å reversere en streng på er enkelt og greit `tekst[::-1]`.\n",
    "\n",
    "## Iteratorer\n",
    "\n",
    "Både `list` og `str` er eksempler på en struktur som kalles **sequence** og som støtter indeksering og slicing. Disse er igjen del av en større klasse objekter som kalles iteratorer.\n",
    "\n",
    "En **iterator** er et objekt som kan returnere elementene sine en etter en. Disse finnes overalt i Python, og i tillegg til lister og strenger er `set`, `dict` og filer eksempler på iteratorer (mer om disse senere).\n",
    "\n",
    "## `for`-løkker\n",
    "\n",
    "I Python fungerer `for`-løkker litt annerledes enn i mange andre språk, da `for`-løkkene baserer seg på iteratorer. Slike løkker defineres ved å skrive `for element in iterator:`, for eksempel som dette:"
   ]
  },
  {
   "cell_type": "code",
   "execution_count": 48,
   "metadata": {},
   "outputs": [
    {
     "name": "stdout",
     "output_type": "stream",
     "text": [
      "Ordet Norge har 5 bokstaver\n",
      "Ordet Oslo har 4 bokstaver\n",
      "Ordet November har 8 bokstaver\n",
      "Ordet Python har 6 bokstaver\n"
     ]
    }
   ],
   "source": [
    "words = [\"Norge\", \"Oslo\", \"November\", \"Python\"]\n",
    "\n",
    "for word in words:\n",
    "    print(f\"Ordet {word} har {len(word)} bokstaver\")"
   ]
  },
  {
   "cell_type": "markdown",
   "metadata": {},
   "source": [
    "Denne måten å skrive `for`-løkker på kan føles litt uvant i starten, men siden man stort sett slipper å tenke på indekser er det mange vanlige _off-by-one_-bugs som aldri blir skrevet i Python.\n",
    "\n",
    "## Avansert iterasjon\n",
    "\n",
    "En vanlig bruk av indekser i andre språk er å kombinere to lister. Dette kan man gjøre med `zip` i Python (tenk glidelås)."
   ]
  },
  {
   "cell_type": "code",
   "execution_count": 49,
   "metadata": {},
   "outputs": [
    {
     "name": "stdout",
     "output_type": "stream",
     "text": [
      "Andenes ligger i Nordland\n",
      "Hamar ligger i Hedmark\n",
      "Stavanger ligger i Rogaland\n"
     ]
    }
   ],
   "source": [
    "places = [\"Andenes\", \"Hamar\", \"Stavanger\"]\n",
    "regions = [\"Nordland\", \"Hedmark\", \"Rogaland\"]\n",
    "\n",
    "for place, region in zip(places, regions):\n",
    "    print(f\"{place} ligger i {region}\")"
   ]
  },
  {
   "cell_type": "markdown",
   "metadata": {},
   "source": [
    "Dersom man behøver å generere en liste med tall kan man bruke `range`. For eksempel gir `range(1, 20, 2)` alle oddetallene mellom 1 og 20. Dersom man trenger indeksene kan man bruke `enumerate`."
   ]
  },
  {
   "cell_type": "code",
   "execution_count": 50,
   "metadata": {},
   "outputs": [
    {
     "name": "stdout",
     "output_type": "stream",
     "text": [
      "Oslo er nummer 1\n",
      "Bergen er nummer 2\n",
      "Trondheim er nummer 3\n",
      "Stavanger er nummer 4\n",
      "Drammen er nummer 5\n"
     ]
    }
   ],
   "source": [
    "cities = [\"Oslo\", \"Bergen\", \"Trondheim\", \"Stavanger\", \"Drammen\"]\n",
    "\n",
    "for index, city in enumerate(cities, start=1):\n",
    "    print(f\"{city} er nummer {index}\")"
   ]
  },
  {
   "cell_type": "markdown",
   "metadata": {},
   "source": [
    "## List comprehensions\n",
    "\n",
    "Enkle `for`-løkker kan ofte formuleres som en **list comprehension** i stedet. En list comprehension omformer en liste til en annen, og har formen `[expression for element in iterator]`."
   ]
  },
  {
   "cell_type": "code",
   "execution_count": 51,
   "metadata": {},
   "outputs": [
    {
     "data": {
      "text/plain": [
       "[1, 2, 3, 4, 5, 6, 7, 8, 9, 10, 11, 12, 13, 14, 15]"
      ]
     },
     "execution_count": 51,
     "metadata": {},
     "output_type": "execute_result"
    }
   ],
   "source": [
    "numbers = range(1, 16)\n",
    "[x for x in numbers]"
   ]
  },
  {
   "cell_type": "code",
   "execution_count": 52,
   "metadata": {},
   "outputs": [
    {
     "data": {
      "text/plain": [
       "[1, 4, 9, 16, 25, 36, 49, 64, 81, 100, 121, 144, 169, 196, 225]"
      ]
     },
     "execution_count": 52,
     "metadata": {},
     "output_type": "execute_result"
    }
   ],
   "source": [
    "[x**2 for x in numbers]"
   ]
  },
  {
   "cell_type": "code",
   "execution_count": 53,
   "metadata": {},
   "outputs": [
    {
     "data": {
      "text/plain": [
       "[1, 9, 25, 49, 81, 121, 169, 225]"
      ]
     },
     "execution_count": 53,
     "metadata": {},
     "output_type": "execute_result"
    }
   ],
   "source": [
    "[x**2 for x in numbers if x % 2]"
   ]
  },
  {
   "cell_type": "markdown",
   "metadata": {},
   "source": [
    "I det siste eksempelet ser vi at vi også kan filtrere hvilke elementer som skal være med i den nye listen. En list comprehension kan alltid skrives om som en `for`-løkke. For eksempel er koden `squares = [x**2 for x in numbers]` omtrent ekvivalent med følgende:"
   ]
  },
  {
   "cell_type": "code",
   "execution_count": 54,
   "metadata": {},
   "outputs": [
    {
     "data": {
      "text/plain": [
       "[1, 4, 9, 16, 25, 36, 49, 64, 81, 100, 121, 144, 169, 196, 225]"
      ]
     },
     "execution_count": 54,
     "metadata": {},
     "output_type": "execute_result"
    }
   ],
   "source": [
    "numbers = range(1, 16)\n",
    "squares = list()\n",
    "for x in numbers:\n",
    "    squares.append(x**2)\n",
    "\n",
    "squares"
   ]
  },
  {
   "cell_type": "markdown",
   "metadata": {},
   "source": [
    "Et bra kriterie for å velge når man skal bruke list comprehensions er lesbarhet.\n",
    "\n",
    "## Muterbare og ikke-muterbare objekter\n",
    "\n",
    "Et annet sentralt konsept i Python er muterbarhet. Et muterbart objekt er et objekt som kan endre verdi etter at det er laget. For eksempel er en `list` muterbar, mens en `str` ikke er det."
   ]
  },
  {
   "cell_type": "code",
   "execution_count": 55,
   "metadata": {},
   "outputs": [
    {
     "data": {
      "text/plain": [
       "139703811734976"
      ]
     },
     "execution_count": 55,
     "metadata": {},
     "output_type": "execute_result"
    }
   ],
   "source": [
    "byer = [\"Oslo\", \"Bergen\", \"Trondheim\"]\n",
    "id(byer)"
   ]
  },
  {
   "cell_type": "code",
   "execution_count": 56,
   "metadata": {},
   "outputs": [
    {
     "data": {
      "text/plain": [
       "['Oslo', 'Bergen', 'Stavanger']"
      ]
     },
     "execution_count": 56,
     "metadata": {},
     "output_type": "execute_result"
    }
   ],
   "source": [
    "byer[2] = \"Stavanger\"\n",
    "byer"
   ]
  },
  {
   "cell_type": "code",
   "execution_count": 57,
   "metadata": {},
   "outputs": [
    {
     "data": {
      "text/plain": [
       "['Oslo', 'Bergen', 'Trondheim', 'Stavanger']"
      ]
     },
     "execution_count": 57,
     "metadata": {},
     "output_type": "execute_result"
    }
   ],
   "source": [
    "byer.insert(2, \"Trondheim\")\n",
    "byer"
   ]
  },
  {
   "cell_type": "code",
   "execution_count": 58,
   "metadata": {},
   "outputs": [
    {
     "data": {
      "text/plain": [
       "139703811734976"
      ]
     },
     "execution_count": 58,
     "metadata": {},
     "output_type": "execute_result"
    }
   ],
   "source": [
    "id(byer)"
   ]
  },
  {
   "cell_type": "markdown",
   "metadata": {},
   "source": [
    "Funksjonen `id` returnerer en unik identifikator for et objekt (typisk minneadressen til objektet). I eksempelet over ser vi at objektet som `byer` refererer til er det samme gjennom hele koden. Det er objektet selv som har endret verdi."
   ]
  },
  {
   "cell_type": "code",
   "execution_count": 59,
   "metadata": {},
   "outputs": [
    {
     "data": {
      "text/plain": [
       "139703811667760"
      ]
     },
     "execution_count": 59,
     "metadata": {},
     "output_type": "execute_result"
    }
   ],
   "source": [
    "tekst = \"Vaskdrag\"\n",
    "id(tekst)"
   ]
  },
  {
   "cell_type": "code",
   "execution_count": 60,
   "metadata": {},
   "outputs": [
    {
     "ename": "TypeError",
     "evalue": "'str' object does not support item assignment",
     "output_type": "error",
     "traceback": [
      "\u001b[0;31m---------------------------------------------------------------------------\u001b[0m",
      "\u001b[0;31mTypeError\u001b[0m                                 Traceback (most recent call last)",
      "Cell \u001b[0;32mIn [60], line 1\u001b[0m\n\u001b[0;32m----> 1\u001b[0m \u001b[43mtekst\u001b[49m\u001b[43m[\u001b[49m\u001b[38;5;241;43m3\u001b[39;49m\u001b[43m]\u001b[49m \u001b[38;5;241m=\u001b[39m \u001b[38;5;124m\"\u001b[39m\u001b[38;5;124ms\u001b[39m\u001b[38;5;124m\"\u001b[39m\n",
      "\u001b[0;31mTypeError\u001b[0m: 'str' object does not support item assignment"
     ]
    }
   ],
   "source": [
    "tekst[3] = \"s\""
   ]
  },
  {
   "cell_type": "code",
   "execution_count": 61,
   "metadata": {},
   "outputs": [
    {
     "data": {
      "text/plain": [
       "139703811410800"
      ]
     },
     "execution_count": 61,
     "metadata": {},
     "output_type": "execute_result"
    }
   ],
   "source": [
    "tekst = \"Vassdrag\"\n",
    "id(tekst)"
   ]
  },
  {
   "cell_type": "markdown",
   "metadata": {},
   "source": [
    "Tekststrenger er ikke muterbare, som vi oppdager dersom vi prøver å forandre bare en bokstav i strengen. For å endre verdien av `tekst` må vi i stedet tilordne et helt nytt strengobjekt til variabelen. Ved hjelp av `id` bekrefter vi at `tekst` peker til et nytt objekt.\n",
    "\n",
    "Muterbarhet har noen subtile konsekvenser. I utgangspunktet opererer Python som hovedregel på pekere til objekter (_pass-by-reference_), ikke på verdiene til objektene (_pass-by-value_). De følgende eksemplene illustrerer igjen forskjellen på muterbare og ikke-muterbare objekter."
   ]
  },
  {
   "cell_type": "code",
   "execution_count": 62,
   "metadata": {},
   "outputs": [
    {
     "data": {
      "text/plain": [
       "['Oslo', 'Bergen', 'Trondheim']"
      ]
     },
     "execution_count": 62,
     "metadata": {},
     "output_type": "execute_result"
    }
   ],
   "source": [
    "byer = [\"Oslo\", \"Narvik\", \"Trondheim\"]\n",
    "byer2 = byer\n",
    "byer2[1] = \"Bergen\"\n",
    "byer"
   ]
  },
  {
   "cell_type": "markdown",
   "metadata": {},
   "source": [
    "Siden `byer` og `byer2` peker til samme objekt, og det objektet er en muterbar `list`, endres også verdien av `byer` når `byer2` oppdateres."
   ]
  },
  {
   "cell_type": "code",
   "execution_count": 63,
   "metadata": {},
   "outputs": [
    {
     "data": {
      "text/plain": [
       "(139704592783728, 139704592783728)"
      ]
     },
     "execution_count": 63,
     "metadata": {},
     "output_type": "execute_result"
    }
   ],
   "source": [
    "tekst = \"Perl\"\n",
    "tekst2 = tekst\n",
    "id(tekst), id(tekst2)"
   ]
  },
  {
   "cell_type": "code",
   "execution_count": 64,
   "metadata": {},
   "outputs": [
    {
     "data": {
      "text/plain": [
       "'Perl'"
      ]
     },
     "execution_count": 64,
     "metadata": {},
     "output_type": "execute_result"
    }
   ],
   "source": [
    "tekst2 = \"Python\"\n",
    "tekst"
   ]
  },
  {
   "cell_type": "code",
   "execution_count": 65,
   "metadata": {},
   "outputs": [
    {
     "data": {
      "text/plain": [
       "(139704592783728, 139704618084464)"
      ]
     },
     "execution_count": 65,
     "metadata": {},
     "output_type": "execute_result"
    }
   ],
   "source": [
    "id(tekst), id(tekst2)"
   ]
  },
  {
   "cell_type": "markdown",
   "metadata": {},
   "source": [
    "Her peker i utgangspunktet `tekst` og `tekst2` til samme objekt. Men siden dette strengobjektet ikke er muterbart endres pekeren fra `tekst2` når denne oppdateres. Dermed endres ikke verdien av `tekst`.\n",
    "\n",
    "Den vanligste måten å faktisk kopiere elementene i en `list` på er ved hjelp av slicing eller `copy()`-metoden."
   ]
  },
  {
   "cell_type": "code",
   "execution_count": 66,
   "metadata": {},
   "outputs": [
    {
     "data": {
      "text/plain": [
       "(139703811934016, 139703811410816, 139703811922944)"
      ]
     },
     "execution_count": 66,
     "metadata": {},
     "output_type": "execute_result"
    }
   ],
   "source": [
    "byer = [\"Oslo\", \"Narvik\", \"Trondheim\"]\n",
    "byer2 = byer[:]\n",
    "byer3 = byer.copy()\n",
    "id(byer), id(byer2), id(byer3)"
   ]
  },
  {
   "cell_type": "code",
   "execution_count": 67,
   "metadata": {},
   "outputs": [
    {
     "data": {
      "text/plain": [
       "['Oslo', 'Narvik', 'Trondheim']"
      ]
     },
     "execution_count": 67,
     "metadata": {},
     "output_type": "execute_result"
    }
   ],
   "source": [
    "byer2[1] = \"Bergen\"\n",
    "byer"
   ]
  },
  {
   "cell_type": "code",
   "execution_count": 68,
   "metadata": {},
   "outputs": [
    {
     "data": {
      "text/plain": [
       "[139703811657328, 139703811829552, 139703811656048]"
      ]
     },
     "execution_count": 68,
     "metadata": {},
     "output_type": "execute_result"
    }
   ],
   "source": [
    "[id(by) for by in byer]"
   ]
  },
  {
   "cell_type": "code",
   "execution_count": 69,
   "metadata": {},
   "outputs": [
    {
     "data": {
      "text/plain": [
       "[139703811657328, 139703811657904, 139703811656048]"
      ]
     },
     "execution_count": 69,
     "metadata": {},
     "output_type": "execute_result"
    }
   ],
   "source": [
    "[id(by) for by in byer2]"
   ]
  },
  {
   "cell_type": "markdown",
   "metadata": {},
   "source": [
    "Merk at dette er en såkalt grunn kopi _shallow copy_. Det vil si at elementene i den nye listen peker til elementene i den gamle listen. Det vil si at i eksempelet over er `id(byer2[0])` lik `id(byer[0])`. Den praktiske konsekvensen av dette er at om du kopierer nestede lister, vil de innerste listene fortsatt peke til de samme objektene og kan derfor påvirke hverandre. I standardbiblioteket `copy` finnes funksjonen `deepcopy()` som kan utføre en komplett kopi av nestede strukturer.\n",
    "\n",
    "## Flere datastrukturer\n",
    "\n",
    "I tillegg til `list` er flere avanserte datastrukturer standard i Python. En **`tuple`** ligner mye på en `list`. Hovedforskjellen er at en `tuple` ikke er muterbar. Konsekvensen av dette er at en `tuple` ofte brukes for å beskrive informasjon som passer i en _database record_. For eksempel `person = ('Geir Arne', 'Hjelle', 'Oslo')` eller `koordinater = (-3.2, 2.9)`. \n",
    "\n",
    "Merk at en `tuple` defineres av kommaet `,`, men det er vanlig å stort sett bruke paranteser i tillegg. Dersom det er behov for et `tuple` med ett element må derfor fortsatt kommaet skrives: `tall = (12, )`.\n",
    "\n",
    "Python støtter **tuple unpacking** som betyr at man kan pakke ut et `tuple` og tilordne verdiene til forskjellige variable. Dette gjør det lett å flippe variable eller simulere funksjoner med flere returverdier."
   ]
  },
  {
   "cell_type": "code",
   "execution_count": 70,
   "metadata": {},
   "outputs": [
    {
     "data": {
      "text/plain": [
       "'Hjelle'"
      ]
     },
     "execution_count": 70,
     "metadata": {},
     "output_type": "execute_result"
    }
   ],
   "source": [
    "fornavn, etternavn, by = (\"Geir Arne\", \"Hjelle\", \"Oslo\")\n",
    "etternavn"
   ]
  },
  {
   "cell_type": "code",
   "execution_count": 71,
   "metadata": {},
   "outputs": [
    {
     "data": {
      "text/plain": [
       "'Geir Arne'"
      ]
     },
     "execution_count": 71,
     "metadata": {},
     "output_type": "execute_result"
    }
   ],
   "source": [
    "fornavn, etternavn = etternavn, fornavn\n",
    "etternavn"
   ]
  },
  {
   "cell_type": "code",
   "execution_count": 72,
   "metadata": {},
   "outputs": [
    {
     "data": {
      "text/plain": [
       "(7, 2)"
      ]
     },
     "execution_count": 72,
     "metadata": {},
     "output_type": "execute_result"
    }
   ],
   "source": [
    "divmod(23, 3)"
   ]
  },
  {
   "cell_type": "code",
   "execution_count": 73,
   "metadata": {},
   "outputs": [
    {
     "data": {
      "text/plain": [
       "2"
      ]
     },
     "execution_count": 73,
     "metadata": {},
     "output_type": "execute_result"
    }
   ],
   "source": [
    "kvotient, rest = divmod(23, 3)\n",
    "rest"
   ]
  },
  {
   "cell_type": "markdown",
   "metadata": {},
   "source": [
    "En **`dict`** eller **dictionary** er Pythons versjon av **hashmap** eller **associative arrays** som finnes i mange andre språk. Disse er sterkt optimaliserte og kraftige datastrukturer, som også brukes mye internt i Python. En `dict` er en samling av `key: value`-par. Den defineres ved hjelp av krøllparanteser, som i eksempelet under."
   ]
  },
  {
   "cell_type": "code",
   "execution_count": 74,
   "metadata": {},
   "outputs": [
    {
     "data": {
      "text/plain": [
       "'Hedmark'"
      ]
     },
     "execution_count": 74,
     "metadata": {},
     "output_type": "execute_result"
    }
   ],
   "source": [
    "fylker = {\"Andenes\": \"Nordland\", \"Hamar\": \"Hedmark\"}\n",
    "fylker[\"Hamar\"]"
   ]
  },
  {
   "cell_type": "code",
   "execution_count": 75,
   "metadata": {},
   "outputs": [
    {
     "data": {
      "text/plain": [
       "{'Andenes': 'Nordland', 'Hamar': 'Hedmark', 'Bergen': 'Hordaland'}"
      ]
     },
     "execution_count": 75,
     "metadata": {},
     "output_type": "execute_result"
    }
   ],
   "source": [
    "fylker[\"Bergen\"] = \"Hordaland\"\n",
    "fylker"
   ]
  },
  {
   "cell_type": "markdown",
   "metadata": {},
   "source": [
    "Som eksempelet over hinter til er også `dict` en muterbar datastruktur. Nøklene må være unike og ikke-muterbare, mens verdiene kan være hvilke som helst Python-objekter inkludert nye `list`er eller `dict`er.\n",
    "\n",
    "Den siste datastrukturen vi vil nevne her er **`set`**. Et `set` er en ikke-ordnet samling av objekter. Elementene i et `set` må være ikke-muterbare og duplikater vil bli ignorert. Vanlige mengdeoperasjoner som union (`|`), snitt (`&`) og komplement (`-`) er tilgjengelig. Rekkefølgen på elementene i et `set` tilfeldig."
   ]
  },
  {
   "cell_type": "code",
   "execution_count": 76,
   "metadata": {},
   "outputs": [
    {
     "data": {
      "text/plain": [
       "{'Bergen', 'Elverum', 'Hamar', 'Os'}"
      ]
     },
     "execution_count": 76,
     "metadata": {},
     "output_type": "execute_result"
    }
   ],
   "source": [
    "hedmark = {\"Hamar\", \"Elverum\", \"Os\"}\n",
    "hordaland = {\"Bergen\", \"Os\"}\n",
    "\n",
    "hedmark | hordaland"
   ]
  },
  {
   "cell_type": "code",
   "execution_count": 77,
   "metadata": {},
   "outputs": [
    {
     "data": {
      "text/plain": [
       "{'Os'}"
      ]
     },
     "execution_count": 77,
     "metadata": {},
     "output_type": "execute_result"
    }
   ],
   "source": [
    "hedmark & hordaland"
   ]
  },
  {
   "cell_type": "code",
   "execution_count": 78,
   "metadata": {},
   "outputs": [
    {
     "data": {
      "text/plain": [
       "{'Elverum', 'Hamar'}"
      ]
     },
     "execution_count": 78,
     "metadata": {},
     "output_type": "execute_result"
    }
   ],
   "source": [
    "hedmark - hordaland"
   ]
  },
  {
   "cell_type": "markdown",
   "metadata": {},
   "source": [
    "En vanlig måte å bruke `set` på er å fjerne duplikater fra en liste."
   ]
  },
  {
   "cell_type": "code",
   "execution_count": 79,
   "metadata": {},
   "outputs": [
    {
     "data": {
      "text/plain": [
       "['Hamar', 'Os', 'Bergen', 'Elverum']"
      ]
     },
     "execution_count": 79,
     "metadata": {},
     "output_type": "execute_result"
    }
   ],
   "source": [
    "counties = [\"Hamar\", \"Elverum\", \"Os\", \"Bergen\", \"Os\"]\n",
    "list(set(counties))"
   ]
  },
  {
   "cell_type": "markdown",
   "metadata": {},
   "source": [
    "Siden `set` representerer en ikke-ordnet mengde vil ikke nødvendigvis rekkefølgen i listen bevares. Dersom vi må bevare rekkefølgen i listen mens vi fjerner duplikatene kan vi for eksempel bruke en list comprehension sammen med et `set` på denne måten:"
   ]
  },
  {
   "cell_type": "code",
   "execution_count": 80,
   "metadata": {},
   "outputs": [
    {
     "data": {
      "text/plain": [
       "['Hamar', 'Elverum', 'Os', 'Bergen']"
      ]
     },
     "execution_count": 80,
     "metadata": {},
     "output_type": "execute_result"
    }
   ],
   "source": [
    "counties = [\"Hamar\", \"Elverum\", \"Os\", \"Bergen\", \"Os\"]\n",
    "seen = set()\n",
    "[x for x in counties if x not in seen and not seen.add(x)]"
   ]
  },
  {
   "cell_type": "markdown",
   "metadata": {},
   "source": [
    "Tabellen nedenfor oppsummerer disse mer avanserte datastrukturene.\n",
    "\n",
    "- **`tuple`:** ikke-muterbare, ordnede følger\n",
    "    - for eksempel `posisjon = (1202462.712, 252734.419, 6237766.073)`\n",
    "- **`list`:** muterbare, ordnede følger\n",
    "    - for eksempel `byer = ['Oslo', 'Bergen', 'Trondheim', 'Stavanger']`\n",
    "- **`dict`:** muterbare, ikke-ordnede avbildninger\n",
    "    - for eksempel `kommunenr = {'0716': 'Re', '0441': 'Os', '1243': 'Os'}`\n",
    "- **`set`:** muterbare, ikke-ordnede mengder (duplikater blir ignorert)\n",
    "    - for eksempel `fornavn = {'Geir', 'Arne', 'Hans', 'Geir', 'Nils'}`\n",
    "\n",
    "## Funksjoner er også objekter\n",
    "\n",
    "I Python er funksjoner objekter på lik linje med alle andre objekter. En litt morsom anvendelse av dette, som overtar for en del bruksområder til `switch` (som ikke eksisterer i Python), er å kalle forskjellige funksjoner basert på et gitt nøkkelord."
   ]
  },
  {
   "cell_type": "code",
   "execution_count": 81,
   "metadata": {},
   "outputs": [
    {
     "data": {
      "text/plain": [
       "18"
      ]
     },
     "execution_count": 81,
     "metadata": {},
     "output_type": "execute_result"
    }
   ],
   "source": [
    "def add(x, y):\n",
    "    return x + y\n",
    "\n",
    "\n",
    "def multiply(x, y):\n",
    "    return x * y\n",
    "\n",
    "\n",
    "def calculate(op, x, y):\n",
    "    return OPERATIONS[op](x, y)\n",
    "\n",
    "\n",
    "OPERATIONS = {\n",
    "    \"pluss\": add,\n",
    "    \"gange\": multiply,\n",
    "}\n",
    "\n",
    "calculate(\"gange\", 3, 6)"
   ]
  },
  {
   "cell_type": "markdown",
   "metadata": {},
   "source": [
    "Legg merke til at i `calculate`-funksjonen slår vi først opp i `OPERATIONS` og deretter kaller vi funksjonen vi finner med parametrene `x` og `y`."
   ]
  },
  {
   "cell_type": "markdown",
   "metadata": {},
   "source": [
    "# Filstier og filer\n",
    "\n",
    "Python har god støtte for å arbeide med filstier og filer, og leser lett både tekst- og binærfiler. I standardbiblioteket finnes også moduler for å jobbe direkte med zippede filer.\n",
    "\n",
    "## Filstier\n",
    "\n",
    "Biblioteket `pathlib` er veldig nyttig når du jobber med filer. Det passer blant annet på at filstier kan behandles på en uniform måte uavhengig av operativsystemet du kjører på. Det er veldig nyttig om du for eksempel utvikler et skript på Windows, men skal kjøre det på en Linuxserver."
   ]
  },
  {
   "cell_type": "code",
   "execution_count": 82,
   "metadata": {},
   "outputs": [
    {
     "data": {
      "text/plain": [
       "PosixPath('hello.py')"
      ]
     },
     "execution_count": 82,
     "metadata": {},
     "output_type": "execute_result"
    }
   ],
   "source": [
    "import pathlib\n",
    "\n",
    "path = pathlib.Path(\"hello.py\")\n",
    "path"
   ]
  },
  {
   "cell_type": "code",
   "execution_count": 83,
   "metadata": {},
   "outputs": [
    {
     "data": {
      "text/plain": [
       "True"
      ]
     },
     "execution_count": 83,
     "metadata": {},
     "output_type": "execute_result"
    }
   ],
   "source": [
    "path.exists()"
   ]
  },
  {
   "cell_type": "code",
   "execution_count": 84,
   "metadata": {},
   "outputs": [
    {
     "data": {
      "text/plain": [
       "PosixPath('/home/gahjelle/Dropbox/presentasjoner/20220922_python_nve/intro/hello.py')"
      ]
     },
     "execution_count": 84,
     "metadata": {},
     "output_type": "execute_result"
    }
   ],
   "source": [
    "full_path = path.resolve()\n",
    "full_path"
   ]
  },
  {
   "cell_type": "code",
   "execution_count": 85,
   "metadata": {},
   "outputs": [
    {
     "data": {
      "text/plain": [
       "('intro', '.py', 'hello')"
      ]
     },
     "execution_count": 85,
     "metadata": {},
     "output_type": "execute_result"
    }
   ],
   "source": [
    "full_path.parent.name, full_path.suffix, full_path.stem"
   ]
  },
  {
   "cell_type": "code",
   "execution_count": 86,
   "metadata": {},
   "outputs": [
    {
     "data": {
      "text/plain": [
       "PosixPath('/home/gahjelle/Dropbox/presentasjoner/20220922_python_nve/intro/goodbye.py')"
      ]
     },
     "execution_count": 86,
     "metadata": {},
     "output_type": "execute_result"
    }
   ],
   "source": [
    "full_path.with_name(\"goodbye.py\")"
   ]
  },
  {
   "cell_type": "markdown",
   "metadata": {},
   "source": [
    "Du kan opprette `Path`-objekter fra hele filstier, eller bruke `/` for å sette sammen `Path`-objekter. På Windows bør du bruke en `r` foran filsti-strengen for å unngå problemer med `\\`."
   ]
  },
  {
   "cell_type": "code",
   "execution_count": 87,
   "metadata": {},
   "outputs": [],
   "source": [
    "code_dir = pathlib.Path.home() / \"python\"\n",
    "code_dir.mkdir(parents=True, exist_ok=True)\n",
    "\n",
    "code_file = code_dir / \"cool_program.py\"\n",
    "code_file.touch()"
   ]
  },
  {
   "cell_type": "markdown",
   "metadata": {},
   "source": [
    "## Åpning og lesing av filer\n",
    "\n",
    "Python åpner filer gjennom den innebygde funksjonen `open()`. I all enkelhet trenger man bare å spesifisere filstien og om filen skal åpnes i lese- eller skrivemodus."
   ]
  },
  {
   "cell_type": "code",
   "execution_count": 88,
   "metadata": {},
   "outputs": [
    {
     "name": "stdout",
     "output_type": "stream",
     "text": [
      "['def say_hello(greeting, name):\\n', '    print(f\"{greeting} {name}\")\\n', '\\n', \"if __name__ == '__main__':\\n\", \"    say_hello('Hei', 'alle sammen')\\n\", \"    say_hello('Yo!', 'Geir Arne!')\\n\"]\n"
     ]
    }
   ],
   "source": [
    "with open(\"hello.py\") as fid:\n",
    "    print(fid.readlines())"
   ]
  },
  {
   "cell_type": "markdown",
   "metadata": {},
   "source": [
    "Du kan også gjøre det samme ved å kalle `open()` direkte på et filstiobjekt:"
   ]
  },
  {
   "cell_type": "code",
   "execution_count": 89,
   "metadata": {},
   "outputs": [
    {
     "name": "stdout",
     "output_type": "stream",
     "text": [
      "['def say_hello(greeting, name):\\n', '    print(f\"{greeting} {name}\")\\n', '\\n', \"if __name__ == '__main__':\\n\", \"    say_hello('Hei', 'alle sammen')\\n\", \"    say_hello('Yo!', 'Geir Arne!')\\n\"]\n"
     ]
    }
   ],
   "source": [
    "with path.open() as fid:\n",
    "    print(fid.readlines())"
   ]
  },
  {
   "cell_type": "markdown",
   "metadata": {},
   "source": [
    "Videre kan du kalle `read_text()` eller `read_binary()` på filstiobjekter, som leser inn hele filen på en gang:"
   ]
  },
  {
   "cell_type": "code",
   "execution_count": 90,
   "metadata": {},
   "outputs": [
    {
     "data": {
      "text/plain": [
       "'def say_hello(greeting, name):\\n    print(f\"{greeting} {name}\")\\n\\nif __name__ == \\'__main__\\':\\n    say_hello(\\'Hei\\', \\'alle sammen\\')\\n    say_hello(\\'Yo!\\', \\'Geir Arne!\\')\\n'"
      ]
     },
     "execution_count": 90,
     "metadata": {},
     "output_type": "execute_result"
    }
   ],
   "source": [
    "path.read_text()"
   ]
  },
  {
   "cell_type": "markdown",
   "metadata": {},
   "source": [
    "Uttrykket `with` starter en **context manager**. Slike kan gjøre mange nyttige ting for oss. I sammenheng med fillesing håndterer den lukking av filen, samt at ressurser blir skikkelig ryddet opp dersom feil oppstår under filhåndteringen."
   ]
  },
  {
   "cell_type": "code",
   "execution_count": 91,
   "metadata": {},
   "outputs": [
    {
     "name": "stdout",
     "output_type": "stream",
     "text": [
      "Writing cat.py\n"
     ]
    }
   ],
   "source": [
    "%%writefile cat.py\n",
    "import sys\n",
    "\n",
    "for filename in sys.argv[1:]:\n",
    "    with open(filename) as fid:\n",
    "        for line in fid:\n",
    "            print(line.rstrip())"
   ]
  },
  {
   "cell_type": "code",
   "execution_count": 92,
   "metadata": {},
   "outputs": [
    {
     "name": "stdout",
     "output_type": "stream",
     "text": [
      "def say_hello(greeting, name):\n",
      "    print(f\"{greeting} {name}\")\n",
      "\n",
      "if __name__ == '__main__':\n",
      "    say_hello('Hei', 'alle sammen')\n",
      "    say_hello('Yo!', 'Geir Arne!')\n",
      "import sys\n",
      "\n",
      "for filename in sys.argv[1:]:\n",
      "    with open(filename) as fid:\n",
      "        for line in fid:\n",
      "            print(line.rstrip())\n"
     ]
    }
   ],
   "source": [
    "!python cat.py hello.py cat.py"
   ]
  },
  {
   "cell_type": "markdown",
   "metadata": {},
   "source": [
    "Med `with` blir filen automatisk lukket når kodeblokken indentert under `with` avsluttes.\n",
    "\n",
    "Som eksempelet ovenfor viser er filpekere (som `fid`) også iteratorer som returnerer innholdet i filen, linje for linje. Alternativt, kan hele filen leses inn i en liste med `readlines()` som i det første eksempelet.\n",
    "\n",
    "## Skriving av filer\n",
    "\n",
    "For å skrive til filer bruker man også `open()`, men nå må man spesifisere `mode='w'` (_write_) eller `mode='a'` (_append_) for at filen skal åpnes i skrivemodus. Om man bruker `w` vil filen overskrives om den allerede finnes, mens `a` gjør at man legger til linjer i en allerede eksisterende fil.\n",
    "\n",
    "Selve innholdet man vil skrive sender man til funksjonen `write()` som man kaller på filpekeren (som `fid` eller `fil_out` nedenfor). Det følgende eksempelet skriver ut den lille gangetabellen til filen `gangetabell.txt`."
   ]
  },
  {
   "cell_type": "code",
   "execution_count": 93,
   "metadata": {},
   "outputs": [],
   "source": [
    "with open(\"gangetabell.txt\", mode=\"w\") as fid:\n",
    "    for number1 in range(1, 11):\n",
    "        for number2 in range(1, 11):\n",
    "            fid.write(f\" {number1 * number2:3d}\")\n",
    "        fid.write(\"\\n\")"
   ]
  },
  {
   "cell_type": "code",
   "execution_count": 94,
   "metadata": {},
   "outputs": [
    {
     "name": "stdout",
     "output_type": "stream",
     "text": [
      "   1   2   3   4   5   6   7   8   9  10\n",
      "   2   4   6   8  10  12  14  16  18  20\n",
      "   3   6   9  12  15  18  21  24  27  30\n",
      "   4   8  12  16  20  24  28  32  36  40\n",
      "   5  10  15  20  25  30  35  40  45  50\n",
      "   6  12  18  24  30  36  42  48  54  60\n",
      "   7  14  21  28  35  42  49  56  63  70\n",
      "   8  16  24  32  40  48  56  64  72  80\n",
      "   9  18  27  36  45  54  63  72  81  90\n",
      "  10  20  30  40  50  60  70  80  90 100\n"
     ]
    }
   ],
   "source": [
    "!python cat.py gangetabell.txt"
   ]
  },
  {
   "cell_type": "markdown",
   "metadata": {},
   "source": [
    "En typisk oppgave er å lese gjennom en fil, gjøre små endringer på den, og deretter skrive den ut igjen. Avhengig av hvor store endringene er kan dette gjøres på forskjellige måter. Det følgende eksempelet viser en vanlig mønster hvor man leser og skriver ut en og en linje, i dette tilfellet skriver vi ut linjenummer først på linjen. Legg spesielt merke til at vi kombinerer to `open`-kommandoer i den samme `with`-blokken. Vi bruker `start=1` fordi Python vanligvis begynner å telle på 0, mens vi vil at første linje skal være nummer 1."
   ]
  },
  {
   "cell_type": "code",
   "execution_count": 95,
   "metadata": {},
   "outputs": [
    {
     "name": "stdout",
     "output_type": "stream",
     "text": [
      "Writing line_numbers.py\n"
     ]
    }
   ],
   "source": [
    "%%writefile line_numbers.py\n",
    "import pathlib\n",
    "\n",
    "path_in = pathlib.Path('line_numbers.py')\n",
    "path_out = pathlib.Path('linjenummer.txt')\n",
    "\n",
    "with path_in.open() as f_in, path_out.open(mode='w') as f_out:\n",
    "    for number, line in enumerate(f_in, start=1):\n",
    "        f_out.write(f'{number:04d} {line}')"
   ]
  },
  {
   "cell_type": "markdown",
   "metadata": {},
   "source": [
    "De to siste eksemplene viser flere eksempler på formaterte tekststrenger i Python. Om man kjører programmet over får man følgende resultat:"
   ]
  },
  {
   "cell_type": "code",
   "execution_count": 96,
   "metadata": {},
   "outputs": [],
   "source": [
    "!python line_numbers.py"
   ]
  },
  {
   "cell_type": "code",
   "execution_count": 97,
   "metadata": {},
   "outputs": [
    {
     "name": "stdout",
     "output_type": "stream",
     "text": [
      "0001 import pathlib\n",
      "0002\n",
      "0003 path_in = pathlib.Path('line_numbers.py')\n",
      "0004 path_out = pathlib.Path('linjenummer.txt')\n",
      "0005\n",
      "0006 with path_in.open() as f_in, path_out.open(mode='w') as f_out:\n",
      "0007     for number, line in enumerate(f_in, start=1):\n",
      "0008         f_out.write(f'{number:04d} {line}')\n"
     ]
    }
   ],
   "source": [
    "!python cat.py linjenummer.txt"
   ]
  },
  {
   "cell_type": "markdown",
   "metadata": {},
   "source": [
    "Tilsvarende `read_text()` og `read_bytes()` kan du også bruke `write_text()` og `write_bytes()` for å skrive til fil.\n",
    "\n",
    "## Et mer realistisk eksempel\n",
    "\n",
    "Dessverre er ekte data som regel litt trøblete å jobbe med. For å se eksempler på utfordringer som kan dukke opp vil vi nå se på et mer realistisk eksempel. Vi ønsker å laste ned og lese en fil som inneholder mye informasjon om alle verdens land. Deretter vil vi plukke ut informasjon fra denne filen og lage en quiz om hovedsteder.\n",
    "\n",
    "OpenGeocode pleide å lage datasettet **Countries of the World (COW)**. Det virker ikke å være like tilgjengelig lengre, men på [github.com/Delanir/LatitudePlay](https://raw.githubusercontent.com/Delanir/LatitudePlay/master/cow.txt) finnes en arkivert kopi. Last ned `Countries of the World - CSV`-filen til datamaskinen din. Dette er en tekstfil som heter `cow.txt`. Pass på at den ligger i samme katalog som du lagrer pythonprogrammene i. Åpne filen og se på den. Det er mye informasjon her!\n",
    "\n",
    "La oss først se om vi klarer å lese filen i Python. Lag et nytt program:"
   ]
  },
  {
   "cell_type": "code",
   "execution_count": 99,
   "metadata": {
    "scrolled": true,
    "tags": []
   },
   "outputs": [
    {
     "name": "stdout",
     "output_type": "stream",
     "text": [
      "﻿# Countries of the World (COW)\n",
      "\n",
      "# Created by OpenGeoCode.Org, Submitted into the Public Domain August 10, 2012 (version 11)\n",
      "\n",
      "#\n",
      "\n",
      "# Abbreviations:\n",
      "\n",
      "# ISO : International Standards Organization\n",
      "\n",
      "# BGN : U.S. Board on Geographic Names\n",
      "\n",
      "# UNGEGN : United Nations Group of Experts on Geographic Names\n",
      "\n",
      "# PCGN: U.K. Permanent Committee on Geographic Names\n",
      "\n",
      "# UN : United Nations\n",
      "\n",
      "# FAO : Food and Agriculture Organization of the United Nations\n",
      "\n",
      "# FIPS : Federal Information Processing Standard\n",
      "\n",
      "# EKI : Institute of Estonian Language\n",
      "\n"
     ]
    }
   ],
   "source": [
    "with open(\"cow.txt\") as f_in:\n",
    "    for line in f_in:\n",
    "        print(line)"
   ]
  },
  {
   "cell_type": "markdown",
   "metadata": {
    "tags": []
   },
   "source": [
    "Dette programmet skal skrive hele filen til skjermen. Om du har problemer med innlesingen kan du prøve å spesifisere at filen er kodet i UTF-8 ved å bruke `open(\"cow.txt\", encoding=\"utf-8\")`.\n",
    "\n",
    "**Merk:** Det er en god vane å **alltid** spesifisere `encoding`. Spesielt på Windows er standardkodingen avhengig av oppsettet slik at uten en spesifsert koding kan programmer som virker på en maskin plutselig ikke virke på en annen.\n",
    "\n",
    "La oss nå se litt nærmere på selve filen `cow.txt`. Først kan vi legge merke til to ting:\n",
    "\n",
    "- Øverst i filen er det flere linjer som begynner med tegnet `#` som ikke inneholder informasjon vi er interessert i. Vi   bør ignorere disse linjene.\n",
    "- Hver linje (unntatt linjene som starter med `#`) inneholder informasjon om et land, med hvert informasjonsfelt skilt med semikolon. Vi vil plukke ut noen av disse informasjonsfeltene.\n",
    "\n",
    "Utvid programmet ditt slik at det ser slik ut:"
   ]
  },
  {
   "cell_type": "code",
   "execution_count": 100,
   "metadata": {},
   "outputs": [
    {
     "name": "stdout",
     "output_type": "stream",
     "text": [
      " Namibia  Windhoek\n",
      " Nauru  Yaren\n",
      " Nepal  Kathmandu\n",
      " Netherlands  Amsterdam\n",
      " New Caledonia  \n",
      " New Zealand  Wellington\n",
      " Nicaragua  Managua\n",
      " Niger  Niamey\n",
      " Nigeria  Abuja\n",
      " Niue  \n",
      " Norfolk Island  \n",
      " Norway  Oslo\n"
     ]
    }
   ],
   "source": [
    "with open(\"cow.txt\") as f_in:\n",
    "    next(f_in)\n",
    "    for line in f_in:\n",
    "        if line.startswith(\"#\"):\n",
    "            continue\n",
    "\n",
    "        fields = line.split(\";\")\n",
    "        print(fields[4], fields[38])"
   ]
  },
  {
   "cell_type": "markdown",
   "metadata": {},
   "source": [
    "Når du kjører dette programmet vil du få en liste over land og hovedsteder. La oss skjønne hva som skjer!\n",
    "\n",
    "- Vi kan sjekke om en linje begynner med tegnet `#` ved hjelp av `line.startswith`. Dersom den gjør det går vi videre til neste linje med `continue`, siden resten av løkken blir hoppet over.\n",
    "- Vi deler hver linje i en liste av felter ved hjelp av `split`, og vi forteller `split` at vi vil bruke\n",
    "  semikolon, `;`, som skilletegn mellom feltene.\n",
    "- Etter litt prøving og feiling finner vi at land og hovedstad ligger som felt 4 og 38 (telt fra 0). Vi skriver derfor ut disse feltene.\n",
    "- Det er et problem med første linje i `cow.txt`-filen. Den ser ut som om den begynner med en `#`, men det ligger et usynlig tegn helt først som gjør at testen vår ikke slår inn. I stedet for å lage en mer avansert test hopper vi bare over første linje ved å si `next(f_in)` rett etter at vi åpner filen.\n",
    "\n",
    "Om du ser på listen over land og hovedsteder som skrives ut vil du se et par små utfordringer til. Den første linjen som skrives ut er ikke et land, men en forklarende overskrift. Vi vil ikke at denne skal være med i listen vår over hovedsteder. En del land (eller \"land\") har ingen hovedstad. Disse kan vi heller ikke ta med i quizen. Til slutt er det mellomrom foran navnene på landene og hovedstedene. Disse kan vi fjerne med `strip`. Den neste versjonen av programmet tar også høyde for disse utfordringene, samtidig som dataene leses inn i `dict`en `hovedsteder` i stedet for å skrives til skjerm."
   ]
  },
  {
   "cell_type": "code",
   "execution_count": 101,
   "metadata": {},
   "outputs": [],
   "source": [
    "import random\n",
    "\n",
    "capitals = {}\n",
    "\n",
    "with open(\"cow.txt\") as f_in:\n",
    "    next(f_in)\n",
    "    for line in f_in:\n",
    "        if line.startswith(\"#\"):\n",
    "            continue\n",
    "        fields = [f.strip() for f in line.split(\";\")]\n",
    "        if len(fields[0]) == 2 and fields[38]:\n",
    "            capitals[fields[4]] = fields[38]\n",
    "\n",
    "with open(\"verdensquiz.txt\", mode=\"w\") as f_out:\n",
    "    countries = random.sample(list(capitals), 100)\n",
    "    for number, country in enumerate(countries, start=1):\n",
    "        f_out.write(f\"\\n\\n{number}. What is the capital of {country}?\\n   \")\n",
    "        wrong_answers = random.sample(list(capitals.values()), 3)\n",
    "        alternatives = sorted(wrong_answers + [capitals[country]])\n",
    "        f_out.write(\"   \".join(alternatives))"
   ]
  },
  {
   "cell_type": "markdown",
   "metadata": {},
   "source": [
    "Stort sett er dette programmet satt sammen av ting vi har sett tidligere, men noe nytt har også dukket opp.\n",
    "\n",
    "- I filen `cow.txt` er det en del mellomrom mellom feltene som vi må ta vekk. Det er nettopp dette `strip` gjør, fjerne mellomrom på begynnelsen og slutten av tekststrenger. Det gjør det for eksempel mulig å teste om et land har angitt en hovedstad ved å teste at hovedstad-feltet (`fields[38]`) har innhold.\n",
    "- For å unngå overskriftlinjen tester vi også på om felt 0 har lengde nøyaktig 2, siden dette skal være en 2-bokstavers kode som identifiserer landet.\n",
    "- For å gjøre quizen litt enklere vil vi også gi alternativer. Dette gjør vi igjen ved hjelp av `random`-pakken. Funksjonen `random.sample` plukker et gitt antall ting tilfeldig fra en liste. Vi lager alternativene våre ved å sette det riktige svaret sammen tre feil svar (her er det en liten \\emph{bug} i programmet vårt, vi er ikke helt sikre på at alle byene i `feil_svar` faktisk er feil). Ved å sortere svaralternativene skjuler vi hvilket svar som er det riktige.\n",
    "- Funksjonen `join` slår sammen en liste av tekststrenger til en lengre tekststreng.\n",
    "\n",
    "Programmet skriver quizen til en tekstfil, `verdensquiz.txt`. Et eksempel på hvordan denne kan se ut (rekkefølgen på spørsmålene og alternativene er tilfeldig) er som følger:"
   ]
  },
  {
   "cell_type": "code",
   "execution_count": 102,
   "metadata": {},
   "outputs": [
    {
     "name": "stdout",
     "output_type": "stream",
     "text": [
      "1. What is the capital of Antigua and Barbuda?\n",
      "   Berne   Conakry   San Marino   St. John's\n",
      "\n",
      "2. What is the capital of Denmark?\n",
      "   Copenhagen   St George's   St. John's   Suva\n",
      "\n",
      "3. What is the capital of Iran, Islamic Republic of?\n",
      "   Ouagadougou   Tehran   Vienna   Vilnius\n",
      "\n",
      "4. What is the capital of Russian Federation?\n",
      "   Baghdad   Moscow   Roseau   Vatican City State\n",
      "\n",
      "5. What is the capital of Brunei Darussalam?\n",
      "   Baghdad   Bandar Seri Begawan   Beirut   Nairobi\n",
      "\n",
      "6. What is the capital of Bahamas?\n",
      "   Caracas   Nassau   Vienna   Vientiane\n",
      "\n",
      "7. What is the capital of Comoros?\n",
      "   Bandar Seri Begawan   Bishkek   Manila   Moroni\n",
      "\n",
      "8. What is the capital of Liechtenstein?\n",
      "   Accra   Freetown   San Salvador   Vaduz\n",
      "\n",
      "9. What is the capital of Mauritius?\n",
      "   Amman   Male'   Port Louis   Praia\n",
      "\n",
      "10. What is the capital of Benin?\n",
      "   Brazzaville   Hanoi   Porto-Novo   Tallinn\n"
     ]
    }
   ],
   "source": [
    "!python cat.py verdensquiz.txt"
   ]
  },
  {
   "cell_type": "markdown",
   "metadata": {},
   "source": [
    "Dette siste eksempelet kan virke litt komplisert, men samtidig har vi sett hvordan det er bygd opp av mange små biter som hver for seg er ganske forståelige. Slik er det med det meste av ekte data. De er rotete og må ryddes i. Heldigvis kan vi som regel rydde i en ting av gangen som vi gjorde her.\n",
    "\n",
    "## Manipulering av filsystemet\n",
    "\n",
    "Modulene `pathlib` og `shutil` støtter de fleste operasjonene på filsystemet.\n",
    "\n",
    "For eksempel kan `.exists()`, `.is_file()` og `.is_dir()` brukes for å sjekke om en fil eller katalog eksisterer. Metoden `.glob()` brukes for å gjøre mønstersøk i filsystemet, for eksempel vil `.glob('*.log')` returnere en liste over alle `.log`-filer. For å kopiere eller flytte filer kan man bruke `shutil.copy()` eller `shutil.move()`."
   ]
  },
  {
   "cell_type": "code",
   "execution_count": 103,
   "metadata": {},
   "outputs": [
    {
     "data": {
      "text/plain": [
       "True"
      ]
     },
     "execution_count": 103,
     "metadata": {},
     "output_type": "execute_result"
    }
   ],
   "source": [
    "pathlib.Path(\"verdensquiz.txt\").exists()"
   ]
  },
  {
   "cell_type": "code",
   "execution_count": 104,
   "metadata": {},
   "outputs": [
    {
     "data": {
      "text/plain": [
       "True"
      ]
     },
     "execution_count": 104,
     "metadata": {},
     "output_type": "execute_result"
    }
   ],
   "source": [
    "pathlib.Path(\"hello.py\").is_file()"
   ]
  },
  {
   "cell_type": "code",
   "execution_count": 105,
   "metadata": {},
   "outputs": [
    {
     "data": {
      "text/plain": [
       "False"
      ]
     },
     "execution_count": 105,
     "metadata": {},
     "output_type": "execute_result"
    }
   ],
   "source": [
    "pathlib.Path(\"hello.py\").is_dir()"
   ]
  },
  {
   "cell_type": "code",
   "execution_count": 106,
   "metadata": {},
   "outputs": [
    {
     "data": {
      "text/plain": [
       "[PosixPath('/home/gahjelle/Dropbox/presentasjoner/20220922_python_nve/intro/cat.py')]"
      ]
     },
     "execution_count": 106,
     "metadata": {},
     "output_type": "execute_result"
    }
   ],
   "source": [
    "list(pathlib.Path.cwd().glob(\"c*.py\"))"
   ]
  },
  {
   "cell_type": "code",
   "execution_count": 107,
   "metadata": {},
   "outputs": [
    {
     "data": {
      "text/plain": [
       "'new_hello.py'"
      ]
     },
     "execution_count": 107,
     "metadata": {},
     "output_type": "execute_result"
    }
   ],
   "source": [
    "import shutil\n",
    "\n",
    "shutil.copy(\"hello.py\", \"new_hello.py\")"
   ]
  },
  {
   "cell_type": "markdown",
   "metadata": {},
   "source": [
    "# Datoer og kalendere\n",
    "\n",
    "Python har støtte for å regne med datoer og klokkeslett gjennom pakkene `datetime` og `calendar`.\n",
    "\n",
    "## Datoer med `datetime`\n",
    "\n",
    "Pakken `datetime` inneholder modulene `date`, `time` og `datetime` for å jobbe med henholdsvis datoer, klokkeslett og datoer med klokkeslett."
   ]
  },
  {
   "cell_type": "code",
   "execution_count": 108,
   "metadata": {},
   "outputs": [
    {
     "data": {
      "text/plain": [
       "datetime.date(2022, 9, 22)"
      ]
     },
     "execution_count": 108,
     "metadata": {},
     "output_type": "execute_result"
    }
   ],
   "source": [
    "from datetime import date\n",
    "\n",
    "now = date.today()\n",
    "now"
   ]
  },
  {
   "cell_type": "code",
   "execution_count": 109,
   "metadata": {},
   "outputs": [
    {
     "data": {
      "text/plain": [
       "datetime.IsoCalendarDate(year=2022, week=38, weekday=4)"
      ]
     },
     "execution_count": 109,
     "metadata": {},
     "output_type": "execute_result"
    }
   ],
   "source": [
    "now.isocalendar()"
   ]
  },
  {
   "cell_type": "code",
   "execution_count": 110,
   "metadata": {},
   "outputs": [
    {
     "name": "stdout",
     "output_type": "stream",
     "text": [
      "Help on built-in function isocalendar:\n",
      "\n",
      "isocalendar(...) method of datetime.date instance\n",
      "    Return a named tuple containing ISO year, week number, and weekday.\n",
      "\n"
     ]
    }
   ],
   "source": [
    "help(now.isocalendar)"
   ]
  },
  {
   "cell_type": "markdown",
   "metadata": {},
   "source": [
    "I eksempelet over ser vi at 22. september 2022 er en torsdag (ukedag nummer 4) i uke 38. Vi kan også regne ut forskjellen mellom to datoer:"
   ]
  },
  {
   "cell_type": "code",
   "execution_count": 111,
   "metadata": {},
   "outputs": [
    {
     "data": {
      "text/plain": [
       "datetime.date(2022, 12, 24)"
      ]
     },
     "execution_count": 111,
     "metadata": {},
     "output_type": "execute_result"
    }
   ],
   "source": [
    "christmas = now.replace(month=12, day=24)\n",
    "christmas"
   ]
  },
  {
   "cell_type": "code",
   "execution_count": 112,
   "metadata": {},
   "outputs": [
    {
     "data": {
      "text/plain": [
       "datetime.timedelta(days=93)"
      ]
     },
     "execution_count": 112,
     "metadata": {},
     "output_type": "execute_result"
    }
   ],
   "source": [
    "christmas - now"
   ]
  },
  {
   "cell_type": "code",
   "execution_count": 113,
   "metadata": {},
   "outputs": [
    {
     "data": {
      "text/plain": [
       "93"
      ]
     },
     "execution_count": 113,
     "metadata": {},
     "output_type": "execute_result"
    }
   ],
   "source": [
    "(christmas - now).days"
   ]
  },
  {
   "cell_type": "code",
   "execution_count": 114,
   "metadata": {},
   "outputs": [
    {
     "ename": "AttributeError",
     "evalue": "'datetime.timedelta' object has no attribute 'months'",
     "output_type": "error",
     "traceback": [
      "\u001b[0;31m---------------------------------------------------------------------------\u001b[0m",
      "\u001b[0;31mAttributeError\u001b[0m                            Traceback (most recent call last)",
      "Cell \u001b[0;32mIn [114], line 1\u001b[0m\n\u001b[0;32m----> 1\u001b[0m \u001b[43m(\u001b[49m\u001b[43mchristmas\u001b[49m\u001b[43m \u001b[49m\u001b[38;5;241;43m-\u001b[39;49m\u001b[43m \u001b[49m\u001b[43mnow\u001b[49m\u001b[43m)\u001b[49m\u001b[38;5;241;43m.\u001b[39;49m\u001b[43mmonths\u001b[49m\n",
      "\u001b[0;31mAttributeError\u001b[0m: 'datetime.timedelta' object has no attribute 'months'"
     ]
    }
   ],
   "source": [
    "(christmas - now).months"
   ]
  },
  {
   "cell_type": "markdown",
   "metadata": {},
   "source": [
    "Modulene `time` og `datetime` fungerer tilsvarende. Dessverre er `datetime`-pakken litt begrenset i forhold til hvilken informasjon den gir om forskjellen på to datoer. Om du trenger mer avansert datohåndtering kan du bruke `dateutil`.\n",
    "\n",
    "## Mer avansert datohåndtering med `dateutil`\n",
    "\n",
    "Pakken `dateutil` er ikke en del av standardbiblioteket, og må derfor installeres eksplisitt. Informasjon om pakken finnes på [dateutil.readthedocs.org](https://dateutil.readthedocs.org/en/latest/), og den kan installeres gjennom `conda` eller `pip`:"
   ]
  },
  {
   "cell_type": "code",
   "execution_count": null,
   "metadata": {},
   "outputs": [],
   "source": [
    "!conda install python-dateutil -y\n",
    "\n",
    "# !pip install python-dateutil"
   ]
  },
  {
   "cell_type": "markdown",
   "metadata": {},
   "source": [
    "Spesielt er den bedre utbygd en `datetime` i forhold til å beregne forskjellen mellom to datoer, eller til å beregne en dato relativt til en annen dato."
   ]
  },
  {
   "cell_type": "code",
   "execution_count": 115,
   "metadata": {},
   "outputs": [
    {
     "data": {
      "text/plain": [
       "relativedelta(months=+3, days=+2)"
      ]
     },
     "execution_count": 115,
     "metadata": {},
     "output_type": "execute_result"
    }
   ],
   "source": [
    "from datetime import date\n",
    "from dateutil import relativedelta\n",
    "\n",
    "now = date.today()\n",
    "christmas = now.replace(month=12, day=24)\n",
    "\n",
    "relativedelta.relativedelta(christmas, now)"
   ]
  },
  {
   "cell_type": "markdown",
   "metadata": {},
   "source": [
    "Vi kan også finne ut når den 5. fredagen fra i dag faller, eller den siste søndagen denne måneden:"
   ]
  },
  {
   "cell_type": "code",
   "execution_count": 116,
   "metadata": {},
   "outputs": [
    {
     "data": {
      "text/plain": [
       "datetime.date(2022, 10, 21)"
      ]
     },
     "execution_count": 116,
     "metadata": {},
     "output_type": "execute_result"
    }
   ],
   "source": [
    "now + relativedelta.relativedelta(weekday=relativedelta.FR(5))"
   ]
  },
  {
   "cell_type": "code",
   "execution_count": 117,
   "metadata": {},
   "outputs": [
    {
     "data": {
      "text/plain": [
       "datetime.date(2022, 9, 25)"
      ]
     },
     "execution_count": 117,
     "metadata": {},
     "output_type": "execute_result"
    }
   ],
   "source": [
    "now + relativedelta.relativedelta(day=31, weekday=relativedelta.SU(-1))"
   ]
  },
  {
   "cell_type": "markdown",
   "metadata": {},
   "source": [
    "Et annet eksempel er utregning av bursdager:"
   ]
  },
  {
   "cell_type": "code",
   "execution_count": 118,
   "metadata": {},
   "outputs": [
    {
     "name": "stdin",
     "output_type": "stream",
     "text": [
      "Når er du født (yyyy-mm-dd)?  1997-12-08\n"
     ]
    },
    {
     "name": "stdout",
     "output_type": "stream",
     "text": [
      "Du er 24 år gammel\n"
     ]
    }
   ],
   "source": [
    "from datetime import datetime\n",
    "from dateutil.relativedelta import relativedelta\n",
    "\n",
    "bday_str = input(\"Når er du født (yyyy-mm-dd)? \")\n",
    "birthday = datetime.strptime(bday_str, \"%Y-%m-%d\")\n",
    "age = relativedelta(datetime.today(), birthday)\n",
    "print(f\"Du er {age.years} år gammel\")"
   ]
  },
  {
   "cell_type": "markdown",
   "metadata": {},
   "source": [
    "Pakken `dateutil` kan også hjelpe med utregning av påsken, eller andre helligdager som beveger seg med påsken. Eksempelene under regner ut påskeaften og kristi himmelfart 2023. Modulen `dateutil.easter` finner 1. påskedag så vi må flytte svaret fra denne en dag."
   ]
  },
  {
   "cell_type": "code",
   "execution_count": 119,
   "metadata": {},
   "outputs": [
    {
     "data": {
      "text/plain": [
       "datetime.date(2023, 4, 8)"
      ]
     },
     "execution_count": 119,
     "metadata": {},
     "output_type": "execute_result"
    }
   ],
   "source": [
    "from dateutil.easter import easter\n",
    "from dateutil.relativedelta import relativedelta\n",
    "\n",
    "p_aften = easter(2023) + relativedelta(days=-1)\n",
    "p_aften"
   ]
  },
  {
   "cell_type": "code",
   "execution_count": 120,
   "metadata": {},
   "outputs": [
    {
     "data": {
      "text/plain": [
       "datetime.date(2023, 5, 18)"
      ]
     },
     "execution_count": 120,
     "metadata": {},
     "output_type": "execute_result"
    }
   ],
   "source": [
    "p_aften + relativedelta(days=40)"
   ]
  },
  {
   "cell_type": "markdown",
   "metadata": {},
   "source": [
    "## `calendar`-pakken\n",
    "\n",
    "For enkle kalendere er `calendar`-pakken nyttig. For eksempel kan vi skrive ut en månedskalender på denne måten:"
   ]
  },
  {
   "cell_type": "code",
   "execution_count": 121,
   "metadata": {},
   "outputs": [
    {
     "name": "stdout",
     "output_type": "stream",
     "text": [
      "   September 2022\n",
      "Mo Tu We Th Fr Sa Su\n",
      "          1  2  3  4\n",
      " 5  6  7  8  9 10 11\n",
      "12 13 14 15 16 17 18\n",
      "19 20 21 22 23 24 25\n",
      "26 27 28 29 30\n",
      "\n"
     ]
    }
   ],
   "source": [
    "import calendar\n",
    "\n",
    "print(calendar.month(2022, 9))"
   ]
  },
  {
   "cell_type": "markdown",
   "metadata": {},
   "source": [
    "En full årskalender kan skrives ut ved hjelp av `print(calendar.calendar(2022))`. Navnene på ukene og månedene er også tilgjengelige. For eksempel:"
   ]
  },
  {
   "cell_type": "code",
   "execution_count": 122,
   "metadata": {},
   "outputs": [
    {
     "data": {
      "text/plain": [
       "['Monday', 'Tuesday', 'Wednesday', 'Thursday', 'Friday', 'Saturday', 'Sunday']"
      ]
     },
     "execution_count": 122,
     "metadata": {},
     "output_type": "execute_result"
    }
   ],
   "source": [
    "list(calendar.day_name)"
   ]
  },
  {
   "cell_type": "code",
   "execution_count": 123,
   "metadata": {},
   "outputs": [
    {
     "data": {
      "text/plain": [
       "['',\n",
       " 'Jan',\n",
       " 'Feb',\n",
       " 'Mar',\n",
       " 'Apr',\n",
       " 'May',\n",
       " 'Jun',\n",
       " 'Jul',\n",
       " 'Aug',\n",
       " 'Sep',\n",
       " 'Oct',\n",
       " 'Nov',\n",
       " 'Dec']"
      ]
     },
     "execution_count": 123,
     "metadata": {},
     "output_type": "execute_result"
    }
   ],
   "source": [
    "list(calendar.month_abbr)"
   ]
  },
  {
   "cell_type": "markdown",
   "metadata": {},
   "source": [
    "Disse er lokaliserte, slik at på en datamaskin med norsk oppsett vil dagene og månedene være oversatt til norsk."
   ]
  },
  {
   "cell_type": "markdown",
   "metadata": {},
   "source": [
    "# Lesbar kode, dokumentasjon og testing\n",
    "\n",
    "I Python har lesbarhet alltid vært sterkt vektlagt, og effektivitet for utviklerene er noe Python alltid scorer høyt på. Det finnes også et eget dokumentasjonssystem bygd inn i språket.\n",
    "\n",
    "## Lesbar kode\n",
    "\n",
    "Pythonkode er som regel ganske lesbar. Høynivå operasjonene og datastrukturene, sammen med den tvungne kodeformatteringen, gjør at Python av og til blir omtalt som **kjørbar pseudokode**.\n",
    "\n",
    "Det følgende er noen tommelfingerregler som også hjelper på lesbarheten:\n",
    "\n",
    "- Bruk mellomrom for å øke lesbarheten: Bruk et mellomrom rundt operatorer, et mellomrom etter komma i forskjellige typer lister, to   blanke linjer mellom funksjoner og så videre.\n",
    "- Ikke skriv for lange linjer. En vanlig konvensjon er at hver kodelinje skal være maksimalt 79 tegn. Se under for hvordan du kan dele opp lange linjer.\n",
    "- Bruk konsistente og meningsfylte navn på variabler, funksjoner, klasser og så videre.\n",
    "\n",
    "## Del opp lange kodelinjer\n",
    "\n",
    "Kodelinjer i Python kan deles opp inne i forskjellige typer paranteser. Vi så et eksempel på dette i definisjonen av `OPERATIONS` tidligere.\n",
    "\n",
    "I eksempelet nedenfor ser vi hvordan vi kan legge inn et linjeskift i `def`-linja og funksjonskallet nederst uten problemer, fordi disse allerede inneholder paranteser. I `if`-testen og `return`-kallet har vi lagt til en ekstra parantes rundt uttrykket for å kunne dele det på to linjer. I det øverste `print`-uttrykket har vi i tillegg benyttet oss av implisitt streng-sammensetting."
   ]
  },
  {
   "cell_type": "code",
   "execution_count": 124,
   "metadata": {},
   "outputs": [
    {
     "name": "stdout",
     "output_type": "stream",
     "text": [
      "En lang tekststreng kan deles opp som dette hvis den er plassert inne i paranteser!\n",
      "120\n"
     ]
    }
   ],
   "source": [
    "def en_funksjon_med_et_altfor_langt_navn(en_variabel, en_variabel_til):\n",
    "    print(\n",
    "        \"En lang tekststreng kan deles opp som \"\n",
    "        \"dette hvis den er plassert inne i paranteser!\"\n",
    "    )\n",
    "\n",
    "    if en_variabel > 10 and en_variabel * en_variabel_til < en_variabel**2:\n",
    "        return en_variabel**2 - en_variabel * en_variabel_til\n",
    "    else:\n",
    "        return en_variabel\n",
    "\n",
    "\n",
    "print(en_funksjon_med_et_altfor_langt_navn(2**10 - 1000, 10**2 - 9**2))"
   ]
  },
  {
   "cell_type": "markdown",
   "metadata": {},
   "source": [
    "Lange tekststrenger som inneholder linjeskift skrives enklest ved å bruke tre fnutter i Python."
   ]
  },
  {
   "cell_type": "code",
   "execution_count": 125,
   "metadata": {},
   "outputs": [
    {
     "name": "stdout",
     "output_type": "stream",
     "text": [
      "Det er\n",
      "ingenting. Og det\n",
      "blir\n",
      "ingen\n",
      "\n",
      "ting.\n",
      "Og innimellom\n",
      "myldrer\n",
      "det.\n"
     ]
    }
   ],
   "source": [
    "jan_erik_vold = \"\"\"Det er\n",
    "ingenting. Og det\n",
    "blir\n",
    "ingen\n",
    "\n",
    "ting.\n",
    "Og innimellom\n",
    "myldrer\n",
    "det.\"\"\"\n",
    "\n",
    "print(jan_erik_vold)"
   ]
  },
  {
   "cell_type": "markdown",
   "metadata": {},
   "source": [
    "Tekststrenger som defineres på denne måten bevarer også linjeskift og indentering.\n",
    "\n",
    "## Automatisk formatering\n",
    "\n",
    "Programmet [Black](https://black.readthedocs.io/en/stable/) kan brukes til å automatisk formattere kode. Det er **veldig** nyttig! Black kan settes opp slik at det for eksempel kjøres hver gang du lagrer en fil i PyCharm.\n",
    "\n",
    "Black har i praksis ingen opsjoner. Det betyr at all Black-formatert kode ser veldig konsistent ut.\n",
    "\n",
    "## Programstruktur\n",
    "\n",
    "Som nevnt tidligere, leses en Python-fil linje for linje. En vanlig programstruktur er derfor at man definerer alle funksjoner først, og starter selve programmet nederst i Python-fila."
   ]
  },
  {
   "cell_type": "code",
   "execution_count": 126,
   "metadata": {},
   "outputs": [
    {
     "name": "stdout",
     "output_type": "stream",
     "text": [
      "2866.429592653589\n"
     ]
    }
   ],
   "source": [
    "# 1: Importer moduler\n",
    "import math\n",
    "\n",
    "# 2: Definer globale konstanter\n",
    "EXPONENT = 3\n",
    "\n",
    "\n",
    "# 3: Definer hovedskriptet\n",
    "def main():\n",
    "    print(func2(\"14.2\"))\n",
    "\n",
    "    \n",
    "# 4: Definer hjelpefunksjoner\n",
    "def func1(number):\n",
    "    return number**EXPONENT\n",
    "\n",
    "\n",
    "def func2(number_string):\n",
    "    return func1(float(number_string)) + math.pi\n",
    "\n",
    "\n",
    "# 5: Ikke start hovedskriptet hvis filen importeres\n",
    "if __name__ == \"__main__\":\n",
    "    main()"
   ]
  },
  {
   "cell_type": "markdown",
   "metadata": {},
   "source": [
    "## Kommentarer\n",
    "\n",
    "Kommentarer i Python startes med `#`. En `#` hvor som helst på en kodelinje (unntatt inne i en tekststreng) vil starte en kommentar, og resten av linjen ignoreres av Python-tolkeren. Gode kommentarer er kommentarer som gjør koden mer lesbar og forståelig.\n",
    "\n",
    "En effektiv måte å kommentere ut deler av koden mens man utvikler er å bruke tre fnutter, `\"\"\"`. Dette gjør om koden til en tekststreng, som så ignoreres av Python."
   ]
  },
  {
   "cell_type": "code",
   "execution_count": 127,
   "metadata": {},
   "outputs": [
    {
     "name": "stdout",
     "output_type": "stream",
     "text": [
      "Tallet er et partall\n"
     ]
    }
   ],
   "source": [
    "number = 14\n",
    "\n",
    "\"\"\"\n",
    "if number < 20:\n",
    "    print('Tallet er mindre enn 20')\n",
    "\"\"\"\n",
    "\n",
    "if number % 2 == 0:\n",
    "    print(\"Tallet er et partall\")"
   ]
  },
  {
   "cell_type": "markdown",
   "metadata": {},
   "source": [
    "## Dokumentasjon\n",
    "\n",
    "Python har et innebygd dokumentasjonssystem hvor spesielt plasserte tekststrenger (kalt **docstrings**) legges inn i selve objektet, og kan hentes ut som dokumentasjon på forskjellige måter. For eksempel, for å dokumentere en funksjon skriver man docstringen rett etter `def`-uttrykket."
   ]
  },
  {
   "cell_type": "code",
   "execution_count": 128,
   "metadata": {},
   "outputs": [
    {
     "name": "stdout",
     "output_type": "stream",
     "text": [
      "Writing documented.py\n"
     ]
    }
   ],
   "source": [
    "%%writefile documented.py\n",
    "def is_selfsquared(number):\n",
    "    \"\"\"Sjekker om et gitt tall er selvkvadratisk.\n",
    "\n",
    "    Vi sier et tall er selvkvadratisk dersom tallet kan\n",
    "    skrives AB slik at (A + B) * (A + B) er lik AB.\n",
    "\n",
    "    Eksempel:\n",
    "    >>> is_selfsquared(60481729)\n",
    "    (6048 + 1729)^2 = 60481729\n",
    "    True\n",
    "    >>> is_selfsquared(42)\n",
    "    False\n",
    "    \"\"\"\n",
    "    number_str = str(number)\n",
    "    for idx in range(1, len(number_str)):\n",
    "        number_a = int(number_str[:idx])\n",
    "        number_b = int(number_str[idx:])\n",
    "        if (number_a + number_b) ** 2 == number:\n",
    "            print('({} + {})^2 = {}'.format(number_a, number_b, number))\n",
    "            return True\n",
    "    return False\n",
    "\n",
    "if __name__ == '__main__':\n",
    "    for number in range(100_000):\n",
    "        is_selfsquared(number)"
   ]
  },
  {
   "cell_type": "code",
   "execution_count": 129,
   "metadata": {},
   "outputs": [
    {
     "name": "stdout",
     "output_type": "stream",
     "text": [
      "(8 + 1)^2 = 81\n",
      "(10 + 0)^2 = 100\n",
      "(20 + 25)^2 = 2025\n",
      "(30 + 25)^2 = 3025\n",
      "(98 + 1)^2 = 9801\n",
      "(100 + 0)^2 = 10000\n",
      "(88 + 209)^2 = 88209\n"
     ]
    }
   ],
   "source": [
    "!python documented.py"
   ]
  },
  {
   "cell_type": "markdown",
   "metadata": {},
   "source": [
    "Denne dokumentasjonen kan for eksempel hentes ut interaktivt."
   ]
  },
  {
   "cell_type": "code",
   "execution_count": 130,
   "metadata": {},
   "outputs": [
    {
     "name": "stdout",
     "output_type": "stream",
     "text": [
      "Help on function is_selfsquared in module documented:\n",
      "\n",
      "is_selfsquared(number)\n",
      "    Sjekker om et gitt tall er selvkvadratisk.\n",
      "    \n",
      "    Vi sier et tall er selvkvadratisk dersom tallet kan\n",
      "    skrives AB slik at (A + B) * (A + B) er lik AB.\n",
      "    \n",
      "    Eksempel:\n",
      "    >>> is_selfsquared(60481729)\n",
      "    (6048 + 1729)^2 = 60481729\n",
      "    True\n",
      "    >>> is_selfsquared(42)\n",
      "    False\n",
      "\n"
     ]
    }
   ],
   "source": [
    "import documented\n",
    "\n",
    "help(documented.is_selfsquared)"
   ]
  },
  {
   "cell_type": "markdown",
   "metadata": {},
   "source": [
    "Dokumentasjonsverktøy som for eksempel Sphinx og MkDocs bruker også disse tekststrengene for å automatisk bygge dokumentasjon for kode. For eksempel er deler av dokumentasjonen på [docs.python.org](https://docs.python.org/3/) hentet fra docstrenger.\n",
    "\n",
    "## Enkel testing med `doctest`\n",
    "\n",
    "I eksempelet ovenfor inkluderte vi noen eksempler på hvordan funksjonen kan brukes, og med forventede returverdier. Python kan automatisk kjøre disse eksemplene som tester for oss, ved å bruke modulen `doctest` som er en del av standardbiblioteket."
   ]
  },
  {
   "cell_type": "code",
   "execution_count": 131,
   "metadata": {},
   "outputs": [],
   "source": [
    "!python -m doctest documented.py"
   ]
  },
  {
   "cell_type": "markdown",
   "metadata": {},
   "source": [
    "Vanligvis er `doctest` helt stille dersom alle testene passerte. Ved å legge til opsjonen `-v` vil `doctest` bli mer pratsom og fortelle om alle testene den gjør."
   ]
  },
  {
   "cell_type": "code",
   "execution_count": 132,
   "metadata": {},
   "outputs": [
    {
     "name": "stdout",
     "output_type": "stream",
     "text": [
      "Trying:\n",
      "    is_selfsquared(60481729)\n",
      "Expecting:\n",
      "    (6048 + 1729)^2 = 60481729\n",
      "    True\n",
      "ok\n",
      "Trying:\n",
      "    is_selfsquared(42)\n",
      "Expecting:\n",
      "    False\n",
      "ok\n",
      "1 items had no tests:\n",
      "    documented\n",
      "1 items passed all tests:\n",
      "   2 tests in documented.is_selfsquared\n",
      "2 tests in 2 items.\n",
      "2 passed and 0 failed.\n",
      "Test passed.\n"
     ]
    }
   ],
   "source": [
    "!python -m doctest -v documented.py"
   ]
  },
  {
   "cell_type": "markdown",
   "metadata": {},
   "source": [
    "## Mer avansert testing med `pytest`\n",
    "\n",
    "`pytest` er det vanligste verktøyet for testing i Python. Det har spesielt god støtte for enhetstesting."
   ]
  },
  {
   "cell_type": "markdown",
   "metadata": {},
   "source": [
    "# Python-verden\n",
    "\n",
    "Python-verdenen vokser stadig. De siste årene har Python blitt stadig mer populært for eksempel i akademia, i takt med at gode pakker for forskjellige fagfelt blir utviklet. Samtidig har Python klart å bevare noe av de små quirksene som gjør også communityen rundt Python litt spesiell.\n",
    "\n",
    "## Monty Python\n",
    "\n",
    "Bare for å ha det sagt. Python er **ikke** kalt opp etter en slange. Språket fikk navnet sitt fordi Guido van Rossum var en stor fan av Monty Python: \"_I chose Python as a working title for the project, being in a slightly irreverent mood (and a big fan of Monty Python's Flying Circus)._\" Om man følger med vil man se små referanser til Monty Python rundt omkring i Python-verdenen.\n",
    "\n",
    "## PyPI - The Python Package Index\n",
    "\n",
    "Det finnes veldig mange pakker og moduler utviklet til Python. De fleste av disse er tilgjengelige på [PyPI](https://pypi.org/). Det er nå omtrent 400 000 pakker tilgjengelig innenfor alle mulige fagfelt og bruksområder på PyPI. Disse pakkene installeres vanligvis ved hjelp av et program som heter `pip`. \n",
    "\n",
    "## PEP-8\n",
    "\n",
    "En **PEP** er en **Python Enhancement Proposal**. Dette er dokumenter som brukes for å styre den videre utviklingen av språket. Hvem som helst kan skrive en PEP for eksempel for å foreslå en ny feature i språket. Denne PEP'en blir så debattert før det blir tatt en avgjørelse på om dem skal implementeres. For et nylig eksempel ble [PEP-536](http://www.python.org/dev/peps/pep-0536/) implementert i Python 3.10. Denne PEPen innfører et nytt `match case` uttrykk som kan brukes til kraftig behandling av datastrukturer.\n",
    "\n",
    "[PEP-8](http://www.python.org/dev/peps/pep-0008/) definerer en **Style Guide for Python Code**. Dette dokumentet inneholder mange små, konkrete tips om hvordan man skriver både lesbar og god Python-kode og er vel verdt en titt.\n",
    "\n",
    "## `import this` - The Zen of Python\n",
    "\n",
    "I [PEP-20](http://www.python.org/dev/peps/pep-0020/) har Tim Peters skrevet et dikt som beskriver mye av filosofien bak Python. Dette diktet følger også med alle Python-installasjoner som et slags _easter egg_."
   ]
  },
  {
   "cell_type": "code",
   "execution_count": 133,
   "metadata": {},
   "outputs": [
    {
     "name": "stdout",
     "output_type": "stream",
     "text": [
      "The Zen of Python, by Tim Peters\n",
      "\n",
      "Beautiful is better than ugly.\n",
      "Explicit is better than implicit.\n",
      "Simple is better than complex.\n",
      "Complex is better than complicated.\n",
      "Flat is better than nested.\n",
      "Sparse is better than dense.\n",
      "Readability counts.\n",
      "Special cases aren't special enough to break the rules.\n",
      "Although practicality beats purity.\n",
      "Errors should never pass silently.\n",
      "Unless explicitly silenced.\n",
      "In the face of ambiguity, refuse the temptation to guess.\n",
      "There should be one-- and preferably only one --obvious way to do it.\n",
      "Although that way may not be obvious at first unless you're Dutch.\n",
      "Now is better than never.\n",
      "Although never is often better than *right* now.\n",
      "If the implementation is hard to explain, it's a bad idea.\n",
      "If the implementation is easy to explain, it may be a good idea.\n",
      "Namespaces are one honking great idea -- let's do more of those!\n"
     ]
    }
   ],
   "source": [
    "import this"
   ]
  },
  {
   "cell_type": "markdown",
   "metadata": {},
   "source": [
    "## `import antigravity`\n",
    "\n",
    "Tegneserien [XKCD](http://xkcd.com/) har et kjærlig forhold til Python. Dette forholdet er gjengjeldt, dels gjennom easter egget `import antigravity`."
   ]
  },
  {
   "cell_type": "code",
   "execution_count": null,
   "metadata": {},
   "outputs": [],
   "source": [
    "import antigravity"
   ]
  },
  {
   "cell_type": "markdown",
   "metadata": {},
   "source": [
    "![](antigravity.png)\n",
    "\n",
    "## [docs.python.org](http://docs.python.org/3/)\n",
    "\n",
    "Den offisielle dokumentasjonen til Python finnes på [docs.python.org](http://docs.python.org/3/). Denne er (ihvertfall tidvis) informativ og nyttig. Se også litt på de forskjellige _tutorials_ og _how-tos_ som er tilgjengelig på denne siden."
   ]
  },
  {
   "cell_type": "markdown",
   "metadata": {},
   "source": [
    "# Veien videre\n",
    "\n",
    "Dette korte kurset dekker veldig vidt. Det betyr at mange detaljer er utelatt fra dette heftet. Disse detaljene finner du stort sett godt forklart i [Python-dokumentasjonen](https://docs.python.org/) eller andre steder på nettet. Nedenfor nevnes også noen bøker som kan være nyttige.\n",
    "\n",
    "Selv om vi har rukket over mye på kort tid er det også store hull i vår oversikt over Python. Noen av de viktigere hullene nevnes til slutt. Se mer dokumentasjon på nettet eller i boklisten for mer informasjon om disse temaene.\n",
    "\n",
    "## Bokliste\n",
    "\n",
    "Det finnes selvsagt altfor mange bøker om Python. Her er en kort liste\n",
    "til noen bøker som kan være nyttige:\n",
    "\n",
    "- **Introducing Python (Bill Lubanovic)** Denne dekker mye av det samme territoriet som dette kurset (og litt til), men i mer detalj. Boken bruker mye eksempler for å vise frem hvordan ting fungerer.\n",
    "- **Automate the Boring Stuff with Python (Albert Sweigart)** Denne boken kan fåes [gratis på nettet](http://automatetheboringstuff.com/) og viser hvordan man gjør nyttige administrasjonsoppgaver som filbehandling, organisering av filer, behandling av regneark, PDF- og Word-dokumenter, i tillegg til hvordan man jobber med CSV- og JSON-data.\n",
    "- **Python Cookbook (David Beazley og Brian K. Jones)** Denne boken er skrevet som en kokebok, og inneholder mange nyttige oppskrifter på hvordan man gjør konkrete oppgaver.\n",
    "- **Fluent Python (Luciano Ramalho)** Denne går i dybden og er veldig nyttig for de som virkelig vil lære _the inns and outs_ av Python. Ikke for nybegynner, dog.\n",
    "\n",
    "## Nettsteder\n",
    "\n",
    "- **[Stack Overflow](https://stackoverflow.com/)** Programmering er jo stort sett en øvelse i klipp og lim fra Stack Overflow :blush: Stack Overflow har svarene på de fleste spørsmålene du klarer å stille om Python.\n",
    "- **[Real Python](https://realpython.com/)** publiserer dybdeartikler og -videoer om Python hver uke. Disclaimer: Jeg jobber for Real Python\n",
    "- **[PyVideo](https://pyvideo.org/)** Det arrangeres mange konferanser om Python. Om du har muligheten anbefaler jeg absolutt å delta på en av dem. Heldigvis blir mange av foredragene filmet og lagt ut på nett. På PyVideo finner du en flott oversikt.\n",
    "\n",
    "## Klasser og objekter\n",
    "\n",
    "Vi har såvidt nevnt objekter. Python er et fullverdig objektorientert språk, og har en veldig ryddig og eksplisitt modell for hvordan egendefinerte klasser og typer implementeres.\n",
    "\n",
    "## Feilhåndtering\n",
    "\n",
    "Python har et **exception**-system som ligner det som finnes i mange andre programmeringsspråk. Spesielt kan man bruke `try` og `except`for å ta mer kontroll over hvordan feil håndteres i spesielle deler av koden.\n",
    "\n",
    "I tillegg kommer Python med en innebygd debugger som kan hjelpe med feilsøking i koden. For å bruke debuggeren kan for eksempel linjen `breakpoint()` legges inn i kildekoden der du ønsker debuggeren skal starte fra. Debuggeren har sine egne kommandoer du kan bruke. For å se en liste over disse kan du skrive `h` eller `help` etter at debuggeren har startet opp.\n",
    "\n",
    "## Indre og anonyme funksjoner\n",
    "\n",
    "Det er mulig å definere indre funksjoner i Python. Det vil si funksjoner definert inne i andre funksjoner. Dette kan være nyttig i forhold til informasjonsutvekslingen mellom funksjonene. Python har også enkel støtte for anonyme funksjoner gjennom uttrykket `lambda`. Anonyme funksjoner er ikke-navngitte funksjoner som ofte er definert for å gjøre en liten, konkret oppgave. For eksempel, kan en `lambda`-funksjon brukes for å definere en spesiell måte å sortere en liste på.\n",
    "\n",
    "## Generatorer\n",
    "\n",
    "Generatorer er spesielle funksjoner med en slags iterator-oppførsel. I stedet for å gjøre ferdig en hel beregning slik en funksjon typisk gjør, kan en generator vente med utregninger til den blir bedt om dem. Det høres litt mystisk og akademisk ut, men er spesielt nyttig i minnetunge applikasjoner hvor en generator-implementasjon ofte gjør at man unngår å måtte ha hele datastrukturer i minnet samtidig.\n",
    "\n",
    "## Regulære uttrykk: Mer avansert teksthåndtering\n",
    "\n",
    "Regulære uttrykk (_regular expressions_) er et eget minispråk for avansert teksthåndtering. Regulære uttrykk har sitt utspring fra matematikk og teoretisk computer science. Gjennom 1970-tallet ble de viktige komponenter i flere programmer og språk i Unix-verden. Regulære uttrykk kan være litt kompliserte å bruke, men de er utrolig kraftige innen behandling av tekst. De fleste språk har implementert regulære uttrykk i dag. Python støtter dem gjennom modulen `re`.\n"
   ]
  }
 ],
 "metadata": {
  "kernelspec": {
   "display_name": "Python 3 (ipykernel)",
   "language": "python",
   "name": "python3"
  },
  "language_info": {
   "codemirror_mode": {
    "name": "ipython",
    "version": 3
   },
   "file_extension": ".py",
   "mimetype": "text/x-python",
   "name": "python",
   "nbconvert_exporter": "python",
   "pygments_lexer": "ipython3",
   "version": "3.10.7"
  },
  "latex_metadata": {
   "author": "Geir Arne Hjelle",
   "date": "19. november 2019",
   "title": "Grunnleggende Python"
  }
 },
 "nbformat": 4,
 "nbformat_minor": 4
}
