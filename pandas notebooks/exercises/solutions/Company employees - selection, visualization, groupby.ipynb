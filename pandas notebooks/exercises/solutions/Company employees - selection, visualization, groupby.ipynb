{
 "cells": [
  {
   "cell_type": "code",
   "execution_count": null,
   "metadata": {},
   "outputs": [],
   "source": [
    "# Run this cell\n",
    "import pandas as pd"
   ]
  },
  {
   "cell_type": "code",
   "execution_count": null,
   "metadata": {},
   "outputs": [],
   "source": [
    "# Run this cell\n",
    "df = pd.read_csv(\"../datasets/people/people.csv\", sep=\"\\t\")\n",
    "df[\"oppstartsdato\"] = pd.to_datetime(df[\"oppstartsdato\"])\n",
    "df.index.name = \"ansattnr\"\n",
    "df.head()"
   ]
  },
  {
   "cell_type": "code",
   "execution_count": null,
   "metadata": {},
   "outputs": [],
   "source": [
    "# Run this cell\n",
    "# This will give our employees a salary\n",
    "import numpy as np\n",
    "dfsort = df.sort_values([\"senioritet\", \"oppstartsdato\", \"avdeling\"], ascending=[True, False, False])\n",
    "payroll = pd.Series([400000+2000*i for i in range(100)], index=dfsort.index)\n",
    "payroll += np.random.randint(\n",
    "    0, 10000, size=len(payroll))\n",
    "payroll.name = \"lønn\"\n",
    "df = df.join(payroll)"
   ]
  },
  {
   "cell_type": "markdown",
   "metadata": {},
   "source": [
    "## Selection"
   ]
  },
  {
   "cell_type": "code",
   "execution_count": null,
   "metadata": {},
   "outputs": [],
   "source": [
    "# Return the epost of employees with ansattnr 45-48\n",
    "\n",
    "# Your code goes here!\n",
    "df.loc[45:48, \"epost\"]"
   ]
  },
  {
   "cell_type": "code",
   "execution_count": null,
   "metadata": {},
   "outputs": [],
   "source": [
    "# Find males employes have ansvarsdag on Tuesdays\n",
    "\n",
    "df.loc[(df.kjønn == \"han\") & (df.ansvarsdag == \"tirsdag\")]"
   ]
  },
  {
   "cell_type": "code",
   "execution_count": null,
   "metadata": {},
   "outputs": [],
   "source": [
    "# Find the employes who started between 2018.05.05-2019.04.13\n",
    "\n",
    "# hint: It's easier if we set the index first. Just remember not to change df itself\n",
    "df.set_index(\"oppstartsdato\").loc[\"2018.05.05\":\"2019.04.13\"]"
   ]
  },
  {
   "cell_type": "code",
   "execution_count": null,
   "metadata": {},
   "outputs": [],
   "source": [
    "# Hi!\n",
    "# I am your boss here at Company Ltd, Torgrim Ruud.\n",
    "# You can call me Mr. Ruud, or you can be fired.\n",
    "\n",
    "# People here at the office don't appreciate that I give my family preferential treatment.\n",
    "# But what is so wrong with nepotism? The apple rarely falls far from the tree, am I right?\n",
    "\n",
    "# Task:\n",
    "# Provide me a list of emails (and names) that share my last name, so that I can send them some shares.\n",
    "\n",
    "# hint: https://pandas.pydata.org/docs/user_guide/indexing.html#boolean-indexing\n",
    "\n",
    "# Your code goes here!\n",
    "df.loc[df.etternavn == \"Ruud\", [\"fornavn\", \"etternavn\", \"epost\"]]"
   ]
  },
  {
   "cell_type": "code",
   "execution_count": null,
   "metadata": {},
   "outputs": [],
   "source": [
    "# Complaining is never good! I have sent out a varsel to everyone who answered negatively on our HR survey.\n",
    "# Staff who has received a varsel should be taught a message. Give them a 20% pay cut!\n",
    "\n",
    "# You can use this graph to check if your salary slash was successful.\n",
    "\n",
    "# Run this cell, then write your solution (salary slash code) in the next cell\n",
    "\n",
    "df.groupby(\"varslet\").lønn.mean().plot(kind=\"bar\", legend=True, title=\"Before punishment\");"
   ]
  },
  {
   "cell_type": "code",
   "execution_count": null,
   "metadata": {},
   "outputs": [],
   "source": [
    "# Salary slash code code goes here!\n",
    "df.loc[df.varslet == True, \"lønn\"] *= 0.9\n",
    "\n",
    "# Plotting to check if it worked\n",
    "df.groupby(\"varslet\").lønn.mean().plot(kind=\"bar\", legend=True, title=\"After punishment\");"
   ]
  },
  {
   "cell_type": "code",
   "execution_count": null,
   "metadata": {},
   "outputs": [],
   "source": [
    "# My birthday is on November 19th and I want to keep the attention on me. I want you to find those selfish people \n",
    "# who decided to have their work anniversary on my special day.. And get rid of them! \n",
    "\n",
    "# (He first wants you to find people with oppstartsdato the same date as him)\n",
    "\n",
    "selfish = df.loc[(df.oppstartsdato.dt.month == 11) & (df.oppstartsdato.dt.day == 19)]\n",
    "selfish"
   ]
  },
  {
   "cell_type": "code",
   "execution_count": null,
   "metadata": {},
   "outputs": [],
   "source": [
    "# (Then he wants you to lay them off, i.e. drop them from our dataframe)\n",
    "\n",
    "# hint: DataFrame.drop just needs to know which index labels to drop\n",
    "\n",
    "df.drop(selfish.index, inplace=True)"
   ]
  },
  {
   "cell_type": "code",
   "execution_count": null,
   "metadata": {},
   "outputs": [],
   "source": [
    "# I don't want my underlings snooping into my personal business at home. I have plenty of things to hide!\n",
    "# I live at \"3769 Kristinhamn\" and if any staff lives there, give them the boot!\n",
    "\n",
    "# hint: .str accessor and DataFrame.drop\n",
    "\n",
    "snoopers = df[df.addresse.str.contains(\"3769 Kristinhamn\")]\n",
    "print(snoopers[[\"fornavn\", \"etternavn\", \"addresse\"]])\n",
    "df.drop(snoopers.index, inplace=True)"
   ]
  },
  {
   "cell_type": "code",
   "execution_count": null,
   "metadata": {},
   "outputs": [],
   "source": [
    "# Give me a list of all people who share last name with someone else. I don't like families working together.\n",
    "\n",
    "# hint: https://pandas.pydata.org/docs/reference/api/pandas.DataFrame.duplicated.html\n",
    "\n",
    "df[df.etternavn.duplicated(keep=False)].sort_values(\"etternavn\")"
   ]
  },
  {
   "cell_type": "code",
   "execution_count": null,
   "metadata": {},
   "outputs": [],
   "source": [
    "# Plot lønn (y) as a function of oppstartsdato (x)\n",
    "df.plot(y=\"lønn\", x=\"oppstartsdato\");"
   ]
  },
  {
   "cell_type": "code",
   "execution_count": null,
   "metadata": {},
   "outputs": [],
   "source": [
    "# Why does this not work the same as the cell above?\n",
    "# Here we try to sort the values first, then plot without using y=\"oppstartsdato\"\n",
    "df_sorted = df.sort_values(\"oppstartsdato\")\n",
    "\n",
    "# When we print the dataframe, it sure looks like the rows are sorted by oppstartsdato!\n",
    "print(df_sorted[[\"oppstartsdato\", \"lønn\"]].head())\n",
    "\n",
    "# Then why does the plot look like a Picasso painting?\n",
    "df_sorted.plot(y=\"lønn\");"
   ]
  },
  {
   "cell_type": "code",
   "execution_count": null,
   "metadata": {},
   "outputs": [],
   "source": [
    "# Try to the lønn again (against oppstartsdato), but use a scatter plot this time\n",
    "df.plot(kind=\"scatter\", y=\"lønn\", x=\"oppstartsdato\");"
   ]
  },
  {
   "cell_type": "code",
   "execution_count": null,
   "metadata": {},
   "outputs": [],
   "source": [
    "# This cell showcases two things:\n",
    "# 1. that you can make a regression curve using numpy\n",
    "# 2. that you can have multiple plots in a single \"box\"\n",
    "\n",
    "# Don't feel the need to understand this code by the way.\n",
    "# For now you can just run it and have a look at the plots.\n",
    "# What does the plots tell us about how salary is distributed?\n",
    "\n",
    "import numpy as np\n",
    "\n",
    "def regr(df, x_axis, title=\"\"):\n",
    "    \"\"\"\n",
    "    Plots a linear regression line of \"lønn\" column based on x_axis\n",
    "    \"\"\"\n",
    "    df = df.copy()\n",
    "    df[\"x_axis\"] = x_axis\n",
    "    \n",
    "    # Finding the linear regression line (ax + b)\n",
    "    d = np.polyfit(df[\"x_axis\"], df.lønn, 1)\n",
    "    f = np.poly1d(d)\n",
    "\n",
    "    print(f\"Regression curve {title}: {f}\")\n",
    "    \n",
    "    regression = f(df[\"x_axis\"])\n",
    "\n",
    "    df = df.assign(regression=regression)\n",
    "    \n",
    "    # Two plots in one box\n",
    "    ax = df.plot(kind=\"scatter\", y='lønn', x=\"x_axis\", title=title)\n",
    "    df.plot(y='regression', x=\"x_axis\", color='Red', ax=ax);\n",
    "    \n",
    "\n",
    "regr(df, df.oppstartsdato.dt.year, \"Starting year\")\n",
    "regr(df, df.senioritet, \"Seniority\")"
   ]
  },
  {
   "cell_type": "markdown",
   "metadata": {},
   "source": [
    "# Groupby, plotting"
   ]
  },
  {
   "cell_type": "code",
   "execution_count": null,
   "metadata": {},
   "outputs": [],
   "source": [
    "# Using groupby, plot the average salary (lønn) as a bar chart for each department (avdeling)\n",
    "\n",
    "df.groupby(\"avdeling\").lønn.mean().plot(kind=\"bar\");"
   ]
  },
  {
   "cell_type": "code",
   "execution_count": null,
   "metadata": {},
   "outputs": [],
   "source": [
    "# Are you able to plot it again, but with the bars sorted by height?\n",
    "\n",
    "df.groupby(\"avdeling\").lønn.mean().sort_values().plot(kind=\"bar\");"
   ]
  },
  {
   "cell_type": "code",
   "execution_count": null,
   "metadata": {},
   "outputs": [],
   "source": [
    "# Plot lønn by senioritet (one line for each senioritet)\n",
    "# Use df.groupby()\n",
    "# Hint: when plotting, use legend=True\n",
    "df.groupby(\"senioritet\").lønn.plot(legend=True);"
   ]
  },
  {
   "cell_type": "code",
   "execution_count": null,
   "metadata": {},
   "outputs": [],
   "source": [
    "# Using groupby, plot the median salary for each oppstartdato year\n",
    "\n",
    "# hint: you can group by df.oppstartsdato.dt.year\n",
    "df.groupby(df.oppstartsdato.dt.year).lønn.median().plot();"
   ]
  },
  {
   "cell_type": "code",
   "execution_count": null,
   "metadata": {},
   "outputs": [],
   "source": [
    "# grouping by year started, find the last person to start for each year\n",
    "latest = df.groupby(df.oppstartsdato.dt.year).oppstartsdato.idxmin()\n",
    "df.loc[latest, [\"fornavn\", \"etternavn\", \"oppstartsdato\"]]"
   ]
  },
  {
   "cell_type": "code",
   "execution_count": null,
   "metadata": {},
   "outputs": [],
   "source": [
    "# Torgrim Ruud has a list of company policies that he demands you check, one by one.\n",
    "# Here follows:"
   ]
  },
  {
   "cell_type": "code",
   "execution_count": null,
   "metadata": {},
   "outputs": [],
   "source": [
    "# Policy compliance check:\n",
    "# Average seniority for every department must be over 3.0\n",
    "df.groupby(\"avdeling\").senioritet.mean()"
   ]
  },
  {
   "cell_type": "code",
   "execution_count": null,
   "metadata": {},
   "outputs": [],
   "source": [
    "# Policy compliance check:\n",
    "# There must be at least 1 sertified person for each ansvarsdag\n",
    "df.groupby(\"avdeling\").sertifisert.sum()"
   ]
  },
  {
   "cell_type": "code",
   "execution_count": null,
   "metadata": {},
   "outputs": [],
   "source": [
    "# Policy compliance check:\n",
    "# every avdeling must have at least one person with max seniority (6).\n",
    "df.groupby(df.avdeling).senioritet.max() >= 6"
   ]
  },
  {
   "cell_type": "code",
   "execution_count": null,
   "metadata": {},
   "outputs": [],
   "source": [
    "# Policy compliance check:\n",
    "# every seniority in a given avdeling must have at least one person who is certified.\n",
    "df.groupby([df.avdeling, df.senioritet]).sertifisert.sum() >= 1"
   ]
  },
  {
   "cell_type": "code",
   "execution_count": null,
   "metadata": {},
   "outputs": [],
   "source": [
    "# Policy compliance check:\n",
    "# On ansvarsdag: Saturday, all attendes must be without a varsel\n",
    "# hint: use Grouper.get_group(). This one is a two-liner.\n",
    "gr = df.groupby(\"ansvarsdag\")\n",
    "gr.get_group(\"lørdag\").varslet.any()"
   ]
  },
  {
   "cell_type": "code",
   "execution_count": null,
   "metadata": {},
   "outputs": [],
   "source": [
    "# Within each department, the man and woman who has stayed the longest with the Company shall receive an annual price.\n",
    "# make a list of people to celebrate for this years party.\n",
    "longest = df.groupby([\"avdeling\", \"kjønn\"]).oppstartsdato.idxmin()\n",
    "df.loc[longest.values, [\"fornavn\", \"etternavn\", \"oppstartsdato\"]]"
   ]
  },
  {
   "cell_type": "code",
   "execution_count": null,
   "metadata": {},
   "outputs": [],
   "source": [
    "# Using Grouper.apply(), find the average senioritet for each avdeling.\n",
    "df.groupby(\"avdeling\").apply(lambda group: group.senioritet.mean())"
   ]
  },
  {
   "cell_type": "code",
   "execution_count": null,
   "metadata": {},
   "outputs": [],
   "source": [
    "# For every seniority level at least one person must have the number \"1\" in their brukernavn\n",
    "# Use Grouper.apply()\n",
    "df.groupby(\"senioritet\").apply(lambda group: group.brukernavn.str.contains(\"1\").any())"
   ]
  },
  {
   "cell_type": "code",
   "execution_count": null,
   "metadata": {},
   "outputs": [],
   "source": [
    "# Challenging\n",
    "# Policy compliance check:\n",
    "# No avdeling is allowed to employ people who share last names (because it causes our computer system to crash!)\n",
    "# hint: use .groupby() and .apply()\n",
    "df.groupby(\"avdeling\").apply(lambda group: group[group.etternavn.duplicated(keep=False)])"
   ]
  },
  {
   "cell_type": "code",
   "execution_count": null,
   "metadata": {},
   "outputs": [],
   "source": [
    "# Challenging\n",
    "# Policy compliance check:\n",
    "# every ansvarsdag must have at least one person who has stayed in the company for 3 years or longer.\n",
    "# hint: here we need to do with timeseries subtraction\n",
    "(pd.Timestamp.now() - df.groupby(df.ansvarsdag).oppstartsdato.max()).dt.days / 365"
   ]
  }
 ],
 "metadata": {
  "kernelspec": {
   "display_name": "Python 3",
   "language": "python",
   "name": "python3"
  },
  "language_info": {
   "codemirror_mode": {
    "name": "ipython",
    "version": 3
   },
   "file_extension": ".py",
   "mimetype": "text/x-python",
   "name": "python",
   "nbconvert_exporter": "python",
   "pygments_lexer": "ipython3",
   "version": "3.8.3"
  }
 },
 "nbformat": 4,
 "nbformat_minor": 4
}
