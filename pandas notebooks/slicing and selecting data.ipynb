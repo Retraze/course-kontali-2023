{
 "cells": [
  {
   "cell_type": "markdown",
   "id": "150c5c68",
   "metadata": {},
   "source": [
    "Given the following DataFrame df:"
   ]
  },
  {
   "cell_type": "code",
   "execution_count": 6,
   "id": "fa0a29cd",
   "metadata": {},
   "outputs": [
    {
     "data": {
      "text/html": [
       "<div>\n",
       "<style scoped>\n",
       "    .dataframe tbody tr th:only-of-type {\n",
       "        vertical-align: middle;\n",
       "    }\n",
       "\n",
       "    .dataframe tbody tr th {\n",
       "        vertical-align: top;\n",
       "    }\n",
       "\n",
       "    .dataframe thead th {\n",
       "        text-align: right;\n",
       "    }\n",
       "</style>\n",
       "<table border=\"1\" class=\"dataframe\">\n",
       "  <thead>\n",
       "    <tr style=\"text-align: right;\">\n",
       "      <th></th>\n",
       "      <th>group</th>\n",
       "      <th>value</th>\n",
       "    </tr>\n",
       "  </thead>\n",
       "  <tbody>\n",
       "    <tr>\n",
       "      <th>0</th>\n",
       "      <td>a</td>\n",
       "      <td>1</td>\n",
       "    </tr>\n",
       "    <tr>\n",
       "      <th>1</th>\n",
       "      <td>a</td>\n",
       "      <td>2</td>\n",
       "    </tr>\n",
       "    <tr>\n",
       "      <th>2</th>\n",
       "      <td>b</td>\n",
       "      <td>3</td>\n",
       "    </tr>\n",
       "    <tr>\n",
       "      <th>3</th>\n",
       "      <td>b</td>\n",
       "      <td>4</td>\n",
       "    </tr>\n",
       "    <tr>\n",
       "      <th>4</th>\n",
       "      <td>c</td>\n",
       "      <td>5</td>\n",
       "    </tr>\n",
       "    <tr>\n",
       "      <th>5</th>\n",
       "      <td>c</td>\n",
       "      <td>6</td>\n",
       "    </tr>\n",
       "  </tbody>\n",
       "</table>\n",
       "</div>"
      ],
      "text/plain": [
       "  group  value\n",
       "0     a      1\n",
       "1     a      2\n",
       "2     b      3\n",
       "3     b      4\n",
       "4     c      5\n",
       "5     c      6"
      ]
     },
     "execution_count": 6,
     "metadata": {},
     "output_type": "execute_result"
    }
   ],
   "source": [
    "import pandas as pd\n",
    "\n",
    "df = pd.DataFrame({'group': ['a', 'a', 'b', 'b', 'c', 'c'],\n",
    "                   'value': [1, 2, 3, 4, 5, 6]})\n",
    "df"
   ]
  },
  {
   "cell_type": "markdown",
   "id": "cb8e0693",
   "metadata": {},
   "source": [
    "Select the rows where the value in the value column is greater than 5:"
   ]
  },
  {
   "cell_type": "code",
   "execution_count": null,
   "id": "8fa57063",
   "metadata": {},
   "outputs": [],
   "source": []
  },
  {
   "cell_type": "markdown",
   "id": "b2bb6b3d",
   "metadata": {},
   "source": [
    "Select the rows where the value in the value column is even:"
   ]
  },
  {
   "cell_type": "code",
   "execution_count": 1,
   "id": "4d01af5b",
   "metadata": {},
   "outputs": [],
   "source": []
  },
  {
   "cell_type": "markdown",
   "id": "c6207e1b",
   "metadata": {},
   "source": [
    "Select the rows where the value in the value column is between 3 and 5, inclusive:"
   ]
  },
  {
   "cell_type": "code",
   "execution_count": null,
   "id": "80842984",
   "metadata": {},
   "outputs": [],
   "source": []
  },
  {
   "cell_type": "markdown",
   "id": "931c61c1",
   "metadata": {},
   "source": [
    "Select the rows where the value in the value column is not equal to 3:"
   ]
  },
  {
   "cell_type": "code",
   "execution_count": null,
   "id": "606b3a41",
   "metadata": {},
   "outputs": [],
   "source": []
  },
  {
   "cell_type": "markdown",
   "id": "20de22d1",
   "metadata": {},
   "source": [
    "Select the rows where the value in the group column is 'a' or 'c':"
   ]
  },
  {
   "cell_type": "code",
   "execution_count": null,
   "id": "ac9a9645",
   "metadata": {},
   "outputs": [],
   "source": []
  },
  {
   "cell_type": "markdown",
   "id": "54be4987",
   "metadata": {},
   "source": [
    "Select the rows where the value in the value column is greater than the mean of the value column:"
   ]
  },
  {
   "cell_type": "code",
   "execution_count": null,
   "id": "ede57cab",
   "metadata": {},
   "outputs": [],
   "source": []
  },
  {
   "cell_type": "markdown",
   "id": "e8a63290",
   "metadata": {},
   "source": [
    "Select the rows where the value in the value column is a prime number:"
   ]
  },
  {
   "cell_type": "code",
   "execution_count": null,
   "id": "f36a282d",
   "metadata": {},
   "outputs": [],
   "source": []
  },
  {
   "cell_type": "markdown",
   "id": "be63258d",
   "metadata": {},
   "source": [
    "Select the rows where the value in the group column is in the list ['a', 'b']:"
   ]
  },
  {
   "cell_type": "code",
   "execution_count": null,
   "id": "f132c0e3",
   "metadata": {},
   "outputs": [],
   "source": []
  },
  {
   "cell_type": "markdown",
   "id": "3fdd1661",
   "metadata": {},
   "source": [
    "Select the rows where the value in the group column is not in the list ['a', 'b']:"
   ]
  },
  {
   "cell_type": "code",
   "execution_count": null,
   "id": "9007fece",
   "metadata": {},
   "outputs": [],
   "source": []
  },
  {
   "cell_type": "markdown",
   "id": "4ee4867a",
   "metadata": {},
   "source": [
    "Given the following DataFrame df:"
   ]
  },
  {
   "cell_type": "code",
   "execution_count": 5,
   "id": "0b0fcaa4",
   "metadata": {},
   "outputs": [
    {
     "data": {
      "text/html": [
       "<div>\n",
       "<style scoped>\n",
       "    .dataframe tbody tr th:only-of-type {\n",
       "        vertical-align: middle;\n",
       "    }\n",
       "\n",
       "    .dataframe tbody tr th {\n",
       "        vertical-align: top;\n",
       "    }\n",
       "\n",
       "    .dataframe thead th {\n",
       "        text-align: right;\n",
       "    }\n",
       "</style>\n",
       "<table border=\"1\" class=\"dataframe\">\n",
       "  <thead>\n",
       "    <tr style=\"text-align: right;\">\n",
       "      <th></th>\n",
       "      <th>group</th>\n",
       "      <th>value</th>\n",
       "    </tr>\n",
       "  </thead>\n",
       "  <tbody>\n",
       "    <tr>\n",
       "      <th>0</th>\n",
       "      <td>a</td>\n",
       "      <td>1.0</td>\n",
       "    </tr>\n",
       "    <tr>\n",
       "      <th>1</th>\n",
       "      <td>a</td>\n",
       "      <td>2.0</td>\n",
       "    </tr>\n",
       "    <tr>\n",
       "      <th>2</th>\n",
       "      <td>b</td>\n",
       "      <td>NaN</td>\n",
       "    </tr>\n",
       "    <tr>\n",
       "      <th>3</th>\n",
       "      <td>b</td>\n",
       "      <td>4.0</td>\n",
       "    </tr>\n",
       "    <tr>\n",
       "      <th>4</th>\n",
       "      <td>c</td>\n",
       "      <td>5.0</td>\n",
       "    </tr>\n",
       "    <tr>\n",
       "      <th>5</th>\n",
       "      <td>c</td>\n",
       "      <td>6.0</td>\n",
       "    </tr>\n",
       "  </tbody>\n",
       "</table>\n",
       "</div>"
      ],
      "text/plain": [
       "  group  value\n",
       "0     a    1.0\n",
       "1     a    2.0\n",
       "2     b    NaN\n",
       "3     b    4.0\n",
       "4     c    5.0\n",
       "5     c    6.0"
      ]
     },
     "execution_count": 5,
     "metadata": {},
     "output_type": "execute_result"
    }
   ],
   "source": [
    "import pandas as pd\n",
    "import numpy as np\n",
    "\n",
    "df = pd.DataFrame({'group': ['a', 'a', 'b', 'b', 'c', 'c'],\n",
    "                   'value': [1, 2, 3, 4, 5, 6]})\n",
    "\n",
    "df.loc[2, 'value'] = np.nan\n",
    "\n",
    "df"
   ]
  },
  {
   "cell_type": "markdown",
   "id": "bdae6240",
   "metadata": {},
   "source": [
    "Select the rows where the value in the value column **is not** missing:"
   ]
  },
  {
   "cell_type": "code",
   "execution_count": null,
   "id": "22348845",
   "metadata": {},
   "outputs": [],
   "source": []
  },
  {
   "cell_type": "markdown",
   "id": "86443586",
   "metadata": {},
   "source": [
    "Select the rows where the value in the value column **is** missing:"
   ]
  },
  {
   "cell_type": "code",
   "execution_count": null,
   "id": "31d24b49",
   "metadata": {},
   "outputs": [],
   "source": []
  }
 ],
 "metadata": {
  "kernelspec": {
   "display_name": "Python 3 (ipykernel)",
   "language": "python",
   "name": "python3"
  },
  "language_info": {
   "codemirror_mode": {
    "name": "ipython",
    "version": 3
   },
   "file_extension": ".py",
   "mimetype": "text/x-python",
   "name": "python",
   "nbconvert_exporter": "python",
   "pygments_lexer": "ipython3",
   "version": "3.10.6"
  }
 },
 "nbformat": 4,
 "nbformat_minor": 5
}
