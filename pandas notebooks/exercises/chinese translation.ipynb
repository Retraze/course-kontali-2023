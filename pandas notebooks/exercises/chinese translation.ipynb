{
 "cells": [
  {
   "cell_type": "markdown",
   "metadata": {},
   "source": [
    "# Chinese translation of ancient poem\n",
    "\n",
    "An ancient scroll was found in a cavern just south of the historical city of Xi'an. It presumably contains some wise prose written in Chinese. You have been tasked to translate the text to English.\n",
    "\n",
    "## Files\n",
    "\n",
    "In folder `datasets/chinese` you will find two files:"
   ]
  },
  {
   "cell_type": "code",
   "execution_count": 17,
   "metadata": {},
   "outputs": [
    {
     "data": {
      "text/plain": [
       "['word_list.txt', 'ancient_poem.txt']"
      ]
     },
     "execution_count": 17,
     "metadata": {},
     "output_type": "execute_result"
    }
   ],
   "source": [
    "import os\n",
    "from pathlib import Path\n",
    "import pandas as pd\n",
    "\n",
    "dirpath = Path(\"../datasets/chinese\")\n",
    "os.listdir(dirpath)"
   ]
  },
  {
   "cell_type": "markdown",
   "metadata": {},
   "source": [
    "### ancient_poem.txt\n",
    "`ancient_poem.txt` contains the text found in the cavern. To help us get started, the text has been transcribed into [simplified chinese](https://eriksen.com/language/simplified-vs-traditional-chinese/) so that we can use the other file to translate.\n",
    "\n",
    "\n",
    "### word_list.txt\n",
    "`word_list.txt` contains word in __simplified chinese__ together with its [pinyin pronounciation](https://resources.allsetlearning.com/chinese/pronunciation/Introduction_to_pinyin) representation. It also contain the __english translation__ of the word. In this task we will not make use of the pinyin pronounciation.\n",
    "\n",
    "Here we print the first few lines to show what is looks like:"
   ]
  },
  {
   "cell_type": "code",
   "execution_count": 22,
   "metadata": {},
   "outputs": [
    {
     "name": "stdout",
     "output_type": "stream",
     "text": [
      "哭 ku1 cry\n",
      "\n",
      "生气 sheng1qi4 get angry, take offence\n",
      "\n",
      "选择 xuan3ze2 select, to pick, choose\n",
      "\n"
     ]
    }
   ],
   "source": [
    "# prints the first three lines of file\n",
    "with open(dirpath / \"word_list.txt\") as f:\n",
    "    for i in range(3):\n",
    "        print(f.readline())"
   ]
  },
  {
   "cell_type": "markdown",
   "metadata": {},
   "source": [
    "Note that this file has a format that can not be easily read into a dataframe with `pd.read_csv`. The data columns are separated with whitespace, but the english translation column also has whitespace. It would be easier to first load the data into a list of lists and load that into a dataframe."
   ]
  },
  {
   "cell_type": "markdown",
   "metadata": {},
   "source": [
    "# Assignment\n",
    "\n",
    "Your task is the following:\n",
    "\n",
    "1. make a translation dataframe from `word_list.txt`\n",
    "  - the index should have the chinese word\n",
    "  - the dataframe should have two columns: `pinyin` and `english`\n",
    "1. open `ancient_poem.txt` and iterate over each line, then doing a translation of each word\n",
    "1. the end result should be a string variable containing the english translation"
   ]
  },
  {
   "cell_type": "markdown",
   "metadata": {},
   "source": [
    "# Hints\n",
    "\n",
    "### Translate a single word first\n",
    "\n",
    "Before trying to translate the poem, try translating a word and see what the returned value looks like.\n",
    "\n",
    "### Handling commas in english translation text\n",
    "\n",
    "`str.split()` has an optional argument `maxsplit`. This can help you ignore the whitespaces used in the english translation.\n",
    "\n",
    "### Making the english translated string\n",
    "```python\n",
    "# you can start with an empty string\n",
    "poem_english = \"\"\n",
    "# you can add words (and whitespace) to a string like this\n",
    "poem_english += \"word\" + \" \"\n",
    "# you can add a linebreak with \"\\n\"\n",
    "poem_english += \"\\n\"\n",
    "```\n",
    "\n",
    "### Handling symbols ,.!\n",
    "Some of the \"words\" in the text does not have a translation, such as the exlamation marks (!). Are we able to use Exception Handling for this scenario?\n",
    "\n",
    "```python\n",
    "example_word = \"!\"\n",
    "try:\n",
    "    poem_english += # try to translate example_word here\n",
    "except KeyError:\n",
    "    # no translation found, so we just use the original word\n",
    "    poem_english += example_word\n",
    "```\n",
    "---\n",
    "    "
   ]
  },
  {
   "cell_type": "code",
   "execution_count": 21,
   "metadata": {},
   "outputs": [],
   "source": [
    "# Your code starts here!"
   ]
  }
 ],
 "metadata": {
  "kernelspec": {
   "display_name": "Python 3",
   "language": "python",
   "name": "python3"
  },
  "language_info": {
   "codemirror_mode": {
    "name": "ipython",
    "version": 3
   },
   "file_extension": ".py",
   "mimetype": "text/x-python",
   "name": "python",
   "nbconvert_exporter": "python",
   "pygments_lexer": "ipython3",
   "version": "3.8.3"
  }
 },
 "nbformat": 4,
 "nbformat_minor": 5
}
