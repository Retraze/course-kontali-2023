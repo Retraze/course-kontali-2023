{
 "cells": [
  {
   "cell_type": "code",
   "execution_count": 1,
   "metadata": {},
   "outputs": [],
   "source": [
    "import pandas as pd"
   ]
  },
  {
   "cell_type": "code",
   "execution_count": 2,
   "metadata": {},
   "outputs": [
    {
     "data": {
      "text/html": [
       "<div>\n",
       "<style scoped>\n",
       "    .dataframe tbody tr th:only-of-type {\n",
       "        vertical-align: middle;\n",
       "    }\n",
       "\n",
       "    .dataframe tbody tr th {\n",
       "        vertical-align: top;\n",
       "    }\n",
       "\n",
       "    .dataframe thead th {\n",
       "        text-align: right;\n",
       "    }\n",
       "</style>\n",
       "<table border=\"1\" class=\"dataframe\">\n",
       "  <thead>\n",
       "    <tr style=\"text-align: right;\">\n",
       "      <th></th>\n",
       "      <th>fornavn</th>\n",
       "      <th>etternavn</th>\n",
       "      <th>kjønn</th>\n",
       "      <th>addresse</th>\n",
       "      <th>oppstartsdato</th>\n",
       "      <th>ansvarsdag</th>\n",
       "      <th>epost</th>\n",
       "      <th>brukernavn</th>\n",
       "      <th>avdeling</th>\n",
       "      <th>senioritet</th>\n",
       "      <th>sertifisert</th>\n",
       "      <th>varslet</th>\n",
       "    </tr>\n",
       "    <tr>\n",
       "      <th>ansattnr</th>\n",
       "      <th></th>\n",
       "      <th></th>\n",
       "      <th></th>\n",
       "      <th></th>\n",
       "      <th></th>\n",
       "      <th></th>\n",
       "      <th></th>\n",
       "      <th></th>\n",
       "      <th></th>\n",
       "      <th></th>\n",
       "      <th></th>\n",
       "      <th></th>\n",
       "    </tr>\n",
       "  </thead>\n",
       "  <tbody>\n",
       "    <tr>\n",
       "      <th>0</th>\n",
       "      <td>Astrid</td>\n",
       "      <td>Nilsen</td>\n",
       "      <td>hun</td>\n",
       "      <td>Aasenbråten 1H, 2601 Jensodden</td>\n",
       "      <td>1980-06-18</td>\n",
       "      <td>fredag</td>\n",
       "      <td>tonehaug@hotmail.com</td>\n",
       "      <td>emma58</td>\n",
       "      <td>4</td>\n",
       "      <td>6</td>\n",
       "      <td>False</td>\n",
       "      <td>False</td>\n",
       "    </tr>\n",
       "    <tr>\n",
       "      <th>1</th>\n",
       "      <td>Karoline</td>\n",
       "      <td>Kristoffersen</td>\n",
       "      <td>hun</td>\n",
       "      <td>Aunekollen 56, 1852 Ahmed</td>\n",
       "      <td>2013-01-12</td>\n",
       "      <td>lørdag</td>\n",
       "      <td>kjersti76@gmail.com</td>\n",
       "      <td>rhansen</td>\n",
       "      <td>4</td>\n",
       "      <td>3</td>\n",
       "      <td>True</td>\n",
       "      <td>False</td>\n",
       "    </tr>\n",
       "    <tr>\n",
       "      <th>2</th>\n",
       "      <td>Gunn</td>\n",
       "      <td>Hansen</td>\n",
       "      <td>hun</td>\n",
       "      <td>Solheimhavna 968, 7337 Janborg</td>\n",
       "      <td>2002-12-22</td>\n",
       "      <td>søndag</td>\n",
       "      <td>teliassen@yahoo.com</td>\n",
       "      <td>alfstrand</td>\n",
       "      <td>1</td>\n",
       "      <td>3</td>\n",
       "      <td>False</td>\n",
       "      <td>True</td>\n",
       "    </tr>\n",
       "    <tr>\n",
       "      <th>3</th>\n",
       "      <td>Mette</td>\n",
       "      <td>Haug</td>\n",
       "      <td>hun</td>\n",
       "      <td>Pettersenflata 4, 5354 Nguyen</td>\n",
       "      <td>2018-08-12</td>\n",
       "      <td>fredag</td>\n",
       "      <td>uhauge@hotmail.com</td>\n",
       "      <td>skristensen</td>\n",
       "      <td>2</td>\n",
       "      <td>5</td>\n",
       "      <td>False</td>\n",
       "      <td>False</td>\n",
       "    </tr>\n",
       "    <tr>\n",
       "      <th>4</th>\n",
       "      <td>Heidi</td>\n",
       "      <td>Rønning</td>\n",
       "      <td>hun</td>\n",
       "      <td>Jacobsenkroken 93, 0991 Larsen</td>\n",
       "      <td>1987-03-26</td>\n",
       "      <td>onsdag</td>\n",
       "      <td>xhalvorsen@hotmail.com</td>\n",
       "      <td>helgekristensen</td>\n",
       "      <td>3</td>\n",
       "      <td>6</td>\n",
       "      <td>False</td>\n",
       "      <td>False</td>\n",
       "    </tr>\n",
       "  </tbody>\n",
       "</table>\n",
       "</div>"
      ],
      "text/plain": [
       "           fornavn      etternavn kjønn                        addresse  \\\n",
       "ansattnr                                                                  \n",
       "0           Astrid         Nilsen   hun  Aasenbråten 1H, 2601 Jensodden   \n",
       "1         Karoline  Kristoffersen   hun       Aunekollen 56, 1852 Ahmed   \n",
       "2             Gunn         Hansen   hun  Solheimhavna 968, 7337 Janborg   \n",
       "3            Mette           Haug   hun   Pettersenflata 4, 5354 Nguyen   \n",
       "4            Heidi        Rønning   hun  Jacobsenkroken 93, 0991 Larsen   \n",
       "\n",
       "         oppstartsdato ansvarsdag                   epost       brukernavn  \\\n",
       "ansattnr                                                                     \n",
       "0           1980-06-18     fredag    tonehaug@hotmail.com           emma58   \n",
       "1           2013-01-12     lørdag     kjersti76@gmail.com          rhansen   \n",
       "2           2002-12-22     søndag     teliassen@yahoo.com        alfstrand   \n",
       "3           2018-08-12     fredag      uhauge@hotmail.com      skristensen   \n",
       "4           1987-03-26     onsdag  xhalvorsen@hotmail.com  helgekristensen   \n",
       "\n",
       "          avdeling  senioritet  sertifisert  varslet  \n",
       "ansattnr                                              \n",
       "0                4           6        False    False  \n",
       "1                4           3         True    False  \n",
       "2                1           3        False     True  \n",
       "3                2           5        False    False  \n",
       "4                3           6        False    False  "
      ]
     },
     "execution_count": 2,
     "metadata": {},
     "output_type": "execute_result"
    }
   ],
   "source": [
    "df = pd.read_csv(\"../datasets/people/people.csv\", sep=\"\\t\")\n",
    "df[\"oppstartsdato\"] = pd.to_datetime(df[\"oppstartsdato\"])\n",
    "df.index.name = \"ansattnr\"\n",
    "df.head()"
   ]
  },
  {
   "cell_type": "code",
   "execution_count": 3,
   "metadata": {},
   "outputs": [],
   "source": [
    "# Run this cell\n",
    "# This will give our employees a salary\n",
    "import numpy as np\n",
    "dfsort = df.sort_values([\"senioritet\", \"oppstartsdato\", \"avdeling\"], ascending=[True, False, False])\n",
    "payroll = pd.Series([400000+2000*i for i in range(100)], index=dfsort.index)\n",
    "payroll += np.random.randint(\n",
    "    0, 10000, size=len(payroll))\n",
    "payroll.name = \"lønn\"\n",
    "df = df.join(payroll)"
   ]
  },
  {
   "cell_type": "markdown",
   "metadata": {},
   "source": [
    "## Selection"
   ]
  },
  {
   "cell_type": "code",
   "execution_count": 538,
   "metadata": {},
   "outputs": [
    {
     "data": {
      "text/html": [
       "<div>\n",
       "<style scoped>\n",
       "    .dataframe tbody tr th:only-of-type {\n",
       "        vertical-align: middle;\n",
       "    }\n",
       "\n",
       "    .dataframe tbody tr th {\n",
       "        vertical-align: top;\n",
       "    }\n",
       "\n",
       "    .dataframe thead th {\n",
       "        text-align: right;\n",
       "    }\n",
       "</style>\n",
       "<table border=\"1\" class=\"dataframe\">\n",
       "  <thead>\n",
       "    <tr style=\"text-align: right;\">\n",
       "      <th></th>\n",
       "      <th>fornavn</th>\n",
       "      <th>etternavn</th>\n",
       "      <th>epost</th>\n",
       "    </tr>\n",
       "    <tr>\n",
       "      <th>ansattnr</th>\n",
       "      <th></th>\n",
       "      <th></th>\n",
       "      <th></th>\n",
       "    </tr>\n",
       "  </thead>\n",
       "  <tbody>\n",
       "    <tr>\n",
       "      <th>86</th>\n",
       "      <td>Tommy</td>\n",
       "      <td>Ruud</td>\n",
       "      <td>larsarnesen@gmail.com</td>\n",
       "    </tr>\n",
       "    <tr>\n",
       "      <th>98</th>\n",
       "      <td>Lise</td>\n",
       "      <td>Ruud</td>\n",
       "      <td>xberntsen@gmail.com</td>\n",
       "    </tr>\n",
       "  </tbody>\n",
       "</table>\n",
       "</div>"
      ],
      "text/plain": [
       "         fornavn etternavn                  epost\n",
       "ansattnr                                         \n",
       "86         Tommy      Ruud  larsarnesen@gmail.com\n",
       "98          Lise      Ruud    xberntsen@gmail.com"
      ]
     },
     "execution_count": 538,
     "metadata": {},
     "output_type": "execute_result"
    }
   ],
   "source": [
    "# Hi!\n",
    "# I am your boss here at Company Ltd, Torgrim Ruud.\n",
    "# You can call me Mr. Ruud, or you can be fired.\n",
    "\n",
    "# People here at the office don't appreciate that I give my family preferential treatment.\n",
    "# But what is so wrong with nepotism? The apple rarely falls far from the tree, am I right?\n",
    "\n",
    "# Task:\n",
    "# Provide me a list of emails (and names) that share my last name, so that I can send them some shares.\n",
    "df.loc[df.etternavn == \"Ruud\", [\"fornavn\", \"etternavn\", \"epost\"]]"
   ]
  },
  {
   "cell_type": "code",
   "execution_count": 16,
   "metadata": {},
   "outputs": [
    {
     "data": {
      "image/png": "[encoded data removed]",
      "text/plain": [
       "<Figure size 432x288 with 1 Axes>"
      ]
     },
     "metadata": {
      "needs_background": "light"
     },
     "output_type": "display_data"
    }
   ],
   "source": [
    "# Complaining is never good! I have sent out a varsel to everyone who answered negatively on our HR survey.\n",
    "# Staff who has received a varsel should be taught a message. Give them a 20% pay cut!\n",
    "\n",
    "# You can use this graph to check if your salary slash was successful.\n",
    "# Write your solution (salary slash code) in the next cell\n",
    "df.groupby(\"varslet\").lønn.mean().plot(kind=\"bar\", legend=True, title=\"Before punishment\");"
   ]
  },
  {
   "cell_type": "code",
   "execution_count": 17,
   "metadata": {},
   "outputs": [
    {
     "data": {
      "image/png": "[encoded data removed]",
      "text/plain": [
       "<Figure size 432x288 with 1 Axes>"
      ]
     },
     "metadata": {
      "needs_background": "light"
     },
     "output_type": "display_data"
    }
   ],
   "source": [
    "# Salary slash code code goes here!\n",
    "df.loc[df.varslet == True, \"lønn\"] *= 0.9\n",
    "\n",
    "# Plotting to check if it worked\n",
    "df.groupby(\"varslet\").lønn.mean().plot(kind=\"bar\", legend=True, title=\"After punishment\");"
   ]
  },
  {
   "cell_type": "code",
   "execution_count": 306,
   "metadata": {},
   "outputs": [
    {
     "data": {
      "text/html": [
       "<div>\n",
       "<style scoped>\n",
       "    .dataframe tbody tr th:only-of-type {\n",
       "        vertical-align: middle;\n",
       "    }\n",
       "\n",
       "    .dataframe tbody tr th {\n",
       "        vertical-align: top;\n",
       "    }\n",
       "\n",
       "    .dataframe thead th {\n",
       "        text-align: right;\n",
       "    }\n",
       "</style>\n",
       "<table border=\"1\" class=\"dataframe\">\n",
       "  <thead>\n",
       "    <tr style=\"text-align: right;\">\n",
       "      <th></th>\n",
       "      <th>fornavn</th>\n",
       "      <th>etternavn</th>\n",
       "      <th>kjønn</th>\n",
       "      <th>addresse</th>\n",
       "      <th>oppstartsdato</th>\n",
       "      <th>ansvarsdag</th>\n",
       "      <th>epost</th>\n",
       "      <th>brukernavn</th>\n",
       "      <th>avdeling</th>\n",
       "      <th>senioritet</th>\n",
       "      <th>sertifisert</th>\n",
       "      <th>varslet</th>\n",
       "      <th>ansatt</th>\n",
       "    </tr>\n",
       "  </thead>\n",
       "  <tbody>\n",
       "  </tbody>\n",
       "</table>\n",
       "</div>"
      ],
      "text/plain": [
       "Empty DataFrame\n",
       "Columns: [fornavn, etternavn, kjønn, addresse, oppstartsdato, ansvarsdag, epost, brukernavn, avdeling, senioritet, sertifisert, varslet, ansatt]\n",
       "Index: []"
      ]
     },
     "execution_count": 306,
     "metadata": {},
     "output_type": "execute_result"
    }
   ],
   "source": [
    "# My birthday is on November 19th and I want to keep the attention on me. I want you to find those selfish people \n",
    "# who decided to have their work anniversary on my special day.. And get rid of them! \n",
    "\n",
    "# (He first wants you to find people with oppstartsdato the same date as him)\n",
    "\n",
    "selfish = df.loc[(df.oppstartsdato.dt.month == 11) & (df.oppstartsdato.dt.day == 19)]\n",
    "selfish"
   ]
  },
  {
   "cell_type": "code",
   "execution_count": 305,
   "metadata": {
    "collapsed": true
   },
   "outputs": [
    {
     "data": {
      "text/html": [
       "<div>\n",
       "<style scoped>\n",
       "    .dataframe tbody tr th:only-of-type {\n",
       "        vertical-align: middle;\n",
       "    }\n",
       "\n",
       "    .dataframe tbody tr th {\n",
       "        vertical-align: top;\n",
       "    }\n",
       "\n",
       "    .dataframe thead th {\n",
       "        text-align: right;\n",
       "    }\n",
       "</style>\n",
       "<table border=\"1\" class=\"dataframe\">\n",
       "  <thead>\n",
       "    <tr style=\"text-align: right;\">\n",
       "      <th></th>\n",
       "      <th>fornavn</th>\n",
       "      <th>etternavn</th>\n",
       "      <th>kjønn</th>\n",
       "      <th>addresse</th>\n",
       "      <th>oppstartsdato</th>\n",
       "      <th>ansvarsdag</th>\n",
       "      <th>epost</th>\n",
       "      <th>brukernavn</th>\n",
       "      <th>avdeling</th>\n",
       "      <th>senioritet</th>\n",
       "      <th>sertifisert</th>\n",
       "      <th>varslet</th>\n",
       "      <th>ansatt</th>\n",
       "    </tr>\n",
       "  </thead>\n",
       "  <tbody>\n",
       "    <tr>\n",
       "      <th>69</th>\n",
       "      <td>Einar</td>\n",
       "      <td>Thorsen</td>\n",
       "      <td>han</td>\n",
       "      <td>Fredrikseneggen 8C, 1053 Rønning</td>\n",
       "      <td>2007-11-19</td>\n",
       "      <td>torsdag</td>\n",
       "      <td>hanneknutsen@yahoo.com</td>\n",
       "      <td>julievik</td>\n",
       "      <td>3</td>\n",
       "      <td>1</td>\n",
       "      <td>False</td>\n",
       "      <td>False</td>\n",
       "      <td>False</td>\n",
       "    </tr>\n",
       "    <tr>\n",
       "      <th>72</th>\n",
       "      <td>Øystein</td>\n",
       "      <td>Nygård</td>\n",
       "      <td>han</td>\n",
       "      <td>Bakkeskrenten 89, 8063 Steinstrøm</td>\n",
       "      <td>2020-11-19</td>\n",
       "      <td>søndag</td>\n",
       "      <td>gunnar76@gmail.com</td>\n",
       "      <td>sissel49</td>\n",
       "      <td>1</td>\n",
       "      <td>1</td>\n",
       "      <td>False</td>\n",
       "      <td>False</td>\n",
       "      <td>False</td>\n",
       "    </tr>\n",
       "  </tbody>\n",
       "</table>\n",
       "</div>"
      ],
      "text/plain": [
       "    fornavn etternavn kjønn                           addresse oppstartsdato  \\\n",
       "69    Einar   Thorsen   han   Fredrikseneggen 8C, 1053 Rønning    2007-11-19   \n",
       "72  Øystein    Nygård   han  Bakkeskrenten 89, 8063 Steinstrøm    2020-11-19   \n",
       "\n",
       "   ansvarsdag                   epost brukernavn  avdeling  senioritet  \\\n",
       "69    torsdag  hanneknutsen@yahoo.com   julievik         3           1   \n",
       "72     søndag      gunnar76@gmail.com   sissel49         1           1   \n",
       "\n",
       "    sertifisert  varslet  ansatt  \n",
       "69        False    False   False  \n",
       "72        False    False   False  "
      ]
     },
     "execution_count": 305,
     "metadata": {},
     "output_type": "execute_result"
    }
   ],
   "source": [
    "# (Then he wants you to lay them off, i.e. drop them from our dataframe)\n",
    "\n",
    "df.drop(selfish.index, inplace=True)"
   ]
  },
  {
   "cell_type": "code",
   "execution_count": 482,
   "metadata": {},
   "outputs": [
    {
     "name": "stdout",
     "output_type": "stream",
     "text": [
      "         fornavn  etternavn                          addresse\n",
      "ansattnr                                                     \n",
      "89        Sigurd  Myklebust  Hagenstien 752, 3769 Kristinhamn\n"
     ]
    }
   ],
   "source": [
    "# I don't want my underlings snooping into my personal business at home. I have plenty of things to hide!\n",
    "# I live at \"3769 Kristinhamn\" and if any staff lives there, give them the boot!\n",
    "\n",
    "snoopers = df[df.addresse.str.contains(\"3769 Kristinhamn\")]\n",
    "print(snoopers[[\"fornavn\", \"etternavn\", \"addresse\"]])\n",
    "df.drop(snoopers.index, inplace=True)"
   ]
  },
  {
   "cell_type": "code",
   "execution_count": 240,
   "metadata": {},
   "outputs": [
    {
     "data": {
      "text/plain": [
       "99    Andreassen\n",
       "87    Andreassen\n",
       "14    Andreassen\n",
       "49      Antonsen\n",
       "26      Antonsen\n",
       "         ...    \n",
       "75        Strand\n",
       "53         Strøm\n",
       "28         Strøm\n",
       "59     Thomassen\n",
       "29     Thomassen\n",
       "Name: etternavn, Length: 69, dtype: object"
      ]
     },
     "execution_count": 240,
     "metadata": {},
     "output_type": "execute_result"
    }
   ],
   "source": [
    "df[df.etternavn.duplicated()]#.sort_values(\"etternavn\")\n",
    "df[df.etternavn.duplicated(keep=False)].etternavn.sort_values()\n",
    "#df[df.etternavn == \"Moe\"]"
   ]
  },
  {
   "cell_type": "code",
   "execution_count": 533,
   "metadata": {},
   "outputs": [
    {
     "data": {
      "image/png": "[encoded data removed]",
      "text/plain": [
       "<Figure size 432x288 with 1 Axes>"
      ]
     },
     "metadata": {
      "needs_background": "light"
     },
     "output_type": "display_data"
    }
   ],
   "source": [
    "# Plot lønn (y) as a function of oppstartsdato (x)\n",
    "df.plot(y=\"lønn\", x=\"oppstartsdato\");"
   ]
  },
  {
   "cell_type": "code",
   "execution_count": 536,
   "metadata": {},
   "outputs": [
    {
     "name": "stdout",
     "output_type": "stream",
     "text": [
      "         oppstartsdato    lønn\n",
      "ansattnr                      \n",
      "6           1970-03-28  426452\n",
      "60          1970-04-02  602350\n",
      "44          1971-09-01  549672\n",
      "93          1972-10-02  426576\n",
      "10          1972-10-03  448330\n"
     ]
    },
    {
     "data": {
      "image/png": "[encoded data removed]",
      "text/plain": [
       "<Figure size 432x288 with 1 Axes>"
      ]
     },
     "metadata": {
      "needs_background": "light"
     },
     "output_type": "display_data"
    }
   ],
   "source": [
    "# Why does this not work the same as the cell above?\n",
    "# Here we try to sort the values first, then plot without using y=\"oppstartsdato\"\n",
    "df_sorted = df.sort_values(\"oppstartsdato\")\n",
    "\n",
    "# When we print the dataframe, it sure looks like the rows are sorted by oppstartsdato!\n",
    "print(df_sorted[[\"oppstartsdato\", \"lønn\"]].head())\n",
    "\n",
    "# Then why does the plot look like a Picasso painting?\n",
    "df_sorted.plot(y=\"lønn\");"
   ]
  },
  {
   "cell_type": "code",
   "execution_count": 535,
   "metadata": {},
   "outputs": [
    {
     "data": {
      "image/png": "[encoded data removed]",
      "text/plain": [
       "<Figure size 432x288 with 1 Axes>"
      ]
     },
     "metadata": {
      "needs_background": "light"
     },
     "output_type": "display_data"
    }
   ],
   "source": [
    "# Try to the lønn again (against oppstartsdato), but use a scatter plot this time\n",
    "df.plot(kind=\"scatter\", y=\"lønn\", x=\"oppstartsdato\");"
   ]
  },
  {
   "cell_type": "code",
   "execution_count": 471,
   "metadata": {},
   "outputs": [
    {
     "name": "stdout",
     "output_type": "stream",
     "text": [
      "Regression curve Starting year:  \n",
      "-640.9 x + 1.786e+06\n",
      "Regression curve Seniority:  \n",
      "3.263e+04 x + 3.747e+05\n"
     ]
    },
    {
     "data": {
      "image/png": "[encoded data removed]",
      "text/plain": [
       "<Figure size 432x288 with 1 Axes>"
      ]
     },
     "metadata": {
      "needs_background": "light"
     },
     "output_type": "display_data"
    },
    {
     "data": {
      "image/png": "[encoded data removed]",
      "text/plain": [
       "<Figure size 432x288 with 1 Axes>"
      ]
     },
     "metadata": {
      "needs_background": "light"
     },
     "output_type": "display_data"
    }
   ],
   "source": [
    "# This cell showcases two things:\n",
    "# 1. that you can make a regression curve using numpy\n",
    "# 2. that you can have multiple plots in a single \"box\"\n",
    "\n",
    "# Don't feel the need to understand this code by the way.\n",
    "# For now you can just run it with a few \n",
    "\n",
    "import numpy as np\n",
    "\n",
    "def regr(df, x_axis, title=\"\"):\n",
    "    \"\"\"\n",
    "    Plots a linear regression line of \"lønn\" column based on x_axis\n",
    "    \"\"\"\n",
    "    df = df.copy()\n",
    "    df[\"x_axis\"] = x_axis\n",
    "    \n",
    "    # Finding the linear regression line (ax + b)\n",
    "    d = np.polyfit(df[\"x_axis\"], df.lønn, 1)\n",
    "    f = np.poly1d(d)\n",
    "\n",
    "    print(f\"Regression curve {title}: {f}\")\n",
    "    \n",
    "    regression = f(df[\"x_axis\"])\n",
    "\n",
    "    df = df.assign(regression=regression)\n",
    "    \n",
    "    # Two plots in one box\n",
    "    ax = df.plot(kind=\"scatter\", y='lønn', x=\"x_axis\", title=title)\n",
    "    df.plot(y='regression', x=\"x_axis\", color='Red', ax=ax);\n",
    "    \n",
    "\n",
    "regr(df, df.oppstartsdato.dt.year, \"Starting year\")\n",
    "regr(df, df.senioritet, \"Seniority\")"
   ]
  },
  {
   "cell_type": "code",
   "execution_count": 466,
   "metadata": {},
   "outputs": [
    {
     "data": {
      "image/png": "[encoded data removed]",
      "text/plain": [
       "<Figure size 432x288 with 1 Axes>"
      ]
     },
     "metadata": {
      "needs_background": "light"
     },
     "output_type": "display_data"
    }
   ],
   "source": [
    "df.groupby(df.oppstartsdato.dt.year).lønn.mean().plot(kind=\"bar\");"
   ]
  },
  {
   "cell_type": "code",
   "execution_count": 473,
   "metadata": {},
   "outputs": [
    {
     "data": {
      "image/png": "[encoded data removed]",
      "text/plain": [
       "<Figure size 432x288 with 1 Axes>"
      ]
     },
     "metadata": {
      "needs_background": "light"
     },
     "output_type": "display_data"
    }
   ],
   "source": [
    "# Using groupby, plot the average salary (lønn) as a bar chart for each department (avdeling)\n",
    "\n",
    "df.groupby(\"avdeling\").lønn.mean().plot(kind=\"bar\");"
   ]
  },
  {
   "cell_type": "code",
   "execution_count": 476,
   "metadata": {},
   "outputs": [
    {
     "data": {
      "image/png": "[encoded data removed]",
      "text/plain": [
       "<Figure size 432x288 with 1 Axes>"
      ]
     },
     "metadata": {
      "needs_background": "light"
     },
     "output_type": "display_data"
    }
   ],
   "source": [
    "# Are you able to plot it again, but with the bars sorted by height?\n",
    "\n",
    "df.groupby(\"avdeling\").lønn.mean().sort_values().plot(kind=\"bar\");"
   ]
  },
  {
   "cell_type": "markdown",
   "metadata": {},
   "source": [
    "# Groupby"
   ]
  },
  {
   "cell_type": "code",
   "execution_count": 174,
   "metadata": {},
   "outputs": [
    {
     "data": {
      "text/plain": [
       "True"
      ]
     },
     "execution_count": 174,
     "metadata": {},
     "output_type": "execute_result"
    }
   ],
   "source": [
    "# On Saturdays, all attendes must be without a varsel\n",
    "# use Grouper.get_group()\n",
    "gr = df.groupby(\"ansvarsdag\")\n",
    "gr.get_group(\"lørdag\").varslet.any()"
   ]
  },
  {
   "cell_type": "code",
   "execution_count": 483,
   "metadata": {},
   "outputs": [
    {
     "data": {
      "image/png": "[encoded data removed]",
      "text/plain": [
       "<Figure size 432x288 with 1 Axes>"
      ]
     },
     "metadata": {
      "needs_background": "light"
     },
     "output_type": "display_data"
    }
   ],
   "source": [
    "# Plot lønn by senioritet (one line for each senioritet)\n",
    "# Use df.groupby()\n",
    "# Hint: when plotting, use legend=True\n",
    "df.groupby(\"senioritet\").lønn.plot(legend=True);"
   ]
  },
  {
   "cell_type": "code",
   "execution_count": 484,
   "metadata": {},
   "outputs": [
    {
     "data": {
      "image/png": "[encoded data removed]",
      "text/plain": [
       "<Figure size 432x288 with 1 Axes>"
      ]
     },
     "metadata": {
      "needs_background": "light"
     },
     "output_type": "display_data"
    }
   ],
   "source": [
    "df.groupby(\"senioritet\").lønn.mean().plot(kind=\"bar\");"
   ]
  },
  {
   "cell_type": "code",
   "execution_count": 155,
   "metadata": {},
   "outputs": [
    {
     "data": {
      "image/png": "[encoded data removed]",
      "text/plain": [
       "<Figure size 432x288 with 1 Axes>"
      ]
     },
     "metadata": {
      "needs_background": "light"
     },
     "output_type": "display_data"
    }
   ],
   "source": [
    "# Challenging\n",
    "\n",
    "# Plot distribution of genders by avdeling\n",
    "# Docs: https://pandas.pydata.org/docs/user_guide/reshaping.html#combining-with-stats-and-groupby\n",
    "gr.apply(lambda group: group.kjønn.value_counts()).unstack().plot(kind=\"bar\");"
   ]
  },
  {
   "cell_type": "code",
   "execution_count": 238,
   "metadata": {},
   "outputs": [
    {
     "data": {
      "text/plain": [
       "avdeling\n",
       "1    3.083333\n",
       "2    4.368421\n",
       "3    3.588235\n",
       "4    5.130435\n",
       "Name: senioritet, dtype: float64"
      ]
     },
     "execution_count": 238,
     "metadata": {},
     "output_type": "execute_result"
    }
   ],
   "source": [
    "# Average seniority for every department must be over 3.0\n",
    "df.groupby(\"avdeling\").senioritet.mean()"
   ]
  },
  {
   "cell_type": "code",
   "execution_count": 157,
   "metadata": {},
   "outputs": [
    {
     "data": {
      "text/plain": [
       "avdeling\n",
       "1    3.0\n",
       "2    5.0\n",
       "3    2.0\n",
       "4    8.0\n",
       "Name: sertifisert, dtype: float64"
      ]
     },
     "execution_count": 157,
     "metadata": {},
     "output_type": "execute_result"
    }
   ],
   "source": [
    "# There must be at least 1 sertified person for each ansvarsdag\n",
    "df.groupby(\"avdeling\").sertifisert.sum()"
   ]
  },
  {
   "cell_type": "code",
   "execution_count": 171,
   "metadata": {
    "collapsed": true
   },
   "outputs": [
    {
     "data": {
      "text/html": [
       "<div>\n",
       "<style scoped>\n",
       "    .dataframe tbody tr th:only-of-type {\n",
       "        vertical-align: middle;\n",
       "    }\n",
       "\n",
       "    .dataframe tbody tr th {\n",
       "        vertical-align: top;\n",
       "    }\n",
       "\n",
       "    .dataframe thead th {\n",
       "        text-align: right;\n",
       "    }\n",
       "</style>\n",
       "<table border=\"1\" class=\"dataframe\">\n",
       "  <thead>\n",
       "    <tr style=\"text-align: right;\">\n",
       "      <th></th>\n",
       "      <th>fornavn</th>\n",
       "      <th>etternavn</th>\n",
       "      <th>oppstartsdato</th>\n",
       "    </tr>\n",
       "  </thead>\n",
       "  <tbody>\n",
       "    <tr>\n",
       "      <th>50</th>\n",
       "      <td>Andrea</td>\n",
       "      <td>Thorsen</td>\n",
       "      <td>1970-03-04</td>\n",
       "    </tr>\n",
       "    <tr>\n",
       "      <th>23</th>\n",
       "      <td>Eirik</td>\n",
       "      <td>Rønning</td>\n",
       "      <td>1971-03-26</td>\n",
       "    </tr>\n",
       "    <tr>\n",
       "      <th>88</th>\n",
       "      <td>Frank</td>\n",
       "      <td>Aasen</td>\n",
       "      <td>1972-02-04</td>\n",
       "    </tr>\n",
       "    <tr>\n",
       "      <th>48</th>\n",
       "      <td>Eva</td>\n",
       "      <td>Andersen</td>\n",
       "      <td>1973-08-15</td>\n",
       "    </tr>\n",
       "    <tr>\n",
       "      <th>22</th>\n",
       "      <td>Maria</td>\n",
       "      <td>Ali</td>\n",
       "      <td>1974-02-14</td>\n",
       "    </tr>\n",
       "    <tr>\n",
       "      <th>3</th>\n",
       "      <td>Berit</td>\n",
       "      <td>Haugland</td>\n",
       "      <td>1975-04-03</td>\n",
       "    </tr>\n",
       "    <tr>\n",
       "      <th>43</th>\n",
       "      <td>Marianne</td>\n",
       "      <td>Strøm</td>\n",
       "      <td>1976-05-30</td>\n",
       "    </tr>\n",
       "    <tr>\n",
       "      <th>80</th>\n",
       "      <td>Arne</td>\n",
       "      <td>Hanssen</td>\n",
       "      <td>1977-04-29</td>\n",
       "    </tr>\n",
       "    <tr>\n",
       "      <th>51</th>\n",
       "      <td>Lise</td>\n",
       "      <td>Moe</td>\n",
       "      <td>1978-01-03</td>\n",
       "    </tr>\n",
       "    <tr>\n",
       "      <th>28</th>\n",
       "      <td>John</td>\n",
       "      <td>Isaksen</td>\n",
       "      <td>1979-05-16</td>\n",
       "    </tr>\n",
       "    <tr>\n",
       "      <th>70</th>\n",
       "      <td>Arild</td>\n",
       "      <td>Haugen</td>\n",
       "      <td>1980-01-12</td>\n",
       "    </tr>\n",
       "    <tr>\n",
       "      <th>0</th>\n",
       "      <td>Tommy</td>\n",
       "      <td>Gulbrandsen</td>\n",
       "      <td>1981-03-27</td>\n",
       "    </tr>\n",
       "    <tr>\n",
       "      <th>39</th>\n",
       "      <td>Karen</td>\n",
       "      <td>Johannessen</td>\n",
       "      <td>1982-02-27</td>\n",
       "    </tr>\n",
       "    <tr>\n",
       "      <th>1</th>\n",
       "      <td>Karoline</td>\n",
       "      <td>Aune</td>\n",
       "      <td>1984-11-09</td>\n",
       "    </tr>\n",
       "    <tr>\n",
       "      <th>53</th>\n",
       "      <td>Wenche</td>\n",
       "      <td>Sivertsen</td>\n",
       "      <td>1986-03-07</td>\n",
       "    </tr>\n",
       "    <tr>\n",
       "      <th>46</th>\n",
       "      <td>Tone</td>\n",
       "      <td>Bakken</td>\n",
       "      <td>1988-04-02</td>\n",
       "    </tr>\n",
       "    <tr>\n",
       "      <th>98</th>\n",
       "      <td>Kristine</td>\n",
       "      <td>Antonsen</td>\n",
       "      <td>1989-03-05</td>\n",
       "    </tr>\n",
       "    <tr>\n",
       "      <th>73</th>\n",
       "      <td>Leif</td>\n",
       "      <td>Svendsen</td>\n",
       "      <td>1990-10-16</td>\n",
       "    </tr>\n",
       "    <tr>\n",
       "      <th>7</th>\n",
       "      <td>Bjørn</td>\n",
       "      <td>Edvardsen</td>\n",
       "      <td>1991-08-01</td>\n",
       "    </tr>\n",
       "    <tr>\n",
       "      <th>89</th>\n",
       "      <td>Øystein</td>\n",
       "      <td>Tangen</td>\n",
       "      <td>1992-03-15</td>\n",
       "    </tr>\n",
       "    <tr>\n",
       "      <th>6</th>\n",
       "      <td>Mette</td>\n",
       "      <td>Birkeland</td>\n",
       "      <td>1995-06-23</td>\n",
       "    </tr>\n",
       "    <tr>\n",
       "      <th>82</th>\n",
       "      <td>Rolf</td>\n",
       "      <td>Martinsen</td>\n",
       "      <td>1996-02-14</td>\n",
       "    </tr>\n",
       "    <tr>\n",
       "      <th>66</th>\n",
       "      <td>Bjørn</td>\n",
       "      <td>Tangen</td>\n",
       "      <td>1997-05-20</td>\n",
       "    </tr>\n",
       "    <tr>\n",
       "      <th>2</th>\n",
       "      <td>Ruth</td>\n",
       "      <td>Sivertsen</td>\n",
       "      <td>1998-05-23</td>\n",
       "    </tr>\n",
       "    <tr>\n",
       "      <th>36</th>\n",
       "      <td>Ivar</td>\n",
       "      <td>Berg</td>\n",
       "      <td>1999-08-13</td>\n",
       "    </tr>\n",
       "    <tr>\n",
       "      <th>41</th>\n",
       "      <td>Svein</td>\n",
       "      <td>Nguyen</td>\n",
       "      <td>2000-03-01</td>\n",
       "    </tr>\n",
       "    <tr>\n",
       "      <th>44</th>\n",
       "      <td>Gunnar</td>\n",
       "      <td>Gulbrandsen</td>\n",
       "      <td>2001-04-13</td>\n",
       "    </tr>\n",
       "    <tr>\n",
       "      <th>19</th>\n",
       "      <td>Vilde</td>\n",
       "      <td>Olsen</td>\n",
       "      <td>2002-10-21</td>\n",
       "    </tr>\n",
       "    <tr>\n",
       "      <th>56</th>\n",
       "      <td>Tommy</td>\n",
       "      <td>Næss</td>\n",
       "      <td>2003-04-10</td>\n",
       "    </tr>\n",
       "    <tr>\n",
       "      <th>52</th>\n",
       "      <td>Elise</td>\n",
       "      <td>Aas</td>\n",
       "      <td>2004-10-26</td>\n",
       "    </tr>\n",
       "    <tr>\n",
       "      <th>62</th>\n",
       "      <td>Thea</td>\n",
       "      <td>Moen</td>\n",
       "      <td>2005-04-09</td>\n",
       "    </tr>\n",
       "    <tr>\n",
       "      <th>64</th>\n",
       "      <td>Eirik</td>\n",
       "      <td>Madsen</td>\n",
       "      <td>2006-09-06</td>\n",
       "    </tr>\n",
       "    <tr>\n",
       "      <th>37</th>\n",
       "      <td>John</td>\n",
       "      <td>Moe</td>\n",
       "      <td>2007-01-30</td>\n",
       "    </tr>\n",
       "    <tr>\n",
       "      <th>14</th>\n",
       "      <td>Ole</td>\n",
       "      <td>Andersen</td>\n",
       "      <td>2008-11-06</td>\n",
       "    </tr>\n",
       "    <tr>\n",
       "      <th>68</th>\n",
       "      <td>Roy</td>\n",
       "      <td>Andreassen</td>\n",
       "      <td>2009-08-20</td>\n",
       "    </tr>\n",
       "    <tr>\n",
       "      <th>31</th>\n",
       "      <td>Kari</td>\n",
       "      <td>Paulsen</td>\n",
       "      <td>2010-12-09</td>\n",
       "    </tr>\n",
       "    <tr>\n",
       "      <th>5</th>\n",
       "      <td>Hilde</td>\n",
       "      <td>Myklebust</td>\n",
       "      <td>2011-05-09</td>\n",
       "    </tr>\n",
       "    <tr>\n",
       "      <th>42</th>\n",
       "      <td>Terje</td>\n",
       "      <td>Svendsen</td>\n",
       "      <td>2012-06-17</td>\n",
       "    </tr>\n",
       "    <tr>\n",
       "      <th>81</th>\n",
       "      <td>Alf</td>\n",
       "      <td>Rasmussen</td>\n",
       "      <td>2013-08-06</td>\n",
       "    </tr>\n",
       "    <tr>\n",
       "      <th>96</th>\n",
       "      <td>Julie</td>\n",
       "      <td>Danielsen</td>\n",
       "      <td>2014-01-09</td>\n",
       "    </tr>\n",
       "    <tr>\n",
       "      <th>11</th>\n",
       "      <td>Rita</td>\n",
       "      <td>Johnsen</td>\n",
       "      <td>2015-02-19</td>\n",
       "    </tr>\n",
       "    <tr>\n",
       "      <th>74</th>\n",
       "      <td>Markus</td>\n",
       "      <td>Rønning</td>\n",
       "      <td>2016-05-05</td>\n",
       "    </tr>\n",
       "    <tr>\n",
       "      <th>65</th>\n",
       "      <td>Magnus</td>\n",
       "      <td>Andresen</td>\n",
       "      <td>2017-08-27</td>\n",
       "    </tr>\n",
       "    <tr>\n",
       "      <th>47</th>\n",
       "      <td>Emma</td>\n",
       "      <td>Nygård</td>\n",
       "      <td>2018-03-19</td>\n",
       "    </tr>\n",
       "    <tr>\n",
       "      <th>77</th>\n",
       "      <td>Sigrid</td>\n",
       "      <td>Bakken</td>\n",
       "      <td>2019-07-30</td>\n",
       "    </tr>\n",
       "    <tr>\n",
       "      <th>90</th>\n",
       "      <td>Rolf</td>\n",
       "      <td>Dahl</td>\n",
       "      <td>2020-08-10</td>\n",
       "    </tr>\n",
       "    <tr>\n",
       "      <th>76</th>\n",
       "      <td>Ragnhild</td>\n",
       "      <td>Johannessen</td>\n",
       "      <td>2021-02-09</td>\n",
       "    </tr>\n",
       "    <tr>\n",
       "      <th>93</th>\n",
       "      <td>Sondre</td>\n",
       "      <td>Hansen</td>\n",
       "      <td>2022-04-22</td>\n",
       "    </tr>\n",
       "  </tbody>\n",
       "</table>\n",
       "</div>"
      ],
      "text/plain": [
       "     fornavn    etternavn oppstartsdato\n",
       "50    Andrea      Thorsen    1970-03-04\n",
       "23     Eirik      Rønning    1971-03-26\n",
       "88     Frank        Aasen    1972-02-04\n",
       "48       Eva     Andersen    1973-08-15\n",
       "22     Maria          Ali    1974-02-14\n",
       "3      Berit     Haugland    1975-04-03\n",
       "43  Marianne        Strøm    1976-05-30\n",
       "80      Arne      Hanssen    1977-04-29\n",
       "51      Lise          Moe    1978-01-03\n",
       "28      John      Isaksen    1979-05-16\n",
       "70     Arild       Haugen    1980-01-12\n",
       "0      Tommy  Gulbrandsen    1981-03-27\n",
       "39     Karen  Johannessen    1982-02-27\n",
       "1   Karoline         Aune    1984-11-09\n",
       "53    Wenche    Sivertsen    1986-03-07\n",
       "46      Tone       Bakken    1988-04-02\n",
       "98  Kristine     Antonsen    1989-03-05\n",
       "73      Leif     Svendsen    1990-10-16\n",
       "7      Bjørn    Edvardsen    1991-08-01\n",
       "89   Øystein       Tangen    1992-03-15\n",
       "6      Mette    Birkeland    1995-06-23\n",
       "82      Rolf    Martinsen    1996-02-14\n",
       "66     Bjørn       Tangen    1997-05-20\n",
       "2       Ruth    Sivertsen    1998-05-23\n",
       "36      Ivar         Berg    1999-08-13\n",
       "41     Svein       Nguyen    2000-03-01\n",
       "44    Gunnar  Gulbrandsen    2001-04-13\n",
       "19     Vilde        Olsen    2002-10-21\n",
       "56     Tommy         Næss    2003-04-10\n",
       "52     Elise          Aas    2004-10-26\n",
       "62      Thea         Moen    2005-04-09\n",
       "64     Eirik       Madsen    2006-09-06\n",
       "37      John          Moe    2007-01-30\n",
       "14       Ole     Andersen    2008-11-06\n",
       "68       Roy   Andreassen    2009-08-20\n",
       "31      Kari      Paulsen    2010-12-09\n",
       "5      Hilde    Myklebust    2011-05-09\n",
       "42     Terje     Svendsen    2012-06-17\n",
       "81       Alf    Rasmussen    2013-08-06\n",
       "96     Julie    Danielsen    2014-01-09\n",
       "11      Rita      Johnsen    2015-02-19\n",
       "74    Markus      Rønning    2016-05-05\n",
       "65    Magnus     Andresen    2017-08-27\n",
       "47      Emma       Nygård    2018-03-19\n",
       "77    Sigrid       Bakken    2019-07-30\n",
       "90      Rolf         Dahl    2020-08-10\n",
       "76  Ragnhild  Johannessen    2021-02-09\n",
       "93    Sondre       Hansen    2022-04-22"
      ]
     },
     "execution_count": 171,
     "metadata": {},
     "output_type": "execute_result"
    }
   ],
   "source": [
    "# grouping by year started, find the last person to start for each year\n",
    "latest = df.groupby(df.oppstartsdato.dt.year).oppstartsdato.idxmin()\n",
    "df.loc[latest, [\"fornavn\", \"etternavn\", \"oppstartsdato\"]]"
   ]
  },
  {
   "cell_type": "code",
   "execution_count": 118,
   "metadata": {},
   "outputs": [
    {
     "data": {
      "text/plain": [
       "avdeling\n",
       "1    True\n",
       "2    True\n",
       "3    True\n",
       "4    True\n",
       "Name: senioritet, dtype: bool"
      ]
     },
     "execution_count": 118,
     "metadata": {},
     "output_type": "execute_result"
    }
   ],
   "source": [
    "# every avdeling must have at least one person with max seniority (6).\n",
    "df.groupby(df.avdeling).senioritet.max() >= 6"
   ]
  },
  {
   "cell_type": "code",
   "execution_count": 119,
   "metadata": {
    "collapsed": true
   },
   "outputs": [
    {
     "data": {
      "text/plain": [
       "avdeling  senioritet\n",
       "1         1             False\n",
       "          2              True\n",
       "          3             False\n",
       "          4              True\n",
       "          5              True\n",
       "          6             False\n",
       "2         1             False\n",
       "          2             False\n",
       "          3              True\n",
       "          4             False\n",
       "          5             False\n",
       "          6              True\n",
       "3         1             False\n",
       "          2              True\n",
       "          3              True\n",
       "          4             False\n",
       "          5             False\n",
       "          6             False\n",
       "4         1              True\n",
       "          2             False\n",
       "          3             False\n",
       "          4              True\n",
       "          5              True\n",
       "          6              True\n",
       "Name: sertifisert, dtype: bool"
      ]
     },
     "execution_count": 119,
     "metadata": {},
     "output_type": "execute_result"
    }
   ],
   "source": [
    "# every seniority in a given avdeling must have at least one person who is certified.\n",
    "df.groupby([df.avdeling, df.senioritet]).sertifisert.sum() >= 1"
   ]
  },
  {
   "cell_type": "code",
   "execution_count": 172,
   "metadata": {},
   "outputs": [
    {
     "data": {
      "text/html": [
       "<div>\n",
       "<style scoped>\n",
       "    .dataframe tbody tr th:only-of-type {\n",
       "        vertical-align: middle;\n",
       "    }\n",
       "\n",
       "    .dataframe tbody tr th {\n",
       "        vertical-align: top;\n",
       "    }\n",
       "\n",
       "    .dataframe thead th {\n",
       "        text-align: right;\n",
       "    }\n",
       "</style>\n",
       "<table border=\"1\" class=\"dataframe\">\n",
       "  <thead>\n",
       "    <tr style=\"text-align: right;\">\n",
       "      <th></th>\n",
       "      <th>fornavn</th>\n",
       "      <th>etternavn</th>\n",
       "      <th>oppstartsdato</th>\n",
       "    </tr>\n",
       "  </thead>\n",
       "  <tbody>\n",
       "    <tr>\n",
       "      <th>88</th>\n",
       "      <td>Frank</td>\n",
       "      <td>Aasen</td>\n",
       "      <td>1972-02-04</td>\n",
       "    </tr>\n",
       "    <tr>\n",
       "      <th>59</th>\n",
       "      <td>Maren</td>\n",
       "      <td>Andreassen</td>\n",
       "      <td>1970-12-01</td>\n",
       "    </tr>\n",
       "    <tr>\n",
       "      <th>23</th>\n",
       "      <td>Eirik</td>\n",
       "      <td>Rønning</td>\n",
       "      <td>1971-03-26</td>\n",
       "    </tr>\n",
       "    <tr>\n",
       "      <th>50</th>\n",
       "      <td>Andrea</td>\n",
       "      <td>Thorsen</td>\n",
       "      <td>1970-03-04</td>\n",
       "    </tr>\n",
       "    <tr>\n",
       "      <th>83</th>\n",
       "      <td>Eivind</td>\n",
       "      <td>Abrahamsen</td>\n",
       "      <td>1980-05-23</td>\n",
       "    </tr>\n",
       "    <tr>\n",
       "      <th>85</th>\n",
       "      <td>Berit</td>\n",
       "      <td>Thorsen</td>\n",
       "      <td>1971-08-24</td>\n",
       "    </tr>\n",
       "    <tr>\n",
       "      <th>45</th>\n",
       "      <td>Jørgen</td>\n",
       "      <td>Thomassen</td>\n",
       "      <td>1974-11-12</td>\n",
       "    </tr>\n",
       "    <tr>\n",
       "      <th>9</th>\n",
       "      <td>Rita</td>\n",
       "      <td>Strand</td>\n",
       "      <td>1975-09-22</td>\n",
       "    </tr>\n",
       "  </tbody>\n",
       "</table>\n",
       "</div>"
      ],
      "text/plain": [
       "   fornavn   etternavn oppstartsdato\n",
       "88   Frank       Aasen    1972-02-04\n",
       "59   Maren  Andreassen    1970-12-01\n",
       "23   Eirik     Rønning    1971-03-26\n",
       "50  Andrea     Thorsen    1970-03-04\n",
       "83  Eivind  Abrahamsen    1980-05-23\n",
       "85   Berit     Thorsen    1971-08-24\n",
       "45  Jørgen   Thomassen    1974-11-12\n",
       "9     Rita      Strand    1975-09-22"
      ]
     },
     "execution_count": 172,
     "metadata": {},
     "output_type": "execute_result"
    }
   ],
   "source": [
    "# Within each department, the man and woman who has stayed the longest with the Company shall receive an annual price.\n",
    "# make a list of people to celebrate for this years party.\n",
    "longest = df.groupby([\"avdeling\", \"kjønn\"]).oppstartsdato.idxmin()\n",
    "df.loc[longest.values, [\"fornavn\", \"etternavn\", \"oppstartsdato\"]]"
   ]
  },
  {
   "cell_type": "code",
   "execution_count": 215,
   "metadata": {},
   "outputs": [
    {
     "data": {
      "text/plain": [
       "avdeling\n",
       "1    3.652174\n",
       "2    3.838710\n",
       "3    3.200000\n",
       "4    3.807692\n",
       "dtype: float64"
      ]
     },
     "execution_count": 215,
     "metadata": {},
     "output_type": "execute_result"
    }
   ],
   "source": [
    "# Using Grouper.apply(), find the average senioritet for each avdeling.\n",
    "df.groupby(\"avdeling\").apply(lambda group: group.senioritet.mean())"
   ]
  },
  {
   "cell_type": "code",
   "execution_count": 213,
   "metadata": {},
   "outputs": [
    {
     "data": {
      "text/plain": [
       "senioritet\n",
       "1     True\n",
       "2    False\n",
       "3     True\n",
       "4     True\n",
       "5    False\n",
       "6     True\n",
       "dtype: bool"
      ]
     },
     "execution_count": 213,
     "metadata": {},
     "output_type": "execute_result"
    }
   ],
   "source": [
    "# For every seniority level at least one person must have the number \"1\" in their brukernavn\n",
    "# Use Grouper.apply()\n",
    "df.groupby(\"senioritet\").apply(lambda group: group.brukernavn.str.contains(\"1\").any())"
   ]
  },
  {
   "cell_type": "code",
   "execution_count": 130,
   "metadata": {},
   "outputs": [
    {
     "data": {
      "text/plain": [
       "ansvarsdag\n",
       "fredag      4.816438\n",
       "lørdag      5.375342\n",
       "mandag      6.575342\n",
       "onsdag      4.649315\n",
       "søndag      0.432877\n",
       "tirsdag    14.186301\n",
       "torsdag     0.284932\n",
       "Name: oppstartsdato, dtype: float64"
      ]
     },
     "execution_count": 130,
     "metadata": {},
     "output_type": "execute_result"
    }
   ],
   "source": [
    "# Challenging\n",
    "# every ansvarsdag must have at least one person who has stayed in the company for 3 years or longer.\n",
    "(pd.Timestamp.now() - df.groupby(df.ansvarsdag).oppstartsdato.max()).dt.days / 365"
   ]
  },
  {
   "cell_type": "code",
   "execution_count": 184,
   "metadata": {},
   "outputs": [
    {
     "data": {
      "text/html": [
       "<div>\n",
       "<style scoped>\n",
       "    .dataframe tbody tr th:only-of-type {\n",
       "        vertical-align: middle;\n",
       "    }\n",
       "\n",
       "    .dataframe tbody tr th {\n",
       "        vertical-align: top;\n",
       "    }\n",
       "\n",
       "    .dataframe thead th {\n",
       "        text-align: right;\n",
       "    }\n",
       "</style>\n",
       "<table border=\"1\" class=\"dataframe\">\n",
       "  <thead>\n",
       "    <tr style=\"text-align: right;\">\n",
       "      <th></th>\n",
       "      <th></th>\n",
       "      <th>fornavn</th>\n",
       "      <th>etternavn</th>\n",
       "      <th>kjønn</th>\n",
       "      <th>addresse</th>\n",
       "      <th>oppstartsdato</th>\n",
       "      <th>ansvarsdag</th>\n",
       "      <th>epost</th>\n",
       "      <th>brukernavn</th>\n",
       "      <th>avdeling</th>\n",
       "      <th>senioritet</th>\n",
       "      <th>sertifisert</th>\n",
       "      <th>varslet</th>\n",
       "    </tr>\n",
       "    <tr>\n",
       "      <th>avdeling</th>\n",
       "      <th></th>\n",
       "      <th></th>\n",
       "      <th></th>\n",
       "      <th></th>\n",
       "      <th></th>\n",
       "      <th></th>\n",
       "      <th></th>\n",
       "      <th></th>\n",
       "      <th></th>\n",
       "      <th></th>\n",
       "      <th></th>\n",
       "      <th></th>\n",
       "      <th></th>\n",
       "    </tr>\n",
       "  </thead>\n",
       "  <tbody>\n",
       "    <tr>\n",
       "      <th rowspan=\"4\" valign=\"top\">1</th>\n",
       "      <th>14</th>\n",
       "      <td>Ole</td>\n",
       "      <td>Andersen</td>\n",
       "      <td>han</td>\n",
       "      <td>Johannessenspranget 11A, 1249 Lie</td>\n",
       "      <td>2008-11-06</td>\n",
       "      <td>tirsdag</td>\n",
       "      <td>myklebustterje@yahoo.com</td>\n",
       "      <td>myklebustaud</td>\n",
       "      <td>1</td>\n",
       "      <td>4</td>\n",
       "      <td>True</td>\n",
       "      <td>False</td>\n",
       "    </tr>\n",
       "    <tr>\n",
       "      <th>22</th>\n",
       "      <td>Maria</td>\n",
       "      <td>Ali</td>\n",
       "      <td>hun</td>\n",
       "      <td>Alirøa 91, 9021 Steinarvåg</td>\n",
       "      <td>1974-02-14</td>\n",
       "      <td>lørdag</td>\n",
       "      <td>zabrahamsen@yahoo.com</td>\n",
       "      <td>odd19</td>\n",
       "      <td>1</td>\n",
       "      <td>1</td>\n",
       "      <td>False</td>\n",
       "      <td>True</td>\n",
       "    </tr>\n",
       "    <tr>\n",
       "      <th>48</th>\n",
       "      <td>Eva</td>\n",
       "      <td>Andersen</td>\n",
       "      <td>hun</td>\n",
       "      <td>Halvorsenbakken 55, 1070 Tornes</td>\n",
       "      <td>1973-08-15</td>\n",
       "      <td>søndag</td>\n",
       "      <td>haakonabrahamsen@yahoo.com</td>\n",
       "      <td>linda68</td>\n",
       "      <td>1</td>\n",
       "      <td>5</td>\n",
       "      <td>False</td>\n",
       "      <td>False</td>\n",
       "    </tr>\n",
       "    <tr>\n",
       "      <th>49</th>\n",
       "      <td>Kristian</td>\n",
       "      <td>Ali</td>\n",
       "      <td>han</td>\n",
       "      <td>Jakobsenbakken 3, 0856 Mariusdal</td>\n",
       "      <td>2008-12-29</td>\n",
       "      <td>mandag</td>\n",
       "      <td>stangen@gmail.com</td>\n",
       "      <td>roger49</td>\n",
       "      <td>1</td>\n",
       "      <td>4</td>\n",
       "      <td>False</td>\n",
       "      <td>False</td>\n",
       "    </tr>\n",
       "    <tr>\n",
       "      <th rowspan=\"6\" valign=\"top\">2</th>\n",
       "      <th>16</th>\n",
       "      <td>Kim</td>\n",
       "      <td>Berge</td>\n",
       "      <td>han</td>\n",
       "      <td>Nielsenåsen 771, 0569 Sæther</td>\n",
       "      <td>2001-09-02</td>\n",
       "      <td>onsdag</td>\n",
       "      <td>maasen@yahoo.com</td>\n",
       "      <td>joergensenroar</td>\n",
       "      <td>2</td>\n",
       "      <td>5</td>\n",
       "      <td>False</td>\n",
       "      <td>False</td>\n",
       "    </tr>\n",
       "    <tr>\n",
       "      <th>23</th>\n",
       "      <td>Eirik</td>\n",
       "      <td>Rønning</td>\n",
       "      <td>han</td>\n",
       "      <td>Paulsenbråten 11, 5848 Strøm</td>\n",
       "      <td>1971-03-26</td>\n",
       "      <td>tirsdag</td>\n",
       "      <td>liehanne@yahoo.com</td>\n",
       "      <td>aud01</td>\n",
       "      <td>2</td>\n",
       "      <td>1</td>\n",
       "      <td>False</td>\n",
       "      <td>False</td>\n",
       "    </tr>\n",
       "    <tr>\n",
       "      <th>47</th>\n",
       "      <td>Emma</td>\n",
       "      <td>Nygård</td>\n",
       "      <td>hun</td>\n",
       "      <td>Jenssengjerdet 3C, 6485 Camillaby</td>\n",
       "      <td>2018-03-19</td>\n",
       "      <td>fredag</td>\n",
       "      <td>mariannebrekke@yahoo.com</td>\n",
       "      <td>lundtonje</td>\n",
       "      <td>2</td>\n",
       "      <td>6</td>\n",
       "      <td>True</td>\n",
       "      <td>False</td>\n",
       "    </tr>\n",
       "    <tr>\n",
       "      <th>57</th>\n",
       "      <td>Andreas</td>\n",
       "      <td>Nygård</td>\n",
       "      <td>han</td>\n",
       "      <td>Aaslunden 54, 8540 Vildedal</td>\n",
       "      <td>1979-11-24</td>\n",
       "      <td>mandag</td>\n",
       "      <td>fredrik47@hotmail.com</td>\n",
       "      <td>elise05</td>\n",
       "      <td>2</td>\n",
       "      <td>4</td>\n",
       "      <td>False</td>\n",
       "      <td>False</td>\n",
       "    </tr>\n",
       "    <tr>\n",
       "      <th>74</th>\n",
       "      <td>Markus</td>\n",
       "      <td>Rønning</td>\n",
       "      <td>han</td>\n",
       "      <td>Jenssenmyra 48C, 0321 Elingrunn</td>\n",
       "      <td>2016-05-05</td>\n",
       "      <td>torsdag</td>\n",
       "      <td>gahmed@gmail.com</td>\n",
       "      <td>gthorsen</td>\n",
       "      <td>2</td>\n",
       "      <td>5</td>\n",
       "      <td>False</td>\n",
       "      <td>False</td>\n",
       "    </tr>\n",
       "    <tr>\n",
       "      <th>99</th>\n",
       "      <td>Trond</td>\n",
       "      <td>Berge</td>\n",
       "      <td>han</td>\n",
       "      <td>Hanssenstien 2, 8875 Markushamn</td>\n",
       "      <td>2017-12-21</td>\n",
       "      <td>onsdag</td>\n",
       "      <td>tomabrahamsen@yahoo.com</td>\n",
       "      <td>paulsenoeyvind</td>\n",
       "      <td>2</td>\n",
       "      <td>4</td>\n",
       "      <td>False</td>\n",
       "      <td>False</td>\n",
       "    </tr>\n",
       "    <tr>\n",
       "      <th rowspan=\"6\" valign=\"top\">3</th>\n",
       "      <th>4</th>\n",
       "      <td>Silje</td>\n",
       "      <td>Bakken</td>\n",
       "      <td>hun</td>\n",
       "      <td>Mikkelsentunet 2, 8483 Andresen</td>\n",
       "      <td>2007-05-02</td>\n",
       "      <td>lørdag</td>\n",
       "      <td>knutsenmartine@hotmail.com</td>\n",
       "      <td>astrid68</td>\n",
       "      <td>3</td>\n",
       "      <td>5</td>\n",
       "      <td>False</td>\n",
       "      <td>False</td>\n",
       "    </tr>\n",
       "    <tr>\n",
       "      <th>11</th>\n",
       "      <td>Rita</td>\n",
       "      <td>Johnsen</td>\n",
       "      <td>hun</td>\n",
       "      <td>Jenssenskogen 41, 8113 Aune</td>\n",
       "      <td>2015-02-19</td>\n",
       "      <td>fredag</td>\n",
       "      <td>naesskristine@yahoo.com</td>\n",
       "      <td>tone30</td>\n",
       "      <td>3</td>\n",
       "      <td>3</td>\n",
       "      <td>True</td>\n",
       "      <td>False</td>\n",
       "    </tr>\n",
       "    <tr>\n",
       "      <th>42</th>\n",
       "      <td>Terje</td>\n",
       "      <td>Svendsen</td>\n",
       "      <td>han</td>\n",
       "      <td>Ahmedvollen 11, 8497 Rogergrunn</td>\n",
       "      <td>2012-06-17</td>\n",
       "      <td>torsdag</td>\n",
       "      <td>finnvik@gmail.com</td>\n",
       "      <td>hkristensen</td>\n",
       "      <td>3</td>\n",
       "      <td>2</td>\n",
       "      <td>False</td>\n",
       "      <td>False</td>\n",
       "    </tr>\n",
       "    <tr>\n",
       "      <th>73</th>\n",
       "      <td>Leif</td>\n",
       "      <td>Svendsen</td>\n",
       "      <td>han</td>\n",
       "      <td>Jørgensenengen 05, 4940 Tommystrand</td>\n",
       "      <td>1990-10-16</td>\n",
       "      <td>lørdag</td>\n",
       "      <td>vildemikkelsen@gmail.com</td>\n",
       "      <td>roger87</td>\n",
       "      <td>3</td>\n",
       "      <td>6</td>\n",
       "      <td>False</td>\n",
       "      <td>False</td>\n",
       "    </tr>\n",
       "    <tr>\n",
       "      <th>77</th>\n",
       "      <td>Sigrid</td>\n",
       "      <td>Bakken</td>\n",
       "      <td>hun</td>\n",
       "      <td>Christensenstubben 556, 0367 Berge</td>\n",
       "      <td>2019-07-30</td>\n",
       "      <td>søndag</td>\n",
       "      <td>eidemaria@gmail.com</td>\n",
       "      <td>heriksen</td>\n",
       "      <td>3</td>\n",
       "      <td>2</td>\n",
       "      <td>False</td>\n",
       "      <td>False</td>\n",
       "    </tr>\n",
       "    <tr>\n",
       "      <th>87</th>\n",
       "      <td>Erik</td>\n",
       "      <td>Johnsen</td>\n",
       "      <td>han</td>\n",
       "      <td>Tangenhavna 2, 7881 Bakke</td>\n",
       "      <td>1995-12-17</td>\n",
       "      <td>torsdag</td>\n",
       "      <td>johnsentrine@gmail.com</td>\n",
       "      <td>henriksenmarkus</td>\n",
       "      <td>3</td>\n",
       "      <td>3</td>\n",
       "      <td>False</td>\n",
       "      <td>False</td>\n",
       "    </tr>\n",
       "    <tr>\n",
       "      <th rowspan=\"4\" valign=\"top\">4</th>\n",
       "      <th>12</th>\n",
       "      <td>Ole</td>\n",
       "      <td>Lie</td>\n",
       "      <td>han</td>\n",
       "      <td>Christensenalléen 95, 5120 Aune</td>\n",
       "      <td>1995-12-25</td>\n",
       "      <td>lørdag</td>\n",
       "      <td>naesscathrine@hotmail.com</td>\n",
       "      <td>bhaugen</td>\n",
       "      <td>4</td>\n",
       "      <td>6</td>\n",
       "      <td>True</td>\n",
       "      <td>False</td>\n",
       "    </tr>\n",
       "    <tr>\n",
       "      <th>17</th>\n",
       "      <td>Marit</td>\n",
       "      <td>Madsen</td>\n",
       "      <td>hun</td>\n",
       "      <td>Solberghagen 03E, 2997 Johnsen</td>\n",
       "      <td>1989-04-21</td>\n",
       "      <td>søndag</td>\n",
       "      <td>liensigrid@hotmail.com</td>\n",
       "      <td>simenaas</td>\n",
       "      <td>4</td>\n",
       "      <td>4</td>\n",
       "      <td>False</td>\n",
       "      <td>False</td>\n",
       "    </tr>\n",
       "    <tr>\n",
       "      <th>27</th>\n",
       "      <td>Turid</td>\n",
       "      <td>Lie</td>\n",
       "      <td>hun</td>\n",
       "      <td>Bøetoppen 43, 6169 Nguyen</td>\n",
       "      <td>1980-09-28</td>\n",
       "      <td>lørdag</td>\n",
       "      <td>rthomassen@gmail.com</td>\n",
       "      <td>eidehanne</td>\n",
       "      <td>4</td>\n",
       "      <td>1</td>\n",
       "      <td>True</td>\n",
       "      <td>False</td>\n",
       "    </tr>\n",
       "    <tr>\n",
       "      <th>58</th>\n",
       "      <td>Åse</td>\n",
       "      <td>Madsen</td>\n",
       "      <td>hun</td>\n",
       "      <td>Tangenstranda 4, 3685 Johansen</td>\n",
       "      <td>2016-06-29</td>\n",
       "      <td>lørdag</td>\n",
       "      <td>ihaug@gmail.com</td>\n",
       "      <td>andersenberit</td>\n",
       "      <td>4</td>\n",
       "      <td>6</td>\n",
       "      <td>False</td>\n",
       "      <td>False</td>\n",
       "    </tr>\n",
       "  </tbody>\n",
       "</table>\n",
       "</div>"
      ],
      "text/plain": [
       "              fornavn etternavn kjønn                             addresse  \\\n",
       "avdeling                                                                     \n",
       "1        14       Ole  Andersen   han    Johannessenspranget 11A, 1249 Lie   \n",
       "         22     Maria       Ali   hun           Alirøa 91, 9021 Steinarvåg   \n",
       "         48       Eva  Andersen   hun      Halvorsenbakken 55, 1070 Tornes   \n",
       "         49  Kristian       Ali   han     Jakobsenbakken 3, 0856 Mariusdal   \n",
       "2        16       Kim     Berge   han         Nielsenåsen 771, 0569 Sæther   \n",
       "         23     Eirik   Rønning   han         Paulsenbråten 11, 5848 Strøm   \n",
       "         47      Emma    Nygård   hun    Jenssengjerdet 3C, 6485 Camillaby   \n",
       "         57   Andreas    Nygård   han          Aaslunden 54, 8540 Vildedal   \n",
       "         74    Markus   Rønning   han      Jenssenmyra 48C, 0321 Elingrunn   \n",
       "         99     Trond     Berge   han      Hanssenstien 2, 8875 Markushamn   \n",
       "3        4      Silje    Bakken   hun      Mikkelsentunet 2, 8483 Andresen   \n",
       "         11      Rita   Johnsen   hun          Jenssenskogen 41, 8113 Aune   \n",
       "         42     Terje  Svendsen   han      Ahmedvollen 11, 8497 Rogergrunn   \n",
       "         73      Leif  Svendsen   han  Jørgensenengen 05, 4940 Tommystrand   \n",
       "         77    Sigrid    Bakken   hun   Christensenstubben 556, 0367 Berge   \n",
       "         87      Erik   Johnsen   han            Tangenhavna 2, 7881 Bakke   \n",
       "4        12       Ole       Lie   han      Christensenalléen 95, 5120 Aune   \n",
       "         17     Marit    Madsen   hun       Solberghagen 03E, 2997 Johnsen   \n",
       "         27     Turid       Lie   hun            Bøetoppen 43, 6169 Nguyen   \n",
       "         58       Åse    Madsen   hun       Tangenstranda 4, 3685 Johansen   \n",
       "\n",
       "            oppstartsdato ansvarsdag                       epost  \\\n",
       "avdeling                                                           \n",
       "1        14    2008-11-06    tirsdag    myklebustterje@yahoo.com   \n",
       "         22    1974-02-14     lørdag       zabrahamsen@yahoo.com   \n",
       "         48    1973-08-15     søndag  haakonabrahamsen@yahoo.com   \n",
       "         49    2008-12-29     mandag           stangen@gmail.com   \n",
       "2        16    2001-09-02     onsdag            maasen@yahoo.com   \n",
       "         23    1971-03-26    tirsdag          liehanne@yahoo.com   \n",
       "         47    2018-03-19     fredag    mariannebrekke@yahoo.com   \n",
       "         57    1979-11-24     mandag       fredrik47@hotmail.com   \n",
       "         74    2016-05-05    torsdag            gahmed@gmail.com   \n",
       "         99    2017-12-21     onsdag     tomabrahamsen@yahoo.com   \n",
       "3        4     2007-05-02     lørdag  knutsenmartine@hotmail.com   \n",
       "         11    2015-02-19     fredag     naesskristine@yahoo.com   \n",
       "         42    2012-06-17    torsdag           finnvik@gmail.com   \n",
       "         73    1990-10-16     lørdag    vildemikkelsen@gmail.com   \n",
       "         77    2019-07-30     søndag         eidemaria@gmail.com   \n",
       "         87    1995-12-17    torsdag      johnsentrine@gmail.com   \n",
       "4        12    1995-12-25     lørdag   naesscathrine@hotmail.com   \n",
       "         17    1989-04-21     søndag      liensigrid@hotmail.com   \n",
       "         27    1980-09-28     lørdag        rthomassen@gmail.com   \n",
       "         58    2016-06-29     lørdag             ihaug@gmail.com   \n",
       "\n",
       "                  brukernavn  avdeling  senioritet  sertifisert  varslet  \n",
       "avdeling                                                                  \n",
       "1        14     myklebustaud         1           4         True    False  \n",
       "         22            odd19         1           1        False     True  \n",
       "         48          linda68         1           5        False    False  \n",
       "         49          roger49         1           4        False    False  \n",
       "2        16   joergensenroar         2           5        False    False  \n",
       "         23            aud01         2           1        False    False  \n",
       "         47        lundtonje         2           6         True    False  \n",
       "         57          elise05         2           4        False    False  \n",
       "         74         gthorsen         2           5        False    False  \n",
       "         99   paulsenoeyvind         2           4        False    False  \n",
       "3        4          astrid68         3           5        False    False  \n",
       "         11           tone30         3           3         True    False  \n",
       "         42      hkristensen         3           2        False    False  \n",
       "         73          roger87         3           6        False    False  \n",
       "         77         heriksen         3           2        False    False  \n",
       "         87  henriksenmarkus         3           3        False    False  \n",
       "4        12          bhaugen         4           6         True    False  \n",
       "         17         simenaas         4           4        False    False  \n",
       "         27        eidehanne         4           1         True    False  \n",
       "         58    andersenberit         4           6        False    False  "
      ]
     },
     "execution_count": 184,
     "metadata": {},
     "output_type": "execute_result"
    }
   ],
   "source": [
    "# Challenging\n",
    "# No avdeling is allowed to employ people who share last names (because it causes our computer system to crash!)\n",
    "# use Grouper.apply\n",
    "df.groupby(\"avdeling\").apply(lambda group: group[group.etternavn.duplicated(keep=False)])"
   ]
  }
 ],
 "metadata": {
  "kernelspec": {
   "display_name": "Python 3",
   "language": "python",
   "name": "python3"
  },
  "language_info": {
   "codemirror_mode": {
    "name": "ipython",
    "version": 3
   },
   "file_extension": ".py",
   "mimetype": "text/x-python",
   "name": "python",
   "nbconvert_exporter": "python",
   "pygments_lexer": "ipython3",
   "version": "3.8.3"
  }
 },
 "nbformat": 4,
 "nbformat_minor": 4
}
