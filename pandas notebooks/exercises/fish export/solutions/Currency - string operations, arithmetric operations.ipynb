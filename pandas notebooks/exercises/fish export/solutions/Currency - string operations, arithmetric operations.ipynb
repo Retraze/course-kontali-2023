{
 "cells": [
  {
   "cell_type": "code",
   "execution_count": null,
   "metadata": {},
   "outputs": [],
   "source": [
    "import pandas as pd\n",
    "from pathlib import Path\n",
    "\n",
    "dirpath = Path(\"../../datasets/kontali\")"
   ]
  },
  {
   "cell_type": "markdown",
   "metadata": {},
   "source": [
    "# Currency\n",
    "\n",
    "### Read the file `currency.csv` into a pandas DataFrame\n",
    "\n",
    "Hints:\n",
    "1. the function to use here is `pd.read_csv`\n",
    "1. we can specify the path to `currency.csv` with `os.path.join` or `pathlib.Path` from the builtin modules\n",
    "1. we must use the keyword argument `encoding=\"latin-1\"`\n",
    "1. we should also specify two other keywords"
   ]
  },
  {
   "cell_type": "code",
   "execution_count": null,
   "metadata": {},
   "outputs": [],
   "source": [
    "df_currency = pd.read_csv(dirpath / \"currency.csv\", encoding=\"latin-1\", delimiter=\";\", decimal=\",\")"
   ]
  },
  {
   "cell_type": "markdown",
   "metadata": {},
   "source": [
    "### What is the most recent date for which we have foreign exchange rates?"
   ]
  },
  {
   "cell_type": "code",
   "execution_count": null,
   "metadata": {},
   "outputs": [],
   "source": [
    "df_currency.tail()"
   ]
  },
  {
   "cell_type": "markdown",
   "metadata": {},
   "source": [
    "### Change `Dato` dtype to Datetime, and move `Dato` to the index."
   ]
  },
  {
   "cell_type": "code",
   "execution_count": null,
   "metadata": {},
   "outputs": [],
   "source": [
    "df_currency[\"Dato\"] = pd.to_datetime(df_currency[\"Dato\"])\n",
    "df_currency.set_index(\"Dato\", inplace=True)\n",
    "df_currency.head()"
   ]
  },
  {
   "cell_type": "markdown",
   "metadata": {},
   "source": [
    "### Extract the unit (1 or 100) and the currency name from the column labels\n",
    "\n",
    "Hint: You can use the `.str` accessor on `df_currency.columns`. Here is a useful [link](https://pandas.pydata.org/docs/user_guide/text.html#extracting-substrings) on extracting substrings from a string.\n",
    "\n",
    "This following regular expression pattern can be used to get the unit and currency:\n",
    "\n",
    "`pattern = r\"(\\d+) (\\w+)\"`\n",
    "\n",
    "\n",
    "#### Explanation of the regular expression pattern (can be skipped)\n",
    "\n",
    "The `r` prefix before the string indicates that it is a [raw string literal](https://stackoverflow.com/questions/2081640/what-exactly-do-u-and-r-string-prefixes-do-and-what-are-raw-string-literals), which in our case means that the backslash is just treated as a backslash.\n",
    "\n",
    "`\\d+` matches Unicode decimal digits (the plus means \"at least one\", so we match on \"at least one digit\".\n",
    "\n",
    "`\\w+` matches Unicode word characters.\n",
    "\n",
    "The parentheses indicate a \"capture group\". Each capture group will become a column in the returned dataframe.\n",
    "\n",
    "So to sum it all up, the regular expression first matches one or more digits, then a whitespace, then one or more word letters."
   ]
  },
  {
   "cell_type": "code",
   "execution_count": null,
   "metadata": {},
   "outputs": [],
   "source": [
    "pattern = r\"(\\d+) (\\w+)\"\n",
    "\n",
    "df_ccy = df_currency.columns.str.extract(pattern)\n",
    "df_ccy"
   ]
  },
  {
   "cell_type": "markdown",
   "metadata": {},
   "source": [
    "Did it work? Great!\n",
    "\n",
    "Let's add some names on the two captured groups. This will give us **correctly named columns** for our returned dataframe.\n",
    "\n",
    "Now the pattern is looking really complex, but we don't really have to concern ourselves with that. Having `?P<unit>` inside the capture group just means: *the captured group should be named `unit`*.\n",
    "\n",
    "`pattern = r\"(?P<unit>\\d+) (?P<Ccy>\\w+)\"`"
   ]
  },
  {
   "cell_type": "code",
   "execution_count": null,
   "metadata": {},
   "outputs": [],
   "source": [
    "pattern = r\"(?P<unit>\\d+) (?P<Ccy>\\w+)\"\n",
    "df_ccy = df_currency.columns.str.extract(pattern, expand=True)\n",
    "df_ccy"
   ]
  },
  {
   "cell_type": "markdown",
   "metadata": {},
   "source": [
    "Great! We have been able to split the column header into its two parts \"unit\" and \"Ccy\" (currency).\n",
    "\n",
    "The \"unit\" column has string values (`object` type). That's because we extracted the unit from the column labels, which are strings.\n",
    "\n",
    "Let's change the dtype to integer type."
   ]
  },
  {
   "cell_type": "code",
   "execution_count": null,
   "metadata": {},
   "outputs": [],
   "source": [
    "df_ccy = df_ccy.astype({\"unit\": \"int64\"})\n",
    "df_ccy"
   ]
  },
  {
   "cell_type": "markdown",
   "metadata": {},
   "source": [
    "Now let's copy the currency dataframe and rename the columns."
   ]
  },
  {
   "cell_type": "code",
   "execution_count": null,
   "metadata": {},
   "outputs": [],
   "source": [
    "df_cur = df_currency.copy()\n",
    "\n",
    "df_cur.columns = df_ccy.Ccy\n",
    "df_cur"
   ]
  },
  {
   "cell_type": "markdown",
   "metadata": {},
   "source": [
    "The next step is to divide the values in `df_cur` with the units from `df_ccy`. To do that, we must match the indexes on both dataframes.\n",
    "\n",
    "Since we want to match on the currency names (`Ccy`), we set `df_ccy` index to `Ccy`."
   ]
  },
  {
   "cell_type": "code",
   "execution_count": null,
   "metadata": {},
   "outputs": [],
   "source": [
    "df_ccy.set_index('Ccy', inplace=True)\n",
    "\n",
    "df_ccy"
   ]
  },
  {
   "cell_type": "markdown",
   "metadata": {},
   "source": [
    "Now the column labels in `df_cur` match up with the index labels in `df_ccy`!\n",
    "\n",
    "Therefore we can perform the division. EUR is divided by 1, DKK is divided by 100, etc."
   ]
  },
  {
   "cell_type": "code",
   "execution_count": null,
   "metadata": {},
   "outputs": [],
   "source": [
    "# note that we are dividing a DataFrame by a Series\n",
    "df_cur / df_ccy[\"unit\"]"
   ]
  },
  {
   "cell_type": "markdown",
   "metadata": {},
   "source": [
    "We can also use `df.div`:"
   ]
  },
  {
   "cell_type": "code",
   "execution_count": null,
   "metadata": {},
   "outputs": [],
   "source": [
    "df_cur.div(df_ccy['unit'].T, axis=1)"
   ]
  }
 ],
 "metadata": {
  "kernelspec": {
   "display_name": "Python 3",
   "language": "python",
   "name": "python3"
  },
  "language_info": {
   "codemirror_mode": {
    "name": "ipython",
    "version": 3
   },
   "file_extension": ".py",
   "mimetype": "text/x-python",
   "name": "python",
   "nbconvert_exporter": "python",
   "pygments_lexer": "ipython3",
   "version": "3.8.3"
  }
 },
 "nbformat": 4,
 "nbformat_minor": 4
}
